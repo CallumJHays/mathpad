{
  "metadata": {
    "orig_nbformat": 4,
    "kernelspec": {
      "display_name": "Pyolite",
      "language": "python",
      "name": "python"
    },
    "language_info": {
      "codemirror_mode": {
        "name": "python",
        "version": 3
      },
      "file_extension": ".py",
      "mimetype": "text/x-python",
      "name": "python",
      "nbconvert_exporter": "python",
      "pygments_lexer": "ipython3",
      "version": "3.8"
    },
    "toc-showcode": false
  },
  "nbformat_minor": 4,
  "nbformat": 4,
  "cells": [
    {
      "cell_type": "markdown",
      "source": "# ipycanvas: John Conway's Game Of Life",
      "metadata": {}
    },
    {
      "cell_type": "markdown",
      "source": "Some of the following code is adapted from https://jakevdp.github.io/blog/2013/08/07/conways-game-of-life/",
      "metadata": {}
    },
    {
      "cell_type": "code",
      "source": "import piplite\n\nawait piplite.install('ipycanvas')",
      "metadata": {
        "trusted": true
      },
      "execution_count": null,
      "outputs": []
    },
    {
      "cell_type": "code",
      "source": "import asyncio\n\nimport numpy as np\n\nfrom ipycanvas import RoughCanvas, hold_canvas",
      "metadata": {
        "trusted": true
      },
      "execution_count": null,
      "outputs": []
    },
    {
      "cell_type": "code",
      "source": "def life_step(x):\n    \"\"\"Game of life step\"\"\"\n    nbrs_count = sum(np.roll(np.roll(x, i, 0), j, 1)\n                     for i in (-1, 0, 1) for j in (-1, 0, 1)\n                     if (i != 0 or j != 0))\n    return (nbrs_count == 3) | (x & (nbrs_count == 2))",
      "metadata": {
        "trusted": true
      },
      "execution_count": null,
      "outputs": []
    },
    {
      "cell_type": "code",
      "source": "def draw(x, canvas, color='black'):\n    with hold_canvas(canvas):\n        canvas.clear()\n        canvas.fill_style = '#FFF0C9'\n        canvas.rough_fill_style = 'solid'\n        canvas.fill_rect(-10, -10, canvas.width + 10, canvas.height + 10)\n        canvas.rough_fill_style = 'cross-hatch'\n\n        canvas.fill_style = color\n        canvas.stroke_style = color\n\n        living_cells = np.where(x)\n        \n        rects_x = living_cells[1] * n_pixels\n        rects_y = living_cells[0] * n_pixels\n\n        canvas.fill_rects(rects_x, rects_y, n_pixels)\n        canvas.stroke_rects(rects_x, rects_y, n_pixels)",
      "metadata": {
        "trusted": true
      },
      "execution_count": null,
      "outputs": []
    },
    {
      "cell_type": "code",
      "source": "glider_gun =\\\n[[0,0,0,0,0,0,0,0,0,0,0,0,0,0,0,0,0,0,0,0,0,0,0,0,1,0,0,0,0,0,0,0,0,0,0,0],\n [0,0,0,0,0,0,0,0,0,0,0,0,0,0,0,0,0,0,0,0,0,0,1,0,1,0,0,0,0,0,0,0,0,0,0,0],\n [0,0,0,0,0,0,0,0,0,0,0,0,1,1,0,0,0,0,0,0,1,1,0,0,0,0,0,0,0,0,0,0,0,0,1,1],\n [0,0,0,0,0,0,0,0,0,0,0,1,0,0,0,1,0,0,0,0,1,1,0,0,0,0,0,0,0,0,0,0,0,0,1,1],\n [1,1,0,0,0,0,0,0,0,0,1,0,0,0,0,0,1,0,0,0,1,1,0,0,0,0,0,0,0,0,0,0,0,0,0,0],\n [1,1,0,0,0,0,0,0,0,0,1,0,0,0,1,0,1,1,0,0,0,0,1,0,1,0,0,0,0,0,0,0,0,0,0,0],\n [0,0,0,0,0,0,0,0,0,0,1,0,0,0,0,0,1,0,0,0,0,0,0,0,1,0,0,0,0,0,0,0,0,0,0,0],\n [0,0,0,0,0,0,0,0,0,0,0,1,0,0,0,1,0,0,0,0,0,0,0,0,0,0,0,0,0,0,0,0,0,0,0,0],\n [0,0,0,0,0,0,0,0,0,0,0,0,1,1,0,0,0,0,0,0,0,0,0,0,0,0,0,0,0,0,0,0,0,0,0,0]]\n\nx = np.zeros((50, 70), dtype=bool)\nx[1:10,1:37] = glider_gun",
      "metadata": {
        "trusted": true
      },
      "execution_count": null,
      "outputs": []
    },
    {
      "cell_type": "code",
      "source": "n_pixels = 15\n\ncanvas = RoughCanvas(width=x.shape[1]*n_pixels, height=x.shape[0]*n_pixels)\ncanvas.fill_style = '#FFF0C9'\ncanvas.rough_fill_style = 'solid'\ncanvas.fill_rect(0, 0, canvas.width, canvas.height)\n\ncanvas",
      "metadata": {
        "trusted": true
      },
      "execution_count": null,
      "outputs": []
    },
    {
      "cell_type": "code",
      "source": "draw(x, canvas, '#5770B3')",
      "metadata": {
        "trusted": true
      },
      "execution_count": null,
      "outputs": []
    },
    {
      "cell_type": "code",
      "source": "for _ in range(300):\n    x = life_step(x)\n    draw(x, canvas, '#5770B3')\n\n    await asyncio.sleep(0.1)",
      "metadata": {
        "trusted": true
      },
      "execution_count": null,
      "outputs": []
    }
  ]
}
