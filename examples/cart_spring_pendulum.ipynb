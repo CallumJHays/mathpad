{
 "cells": [
  {
   "cell_type": "markdown",
   "metadata": {},
   "source": [
    "![Cart Spring Problem Question and Diagram](imgs/cart_spring_pendulum.png)\n",
    "\n",
    "Result:\n",
    "\n",
    "![Simulated Result](imgs/cart_spring_pendulum_simulation.gif)"
   ]
  },
  {
   "cell_type": "markdown",
   "metadata": {},
   "source": [
    "Let $x$ be the distance in the x direction from equilibrium position for body $m_1$"
   ]
  },
  {
   "cell_type": "code",
   "execution_count": 1,
   "metadata": {},
   "outputs": [],
   "source": [
    "# Variable definitions\n",
    "from mathpad import *\n",
    "\n",
    "x = \"x(t)\" * m\n",
    "m1 = \"m1\" * kg\n",
    "\n",
    "theta = \"theta(t)\" * radians\n",
    "m2 = \"m2\" * kg\n",
    "\n",
    "k = \"k\" * N / m\n",
    "l = \"l\" * m\n",
    "\n",
    "F = \"F(t)\" * N\n",
    "g = \"g\" * meter / s**2\n",
    "\n",
    "O = R2(\"O\") # Origin"
   ]
  },
  {
   "cell_type": "code",
   "execution_count": 2,
   "metadata": {},
   "outputs": [
    {
     "name": "stdout",
     "output_type": "stream",
     "text": [
      "Position of m1\n"
     ]
    },
    {
     "data": {
      "text/latex": [
       "$$ \\begin{bmatrix} x \\\\ 0 \\end{bmatrix} \\hspace{1.25em} \\begin{matrix} \\text{m} \\\\ \\text{m} \\end{matrix}\\hspace{0.5em} \\text{{\\tiny w.r.t.} O} $$"
      ],
      "text/plain": [
       "O[x(t), 0]"
      ]
     },
     "execution_count": 2,
     "metadata": {},
     "output_type": "execute_result"
    }
   ],
   "source": [
    "print(\"Position of m1\")\n",
    "r_1 = O[x, 0]\n",
    "r_1"
   ]
  },
  {
   "cell_type": "code",
   "execution_count": 3,
   "metadata": {},
   "outputs": [
    {
     "name": "stdout",
     "output_type": "stream",
     "text": [
      "Position of m2\n"
     ]
    },
    {
     "data": {
      "text/latex": [
       "$$ \\begin{bmatrix} l \\sin{\\left(\\theta \\right)} + x \\\\ l \\cos{\\left(\\theta \\right)} \\end{bmatrix} \\hspace{1.25em} \\begin{matrix} \\text{m} \\\\ \\text{m} \\end{matrix}\\hspace{0.5em} \\text{{\\tiny w.r.t.} O} $$"
      ],
      "text/plain": [
       "O[l*sin(theta(t)) + x(t), l*cos(theta(t))]"
      ]
     },
     "execution_count": 3,
     "metadata": {},
     "output_type": "execute_result"
    }
   ],
   "source": [
    "print(\"Position of m2\")\n",
    "# convert theta to anticlockwise wrt +x axis\n",
    "theta_wrt_xplus = pi/2 - theta\n",
    "\n",
    "r_2 = r_1 + O.from_polar(l, theta_wrt_xplus)\n",
    "r_2"
   ]
  },
  {
   "cell_type": "code",
   "execution_count": 4,
   "metadata": {},
   "outputs": [
    {
     "data": {
      "text/latex": [
       "$$ \\begin{bmatrix} l \\sin{\\left(\\theta \\right)} + x \\\\ l \\cos{\\left(\\theta \\right)} \\end{bmatrix} \\hspace{1.25em} \\begin{matrix} \\text{m} \\\\ \\text{m} \\end{matrix}\\hspace{0.5em} \\text{{\\tiny w.r.t.} O} $$"
      ],
      "text/plain": [
       "O[l*sin(theta(t)) + x(t), l*cos(theta(t))]"
      ]
     },
     "execution_count": 4,
     "metadata": {},
     "output_type": "execute_result"
    }
   ],
   "source": [
    "r_2"
   ]
  },
  {
   "cell_type": "code",
   "execution_count": 5,
   "metadata": {},
   "outputs": [
    {
     "name": "stdout",
     "output_type": "stream",
     "text": [
      "Velocity of m2 wrt origin\n"
     ]
    },
    {
     "data": {
      "text/latex": [
       "$$ \\begin{bmatrix} l \\cos{\\left(\\theta \\right)} \\dot{\\theta} + \\dot{x} \\\\ - l \\sin{\\left(\\theta \\right)} \\dot{\\theta} \\end{bmatrix} \\hspace{1.25em} \\begin{matrix} \\frac{\\text{m}}{\\text{s}} \\\\ \\frac{\\text{m}}{\\text{s}} \\end{matrix} $$"
      ],
      "text/plain": [
       "Unknown2D[l*cos(theta(t))*Derivative(theta(t), t) + Derivative(x(t), t), -l*sin(theta(t))*Derivative(theta(t), t)]"
      ]
     },
     "execution_count": 5,
     "metadata": {},
     "output_type": "execute_result"
    }
   ],
   "source": [
    "print(\"Velocity of m2 wrt origin\")\n",
    "\n",
    "v_2 = diff(r_2)\n",
    "v_2"
   ]
  },
  {
   "cell_type": "code",
   "execution_count": 6,
   "metadata": {},
   "outputs": [
    {
     "name": "stdout",
     "output_type": "stream",
     "text": [
      "Kinetic Energy\n"
     ]
    },
    {
     "data": {
      "text/latex": [
       "$$ \\frac{m_{1} \\dot{x}^{2}}{2} + \\frac{m_{2} \\left(l^{2} \\dot{\\theta}^{2} + 2 l \\cos{\\left(\\theta \\right)} \\dot{\\theta} \\dot{x} + \\dot{x}^{2}\\right)}{2} \\hspace{1.25em} \\frac{\\text{kg} \\text{m}^{2}}{\\text{s}^{2}} $$"
      ],
      "text/plain": [
       "0.5*mDerivative(x(t), t)**2 + 0.5*m2*(l**2*Derivative(theta(t), t)**2 + 2*l*cos(theta(t))*Derivative(theta(t), t)*Derivative(x(t), t) + Derivative(x(t), t)**2) kilogram*meters**2/second**2"
      ]
     },
     "execution_count": 6,
     "metadata": {},
     "output_type": "execute_result"
    }
   ],
   "source": [
    "# Kinetic energy\n",
    "from mathpad.mech import kinetic_energy, elastic_energy, euler_lagrange, gravitational_energy\n",
    "\n",
    "print(\"Kinetic Energy\")\n",
    "T = kinetic_energy(m1, diff(x)) + kinetic_energy(m2, abs(v_2))\n",
    "T"
   ]
  },
  {
   "cell_type": "code",
   "execution_count": 7,
   "metadata": {},
   "outputs": [
    {
     "name": "stdout",
     "output_type": "stream",
     "text": [
      "Potential Energy\n"
     ]
    },
    {
     "data": {
      "text/latex": [
       "$$ g l m_{2} \\cos{\\left(\\theta \\right)} + \\frac{k x^{2}}{2} \\hspace{1.25em} \\text{m} \\text{N} $$"
      ],
      "text/plain": [
       "g*l*m2*cos(theta(t)) + 0.5*k*x(t)**2 meter*newtons"
      ]
     },
     "execution_count": 7,
     "metadata": {},
     "output_type": "execute_result"
    }
   ],
   "source": [
    "print(\"Potential Energy\")\n",
    "V = elastic_energy(k, x) + gravitational_energy(m2, r_2.j, g)\n",
    "V"
   ]
  },
  {
   "cell_type": "code",
   "execution_count": 8,
   "metadata": {},
   "outputs": [
    {
     "name": "stdout",
     "output_type": "stream",
     "text": [
      "Dynamics of Body 1\n"
     ]
    },
    {
     "data": {
      "text/latex": [
       "$$ F = k x + m_{1} \\ddot{x} + m_{2} \\left(- l \\sin{\\left(\\theta \\right)} \\dot{\\theta}^{2} + l \\cos{\\left(\\theta \\right)} \\ddot{\\theta} + \\ddot{x}\\right) \\hspace{1.25em} \\text{N} $$"
      ],
      "text/plain": [
       "F(t) = k*x(t) + mDerivative(x(t), (t, 2)) + m2*(-l*sin(theta(t))*Derivative(theta(t), t)**2 + l*cos(theta(t))*Derivative(theta(t), (t, 2)) + Derivative(x(t), (t, 2))) newton"
      ]
     },
     "execution_count": 8,
     "metadata": {},
     "output_type": "execute_result"
    }
   ],
   "source": [
    "print(\"Dynamics of Body 1\")\n",
    "x_dynamics = euler_lagrange(T, V, F, x)\n",
    "x_dynamics"
   ]
  },
  {
   "cell_type": "code",
   "execution_count": 9,
   "metadata": {},
   "outputs": [
    {
     "name": "stdout",
     "output_type": "stream",
     "text": [
      "Dynamics of Body 2\n"
     ]
    },
    {
     "data": {
      "text/latex": [
       "$$ l m_{2} \\left(- g \\sin{\\left(\\theta \\right)} + l \\ddot{\\theta} + \\cos{\\left(\\theta \\right)} \\ddot{x}\\right) = 0 \\hspace{1.25em} \\frac{\\text{kg} \\text{m}^{2}}{\\text{rad} \\text{s}^{2}} $$"
      ],
      "text/plain": [
       "l*m2*(-g*sin(theta(t)) + l*Derivative(theta(t), (t, 2)) + cos(theta(t))*Derivative(x(t), (t, 2))) = 0 kilogram*meter**2/(radian*second**2)"
      ]
     },
     "execution_count": 9,
     "metadata": {},
     "output_type": "execute_result"
    }
   ],
   "source": [
    "print(\"Dynamics of Body 2\")\n",
    "theta_dynamics = euler_lagrange(T, V, 0, theta)\n",
    "theta_dynamics"
   ]
  },
  {
   "cell_type": "code",
   "execution_count": 10,
   "metadata": {},
   "outputs": [],
   "source": [
    "# simulate with these substitutions:\n",
    "\n",
    "simulation_subs = {\n",
    "    k: 100,\n",
    "    m1: 10,\n",
    "    m2: 1,\n",
    "    l: 0.5,\n",
    "    g: 9.81,\n",
    "    # A small perturbation\n",
    "    F: piecewise(t, [\n",
    "        # t < 1s: 1 N\n",
    "        (1, 1 * N),\n",
    "        # t >= 1s: 0 N\n",
    "        (float('inf'), 0 * N)\n",
    "    ])\n",
    "}"
   ]
  },
  {
   "cell_type": "code",
   "execution_count": 11,
   "metadata": {},
   "outputs": [
    {
     "name": "stdout",
     "output_type": "stream",
     "text": [
      "Solving subbed Equations...\n",
      "Solving finished.\n",
      "Simulating from t=0 to t=20 with a max_step of 0.01.\n"
     ]
    },
    {
     "data": {
      "application/vnd.jupyter.widget-view+json": {
       "model_id": "d7dce432c2774f8288b20633ce42650c",
       "version_major": 2,
       "version_minor": 0
      },
      "text/plain": [
       "  0%|          | 0/20 [00:00<?, ?it/s]"
      ]
     },
     "metadata": {},
     "output_type": "display_data"
    },
    {
     "name": "stdout",
     "output_type": "stream",
     "text": [
      "Simulation finished. Plotting...\n"
     ]
    },
    {
     "data": {
      "image/svg+xml": "<svg class=\"main-svg\" xmlns=\"http://www.w3.org/2000/svg\" xmlns:xlink=\"http://www.w3.org/1999/xlink\" width=\"960\" height=\"400\" style=\"\" viewBox=\"0 0 960 400\"><rect x=\"0\" y=\"0\" width=\"960\" height=\"400\" style=\"fill: rgb(255, 255, 255); fill-opacity: 1;\"/><defs id=\"defs-2c8db8\"><g class=\"clips\"><clipPath id=\"clip2c8db8xyplot\" class=\"plotclip\"><rect width=\"727\" height=\"220\"/></clipPath><clipPath class=\"axesclip\" id=\"clip2c8db8x\"><rect x=\"80\" y=\"0\" width=\"727\" height=\"400\"/></clipPath><clipPath class=\"axesclip\" id=\"clip2c8db8y\"><rect x=\"0\" y=\"100\" width=\"960\" height=\"220\"/></clipPath><clipPath class=\"axesclip\" id=\"clip2c8db8xy\"><rect x=\"80\" y=\"100\" width=\"727\" height=\"220\"/></clipPath></g><g class=\"gradients\"/><g class=\"patterns\"/></defs><g class=\"bglayer\"><rect class=\"bg\" x=\"80\" y=\"100\" width=\"727\" height=\"220\" style=\"fill: rgb(229, 236, 246); fill-opacity: 1; stroke-width: 0;\"/></g><g class=\"layer-below\"><g class=\"imagelayer\"/><g class=\"shapelayer\"/></g><g class=\"cartesianlayer\"><g class=\"subplot xy\"><g class=\"layer-subplot\"><g class=\"shapelayer\"/><g class=\"imagelayer\"/></g><g class=\"gridlayer\"><g class=\"x\"><path class=\"xgrid crisp\" transform=\"translate(261.75,0)\" d=\"M0,100v220\" style=\"stroke: rgb(255, 255, 255); stroke-opacity: 1; stroke-width: 1px;\"/><path class=\"xgrid crisp\" transform=\"translate(443.5,0)\" d=\"M0,100v220\" style=\"stroke: rgb(255, 255, 255); stroke-opacity: 1; stroke-width: 1px;\"/><path class=\"xgrid crisp\" transform=\"translate(625.25,0)\" d=\"M0,100v220\" style=\"stroke: rgb(255, 255, 255); stroke-opacity: 1; stroke-width: 1px;\"/></g><g class=\"y\"><path class=\"ygrid crisp\" transform=\"translate(0,306.74)\" d=\"M80,0h727\" style=\"stroke: rgb(255, 255, 255); stroke-opacity: 1; stroke-width: 1px;\"/><path class=\"ygrid crisp\" transform=\"translate(0,245.42)\" d=\"M80,0h727\" style=\"stroke: rgb(255, 255, 255); stroke-opacity: 1; stroke-width: 1px;\"/><path class=\"ygrid crisp\" transform=\"translate(0,184.1)\" d=\"M80,0h727\" style=\"stroke: rgb(255, 255, 255); stroke-opacity: 1; stroke-width: 1px;\"/></g></g><g class=\"zerolinelayer\"><path class=\"xzl zl crisp\" transform=\"translate(80,0)\" d=\"M0,100v220\" style=\"stroke: rgb(255, 255, 255); stroke-opacity: 1; stroke-width: 2px;\"/><path class=\"yzl zl crisp\" transform=\"translate(0,122.77)\" d=\"M80,0h727\" style=\"stroke: rgb(255, 255, 255); stroke-opacity: 1; stroke-width: 2px;\"/></g><path class=\"xlines-below\"/><path class=\"ylines-below\"/><g class=\"overlines-below\"/><g class=\"xaxislayer-below\"/><g class=\"yaxislayer-below\"/><g class=\"overaxes-below\"/><g class=\"plot\" transform=\"translate(80,100)\" clip-path=\"url(#clip2c8db8xyplot)\"><g class=\"scatterlayer mlayer\"><g class=\"trace scatter trace14ebe2\" style=\"stroke-miterlimit: 2; opacity: 1;\"><g class=\"fills\"/><g class=\"errorbars\"/><g class=\"lines\"><path class=\"js-line\" d=\"M0,22.77L31.62,22.02L31.66,22.01L51.62,22.07L51.66,22.08L57.04,24.14L57.07,24.16L62.31,25.84L62.49,25.86L68.49,25.48L68.67,25.44L81.1,22.61L81.1,22.61L81.17,22.59L93.78,20.99L93.82,20.99L105.56,20.01L105.75,19.96L111.63,19.1L111.63,19.1L111.71,19.11L116.47,20.24L116.65,20.31L134.86,26.22L134.9,26.22L151.69,27.79L151.73,27.78L156.45,26.29L156.64,26.21L174.45,17.8L174.48,17.79L187.24,14.93L187.24,14.93L187.32,14.94L191.2,16.05L191.24,16.07L197.02,19.48L197.06,19.51L217.52,33.23L217.7,33.28L221.7,33.58L221.73,33.57L225.88,32.28L226.06,32.19L230.61,29.27L230.79,29.12L235.7,24.59L235.88,24.41L245.36,14.7L245.4,14.67L250.2,11.82L250.24,11.81L254.24,11L254.42,11L258.23,11.69L258.42,11.76L262.96,14.5L263.14,14.65L269.87,20.96L270.05,21.14L277.86,27.9L278.04,28.03L284.04,31.56L284.22,31.63L288.98,32.46L289.02,32.45L293.02,31.45L293.02,31.45L293.09,31.42L301.7,27.09L301.74,27.07L310.11,22.05L310.11,22.05L310.18,22L319.67,16.8L319.85,16.74L324.28,16.26L324.28,16.26L324.35,16.27L332.02,17.72L332.21,17.75L342.53,20.22L342.57,20.23L353.32,25.21L353.36,25.23L359.65,27.06L359.83,27.07L364.01,26.63L364.19,26.6L370.19,25.77L370.37,25.76L383.64,24.49L383.82,24.45L403.16,19.33L403.16,19.33L403.23,19.34L407.27,20.27L407.45,20.33L414.54,21.97L414.72,21.98L442.89,24.1L443.07,24.12L455.25,25L455.43,25L462.05,24.25L462.05,24.25L462.12,24.23L467.61,21.71L467.79,21.61L473.43,19.73L473.61,19.71L479.24,19.83L479.42,19.85L494.04,22.54L494.04,22.54L494.11,22.56L507.12,24.18L507.12,24.18L507.2,24.18L515.81,25.34L515.85,25.35L523.23,26.93L523.41,26.92L527.95,25.95L528.13,25.89L548.16,19.34L548.2,19.34L564.3,17.32L564.48,17.36L570.08,19.62L570.12,19.64L585.93,27.61L585.96,27.62L597.02,31.24L597.2,31.25L600.98,30.72L601.01,30.7L605.01,28.88L605.19,28.77L610.83,24.95L611.01,24.81L628.64,12.1L628.82,12.05L633,11.69L633.18,11.71L637.36,13.02L637.55,13.11L642.45,16.39L642.64,16.54L649,22.97L649.18,23.17L655.43,29.6L655.43,29.6L655.5,29.66L660.45,32.95L660.48,32.96L664.88,34.21L664.88,34.21L664.95,34.21L668.84,33.82L668.88,33.8L672.99,31.75L673.17,31.62L679.53,26.18L679.71,26.02L689.2,18.18L689.24,18.15L695.52,14.52L695.71,14.45L699.89,13.62L700.07,13.62L704.43,14.59L704.46,14.61L716.09,20.06L716.13,20.08L726.42,26.06L726.6,26.17L727,26.38L727,26.38\" style=\"vector-effect: non-scaling-stroke; fill: none; stroke: rgb(99, 110, 250); stroke-opacity: 1; stroke-width: 2px; opacity: 1;\"/></g><g class=\"points\"/><g class=\"text\"/></g><g class=\"trace scatter tracef98376\" style=\"stroke-miterlimit: 2; opacity: 1;\"><g class=\"fills\"/><g class=\"errorbars\"/><g class=\"lines\"><path class=\"js-line\" d=\"M0,22.77L16.14,23.51L16.32,23.53L25.96,25.55L26.14,25.61L32.14,28.73L32.32,28.87L36.75,33.27L36.75,33.27L36.83,33.36L41.04,40.43L41.08,40.5L44.82,50.43L44.86,50.55L48.49,64.83L48.68,65.69L53.22,91.96L53.4,93.21L64.02,166.64L64.02,166.64L64.09,167L68.85,186.17L69.03,186.73L72.67,195.72L72.7,195.78L76.12,201.01L76.3,201.21L79.76,203.88L79.94,203.96L82.88,204.42L82.92,204.41L85.83,203.29L85.83,203.29L85.9,203.24L88.73,200.43L88.73,200.43L88.81,200.33L92.11,194.42L92.3,194.01L95.93,183.25L95.96,183.13L99.02,170.02L99.2,169.11L101.2,158.13L101.38,157.04L103.75,141.53L103.93,140.24L112.47,80.34L112.65,79.34L116.07,63.37L116.11,63.22L119.99,51.08L119.99,51.08L120.07,50.91L123.59,44.72L123.63,44.67L126.28,42.66L126.47,42.6L128.72,42.73L128.72,42.73L128.79,42.76L131.22,44.78L131.26,44.83L133.92,49.41L134.1,49.82L137.08,58.42L137.08,58.42L137.15,58.67L140.79,74.47L140.82,74.66L144.46,96.41L144.64,97.64L153.07,154.02L153.07,154.02L153.15,154.4L155.91,167.12L155.94,167.24L159.54,178.59L159.58,178.67L162.63,184.01L162.82,184.21L165.14,185.61L165.18,185.62L167.25,185.03L167.25,185.03L167.32,184.98L169.54,182.34L169.72,182.03L172.34,175.99L172.34,175.99L172.41,175.78L175.57,164.29L175.61,164.12L180.08,140.32L180.26,139.19L182.88,122.32L182.88,122.32L182.95,121.84L189.9,83.61L190.08,82.89L193.49,72.29L193.53,72.21L196.4,67.5L196.44,67.47L198.62,66.41L198.8,66.41L200.69,67.36L200.69,67.36L200.76,67.43L202.98,70.68L203.16,71.04L205.42,76.82L205.42,76.82L205.49,77.04L208.8,89.65L208.98,90.47L220.43,145.58L220.61,146.15L223.55,153.26L223.59,153.33L226.1,156.04L226.14,156.06L228.06,156.07L228.25,155.98L230.24,153.96L230.43,153.69L233.12,147.87L233.15,147.77L236.68,135.56L236.68,135.56L236.75,135.26L241,116.42L241.04,116.24L245.69,97.92L245.73,97.82L248.96,90L249,89.94L251.33,87.38L251.51,87.29L253.36,87.29L253.4,87.3L255.33,89.1L255.51,89.36L258.08,94.79L258.12,94.9L260.67,103.29L260.67,103.29L260.74,103.57L265.35,124.36L265.39,124.56L272.77,154.43L272.96,154.92L275.94,160.85L275.94,160.85L276.01,160.94L278.23,162.64L278.41,162.68L280.3,162.18L280.3,162.18L280.37,162.13L282.55,159.4L282.59,159.34L285.13,153.26L285.31,152.71L287.93,142.98L287.93,142.98L288,142.66L290.95,127.94L291.13,126.92L299.67,80.13L299.85,79.36L304.4,64.97L304.58,64.59L307.31,60.67L307.49,60.52L309.49,59.88L309.67,59.9L311.63,61.09L311.67,61.13L314.1,64.94L314.1,64.94L314.18,65.09L317.38,74.17L317.38,74.17L317.45,74.43L320.76,88.92L320.94,89.87L326.83,127.29L326.9,127.79L334.21,169.75L334.39,170.51L338.09,182.73L338.09,182.73L338.17,182.91L341.44,188.73L341.48,188.77L344.02,190.37L344.2,190.39L346.2,189.85L346.38,189.73L348.71,187.12L348.75,187.06L351.62,181.02L351.65,180.92L354.56,171.4L354.74,170.68L357.47,158.14L357.65,157.19L363.9,115.67L363.9,115.67L363.98,115.13L367.54,89.86L367.54,89.86L367.61,89.39L373.1,60.58L373.28,59.86L376.74,48.71L376.92,48.25L380.01,42.24L380.19,41.99L382.91,39.34L383.1,39.24L385.46,38.72L385.64,38.74L388,39.78L388.19,39.92L391.09,43.38L391.13,43.43L394.18,49.76L394.36,50.23L396.98,58.33L396.98,58.33L397.05,58.59L400.73,74.72L400.91,75.68L406,108.64L406.03,108.88L413.81,163.6L413.99,164.6L420.32,190.78L420.36,190.88L424.17,199.77L424.2,199.82L428.17,205.27L428.2,205.3L431.95,207.99L431.99,208.01L435.99,208.99L436.17,209L440.35,208.27L440.53,208.2L444.67,205.62L444.71,205.59L448.34,201.41L448.53,201.14L451.98,194.71L452.16,194.29L455.98,183.15L456.16,182.5L460.34,163.73L460.52,162.74L466.16,124.76L466.34,123.36L471.79,84.22L471.82,84.02L476.33,61.23L476.52,60.49L480.55,47.44L480.59,47.34L483.97,40.33L484.15,40.03L487.6,35.76L487.78,35.59L491.49,33.54L491.49,33.54L491.56,33.52L494.72,33.56L494.76,33.57L497.78,35.23L497.96,35.38L500.94,38.94L500.94,38.94L501.02,39.06L504.32,45.76L504.51,46.22L508.29,58.6L508.32,58.74L512.28,78.12L512.32,78.33L517.3,112.38L517.3,112.38L517.37,112.93L525.41,165.49L525.59,166.36L529.04,180.03L529.22,180.62L533.4,190.65L533.59,190.95L536.49,194.3L536.53,194.32L538.86,195.09L539.04,195.07L541.29,194.08L541.29,194.08L541.36,194.02L543.84,190.94L543.84,190.94L543.91,190.81L546.74,184.45L546.74,184.45L546.82,184.24L550.49,170.96L550.67,170.15L555.83,140.93L555.83,140.93L555.9,140.44L560.15,110.39L560.19,110.11L566.37,74.98L566.37,74.98L566.45,74.67L569.03,65.33L569.21,64.79L572.19,57.83L572.19,57.83L572.26,57.7L575.06,54.55L575.1,54.52L577.28,54.26L577.28,54.26L577.35,54.29L579.2,55.64L579.39,55.85L581.75,59.85L581.93,60.26L585.02,69.48L585.2,70.15L589.38,89.78L589.56,90.8L591.82,104.32L591.82,104.32L591.89,104.78L600.91,154.69L600.91,154.69L600.98,154.96L604.54,165.13L604.54,165.13L604.61,165.28L607.41,169.05L607.45,169.08L609.59,169.54L609.63,169.53L611.56,168.14L611.74,167.92L614.31,163.21L614.35,163.11L616.54,156.74L616.54,156.74L616.61,156.5L620.46,140.3L620.49,140.14L630.35,93.56L630.35,93.56L630.42,93.33L633.73,85.51L633.91,85.24L636.27,83.12L636.46,83.06L638.35,83.46L638.35,83.46L638.42,83.51L640.53,86.03L640.53,86.03L640.6,86.16L643.18,92.13L643.36,92.66L647.43,107.85L647.43,107.85L647.51,108.16L652.48,130.62L652.52,130.79L657.61,147.78L657.61,147.78L657.68,147.94L660.52,152.41L660.52,152.41L660.59,152.48L662.7,153.24L662.7,153.24L662.77,153.23L664.63,152.06L664.81,151.86L667.17,147.74L667.35,147.31L669.72,140.3L669.9,139.66L674.08,121.36L674.26,120.45L680.98,88.66L681.17,87.97L684.62,77.55L684.8,77.15L687.53,72.93L687.71,72.77L689.71,72L689.89,72.02L691.53,72.88L691.71,73.06L693.71,75.96L693.89,76.31L696.87,84.39L696.87,84.39L696.94,84.64L700.25,98.72L700.43,99.64L712.5,165.55L712.5,165.55L712.57,165.83L716.24,176.41L716.43,176.78L719.12,180.5L719.15,180.53L721.33,181.24L721.51,181.21L723.4,180.09L723.4,180.09L723.48,180.02L725.7,176.75L725.88,176.39L727,173.87L727,173.87\" style=\"vector-effect: non-scaling-stroke; fill: none; stroke: rgb(239, 85, 59); stroke-opacity: 1; stroke-width: 2px; opacity: 1;\"/></g><g class=\"points\"/><g class=\"text\"/></g></g></g><g class=\"overplot\"/><path class=\"xlines-above crisp\" d=\"M0,0\" style=\"fill: none;\"/><path class=\"ylines-above crisp\" d=\"M0,0\" style=\"fill: none;\"/><g class=\"overlines-above\"/><g class=\"xaxislayer-above\"><g class=\"xtick\"><text text-anchor=\"middle\" x=\"0\" y=\"333\" transform=\"translate(80,0)\" style=\"font-family: 'Open Sans', verdana, arial, sans-serif; font-size: 12px; fill: rgb(42, 63, 95); fill-opacity: 1; white-space: pre; opacity: 1;\">0</text></g><g class=\"xtick\"><text text-anchor=\"middle\" x=\"0\" y=\"333\" style=\"font-family: 'Open Sans', verdana, arial, sans-serif; font-size: 12px; fill: rgb(42, 63, 95); fill-opacity: 1; white-space: pre; opacity: 1;\" transform=\"translate(261.75,0)\">5</text></g><g class=\"xtick\"><text text-anchor=\"middle\" x=\"0\" y=\"333\" style=\"font-family: 'Open Sans', verdana, arial, sans-serif; font-size: 12px; fill: rgb(42, 63, 95); fill-opacity: 1; white-space: pre; opacity: 1;\" transform=\"translate(443.5,0)\">10</text></g><g class=\"xtick\"><text text-anchor=\"middle\" x=\"0\" y=\"333\" style=\"font-family: 'Open Sans', verdana, arial, sans-serif; font-size: 12px; fill: rgb(42, 63, 95); fill-opacity: 1; white-space: pre; opacity: 1;\" transform=\"translate(625.25,0)\">15</text></g><g class=\"xtick\"><text text-anchor=\"middle\" x=\"0\" y=\"333\" style=\"font-family: 'Open Sans', verdana, arial, sans-serif; font-size: 12px; fill: rgb(42, 63, 95); fill-opacity: 1; white-space: pre; opacity: 1;\" transform=\"translate(807,0)\">20</text></g></g><g class=\"yaxislayer-above\"><g class=\"ytick\"><text text-anchor=\"end\" x=\"79\" y=\"4.199999999999999\" transform=\"translate(0,306.74)\" style=\"font-family: 'Open Sans', verdana, arial, sans-serif; font-size: 12px; fill: rgb(42, 63, 95); fill-opacity: 1; white-space: pre; opacity: 1;\">−6</text></g><g class=\"ytick\"><text text-anchor=\"end\" x=\"79\" y=\"4.199999999999999\" style=\"font-family: 'Open Sans', verdana, arial, sans-serif; font-size: 12px; fill: rgb(42, 63, 95); fill-opacity: 1; white-space: pre; opacity: 1;\" transform=\"translate(0,245.42)\">−4</text></g><g class=\"ytick\"><text text-anchor=\"end\" x=\"79\" y=\"4.199999999999999\" style=\"font-family: 'Open Sans', verdana, arial, sans-serif; font-size: 12px; fill: rgb(42, 63, 95); fill-opacity: 1; white-space: pre; opacity: 1;\" transform=\"translate(0,184.1)\">−2</text></g><g class=\"ytick\"><text text-anchor=\"end\" x=\"79\" y=\"4.199999999999999\" style=\"font-family: 'Open Sans', verdana, arial, sans-serif; font-size: 12px; fill: rgb(42, 63, 95); fill-opacity: 1; white-space: pre; opacity: 1;\" transform=\"translate(0,122.77)\">0</text></g></g><g class=\"overaxes-above\"/></g></g><g class=\"polarlayer\"/><g class=\"ternarylayer\"/><g class=\"geolayer\"/><g class=\"funnelarealayer\"/><g class=\"pielayer\"/><g class=\"iciclelayer\"/><g class=\"treemaplayer\"/><g class=\"sunburstlayer\"/><g class=\"glimages\"/><defs id=\"topdefs-2c8db8\"><g class=\"clips\"/><clipPath id=\"legend2c8db8\"><rect width=\"126\" height=\"48\" x=\"0\" y=\"0\"/></clipPath></defs><g class=\"layer-above\"><g class=\"imagelayer\"/><g class=\"shapelayer\"/></g><g class=\"infolayer\"><g class=\"legend\" pointer-events=\"all\" transform=\"translate(821.54,100)\"><rect class=\"bg\" shape-rendering=\"crispEdges\" style=\"stroke: rgb(68, 68, 68); stroke-opacity: 1; fill: rgb(255, 255, 255); fill-opacity: 1; stroke-width: 0px;\" width=\"126\" height=\"48\" x=\"0\" y=\"0\"/><g class=\"scrollbox\" transform=\"\" clip-path=\"url(#legend2c8db8)\"><g class=\"groups\"><g class=\"traces\" transform=\"translate(0,14.5)\" style=\"opacity: 1;\"><text class=\"legendtext\" text-anchor=\"start\" x=\"40\" y=\"4.680000000000001\" style=\"font-family: 'Open Sans', verdana, arial, sans-serif; font-size: 12px; fill: rgb(42, 63, 95); fill-opacity: 1; white-space: pre;\">x(t) meters</text><g class=\"layers\" style=\"opacity: 1;\"><g class=\"legendfill\"/><g class=\"legendlines\"><path class=\"js-line\" d=\"M5,0h30\" style=\"fill: none; stroke: rgb(99, 110, 250); stroke-opacity: 1; stroke-width: 2px;\"/></g><g class=\"legendsymbols\"><g class=\"legendpoints\"/></g></g><rect class=\"legendtoggle\" x=\"0\" y=\"-9.5\" width=\"120.71875\" height=\"19\" style=\"fill: rgb(0, 0, 0); fill-opacity: 0;\"/></g><g class=\"traces\" transform=\"translate(0,33.5)\" style=\"opacity: 1;\"><text class=\"legendtext\" text-anchor=\"start\" x=\"40\" y=\"4.680000000000001\" style=\"font-family: 'Open Sans', verdana, arial, sans-serif; font-size: 12px; fill: rgb(42, 63, 95); fill-opacity: 1; white-space: pre;\">theta(t) radians</text><g class=\"layers\" style=\"opacity: 1;\"><g class=\"legendfill\"/><g class=\"legendlines\"><path class=\"js-line\" d=\"M5,0h30\" style=\"fill: none; stroke: rgb(239, 85, 59); stroke-opacity: 1; stroke-width: 2px;\"/></g><g class=\"legendsymbols\"><g class=\"legendpoints\"/></g></g><rect class=\"legendtoggle\" x=\"0\" y=\"-9.5\" width=\"120.71875\" height=\"19\" style=\"fill: rgb(0, 0, 0); fill-opacity: 0;\"/></g></g></g><rect class=\"scrollbar\" rx=\"20\" ry=\"3\" width=\"0\" height=\"0\" style=\"fill: rgb(128, 139, 164); fill-opacity: 1;\" x=\"0\" y=\"0\"/></g><g class=\"g-gtitle\"><text class=\"gtitle\" x=\"480\" y=\"40\" text-anchor=\"middle\" dy=\"0.7em\" style=\"font-family: 'Open Sans', verdana, arial, sans-serif; font-size: 17px; fill: rgb(42, 63, 95); opacity: 1; font-weight: normal; white-space: pre;\">Cart-Spring System Response to a Small Perturbation</text></g><g class=\"g-xtitle\"><text class=\"xtitle\" x=\"443.5\" y=\"360.8\" text-anchor=\"middle\" style=\"font-family: 'Open Sans', verdana, arial, sans-serif; font-size: 14px; fill: rgb(42, 63, 95); opacity: 1; font-weight: normal; white-space: pre;\">t seconds</text></g><g class=\"g-ytitle\"/></g></svg>"
     },
     "metadata": {},
     "output_type": "display_data"
    }
   ],
   "source": [
    "sim_data = simulate_dynamic_system(\n",
    "    [x_dynamics, theta_dynamics],\n",
    "    plot_title=\"Cart-Spring System Response to a Small Perturbation\",\n",
    "    x_f=20, max_step=0.01,\n",
    "    substitute=simulation_subs,\n",
    "    initial_conditions={\n",
    "        x: 0,\n",
    "        diff(x): 0,\n",
    "        theta: 0,\n",
    "        diff(theta): 0\n",
    "    },\n",
    "    record=[x, theta],\n",
    "    plot_static=True\n",
    ")"
   ]
  },
  {
   "cell_type": "code",
   "execution_count": 12,
   "metadata": {},
   "outputs": [],
   "source": [
    "from sympy import lambdify\n",
    "import numpy as np\n",
    "\n",
    "r_1_subbed = subs(r_1, simulation_subs).val\n",
    "r_2_subbed = subs(r_2, simulation_subs).val\n",
    "\n",
    "f_rs = lambdify([x.val, theta.val], [r_1_subbed, r_2_subbed])"
   ]
  },
  {
   "cell_type": "code",
   "execution_count": 13,
   "metadata": {},
   "outputs": [
    {
     "name": "stderr",
     "output_type": "stream",
     "text": [
      "<lambdifygenerated-2>:2: VisibleDeprecationWarning:\n",
      "\n",
      "Creating an ndarray from ragged nested sequences (which is a list-or-tuple of lists-or-tuples-or ndarrays with different lengths or shapes) is deprecated. If you meant to do this, you must specify 'dtype=object' when creating the ndarray.\n",
      "\n"
     ]
    }
   ],
   "source": [
    "r_1sim, r_2sim = f_rs(\n",
    "    [x for t, (x, theta) in sim_data],\n",
    "    [theta for t, (x, theta) in sim_data]\n",
    ")\n",
    "t_sim = np.array([t for t, (x, theta) in sim_data])"
   ]
  },
  {
   "cell_type": "code",
   "execution_count": 14,
   "metadata": {},
   "outputs": [
    {
     "data": {
      "application/vnd.jupyter.widget-view+json": {
       "model_id": "d0db355e03064695836546ff26f28546",
       "version_major": 2,
       "version_minor": 0
      },
      "text/plain": [
       "FigureWidget({\n",
       "    'data': [{'type': 'scatter', 'uid': '3534ef64-5cb0-40e3-9f22-30bb7abca754'},\n",
       "             {…"
      ]
     },
     "metadata": {},
     "output_type": "display_data"
    }
   ],
   "source": [
    "import plotly.graph_objects as go\n",
    "\n",
    "def get_title(t):\n",
    "    return f\"Cart-Spring System Response to a Small Perturbation (t={t:.2f}s)\"\n",
    "\n",
    "fig = go.FigureWidget().add_scatter().add_scatter()\n",
    "fig.layout.title = get_title(t=0)\n",
    "fig.update_xaxes(range=[-0.5, 0.5], title=\"x (m)\")\n",
    "fig.update_yaxes(range=[-0.6, 0.6], scaleanchor=\"x\", scaleratio=1, title=\"y (m)\")\n",
    "display(fig)"
   ]
  },
  {
   "cell_type": "code",
   "execution_count": 15,
   "metadata": {},
   "outputs": [
    {
     "data": {
      "application/vnd.jupyter.widget-view+json": {
       "model_id": "cd88217d9a13485eb2f25c99766351cb",
       "version_major": 2,
       "version_minor": 0
      },
      "text/plain": [
       "interactive(children=(IntSlider(value=0, description='i', max=12013), Output()), _dom_classes=('widget-interac…"
      ]
     },
     "metadata": {},
     "output_type": "display_data"
    }
   ],
   "source": [
    "from ipywidgets import interact\n",
    "\n",
    "r_1_scatter = fig.data[0]\n",
    "r_2_scatter = fig.data[1]\n",
    "\n",
    "r_1_scatter.name = \"displacement of m1\"\n",
    "r_2_scatter.name = \"displacement of m2\"\n",
    "\n",
    "@interact(i=(0, len(sim_data)-1))\n",
    "def show_cart_spring_pendulum(i=0):\n",
    "    r_1_x, r_1_y = r_1sim[0, 0][i], 0\n",
    "    r_2_x, r_2_y = r_2sim[0, 0, i], r_2sim[1, 0, i]\n",
    "    \n",
    "    with fig.batch_update():\n",
    "        fig.layout.title = get_title(t=t_sim[i])\n",
    "\n",
    "        r_1_scatter.x = [0, r_1_x]\n",
    "        r_1_scatter.y = [0, r_1_y]\n",
    "\n",
    "        r_2_scatter.x = [r_1_x, r_2_x]\n",
    "        r_2_scatter.y = [r_1_y, r_2_y]\n"
   ]
  },
  {
   "cell_type": "code",
   "execution_count": 18,
   "metadata": {},
   "outputs": [
    {
     "name": "stderr",
     "output_type": "stream",
     "text": [
      "                                                              \n",
      "t:  62%|██████▏   | 247/400 [00:39<00:08, 17.75it/s, now=None]"
     ]
    },
    {
     "name": "stdout",
     "output_type": "stream",
     "text": [
      "MoviePy - Building file imgs/cart_spring_pendulum_simulation.gif with imageio.\n"
     ]
    },
    {
     "name": "stderr",
     "output_type": "stream",
     "text": [
      "\n",
      "\u001b[A\n",
      "\u001b[A\n",
      "\u001b[A\n",
      "\u001b[A\n",
      "\u001b[A\n",
      "\u001b[A\n",
      "\u001b[A\n",
      "\u001b[A\n",
      "\u001b[A\n",
      "\u001b[A\n",
      "\u001b[A\n",
      "\u001b[A\n",
      "\u001b[A\n",
      "\u001b[A\n",
      "\u001b[A\n",
      "\u001b[A\n",
      "\u001b[A\n",
      "\u001b[A\n",
      "\u001b[A\n",
      "\u001b[A\n",
      "\u001b[A\n",
      "\u001b[A\n",
      "\u001b[A\n",
      "\u001b[A\n",
      "\u001b[A\n",
      "\u001b[A\n",
      "\u001b[A\n",
      "\u001b[A\n",
      "\u001b[A\n",
      "\u001b[A\n",
      "\u001b[A\n",
      "\u001b[A\n",
      "\u001b[A\n",
      "\u001b[A\n",
      "\u001b[A\n",
      "\u001b[A\n",
      "\u001b[A\n",
      "\u001b[A\n",
      "\u001b[A\n",
      "\u001b[A\n",
      "\u001b[A\n",
      "\u001b[A\n",
      "\u001b[A\n",
      "\u001b[A\n",
      "\u001b[A\n",
      "\u001b[A\n",
      "\u001b[A\n",
      "\u001b[A\n",
      "\u001b[A\n",
      "\u001b[A\n",
      "\u001b[A\n",
      "\u001b[A\n",
      "\u001b[A\n",
      "\u001b[A\n",
      "\u001b[A\n",
      "\u001b[A\n",
      "\u001b[A\n",
      "\u001b[A\n",
      "\u001b[A\n",
      "\u001b[A\n",
      "\u001b[A\n",
      "\u001b[A\n",
      "\u001b[A\n",
      "\u001b[A\n",
      "\u001b[A\n",
      "\u001b[A\n",
      "\u001b[A\n",
      "\u001b[A\n",
      "\u001b[A\n",
      "\u001b[A\n",
      "\u001b[A\n",
      "\u001b[A\n",
      "\u001b[A\n",
      "\u001b[A\n",
      "\u001b[A\n",
      "\u001b[A\n",
      "\u001b[A\n",
      "\u001b[A\n",
      "\u001b[A\n",
      "\u001b[A\n",
      "\u001b[A\n",
      "\u001b[A\n",
      "\u001b[A\n",
      "\u001b[A\n",
      "\u001b[A\n",
      "\u001b[A\n",
      "\u001b[A\n",
      "\u001b[A\n",
      "\u001b[A\n",
      "\u001b[A\n",
      "\u001b[A\n",
      "\u001b[A\n",
      "\u001b[A\n",
      "\u001b[A\n",
      "\u001b[A\n",
      "\u001b[A\n",
      "\u001b[A\n",
      "\u001b[A\n",
      "\u001b[A\n",
      "\u001b[A\n",
      "\u001b[A\n",
      "\u001b[A\n",
      "\u001b[A\n",
      "\u001b[A\n",
      "\u001b[A\n",
      "\u001b[A\n",
      "\u001b[A\n",
      "\u001b[A\n",
      "\u001b[A\n",
      "\u001b[A\n",
      "\u001b[A\n",
      "\u001b[A\n",
      "\u001b[A\n",
      "\u001b[A\n",
      "\u001b[A\n",
      "\u001b[A"
     ]
    }
   ],
   "source": [
    "import io\n",
    "from PIL import Image\n",
    "from moviepy.video.VideoClip import VideoClip\n",
    "\n",
    "def plotly_fig2array(fig):\n",
    "    \"from https://community.plotly.com/t/how-to-export-animation-and-save-it-in-a-video-format-like-mp4-mpeg-or/64621/2\"\n",
    "    #convert Plotly fig to  an array\n",
    "    fig_bytes = fig.to_image(format=\"png\", scale=1)\n",
    "    buf = io.BytesIO(fig_bytes)\n",
    "    img = Image.open(buf)\n",
    "    return np.asarray(img)\n",
    "\n",
    "def make_frame(t):\n",
    "    idx = np.abs(t_sim - t).argmin()\n",
    "    show_cart_spring_pendulum(idx)\n",
    "    return plotly_fig2array(fig)\n",
    "\n",
    "# animate and save as gif\n",
    "animation = VideoClip(make_frame, duration=20)\n",
    "animation.write_gif(\"imgs/cart_spring_pendulum_simulation.gif\", fps=20)"
   ]
  },
  {
   "cell_type": "markdown",
   "metadata": {},
   "source": [
    "![Simulated Result](imgs/cart_spring_pendulum_simulation.gif)"
   ]
  }
 ],
 "metadata": {
  "kernelspec": {
   "display_name": "Python 3.8.10 ('mathpad-IMbbmyaw-py3.8')",
   "language": "python",
   "name": "python3"
  },
  "language_info": {
   "codemirror_mode": {
    "name": "ipython",
    "version": 3
   },
   "file_extension": ".py",
   "mimetype": "text/x-python",
   "name": "python",
   "nbconvert_exporter": "python",
   "pygments_lexer": "ipython3",
   "version": "3.8.10"
  },
  "vscode": {
   "interpreter": {
    "hash": "c68f6f75b9b5074b455bff57bf843aee0a1a4f29736bbb117f262860b9efa145"
   }
  }
 },
 "nbformat": 4,
 "nbformat_minor": 2
}
