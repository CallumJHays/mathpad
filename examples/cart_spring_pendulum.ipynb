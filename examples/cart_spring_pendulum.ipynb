{
  "cells": [
    {
      "cell_type": "code",
      "execution_count": 1,
      "metadata": {
        "trusted": true
      },
      "outputs": [],
      "source": [
        "try:\n",
        "    # install for jupyterlite if needed\n",
        "    import piplite\n",
        "    print('installing piplite packages... This may take up to ~5 minutes. If still running, please try refreshing the page.')\n",
        "    await piplite.install(['mathpad', 'nbformat>=5.6', 'ipywidgets>=7,<8'])\n",
        "    print('piplite packages installed and ready to go!')\n",
        "    in_jupyterlite = True\n",
        "\n",
        "except (ImportError, SyntaxError):\n",
        "    # not running in jupyterlite\n",
        "    in_jupyterlite = False\n"
      ]
    },
    {
      "cell_type": "markdown",
      "metadata": {},
      "source": [
        "<div style=\"display: flex; height: 300px;\">\n",
        "\n",
        "![cart spring pendulum diagram](imgs/cart_spring_pendulum.png)\n",
        "\n",
        "&nbsp;\n",
        "\n",
        "![cart spring pendulum simulation](imgs/cart_spring_pendulum_simulation.gif)\n",
        "</div>\n",
        "\n",
        "Let $x$ be the distance in the x direction from equilibrium position for body $m_1$"
      ]
    },
    {
      "cell_type": "code",
      "execution_count": 2,
      "metadata": {
        "trusted": true
      },
      "outputs": [],
      "source": [
        "# Variable definitions\n",
        "from mathpad import *\n",
        "\n",
        "x = \"x(t)\" * m\n",
        "m1 = \"m1\" * kg\n",
        "\n",
        "theta = \"theta(t)\" * radians\n",
        "m2 = \"m2\" * kg\n",
        "\n",
        "k = \"k\" * N / m\n",
        "l = \"l\" * m\n",
        "\n",
        "F = \"F(t)\" * N\n",
        "g = \"g\" * meter / s**2\n",
        "\n",
        "O = R2(\"O\") # Origin"
      ]
    },
    {
      "cell_type": "code",
      "execution_count": 3,
      "metadata": {
        "trusted": true
      },
      "outputs": [
        {
          "name": "stdout",
          "output_type": "stream",
          "text": [
            "Position of m1\n"
          ]
        },
        {
          "data": {
            "text/latex": [
              "$$ \\begin{bmatrix} x \\\\ 0 \\end{bmatrix} \\hspace{1.25em} \\begin{matrix} \\hat{i} \\cdot \\text{m} \\\\ \\hat{j} \\cdot \\text{m} \\end{matrix} \\hspace{0.7em} \\text{wrt. O} $$"
            ],
            "text/plain": [
              "O[x(t), 0]"
            ]
          },
          "execution_count": 3,
          "metadata": {},
          "output_type": "execute_result"
        }
      ],
      "source": [
        "print(\"Position of m1\")\n",
        "r_1 = O[x, 0]\n",
        "r_1"
      ]
    },
    {
      "cell_type": "code",
      "execution_count": 4,
      "metadata": {
        "trusted": true
      },
      "outputs": [
        {
          "name": "stdout",
          "output_type": "stream",
          "text": [
            "Position of m2\n"
          ]
        },
        {
          "data": {
            "text/latex": [
              "$$ \\begin{bmatrix} l \\sin{\\left(\\theta \\right)} + x \\\\ l \\cos{\\left(\\theta \\right)} \\end{bmatrix} \\hspace{1.25em} \\begin{matrix} \\hat{i} \\cdot \\text{m} \\\\ \\hat{j} \\cdot \\text{m} \\end{matrix} \\hspace{0.7em} \\text{wrt. O} $$"
            ],
            "text/plain": [
              "O[l*sin(theta(t)) + x(t), l*cos(theta(t))]"
            ]
          },
          "execution_count": 4,
          "metadata": {},
          "output_type": "execute_result"
        }
      ],
      "source": [
        "print(\"Position of m2\")\n",
        "# convert theta to anticlockwise wrt +x axis\n",
        "theta_wrt_xplus = pi/2 - theta\n",
        "\n",
        "r_2 = r_1 + O.from_polar(l, theta_wrt_xplus)\n",
        "r_2"
      ]
    },
    {
      "cell_type": "code",
      "execution_count": 5,
      "metadata": {
        "trusted": true
      },
      "outputs": [
        {
          "name": "stdout",
          "output_type": "stream",
          "text": [
            "Velocity of m2 wrt origin\n"
          ]
        },
        {
          "data": {
            "text/latex": [
              "$$ \\begin{bmatrix} l \\cos{\\left(\\theta \\right)} \\dot{\\theta} + \\dot{x} \\\\ - l \\sin{\\left(\\theta \\right)} \\dot{\\theta} \\end{bmatrix} \\hspace{1.25em} \\begin{matrix} \\hat{i} \\cdot \\frac{\\text{m}}{\\text{s}} \\\\ \\hat{j} \\cdot \\frac{\\text{m}}{\\text{s}} \\end{matrix} \\hspace{0.7em} \\text{wrt. O} $$"
            ],
            "text/plain": [
              "O[l*cos(theta(t))*Derivative(theta(t), t) + Derivative(x(t), t), -l*sin(theta(t))*Derivative(theta(t), t)]"
            ]
          },
          "execution_count": 5,
          "metadata": {},
          "output_type": "execute_result"
        }
      ],
      "source": [
        "print(\"Velocity of m2 wrt origin\")\n",
        "\n",
        "v_2 = diff(r_2)\n",
        "v_2"
      ]
    },
    {
      "cell_type": "code",
      "execution_count": 6,
      "metadata": {
        "trusted": true
      },
      "outputs": [
        {
          "name": "stdout",
          "output_type": "stream",
          "text": [
            "Kinetic Energy\n"
          ]
        },
        {
          "data": {
            "text/latex": [
              "$$ \\frac{m_{1} \\dot{x}^{2}}{2} + \\frac{m_{2} \\left(l^{2} \\dot{\\theta}^{2} + 2 l \\cos{\\left(\\theta \\right)} \\dot{\\theta} \\dot{x} + \\dot{x}^{2}\\right)}{2} \\hspace{1.25em} \\frac{\\text{kg} \\text{m}^{2}}{\\text{s}^{2}} $$"
            ],
            "text/plain": [
              "0.5*mDerivative(x(t), t)**2 + 0.5*m2*(l**2*Derivative(theta(t), t)**2 + 2*l*cos(theta(t))*Derivative(theta(t), t)*Derivative(x(t), t) + Derivative(x(t), t)**2) kilogram*meters**2/second**2"
            ]
          },
          "execution_count": 6,
          "metadata": {},
          "output_type": "execute_result"
        }
      ],
      "source": [
        "from mathpad.mech import kinetic_energy, elastic_energy, euler_lagrange, gravitational_energy\n",
        "\n",
        "print(\"Kinetic Energy\")\n",
        "T = kinetic_energy(m1, diff(x)) + kinetic_energy(m2, abs(v_2))\n",
        "T"
      ]
    },
    {
      "cell_type": "code",
      "execution_count": 7,
      "metadata": {
        "trusted": true
      },
      "outputs": [
        {
          "name": "stdout",
          "output_type": "stream",
          "text": [
            "Potential Energy\n"
          ]
        },
        {
          "data": {
            "text/latex": [
              "$$ g l m_{2} \\cos{\\left(\\theta \\right)} + \\frac{k x^{2}}{2} \\hspace{1.25em} \\text{m} \\text{N} $$"
            ],
            "text/plain": [
              "g*l*m2*cos(theta(t)) + 0.5*k*x(t)**2 meter*newtons"
            ]
          },
          "execution_count": 7,
          "metadata": {},
          "output_type": "execute_result"
        }
      ],
      "source": [
        "print(\"Potential Energy\")\n",
        "V = elastic_energy(k, x) + gravitational_energy(m2, r_2.j, g)\n",
        "V"
      ]
    },
    {
      "cell_type": "code",
      "execution_count": 8,
      "metadata": {
        "trusted": true
      },
      "outputs": [
        {
          "name": "stdout",
          "output_type": "stream",
          "text": [
            "Dynamics of Body 1\n"
          ]
        },
        {
          "data": {
            "text/latex": [
              "$$ F = k x + m_{1} \\ddot{x} + m_{2} \\left(- l \\sin{\\left(\\theta \\right)} \\dot{\\theta}^{2} + l \\cos{\\left(\\theta \\right)} \\ddot{\\theta} + \\ddot{x}\\right) \\hspace{1.25em} \\text{N} $$"
            ],
            "text/plain": [
              "F(t) = k*x(t) + mDerivative(x(t), (t, 2)) + m2*(-l*sin(theta(t))*Derivative(theta(t), t)**2 + l*cos(theta(t))*Derivative(theta(t), (t, 2)) + Derivative(x(t), (t, 2))) newton"
            ]
          },
          "execution_count": 8,
          "metadata": {},
          "output_type": "execute_result"
        }
      ],
      "source": [
        "print(\"Dynamics of Body 1\")\n",
        "x_dynamics = euler_lagrange(T, V, F, x)\n",
        "x_dynamics"
      ]
    },
    {
      "cell_type": "code",
      "execution_count": 9,
      "metadata": {
        "trusted": true
      },
      "outputs": [
        {
          "name": "stdout",
          "output_type": "stream",
          "text": [
            "Dynamics of Body 2\n"
          ]
        },
        {
          "data": {
            "text/latex": [
              "$$ l m_{2} \\left(- g \\sin{\\left(\\theta \\right)} + l \\ddot{\\theta} + \\cos{\\left(\\theta \\right)} \\ddot{x}\\right) = 0 \\hspace{1.25em} \\frac{\\text{kg} \\text{m}^{2}}{\\text{rad} \\text{s}^{2}} $$"
            ],
            "text/plain": [
              "l*m2*(-g*sin(theta(t)) + l*Derivative(theta(t), (t, 2)) + cos(theta(t))*Derivative(x(t), (t, 2))) = 0 kilogram*meter**2/(radian*second**2)"
            ]
          },
          "execution_count": 9,
          "metadata": {},
          "output_type": "execute_result"
        }
      ],
      "source": [
        "print(\"Dynamics of Body 2\")\n",
        "theta_dynamics = euler_lagrange(T, V, 0, theta)\n",
        "theta_dynamics"
      ]
    },
    {
      "cell_type": "code",
      "execution_count": 10,
      "metadata": {
        "trusted": true
      },
      "outputs": [],
      "source": [
        "# simulate with these substitutions:\n",
        "\n",
        "simulation_subs = {\n",
        "    k: 100,\n",
        "    m1: 10,\n",
        "    m2: 1,\n",
        "    l: 0.5,\n",
        "    g: 9.81,\n",
        "    # A small perturbation\n",
        "    F: piecewise(t, [\n",
        "        # t < 1s: 1 N\n",
        "        (1, 1 * N),\n",
        "        # t >= 1s: 0 N\n",
        "        (float('inf'), 0 * N)\n",
        "    ])\n",
        "}"
      ]
    },
    {
      "cell_type": "code",
      "execution_count": 11,
      "metadata": {
        "trusted": true
      },
      "outputs": [
        {
          "ename": "TypeError",
          "evalue": "simulate_dynamic_system() got an unexpected keyword argument 'x_f'",
          "output_type": "error",
          "traceback": [
            "\u001b[0;31m---------------------------------------------------------------------------\u001b[0m",
            "\u001b[0;31mTypeError\u001b[0m                                 Traceback (most recent call last)",
            "\u001b[0;32m/tmp/ipykernel_19598/1238401568.py\u001b[0m in \u001b[0;36m<cell line: 1>\u001b[0;34m()\u001b[0m\n\u001b[0;32m----> 1\u001b[0;31m sim_data = simulate_dynamic_system(\n\u001b[0m\u001b[1;32m      2\u001b[0m     \u001b[0;34m[\u001b[0m\u001b[0mx_dynamics\u001b[0m\u001b[0;34m,\u001b[0m \u001b[0mtheta_dynamics\u001b[0m\u001b[0;34m]\u001b[0m\u001b[0;34m,\u001b[0m\u001b[0;34m\u001b[0m\u001b[0;34m\u001b[0m\u001b[0m\n\u001b[1;32m      3\u001b[0m     \u001b[0mplot_title\u001b[0m\u001b[0;34m=\u001b[0m\u001b[0;34m\"Cart-Spring System Response to a Small Perturbation\"\u001b[0m\u001b[0;34m,\u001b[0m\u001b[0;34m\u001b[0m\u001b[0;34m\u001b[0m\u001b[0m\n\u001b[1;32m      4\u001b[0m     \u001b[0mx_f\u001b[0m\u001b[0;34m=\u001b[0m\u001b[0;36m20\u001b[0m\u001b[0;34m,\u001b[0m \u001b[0mmax_step\u001b[0m\u001b[0;34m=\u001b[0m\u001b[0;36m0.01\u001b[0m\u001b[0;34m,\u001b[0m\u001b[0;34m\u001b[0m\u001b[0;34m\u001b[0m\u001b[0m\n\u001b[1;32m      5\u001b[0m     \u001b[0msubstitute\u001b[0m\u001b[0;34m=\u001b[0m\u001b[0msimulation_subs\u001b[0m\u001b[0;34m,\u001b[0m\u001b[0;34m\u001b[0m\u001b[0;34m\u001b[0m\u001b[0m\n",
            "\u001b[0;31mTypeError\u001b[0m: simulate_dynamic_system() got an unexpected keyword argument 'x_f'"
          ]
        }
      ],
      "source": [
        "sim_data = simulate_dynamic_system(\n",
        "    [x_dynamics, theta_dynamics],\n",
        "    plot_title=\"Cart-Spring System Response to a Small Perturbation\",\n",
        "    x_final=20, max_step=0.01,\n",
        "    substitute=simulation_subs,\n",
        "    initial_conditions={\n",
        "        x: 0,\n",
        "        diff(x): 0,\n",
        "        theta: 0,\n",
        "        diff(theta): 0\n",
        "    },\n",
        "    record=[x, theta],\n",
        "    plot_static=not in_jupyterlite\n",
        ")"
      ]
    }
  ],
  "metadata": {
    "kernelspec": {
      "display_name": "Python 3.8.10 ('mathpad-IMbbmyaw-py3.8')",
      "language": "python",
      "name": "python3"
    },
    "language_info": {
      "codemirror_mode": {
        "name": "ipython",
        "version": 3
      },
      "file_extension": ".py",
      "mimetype": "text/x-python",
      "name": "python",
      "nbconvert_exporter": "python",
      "pygments_lexer": "ipython3",
      "version": "3.8.10"
    },
    "vscode": {
      "interpreter": {
        "hash": "c68f6f75b9b5074b455bff57bf843aee0a1a4f29736bbb117f262860b9efa145"
      }
    }
  },
  "nbformat": 4,
  "nbformat_minor": 4
}
