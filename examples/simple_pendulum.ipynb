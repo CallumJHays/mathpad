{
  "cells": [
    {
      "cell_type": "code",
      "execution_count": 1,
      "metadata": {
        "trusted": true
      },
      "outputs": [],
      "source": [
        "try:\n",
        "    # install for jupyterlite if needed\n",
        "    import piplite\n",
        "    print('installing piplite packages... This may take up to ~5 minutes. If still running, please try refreshing the page.')\n",
        "    await piplite.install(['mathpad', 'nbformat>=5.6', 'ipywidgets>=7,<8'])\n",
        "    print('piplite packages installed and ready to go!')\n",
        "    in_jupyterlite = True\n",
        "\n",
        "except (ImportError, SyntaxError):\n",
        "    # not running in jupyterlite\n",
        "    in_jupyterlite = False\n"
      ]
    },
    {
      "cell_type": "markdown",
      "metadata": {},
      "source": [
        "![Simple Pendulum Problem Diagram](imgs/simple_pendulum.png)"
      ]
    },
    {
      "cell_type": "code",
      "execution_count": 2,
      "metadata": {
        "trusted": true
      },
      "outputs": [],
      "source": [
        "from mathpad import *\n",
        "\n",
        "# simple pendulum example using lagrange\n",
        "\n",
        "theta = \"theta(t)\" * rad\n",
        "m = \"m\" * kg\n",
        "l = \"l\" * meters\n",
        "g = \"g\" * meters / second ** 2\n",
        "\n",
        "O = R2(\"O\")"
      ]
    },
    {
      "cell_type": "code",
      "execution_count": 3,
      "metadata": {
        "trusted": true
      },
      "outputs": [
        {
          "name": "stdout",
          "output_type": "stream",
          "text": [
            "Displacement of pendulum\n"
          ]
        },
        {
          "data": {
            "text/latex": [
              "$$ \\begin{bmatrix}l \\sin{\\left(\\theta \\right)} \\\\ - l \\cos{\\left(\\theta \\right)} \\end{bmatrix} \\hspace{1.25em} \\begin{matrix} \\hat{i} \\cdot \\text{m} \\\\ \\hat{j} \\cdot \\text{m} \\end{matrix}\\normalsize \\hspace{0.7em} \\small\\text{wrt. O}\\normalsize $$"
            ],
            "text/plain": [
              "[l*sin(theta(t)), -l*cos(theta(t))] wrt. O"
            ]
          },
          "execution_count": 3,
          "metadata": {},
          "output_type": "execute_result"
        }
      ],
      "source": [
        "print(\"Displacement of pendulum\")\n",
        "r = O.from_polar(l, theta - pi/2)\n",
        "r"
      ]
    },
    {
      "cell_type": "code",
      "execution_count": 4,
      "metadata": {
        "trusted": true
      },
      "outputs": [
        {
          "name": "stdout",
          "output_type": "stream",
          "text": [
            "Velocity of pendulum\n"
          ]
        },
        {
          "data": {
            "text/latex": [
              "$$ \\begin{bmatrix}l \\cos{\\left(\\theta \\right)} \\dot{\\theta} \\\\ l \\sin{\\left(\\theta \\right)} \\dot{\\theta} \\end{bmatrix} \\hspace{1.25em} \\begin{matrix} \\hat{i} \\cdot \\frac{\\text{m}}{\\text{s}} \\\\ \\hat{j} \\cdot \\frac{\\text{m}}{\\text{s}} \\end{matrix}\\normalsize \\hspace{0.7em} \\small\\text{wrt. O}\\normalsize $$"
            ],
            "text/plain": [
              "[l*cos(theta(t))*Derivative(theta(t), t), l*sin(theta(t))*Derivative(theta(t), t)] wrt. O"
            ]
          },
          "execution_count": 4,
          "metadata": {},
          "output_type": "execute_result"
        }
      ],
      "source": [
        "print(\"Velocity of pendulum\")\n",
        "# abs velocity of pendulum\n",
        "v = diff(r)\n",
        "v"
      ]
    },
    {
      "cell_type": "code",
      "execution_count": 5,
      "metadata": {
        "trusted": true
      },
      "outputs": [
        {
          "name": "stdout",
          "output_type": "stream",
          "text": [
            "Absolute velocity of pendulum\n"
          ]
        },
        {
          "data": {
            "text/latex": [
              "$$ \\sqrt{l^{2} \\sin^{2}{\\left(\\theta \\right)} \\dot{\\theta}^{2} + l^{2} \\cos^{2}{\\left(\\theta \\right)} \\dot{\\theta}^{2}} \\hspace{1.25em} \\frac{\\text{m}^{1.0}}{\\text{s}^{1.0}} $$"
            ],
            "text/plain": [
              "(l**2*sin(theta(t))**2*Derivative(theta(t), t)**2 + l**2*cos(theta(t))**2*Derivative(theta(t), t)**2)**0.5 meters**1.0/second**1.0"
            ]
          },
          "execution_count": 5,
          "metadata": {},
          "output_type": "execute_result"
        }
      ],
      "source": [
        "print(\"Absolute velocity of pendulum\")\n",
        "v_abs = v.norm()\n",
        "v_abs"
      ]
    },
    {
      "cell_type": "code",
      "execution_count": 6,
      "metadata": {
        "trusted": true
      },
      "outputs": [
        {
          "name": "stdout",
          "output_type": "stream",
          "text": [
            "Kinetic energy of pendulum\n"
          ]
        },
        {
          "data": {
            "text/latex": [
              "$$ \\frac{m \\left(l^{2} \\sin^{2}{\\left(\\theta \\right)} \\dot{\\theta}^{2} + l^{2} \\cos^{2}{\\left(\\theta \\right)} \\dot{\\theta}^{2}\\right)}{2} \\hspace{1.25em} \\frac{\\text{kg} \\text{m}^{2.0}}{\\text{s}^{2.0}} $$"
            ],
            "text/plain": [
              "0.5*m*(l**2*sin(theta(t))**2*Derivative(theta(t), t)**2 + l**2*cos(theta(t))**2*Derivative(theta(t), t)**2) kilogram*meters**2.0/second**2.0"
            ]
          },
          "execution_count": 6,
          "metadata": {},
          "output_type": "execute_result"
        }
      ],
      "source": [
        "from mathpad.mech import euler_lagrange, kinetic_energy, gravitational_energy\n",
        "\n",
        "print(\"Kinetic energy of pendulum\")\n",
        "T = kinetic_energy(m=m, v=v_abs)\n",
        "T"
      ]
    },
    {
      "cell_type": "code",
      "execution_count": 7,
      "metadata": {
        "trusted": true
      },
      "outputs": [
        {
          "name": "stdout",
          "output_type": "stream",
          "text": [
            "Potential energy of pendulum\n"
          ]
        },
        {
          "data": {
            "text/latex": [
              "$$ - g l m \\cos{\\left(\\theta \\right)} \\hspace{1.25em} \\frac{\\text{kg} \\text{m}^{2}}{\\text{s}^{2}} $$"
            ],
            "text/plain": [
              "-g*l*m*cos(theta(t)) kilogram*meters**2/second**2"
            ]
          },
          "execution_count": 7,
          "metadata": {},
          "output_type": "execute_result"
        }
      ],
      "source": [
        "print(\"Potential energy of pendulum\")\n",
        "V = gravitational_energy(m=m, h=r.j, g=g)\n",
        "V"
      ]
    },
    {
      "cell_type": "code",
      "execution_count": 9,
      "metadata": {
        "trusted": true
      },
      "outputs": [
        {
          "data": {
            "text/latex": [
              "$$ 1.0 g l m \\sin{\\left(\\theta \\right)} + \\frac{m \\left(2 l^{2} \\sin^{2}{\\left(\\theta \\right)} \\ddot{\\theta} + 2 l^{2} \\cos^{2}{\\left(\\theta \\right)} \\ddot{\\theta}\\right)}{2} = 0 \\hspace{1.25em} \\frac{\\text{kg} \\text{m}^{2.0}}{\\text{rad} \\text{s}^{2.0}} $$"
            ],
            "text/plain": [
              "g*l*m*sin(theta(t)) + 0.5*m*(2*l**2*sin(theta(t))**2*Derivative(theta(t), (t, 2)) + 2*l**2*cos(theta(t))**2*Derivative(theta(t), (t, 2))) = 0 kilogram*meter**2.0/(radian*second**2.0)"
            ]
          },
          "execution_count": 9,
          "metadata": {},
          "output_type": "execute_result"
        }
      ],
      "source": [
        "theta_dynamics = euler_lagrange(KE=T, PE=V, NCF=0 * N * meter, var=theta)\n",
        "theta_dynamics"
      ]
    },
    {
      "cell_type": "code",
      "execution_count": 10,
      "metadata": {},
      "outputs": [
        {
          "name": "stdout",
          "output_type": "stream",
          "text": [
            "Solving subbed Equations...\n",
            "Solving finished.\n",
            "Simulating from t=0 to t=5 with a max_step of 0.01.\n"
          ]
        },
        {
          "data": {
            "application/vnd.jupyter.widget-view+json": {
              "model_id": "1af60e9b85ba41078eaab3452a6332c0",
              "version_major": 2,
              "version_minor": 0
            },
            "text/plain": [
              "  0%|          | 0/5 [00:00<?, ?it/s]"
            ]
          },
          "metadata": {},
          "output_type": "display_data"
        },
        {
          "name": "stdout",
          "output_type": "stream",
          "text": [
            "Simulation finished. Plotting...\n"
          ]
        },
        {
          "data": {
            "image/svg+xml": "<svg class=\"main-svg\" xmlns=\"http://www.w3.org/2000/svg\" xmlns:xlink=\"http://www.w3.org/1999/xlink\" width=\"960\" height=\"400\" style=\"\" viewBox=\"0 0 960 400\"><rect x=\"0\" y=\"0\" width=\"960\" height=\"400\" style=\"fill: rgb(255, 255, 255); fill-opacity: 1;\"/><defs id=\"defs-01ac3d\"><g class=\"clips\"><clipPath id=\"clip01ac3dxyplot\" class=\"plotclip\"><rect width=\"579\" height=\"220\"/></clipPath><clipPath class=\"axesclip\" id=\"clip01ac3dx\"><rect x=\"80\" y=\"0\" width=\"579\" height=\"400\"/></clipPath><clipPath class=\"axesclip\" id=\"clip01ac3dy\"><rect x=\"0\" y=\"100\" width=\"960\" height=\"220\"/></clipPath><clipPath class=\"axesclip\" id=\"clip01ac3dxy\"><rect x=\"80\" y=\"100\" width=\"579\" height=\"220\"/></clipPath></g><g class=\"gradients\"/><g class=\"patterns\"/></defs><g class=\"bglayer\"><rect class=\"bg\" x=\"80\" y=\"100\" width=\"579\" height=\"220\" style=\"fill: rgb(229, 236, 246); fill-opacity: 1; stroke-width: 0;\"/></g><g class=\"layer-below\"><g class=\"imagelayer\"/><g class=\"shapelayer\"/></g><g class=\"cartesianlayer\"><g class=\"subplot xy\"><g class=\"layer-subplot\"><g class=\"shapelayer\"/><g class=\"imagelayer\"/></g><g class=\"minor-gridlayer\"><g class=\"x\"/><g class=\"y\"/></g><g class=\"gridlayer\"><g class=\"x\"><path class=\"xgrid crisp\" transform=\"translate(195.8,0)\" d=\"M0,100v220\" style=\"stroke: rgb(255, 255, 255); stroke-opacity: 1; stroke-width: 1px;\"/><path class=\"xgrid crisp\" transform=\"translate(311.6,0)\" d=\"M0,100v220\" style=\"stroke: rgb(255, 255, 255); stroke-opacity: 1; stroke-width: 1px;\"/><path class=\"xgrid crisp\" transform=\"translate(427.4,0)\" d=\"M0,100v220\" style=\"stroke: rgb(255, 255, 255); stroke-opacity: 1; stroke-width: 1px;\"/><path class=\"xgrid crisp\" transform=\"translate(543.2,0)\" d=\"M0,100v220\" style=\"stroke: rgb(255, 255, 255); stroke-opacity: 1; stroke-width: 1px;\"/></g><g class=\"y\"><path class=\"ygrid crisp\" transform=\"translate(0,268.26)\" d=\"M80,0h579\" style=\"stroke: rgb(255, 255, 255); stroke-opacity: 1; stroke-width: 1px;\"/><path class=\"ygrid crisp\" transform=\"translate(0,151.74)\" d=\"M80,0h579\" style=\"stroke: rgb(255, 255, 255); stroke-opacity: 1; stroke-width: 1px;\"/></g></g><g class=\"zerolinelayer\"><path class=\"xzl zl crisp\" transform=\"translate(80,0)\" d=\"M0,100v220\" style=\"stroke: rgb(255, 255, 255); stroke-opacity: 1; stroke-width: 2px;\"/><path class=\"yzl zl crisp\" transform=\"translate(0,210)\" d=\"M80,0h579\" style=\"stroke: rgb(255, 255, 255); stroke-opacity: 1; stroke-width: 2px;\"/></g><path class=\"xlines-below\"/><path class=\"ylines-below\"/><g class=\"overlines-below\"/><g class=\"xaxislayer-below\"/><g class=\"yaxislayer-below\"/><g class=\"overaxes-below\"/><g class=\"plot\" transform=\"translate(80,100)\" clip-path=\"url(#clip01ac3dxyplot)\"><g class=\"scatterlayer mlayer\"><g class=\"trace scatter trace8fe8a1\" style=\"stroke-miterlimit: 2; opacity: 1;\"><g class=\"fills\"/><g class=\"errorbars\"/><g class=\"lines\"><path class=\"js-line\" d=\"M0,103.9L13.84,104.6L14.42,104.66L27.39,106.52L27.39,106.52L27.62,106.57L46.95,110.64L47.08,110.67L70.11,114.93L70.24,114.94L84.48,116.05L85.06,116.07L102.53,115.35L102.66,115.33L115.75,113.44L116.32,113.33L133.12,109.8L133.69,109.67L159.75,104.89L160.33,104.82L178.28,103.91L178.86,103.92L196.81,105.41L197.38,105.49L221.12,110.17L221.7,110.3L246.48,114.94L246.6,114.95L261.65,116.07L262.23,116.08L273.23,115.82L273.81,115.78L291.65,113.51L291.76,113.48L311.45,109.34L312.03,109.22L325.34,106.49L325.92,106.39L342.37,104.28L342.37,104.28L342.6,104.26L356.61,103.96L357.19,103.98L367.71,104.73L367.84,104.75L379.77,106.49L380.35,106.6L400.61,110.88L401.19,111.01L422.62,114.92L423.19,114.99L437.67,116.07L438.25,116.08L455.04,115.35L455.62,115.29L468.36,113.43L468.46,113.41L515.26,104.57L515.83,104.52L531.47,103.92L532.05,103.94L543.63,104.69L543.73,104.7L560.3,107.29L560.42,107.32L579,111.34L579,111.34\" style=\"vector-effect: non-scaling-stroke; fill: none; stroke: rgb(99, 110, 250); stroke-opacity: 1; stroke-width: 2px; opacity: 1;\"/></g><g class=\"points\"/><g class=\"text\"/></g><g class=\"trace scatter trace18ae11\" style=\"stroke-miterlimit: 2; opacity: 1;\"><g class=\"fills\"/><g class=\"errorbars\"/><g class=\"lines\"><path class=\"js-line\" d=\"M0,110L19.63,125.91L20.21,126.32L27.74,131.07L28.32,131.38L34.69,134.18L35.26,134.37L42.68,135.77L42.79,135.78L49.39,135.28L49.39,135.28L49.62,135.23L56.34,133.07L56.34,133.07L56.57,132.97L64.79,128.45L65.37,128.07L75.22,120.82L75.79,120.35L86.68,111.25L86.8,111.15L107.64,94.18L108.22,93.77L118.06,87.8L118.64,87.52L125.59,85.01L125.69,84.99L131.96,84.19L132.54,84.19L139.72,85.24L139.72,85.24L139.95,85.3L147.01,88.12L147.59,88.42L155.93,93.57L155.93,93.57L156.16,93.74L168.67,103.53L168.67,103.53L168.9,103.73L197.96,127.34L198.54,127.73L208.04,133.04L208.04,133.04L208.27,133.14L215.33,135.33L215.91,135.44L223.09,135.67L223.09,135.67L223.32,135.64L229.81,134.16L229.91,134.12L237.34,130.71L237.91,130.39L247.41,123.99L247.41,123.99L247.64,123.82L262.7,111.48L262.81,111.38L283.66,94.37L284.23,93.96L295.24,87.38L295.81,87.12L302.18,84.94L302.76,84.81L309.02,84.2L309.13,84.2L315.73,85.17L315.73,85.17L315.96,85.23L323.03,87.99L323.61,88.28L332.29,93.63L332.87,94.04L343.52,102.35L343.52,102.35L343.76,102.54L373.98,127.16L374.56,127.55L382.66,132.29L382.77,132.34L390.19,135.03L390.77,135.16L397.14,135.8L397.72,135.79L404.09,134.77L404.67,134.61L411.85,131.67L411.85,131.67L412.08,131.55L421.11,125.89L421.11,125.89L421.34,125.72L433.62,116.03L433.72,115.94L461.99,92.93L462.57,92.54L470.78,87.73L470.9,87.67L478.78,84.87L478.88,84.84L485.96,84.22L485.96,84.22L486.19,84.23L492.91,85.42L492.91,85.42L493.14,85.49L500.2,88.44L500.78,88.75L508.31,93.44L508.89,93.85L519.89,102.41L520.47,102.89L545.94,124.05L546.05,124.13L556.47,131.01L556.6,131.08L564.93,134.62L565.05,134.65L571.52,135.77L571.65,135.78L577.79,135.36L578.37,135.25L579,135.12L579,135.12\" style=\"vector-effect: non-scaling-stroke; fill: none; stroke: rgb(239, 85, 59); stroke-opacity: 1; stroke-width: 2px; opacity: 1;\"/></g><g class=\"points\"/><g class=\"text\"/></g><g class=\"trace scatter trace6a21ce\" style=\"stroke-miterlimit: 2; opacity: 1;\"><g class=\"fills\"/><g class=\"errorbars\"/><g class=\"lines\"><path class=\"js-line\" d=\"M0,209L4.46,208.27L4.58,208.23L9.21,205.8L9.79,205.37L13.84,201.45L14.42,200.75L18.47,194.8L19.05,193.79L23.11,185.47L23.68,184.09L27.39,174.21L27.39,174.21L27.62,173.53L33.18,155.02L33.18,155.02L33.41,154.16L39.32,130.56L39.9,128.1L55.18,64.18L55.18,64.18L55.41,63.33L63.29,38.82L63.29,38.82L63.52,38.22L69.43,25.62L70,24.63L75.9,16.81L76.03,16.68L80.66,13.08L80.66,13.08L80.89,12.95L85.64,11.23L86.22,11.13L90.85,11.27L90.95,11.29L94.9,12.69L95.48,13L99.53,15.98L100.11,16.54L104.74,22.21L104.85,22.36L109.84,31.39L109.96,31.64L115.63,46.07L115.75,46.42L122.35,68.81L122.35,68.81L122.58,69.69L146.66,167.34L146.66,167.34L146.9,168.09L152.45,183.74L152.45,183.74L152.69,184.3L157.09,193.53L157.32,193.94L161.95,200.86L162.07,201L166.7,205.53L167.28,205.95L172.01,208.33L172.14,208.37L176.64,208.99L176.77,208.99L181.4,208.04L181.4,208.04L181.64,207.95L186.38,205.13L186.96,204.65L191.02,200.36L191.59,199.61L195.65,193.23L196.23,192.15L201.44,180.41L202.02,178.87L208.39,158.92L208.96,156.84L213.83,137.96L213.83,137.96L214.06,137.01L224.02,94.09L224.12,93.65L233.51,56.95L233.51,56.95L233.75,56.16L238.49,41.67L239.07,40.12L245.44,26.09L246.02,25.08L250.88,18.2L250.88,18.2L251.12,17.94L255.28,14.15L255.39,14.07L260.15,11.67L260.15,11.67L260.38,11.6L265.13,11.02L265.71,11.06L269.76,12.04L270.34,12.29L274.39,14.77L274.97,15.24L279.02,19.47L279.6,20.21L283.66,26.53L284.23,27.6L287.94,35.5L287.94,35.5L288.17,36.05L292.8,48.75L292.92,49.1L299.39,71.73L299.52,72.23L309.13,112.77L309.71,115.3L318.4,151.31L318.97,153.48L327.54,180.74L327.66,181.04L333.33,193.46L333.45,193.67L338.66,201.37L338.76,201.49L343.52,205.92L343.52,205.92L343.76,206.09L348.5,208.4L349.08,208.56L354.18,208.91L354.29,208.89L358.93,207.51L359.5,207.22L363.56,204.38L364.14,203.85L368.19,199.19L368.77,198.38L373.86,189.45L373.98,189.21L379.29,176.12L379.42,175.76L385.56,155.71L386.14,153.57L394.82,117.92L395.4,115.4L411.04,52.84L411.61,50.98L419.14,31.12L419.72,29.92L424.46,21.7L424.58,21.52L429.56,15.76L430.14,15.26L434.2,12.57L434.77,12.3L439.64,11.04L439.64,11.04L439.87,11.02L444.62,11.56L445.2,11.74L449.25,13.73L449.83,14.13L454.46,18.44L454.56,18.56L458.51,24.08L459.09,25.04L463.15,33.01L463.72,34.32L467.78,44.85L468.36,46.55L474.61,67.66L474.73,68.1L483.99,106.54L484.57,109.07L494.41,150.29L494.99,152.48L500.88,172.49L501.01,172.88L506.67,187.56L506.8,187.85L511.78,197.08L512.36,197.95L516.99,203.57L517.1,203.67L521.05,206.73L521.62,207.06L526.26,208.75L526.36,208.77L530.31,208.92L530.89,208.85L535.62,207.3L535.75,207.24L540.62,203.67L540.73,203.55L545.36,197.92L545.94,197.05L549.88,190.01L550,189.77L555.44,176.52L555.44,176.52L555.67,175.86L560.42,160.8L561,158.76L568.52,129.06L569.1,126.59L578.96,84.08L579,83.89\" style=\"vector-effect: non-scaling-stroke; fill: none; stroke: rgb(0, 204, 150); stroke-opacity: 1; stroke-width: 2px; opacity: 1;\"/></g><g class=\"points\"/><g class=\"text\"/></g></g></g><g class=\"overplot\"/><path class=\"xlines-above crisp\" d=\"M0,0\" style=\"fill: none;\"/><path class=\"ylines-above crisp\" d=\"M0,0\" style=\"fill: none;\"/><g class=\"overlines-above\"/><g class=\"xaxislayer-above\"><g class=\"xtick\"><text text-anchor=\"middle\" x=\"0\" y=\"333\" transform=\"translate(80,0)\" style=\"font-family: 'Open Sans', verdana, arial, sans-serif; font-size: 12px; fill: rgb(42, 63, 95); fill-opacity: 1; white-space: pre; opacity: 1;\">0</text></g><g class=\"xtick\"><text text-anchor=\"middle\" x=\"0\" y=\"333\" style=\"font-family: 'Open Sans', verdana, arial, sans-serif; font-size: 12px; fill: rgb(42, 63, 95); fill-opacity: 1; white-space: pre; opacity: 1;\" transform=\"translate(195.8,0)\">1</text></g><g class=\"xtick\"><text text-anchor=\"middle\" x=\"0\" y=\"333\" style=\"font-family: 'Open Sans', verdana, arial, sans-serif; font-size: 12px; fill: rgb(42, 63, 95); fill-opacity: 1; white-space: pre; opacity: 1;\" transform=\"translate(311.6,0)\">2</text></g><g class=\"xtick\"><text text-anchor=\"middle\" x=\"0\" y=\"333\" style=\"font-family: 'Open Sans', verdana, arial, sans-serif; font-size: 12px; fill: rgb(42, 63, 95); fill-opacity: 1; white-space: pre; opacity: 1;\" transform=\"translate(427.4,0)\">3</text></g><g class=\"xtick\"><text text-anchor=\"middle\" x=\"0\" y=\"333\" style=\"font-family: 'Open Sans', verdana, arial, sans-serif; font-size: 12px; fill: rgb(42, 63, 95); fill-opacity: 1; white-space: pre; opacity: 1;\" transform=\"translate(543.2,0)\">4</text></g><g class=\"xtick\"><text text-anchor=\"middle\" x=\"0\" y=\"333\" style=\"font-family: 'Open Sans', verdana, arial, sans-serif; font-size: 12px; fill: rgb(42, 63, 95); fill-opacity: 1; white-space: pre; opacity: 1;\" transform=\"translate(659,0)\">5</text></g></g><g class=\"yaxislayer-above\"><g class=\"ytick\"><text text-anchor=\"end\" x=\"79\" y=\"4.199999999999999\" transform=\"translate(0,268.26)\" style=\"font-family: 'Open Sans', verdana, arial, sans-serif; font-size: 12px; fill: rgb(42, 63, 95); fill-opacity: 1; white-space: pre; opacity: 1;\">−10</text></g><g class=\"ytick\"><text text-anchor=\"end\" x=\"79\" y=\"4.199999999999999\" style=\"font-family: 'Open Sans', verdana, arial, sans-serif; font-size: 12px; fill: rgb(42, 63, 95); fill-opacity: 1; white-space: pre; opacity: 1;\" transform=\"translate(0,210)\">0</text></g><g class=\"ytick\"><text text-anchor=\"end\" x=\"79\" y=\"4.199999999999999\" style=\"font-family: 'Open Sans', verdana, arial, sans-serif; font-size: 12px; fill: rgb(42, 63, 95); fill-opacity: 1; white-space: pre; opacity: 1;\" transform=\"translate(0,151.74)\">10</text></g></g><g class=\"overaxes-above\"/></g></g><g class=\"polarlayer\"/><g class=\"smithlayer\"/><g class=\"ternarylayer\"/><g class=\"geolayer\"/><g class=\"funnelarealayer\"/><g class=\"pielayer\"/><g class=\"iciclelayer\"/><g class=\"treemaplayer\"/><g class=\"sunburstlayer\"/><g class=\"glimages\"/><defs id=\"topdefs-01ac3d\"><g class=\"clips\"/><clipPath id=\"legend01ac3d\"><rect width=\"277\" height=\"67\" x=\"0\" y=\"0\"/></clipPath></defs><g class=\"layer-above\"><g class=\"imagelayer\"/><g class=\"shapelayer\"/></g><g class=\"infolayer\"><g class=\"legend\" pointer-events=\"all\" transform=\"translate(670.58,100)\"><rect class=\"bg\" shape-rendering=\"crispEdges\" style=\"stroke: rgb(68, 68, 68); stroke-opacity: 1; fill: rgb(255, 255, 255); fill-opacity: 1; stroke-width: 0px;\" width=\"277\" height=\"67\" x=\"0\" y=\"0\"/><g class=\"scrollbox\" transform=\"\" clip-path=\"url(#legend01ac3d)\"><g class=\"groups\"><g class=\"traces\" transform=\"translate(0,14.5)\" style=\"opacity: 1;\"><text class=\"legendtext\" text-anchor=\"start\" x=\"40\" y=\"4.680000000000001\" style=\"font-family: 'Open Sans', verdana, arial, sans-serif; font-size: 12px; fill: rgb(42, 63, 95); fill-opacity: 1; white-space: pre;\">theta(t) radians</text><g class=\"layers\" style=\"opacity: 1;\"><g class=\"legendfill\"/><g class=\"legendlines\"><path class=\"js-line\" d=\"M5,0h30\" style=\"fill: none; stroke: rgb(99, 110, 250); stroke-opacity: 1; stroke-width: 2px;\"/></g><g class=\"legendsymbols\"><g class=\"legendpoints\"/></g></g><rect class=\"legendtoggle\" x=\"0\" y=\"-9.5\" width=\"271.765625\" height=\"19\" style=\"fill: rgb(0, 0, 0); fill-opacity: 0;\"/></g><g class=\"traces\" transform=\"translate(0,33.5)\" style=\"opacity: 1;\"><text class=\"legendtext\" text-anchor=\"start\" x=\"40\" y=\"4.680000000000001\" style=\"font-family: 'Open Sans', verdana, arial, sans-serif; font-size: 12px; fill: rgb(42, 63, 95); fill-opacity: 1; white-space: pre;\">Derivative(theta(t), t) radians/second</text><g class=\"layers\" style=\"opacity: 1;\"><g class=\"legendfill\"/><g class=\"legendlines\"><path class=\"js-line\" d=\"M5,0h30\" style=\"fill: none; stroke: rgb(239, 85, 59); stroke-opacity: 1; stroke-width: 2px;\"/></g><g class=\"legendsymbols\"><g class=\"legendpoints\"/></g></g><rect class=\"legendtoggle\" x=\"0\" y=\"-9.5\" width=\"271.765625\" height=\"19\" style=\"fill: rgb(0, 0, 0); fill-opacity: 0;\"/></g><g class=\"traces\" transform=\"translate(0,52.5)\" style=\"opacity: 1;\"><text class=\"legendtext\" text-anchor=\"start\" x=\"40\" y=\"4.680000000000001\" style=\"font-family: 'Open Sans', verdana, arial, sans-serif; font-size: 12px; fill: rgb(42, 63, 95); fill-opacity: 1; white-space: pre;\">Derivative(theta(t), (t, 2)) radians/second**2</text><g class=\"layers\" style=\"opacity: 1;\"><g class=\"legendfill\"/><g class=\"legendlines\"><path class=\"js-line\" d=\"M5,0h30\" style=\"fill: none; stroke: rgb(0, 204, 150); stroke-opacity: 1; stroke-width: 2px;\"/></g><g class=\"legendsymbols\"><g class=\"legendpoints\"/></g></g><rect class=\"legendtoggle\" x=\"0\" y=\"-9.5\" width=\"271.765625\" height=\"19\" style=\"fill: rgb(0, 0, 0); fill-opacity: 0;\"/></g></g></g><rect class=\"scrollbar\" rx=\"20\" ry=\"3\" width=\"0\" height=\"0\" style=\"fill: rgb(128, 139, 164); fill-opacity: 1;\" x=\"0\" y=\"0\"/></g><g class=\"g-gtitle\"><text class=\"gtitle\" x=\"480\" y=\"40\" text-anchor=\"middle\" dy=\"0.7em\" style=\"font-family: 'Open Sans', verdana, arial, sans-serif; font-size: 17px; fill: rgb(42, 63, 95); opacity: 1; font-weight: normal; white-space: pre;\">Simple Pendulum System Response to Being Dropped From a Height</text></g><g class=\"g-xtitle\"><text class=\"xtitle\" x=\"369.5\" y=\"360.8\" text-anchor=\"middle\" style=\"font-family: 'Open Sans', verdana, arial, sans-serif; font-size: 14px; fill: rgb(42, 63, 95); opacity: 1; font-weight: normal; white-space: pre;\">t seconds</text></g><g class=\"g-ytitle\"/></g></svg>"
          },
          "metadata": {},
          "output_type": "display_data"
        }
      ],
      "source": [
        "sim_data = simulate_dynamic_system(\n",
        "    [theta_dynamics],\n",
        "    plot_title=\"Simple Pendulum System Response to Being Dropped From a Height\",\n",
        "    x_final=5, max_step=0.01,\n",
        "    substitute={\n",
        "        g: 9.81,\n",
        "        l: 0.5\n",
        "    },\n",
        "    initial_conditions={\n",
        "        theta: pi / 3,\n",
        "        diff(theta): 0\n",
        "    },\n",
        "    record=[theta, diff(theta), diff(theta, 2)],\n",
        "    plot_static=not in_jupyterlite\n",
        ")"
      ]
    }
  ],
  "metadata": {
    "kernelspec": {
      "display_name": "Python 3.8.10 ('mathpad-IMbbmyaw-py3.8')",
      "language": "python",
      "name": "python3"
    },
    "language_info": {
      "codemirror_mode": {
        "name": "ipython",
        "version": 3
      },
      "file_extension": ".py",
      "mimetype": "text/x-python",
      "name": "python",
      "nbconvert_exporter": "python",
      "pygments_lexer": "ipython3",
      "version": "3.8.10"
    },
    "vscode": {
      "interpreter": {
        "hash": "c68f6f75b9b5074b455bff57bf843aee0a1a4f29736bbb117f262860b9efa145"
      }
    }
  },
  "nbformat": 4,
  "nbformat_minor": 4
}
