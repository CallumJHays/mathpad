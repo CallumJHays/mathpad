{
 "cells": [
  {
   "cell_type": "code",
   "execution_count": 1,
   "metadata": {},
   "outputs": [],
   "source": [
    "from mathpad import *\n",
    "\n",
    "def show(x: Any):\n",
    "    display(x)\n",
    "    print(x._repr_latex_())\n"
   ]
  },
  {
   "attachments": {},
   "cell_type": "markdown",
   "metadata": {},
   "source": [
    "## Quickstart"
   ]
  },
  {
   "cell_type": "code",
   "execution_count": 2,
   "metadata": {},
   "outputs": [
    {
     "name": "stdout",
     "output_type": "stream",
     "text": [
      "Requirement already satisfied: mathpad in /home/cal/.cache/pypoetry/virtualenvs/mathpad-IMbbmyaw-py3.8/lib/python3.8/site-packages (1.1.0)\n",
      "Requirement already satisfied: numpy<2.0,>=1.20 in /home/cal/.cache/pypoetry/virtualenvs/mathpad-IMbbmyaw-py3.8/lib/python3.8/site-packages (from mathpad) (1.21.6)\n",
      "Requirement already satisfied: k3d<3.0.0,>=2.15.2 in /home/cal/.cache/pypoetry/virtualenvs/mathpad-IMbbmyaw-py3.8/lib/python3.8/site-packages (from mathpad) (2.15.2)\n",
      "Requirement already satisfied: scipy<2.0.0,>=1.7.1 in /home/cal/.cache/pypoetry/virtualenvs/mathpad-IMbbmyaw-py3.8/lib/python3.8/site-packages (from mathpad) (1.7.3)\n",
      "Requirement already satisfied: typing-extensions<5.0.0,>=4.0.0 in /home/cal/.cache/pypoetry/virtualenvs/mathpad-IMbbmyaw-py3.8/lib/python3.8/site-packages (from mathpad) (4.3.0)\n",
      "Requirement already satisfied: tqdm<5.0.0,>=4.62.3 in /home/cal/.cache/pypoetry/virtualenvs/mathpad-IMbbmyaw-py3.8/lib/python3.8/site-packages (from mathpad) (4.64.1)\n",
      "Requirement already satisfied: plotly<6.0.0,>=5.3.1 in /home/cal/.cache/pypoetry/virtualenvs/mathpad-IMbbmyaw-py3.8/lib/python3.8/site-packages (from mathpad) (5.10.0)\n",
      "Requirement already satisfied: sympy<2.0,>=1.8 in /home/cal/.cache/pypoetry/virtualenvs/mathpad-IMbbmyaw-py3.8/lib/python3.8/site-packages (from mathpad) (1.10.1)\n",
      "Requirement already satisfied: ipywidgets<9.0.0,>=7.0.0 in /home/cal/.cache/pypoetry/virtualenvs/mathpad-IMbbmyaw-py3.8/lib/python3.8/site-packages (from k3d<3.0.0,>=2.15.2->mathpad) (7.7.2)\n",
      "Requirement already satisfied: traittypes in /home/cal/.cache/pypoetry/virtualenvs/mathpad-IMbbmyaw-py3.8/lib/python3.8/site-packages (from k3d<3.0.0,>=2.15.2->mathpad) (0.2.1)\n",
      "Requirement already satisfied: msgpack in /home/cal/.cache/pypoetry/virtualenvs/mathpad-IMbbmyaw-py3.8/lib/python3.8/site-packages (from k3d<3.0.0,>=2.15.2->mathpad) (1.0.4)\n",
      "Requirement already satisfied: traitlets in /home/cal/.cache/pypoetry/virtualenvs/mathpad-IMbbmyaw-py3.8/lib/python3.8/site-packages (from k3d<3.0.0,>=2.15.2->mathpad) (5.4.0)\n",
      "Requirement already satisfied: tenacity>=6.2.0 in /home/cal/.cache/pypoetry/virtualenvs/mathpad-IMbbmyaw-py3.8/lib/python3.8/site-packages (from plotly<6.0.0,>=5.3.1->mathpad) (8.1.0)\n",
      "Requirement already satisfied: mpmath>=0.19 in /home/cal/.cache/pypoetry/virtualenvs/mathpad-IMbbmyaw-py3.8/lib/python3.8/site-packages (from sympy<2.0,>=1.8->mathpad) (1.2.1)\n",
      "Requirement already satisfied: ipykernel>=4.5.1 in /home/cal/.cache/pypoetry/virtualenvs/mathpad-IMbbmyaw-py3.8/lib/python3.8/site-packages (from ipywidgets<9.0.0,>=7.0.0->k3d<3.0.0,>=2.15.2->mathpad) (6.16.0)\n",
      "Requirement already satisfied: jupyterlab-widgets<3,>=1.0.0 in /home/cal/.cache/pypoetry/virtualenvs/mathpad-IMbbmyaw-py3.8/lib/python3.8/site-packages (from ipywidgets<9.0.0,>=7.0.0->k3d<3.0.0,>=2.15.2->mathpad) (1.1.1)\n",
      "Requirement already satisfied: widgetsnbextension~=3.6.0 in /home/cal/.cache/pypoetry/virtualenvs/mathpad-IMbbmyaw-py3.8/lib/python3.8/site-packages (from ipywidgets<9.0.0,>=7.0.0->k3d<3.0.0,>=2.15.2->mathpad) (3.6.1)\n",
      "Requirement already satisfied: ipython>=4.0.0 in /home/cal/.cache/pypoetry/virtualenvs/mathpad-IMbbmyaw-py3.8/lib/python3.8/site-packages (from ipywidgets<9.0.0,>=7.0.0->k3d<3.0.0,>=2.15.2->mathpad) (7.34.0)\n",
      "Requirement already satisfied: ipython-genutils~=0.2.0 in /home/cal/.cache/pypoetry/virtualenvs/mathpad-IMbbmyaw-py3.8/lib/python3.8/site-packages (from ipywidgets<9.0.0,>=7.0.0->k3d<3.0.0,>=2.15.2->mathpad) (0.2.0)\n",
      "Requirement already satisfied: tornado>=6.1 in /home/cal/.cache/pypoetry/virtualenvs/mathpad-IMbbmyaw-py3.8/lib/python3.8/site-packages (from ipykernel>=4.5.1->ipywidgets<9.0.0,>=7.0.0->k3d<3.0.0,>=2.15.2->mathpad) (6.2)\n",
      "Requirement already satisfied: packaging in /home/cal/.cache/pypoetry/virtualenvs/mathpad-IMbbmyaw-py3.8/lib/python3.8/site-packages (from ipykernel>=4.5.1->ipywidgets<9.0.0,>=7.0.0->k3d<3.0.0,>=2.15.2->mathpad) (21.3)\n",
      "Requirement already satisfied: jupyter-client>=6.1.12 in /home/cal/.cache/pypoetry/virtualenvs/mathpad-IMbbmyaw-py3.8/lib/python3.8/site-packages (from ipykernel>=4.5.1->ipywidgets<9.0.0,>=7.0.0->k3d<3.0.0,>=2.15.2->mathpad) (7.3.5)\n",
      "Requirement already satisfied: psutil in /home/cal/.cache/pypoetry/virtualenvs/mathpad-IMbbmyaw-py3.8/lib/python3.8/site-packages (from ipykernel>=4.5.1->ipywidgets<9.0.0,>=7.0.0->k3d<3.0.0,>=2.15.2->mathpad) (5.9.2)\n",
      "Requirement already satisfied: matplotlib-inline>=0.1 in /home/cal/.cache/pypoetry/virtualenvs/mathpad-IMbbmyaw-py3.8/lib/python3.8/site-packages (from ipykernel>=4.5.1->ipywidgets<9.0.0,>=7.0.0->k3d<3.0.0,>=2.15.2->mathpad) (0.1.6)\n",
      "Requirement already satisfied: debugpy>=1.0 in /home/cal/.cache/pypoetry/virtualenvs/mathpad-IMbbmyaw-py3.8/lib/python3.8/site-packages (from ipykernel>=4.5.1->ipywidgets<9.0.0,>=7.0.0->k3d<3.0.0,>=2.15.2->mathpad) (1.6.3)\n",
      "Requirement already satisfied: nest-asyncio in /home/cal/.cache/pypoetry/virtualenvs/mathpad-IMbbmyaw-py3.8/lib/python3.8/site-packages (from ipykernel>=4.5.1->ipywidgets<9.0.0,>=7.0.0->k3d<3.0.0,>=2.15.2->mathpad) (1.5.6)\n",
      "Requirement already satisfied: pyzmq>=17 in /home/cal/.cache/pypoetry/virtualenvs/mathpad-IMbbmyaw-py3.8/lib/python3.8/site-packages (from ipykernel>=4.5.1->ipywidgets<9.0.0,>=7.0.0->k3d<3.0.0,>=2.15.2->mathpad) (24.0.1)\n",
      "Requirement already satisfied: decorator in /home/cal/.cache/pypoetry/virtualenvs/mathpad-IMbbmyaw-py3.8/lib/python3.8/site-packages (from ipython>=4.0.0->ipywidgets<9.0.0,>=7.0.0->k3d<3.0.0,>=2.15.2->mathpad) (5.1.1)\n",
      "Requirement already satisfied: backcall in /home/cal/.cache/pypoetry/virtualenvs/mathpad-IMbbmyaw-py3.8/lib/python3.8/site-packages (from ipython>=4.0.0->ipywidgets<9.0.0,>=7.0.0->k3d<3.0.0,>=2.15.2->mathpad) (0.2.0)\n",
      "Requirement already satisfied: pexpect>4.3 in /home/cal/.cache/pypoetry/virtualenvs/mathpad-IMbbmyaw-py3.8/lib/python3.8/site-packages (from ipython>=4.0.0->ipywidgets<9.0.0,>=7.0.0->k3d<3.0.0,>=2.15.2->mathpad) (4.8.0)\n",
      "Requirement already satisfied: prompt-toolkit!=3.0.0,!=3.0.1,<3.1.0,>=2.0.0 in /home/cal/.cache/pypoetry/virtualenvs/mathpad-IMbbmyaw-py3.8/lib/python3.8/site-packages (from ipython>=4.0.0->ipywidgets<9.0.0,>=7.0.0->k3d<3.0.0,>=2.15.2->mathpad) (3.0.31)\n",
      "Requirement already satisfied: jedi>=0.16 in /home/cal/.cache/pypoetry/virtualenvs/mathpad-IMbbmyaw-py3.8/lib/python3.8/site-packages (from ipython>=4.0.0->ipywidgets<9.0.0,>=7.0.0->k3d<3.0.0,>=2.15.2->mathpad) (0.18.1)\n",
      "Requirement already satisfied: pickleshare in /home/cal/.cache/pypoetry/virtualenvs/mathpad-IMbbmyaw-py3.8/lib/python3.8/site-packages (from ipython>=4.0.0->ipywidgets<9.0.0,>=7.0.0->k3d<3.0.0,>=2.15.2->mathpad) (0.7.5)\n",
      "Requirement already satisfied: setuptools>=18.5 in /home/cal/.cache/pypoetry/virtualenvs/mathpad-IMbbmyaw-py3.8/lib/python3.8/site-packages (from ipython>=4.0.0->ipywidgets<9.0.0,>=7.0.0->k3d<3.0.0,>=2.15.2->mathpad) (65.4.1)\n",
      "Requirement already satisfied: pygments in /home/cal/.cache/pypoetry/virtualenvs/mathpad-IMbbmyaw-py3.8/lib/python3.8/site-packages (from ipython>=4.0.0->ipywidgets<9.0.0,>=7.0.0->k3d<3.0.0,>=2.15.2->mathpad) (2.13.0)\n",
      "Requirement already satisfied: notebook>=4.4.1 in /home/cal/.cache/pypoetry/virtualenvs/mathpad-IMbbmyaw-py3.8/lib/python3.8/site-packages (from widgetsnbextension~=3.6.0->ipywidgets<9.0.0,>=7.0.0->k3d<3.0.0,>=2.15.2->mathpad) (6.4.12)\n",
      "Requirement already satisfied: parso<0.9.0,>=0.8.0 in /home/cal/.cache/pypoetry/virtualenvs/mathpad-IMbbmyaw-py3.8/lib/python3.8/site-packages (from jedi>=0.16->ipython>=4.0.0->ipywidgets<9.0.0,>=7.0.0->k3d<3.0.0,>=2.15.2->mathpad) (0.8.3)\n",
      "Requirement already satisfied: python-dateutil>=2.8.2 in /home/cal/.cache/pypoetry/virtualenvs/mathpad-IMbbmyaw-py3.8/lib/python3.8/site-packages (from jupyter-client>=6.1.12->ipykernel>=4.5.1->ipywidgets<9.0.0,>=7.0.0->k3d<3.0.0,>=2.15.2->mathpad) (2.8.2)\n",
      "Requirement already satisfied: jupyter-core>=4.9.2 in /home/cal/.cache/pypoetry/virtualenvs/mathpad-IMbbmyaw-py3.8/lib/python3.8/site-packages (from jupyter-client>=6.1.12->ipykernel>=4.5.1->ipywidgets<9.0.0,>=7.0.0->k3d<3.0.0,>=2.15.2->mathpad) (4.11.1)\n",
      "Requirement already satisfied: entrypoints in /home/cal/.cache/pypoetry/virtualenvs/mathpad-IMbbmyaw-py3.8/lib/python3.8/site-packages (from jupyter-client>=6.1.12->ipykernel>=4.5.1->ipywidgets<9.0.0,>=7.0.0->k3d<3.0.0,>=2.15.2->mathpad) (0.4)\n",
      "Requirement already satisfied: terminado>=0.8.3 in /home/cal/.cache/pypoetry/virtualenvs/mathpad-IMbbmyaw-py3.8/lib/python3.8/site-packages (from notebook>=4.4.1->widgetsnbextension~=3.6.0->ipywidgets<9.0.0,>=7.0.0->k3d<3.0.0,>=2.15.2->mathpad) (0.16.0)\n",
      "Requirement already satisfied: nbformat in /home/cal/.cache/pypoetry/virtualenvs/mathpad-IMbbmyaw-py3.8/lib/python3.8/site-packages (from notebook>=4.4.1->widgetsnbextension~=3.6.0->ipywidgets<9.0.0,>=7.0.0->k3d<3.0.0,>=2.15.2->mathpad) (5.6.1)\n",
      "Requirement already satisfied: Send2Trash>=1.8.0 in /home/cal/.cache/pypoetry/virtualenvs/mathpad-IMbbmyaw-py3.8/lib/python3.8/site-packages (from notebook>=4.4.1->widgetsnbextension~=3.6.0->ipywidgets<9.0.0,>=7.0.0->k3d<3.0.0,>=2.15.2->mathpad) (1.8.0)\n",
      "Requirement already satisfied: argon2-cffi in /home/cal/.cache/pypoetry/virtualenvs/mathpad-IMbbmyaw-py3.8/lib/python3.8/site-packages (from notebook>=4.4.1->widgetsnbextension~=3.6.0->ipywidgets<9.0.0,>=7.0.0->k3d<3.0.0,>=2.15.2->mathpad) (21.3.0)\n",
      "Requirement already satisfied: prometheus-client in /home/cal/.cache/pypoetry/virtualenvs/mathpad-IMbbmyaw-py3.8/lib/python3.8/site-packages (from notebook>=4.4.1->widgetsnbextension~=3.6.0->ipywidgets<9.0.0,>=7.0.0->k3d<3.0.0,>=2.15.2->mathpad) (0.14.1)\n",
      "Requirement already satisfied: jinja2 in /home/cal/.cache/pypoetry/virtualenvs/mathpad-IMbbmyaw-py3.8/lib/python3.8/site-packages (from notebook>=4.4.1->widgetsnbextension~=3.6.0->ipywidgets<9.0.0,>=7.0.0->k3d<3.0.0,>=2.15.2->mathpad) (3.1.2)\n",
      "Requirement already satisfied: nbconvert>=5 in /home/cal/.cache/pypoetry/virtualenvs/mathpad-IMbbmyaw-py3.8/lib/python3.8/site-packages (from notebook>=4.4.1->widgetsnbextension~=3.6.0->ipywidgets<9.0.0,>=7.0.0->k3d<3.0.0,>=2.15.2->mathpad) (7.1.0)\n",
      "Requirement already satisfied: ptyprocess>=0.5 in /home/cal/.cache/pypoetry/virtualenvs/mathpad-IMbbmyaw-py3.8/lib/python3.8/site-packages (from pexpect>4.3->ipython>=4.0.0->ipywidgets<9.0.0,>=7.0.0->k3d<3.0.0,>=2.15.2->mathpad) (0.7.0)\n",
      "Requirement already satisfied: wcwidth in /home/cal/.cache/pypoetry/virtualenvs/mathpad-IMbbmyaw-py3.8/lib/python3.8/site-packages (from prompt-toolkit!=3.0.0,!=3.0.1,<3.1.0,>=2.0.0->ipython>=4.0.0->ipywidgets<9.0.0,>=7.0.0->k3d<3.0.0,>=2.15.2->mathpad) (0.2.5)\n",
      "Requirement already satisfied: pyparsing!=3.0.5,>=2.0.2 in /home/cal/.cache/pypoetry/virtualenvs/mathpad-IMbbmyaw-py3.8/lib/python3.8/site-packages (from packaging->ipykernel>=4.5.1->ipywidgets<9.0.0,>=7.0.0->k3d<3.0.0,>=2.15.2->mathpad) (3.0.9)\n",
      "Requirement already satisfied: beautifulsoup4 in /home/cal/.cache/pypoetry/virtualenvs/mathpad-IMbbmyaw-py3.8/lib/python3.8/site-packages (from nbconvert>=5->notebook>=4.4.1->widgetsnbextension~=3.6.0->ipywidgets<9.0.0,>=7.0.0->k3d<3.0.0,>=2.15.2->mathpad) (4.11.1)\n",
      "Requirement already satisfied: nbclient>=0.5.0 in /home/cal/.cache/pypoetry/virtualenvs/mathpad-IMbbmyaw-py3.8/lib/python3.8/site-packages (from nbconvert>=5->notebook>=4.4.1->widgetsnbextension~=3.6.0->ipywidgets<9.0.0,>=7.0.0->k3d<3.0.0,>=2.15.2->mathpad) (0.6.8)\n",
      "Requirement already satisfied: importlib-metadata>=3.6 in /home/cal/.cache/pypoetry/virtualenvs/mathpad-IMbbmyaw-py3.8/lib/python3.8/site-packages (from nbconvert>=5->notebook>=4.4.1->widgetsnbextension~=3.6.0->ipywidgets<9.0.0,>=7.0.0->k3d<3.0.0,>=2.15.2->mathpad) (5.0.0)\n",
      "Requirement already satisfied: tinycss2 in /home/cal/.cache/pypoetry/virtualenvs/mathpad-IMbbmyaw-py3.8/lib/python3.8/site-packages (from nbconvert>=5->notebook>=4.4.1->widgetsnbextension~=3.6.0->ipywidgets<9.0.0,>=7.0.0->k3d<3.0.0,>=2.15.2->mathpad) (1.1.1)\n",
      "Requirement already satisfied: mistune<3,>=2.0.3 in /home/cal/.cache/pypoetry/virtualenvs/mathpad-IMbbmyaw-py3.8/lib/python3.8/site-packages (from nbconvert>=5->notebook>=4.4.1->widgetsnbextension~=3.6.0->ipywidgets<9.0.0,>=7.0.0->k3d<3.0.0,>=2.15.2->mathpad) (2.0.4)\n",
      "Requirement already satisfied: pandocfilters>=1.4.1 in /home/cal/.cache/pypoetry/virtualenvs/mathpad-IMbbmyaw-py3.8/lib/python3.8/site-packages (from nbconvert>=5->notebook>=4.4.1->widgetsnbextension~=3.6.0->ipywidgets<9.0.0,>=7.0.0->k3d<3.0.0,>=2.15.2->mathpad) (1.5.0)\n",
      "Requirement already satisfied: jupyterlab-pygments in /home/cal/.cache/pypoetry/virtualenvs/mathpad-IMbbmyaw-py3.8/lib/python3.8/site-packages (from nbconvert>=5->notebook>=4.4.1->widgetsnbextension~=3.6.0->ipywidgets<9.0.0,>=7.0.0->k3d<3.0.0,>=2.15.2->mathpad) (0.2.2)\n",
      "Requirement already satisfied: markupsafe>=2.0 in /home/cal/.cache/pypoetry/virtualenvs/mathpad-IMbbmyaw-py3.8/lib/python3.8/site-packages (from nbconvert>=5->notebook>=4.4.1->widgetsnbextension~=3.6.0->ipywidgets<9.0.0,>=7.0.0->k3d<3.0.0,>=2.15.2->mathpad) (2.1.1)\n",
      "Requirement already satisfied: defusedxml in /home/cal/.cache/pypoetry/virtualenvs/mathpad-IMbbmyaw-py3.8/lib/python3.8/site-packages (from nbconvert>=5->notebook>=4.4.1->widgetsnbextension~=3.6.0->ipywidgets<9.0.0,>=7.0.0->k3d<3.0.0,>=2.15.2->mathpad) (0.7.1)\n",
      "Requirement already satisfied: bleach in /home/cal/.cache/pypoetry/virtualenvs/mathpad-IMbbmyaw-py3.8/lib/python3.8/site-packages (from nbconvert>=5->notebook>=4.4.1->widgetsnbextension~=3.6.0->ipywidgets<9.0.0,>=7.0.0->k3d<3.0.0,>=2.15.2->mathpad) (5.0.1)\n",
      "Requirement already satisfied: jsonschema>=2.6 in /home/cal/.cache/pypoetry/virtualenvs/mathpad-IMbbmyaw-py3.8/lib/python3.8/site-packages (from nbformat->notebook>=4.4.1->widgetsnbextension~=3.6.0->ipywidgets<9.0.0,>=7.0.0->k3d<3.0.0,>=2.15.2->mathpad) (4.16.0)\n",
      "Requirement already satisfied: fastjsonschema in /home/cal/.cache/pypoetry/virtualenvs/mathpad-IMbbmyaw-py3.8/lib/python3.8/site-packages (from nbformat->notebook>=4.4.1->widgetsnbextension~=3.6.0->ipywidgets<9.0.0,>=7.0.0->k3d<3.0.0,>=2.15.2->mathpad) (2.16.2)\n",
      "Requirement already satisfied: six>=1.5 in /home/cal/.cache/pypoetry/virtualenvs/mathpad-IMbbmyaw-py3.8/lib/python3.8/site-packages (from python-dateutil>=2.8.2->jupyter-client>=6.1.12->ipykernel>=4.5.1->ipywidgets<9.0.0,>=7.0.0->k3d<3.0.0,>=2.15.2->mathpad) (1.16.0)\n",
      "Requirement already satisfied: argon2-cffi-bindings in /home/cal/.cache/pypoetry/virtualenvs/mathpad-IMbbmyaw-py3.8/lib/python3.8/site-packages (from argon2-cffi->notebook>=4.4.1->widgetsnbextension~=3.6.0->ipywidgets<9.0.0,>=7.0.0->k3d<3.0.0,>=2.15.2->mathpad) (21.2.0)\n",
      "Requirement already satisfied: zipp>=0.5 in /home/cal/.cache/pypoetry/virtualenvs/mathpad-IMbbmyaw-py3.8/lib/python3.8/site-packages (from importlib-metadata>=3.6->nbconvert>=5->notebook>=4.4.1->widgetsnbextension~=3.6.0->ipywidgets<9.0.0,>=7.0.0->k3d<3.0.0,>=2.15.2->mathpad) (3.8.1)\n",
      "Requirement already satisfied: pyrsistent!=0.17.0,!=0.17.1,!=0.17.2,>=0.14.0 in /home/cal/.cache/pypoetry/virtualenvs/mathpad-IMbbmyaw-py3.8/lib/python3.8/site-packages (from jsonschema>=2.6->nbformat->notebook>=4.4.1->widgetsnbextension~=3.6.0->ipywidgets<9.0.0,>=7.0.0->k3d<3.0.0,>=2.15.2->mathpad) (0.18.1)\n",
      "Requirement already satisfied: importlib-resources>=1.4.0 in /home/cal/.cache/pypoetry/virtualenvs/mathpad-IMbbmyaw-py3.8/lib/python3.8/site-packages (from jsonschema>=2.6->nbformat->notebook>=4.4.1->widgetsnbextension~=3.6.0->ipywidgets<9.0.0,>=7.0.0->k3d<3.0.0,>=2.15.2->mathpad) (5.9.0)\n",
      "Requirement already satisfied: attrs>=17.4.0 in /home/cal/.cache/pypoetry/virtualenvs/mathpad-IMbbmyaw-py3.8/lib/python3.8/site-packages (from jsonschema>=2.6->nbformat->notebook>=4.4.1->widgetsnbextension~=3.6.0->ipywidgets<9.0.0,>=7.0.0->k3d<3.0.0,>=2.15.2->mathpad) (22.1.0)\n",
      "Requirement already satisfied: pkgutil-resolve-name>=1.3.10 in /home/cal/.cache/pypoetry/virtualenvs/mathpad-IMbbmyaw-py3.8/lib/python3.8/site-packages (from jsonschema>=2.6->nbformat->notebook>=4.4.1->widgetsnbextension~=3.6.0->ipywidgets<9.0.0,>=7.0.0->k3d<3.0.0,>=2.15.2->mathpad) (1.3.10)\n",
      "Requirement already satisfied: cffi>=1.0.1 in /home/cal/.cache/pypoetry/virtualenvs/mathpad-IMbbmyaw-py3.8/lib/python3.8/site-packages (from argon2-cffi-bindings->argon2-cffi->notebook>=4.4.1->widgetsnbextension~=3.6.0->ipywidgets<9.0.0,>=7.0.0->k3d<3.0.0,>=2.15.2->mathpad) (1.15.1)\n",
      "Requirement already satisfied: soupsieve>1.2 in /home/cal/.cache/pypoetry/virtualenvs/mathpad-IMbbmyaw-py3.8/lib/python3.8/site-packages (from beautifulsoup4->nbconvert>=5->notebook>=4.4.1->widgetsnbextension~=3.6.0->ipywidgets<9.0.0,>=7.0.0->k3d<3.0.0,>=2.15.2->mathpad) (2.3.2.post1)\n",
      "Requirement already satisfied: webencodings in /home/cal/.cache/pypoetry/virtualenvs/mathpad-IMbbmyaw-py3.8/lib/python3.8/site-packages (from bleach->nbconvert>=5->notebook>=4.4.1->widgetsnbextension~=3.6.0->ipywidgets<9.0.0,>=7.0.0->k3d<3.0.0,>=2.15.2->mathpad) (0.5.1)\n",
      "Requirement already satisfied: pycparser in /home/cal/.cache/pypoetry/virtualenvs/mathpad-IMbbmyaw-py3.8/lib/python3.8/site-packages (from cffi>=1.0.1->argon2-cffi-bindings->argon2-cffi->notebook>=4.4.1->widgetsnbextension~=3.6.0->ipywidgets<9.0.0,>=7.0.0->k3d<3.0.0,>=2.15.2->mathpad) (2.21)\n",
      "\n",
      "\u001b[1m[\u001b[0m\u001b[34;49mnotice\u001b[0m\u001b[1;39;49m]\u001b[0m\u001b[39;49m A new release of pip available: \u001b[0m\u001b[31;49m22.2.2\u001b[0m\u001b[39;49m -> \u001b[0m\u001b[32;49m23.1.2\u001b[0m\n",
      "\u001b[1m[\u001b[0m\u001b[34;49mnotice\u001b[0m\u001b[1;39;49m]\u001b[0m\u001b[39;49m To update, run: \u001b[0m\u001b[32;49mpip install --upgrade pip\u001b[0m\n"
     ]
    }
   ],
   "source": [
    "!pip install mathpad"
   ]
  },
  {
   "cell_type": "code",
   "execution_count": 3,
   "metadata": {},
   "outputs": [
    {
     "data": {
      "text/latex": [
       "$$ 5 \\hspace{1.25em} \\frac{\\text{m}}{\\text{s}} $$"
      ],
      "text/plain": [
       "5 meters/second"
      ]
     },
     "metadata": {},
     "output_type": "display_data"
    },
    {
     "name": "stdout",
     "output_type": "stream",
     "text": [
      "$$ 5 \\hspace{1.25em} \\frac{\\text{m}}{\\text{s}} $$\n"
     ]
    },
    {
     "data": {
      "text/latex": [
       "$$ mph = 11.1847 \\hspace{1.25em} \\frac{\\text{mile}}{\\text{hour}} $$"
      ],
      "text/plain": [
       "mph = 11.1847 mile/hour"
      ]
     },
     "metadata": {},
     "output_type": "display_data"
    },
    {
     "name": "stdout",
     "output_type": "stream",
     "text": [
      "$$ mph = 11.1847 \\hspace{1.25em} \\frac{\\text{mile}}{\\text{hour}} $$\n"
     ]
    }
   ],
   "source": [
    "v = 5 * m / s\n",
    "show(v)\n",
    "\n",
    "mph = \"mph\" * miles / hour\n",
    "eqn = mph == v.eval()\n",
    "show(eqn)"
   ]
  },
  {
   "attachments": {},
   "cell_type": "markdown",
   "metadata": {},
   "source": [
    "## Units"
   ]
  },
  {
   "cell_type": "code",
   "execution_count": 4,
   "metadata": {},
   "outputs": [
    {
     "data": {
      "text/latex": [
       "$$ 1 \\hspace{1.25em} \\text{m} $$"
      ],
      "text/plain": [
       "1 meters"
      ]
     },
     "metadata": {},
     "output_type": "display_data"
    },
    {
     "name": "stdout",
     "output_type": "stream",
     "text": [
      "$$ 1 \\hspace{1.25em} \\text{m} $$\n"
     ]
    },
    {
     "data": {
      "text/latex": [
       "$$ 1 \\hspace{1.25em} \\frac{\\text{m}}{\\text{s}^{2}} $$"
      ],
      "text/plain": [
       "1 meters/second**2"
      ]
     },
     "metadata": {},
     "output_type": "display_data"
    },
    {
     "name": "stdout",
     "output_type": "stream",
     "text": [
      "$$ 1 \\hspace{1.25em} \\frac{\\text{m}}{\\text{s}^{2}} $$\n"
     ]
    },
    {
     "data": {
      "text/latex": [
       "$$ 30.48 \\hspace{1.25em} \\text{cm} $$"
      ],
      "text/plain": [
       "30.48 centimeters"
      ]
     },
     "metadata": {},
     "output_type": "display_data"
    },
    {
     "name": "stdout",
     "output_type": "stream",
     "text": [
      "$$ 30.48 \\hspace{1.25em} \\text{cm} $$\n"
     ]
    },
    {
     "data": {
      "text/latex": [
       "$$ 1 \\hspace{1.25em} \\text{W} $$"
      ],
      "text/plain": [
       "1 watts"
      ]
     },
     "metadata": {},
     "output_type": "display_data"
    },
    {
     "name": "stdout",
     "output_type": "stream",
     "text": [
      "$$ 1 \\hspace{1.25em} \\text{W} $$\n"
     ]
    }
   ],
   "source": [
    "\n",
    "\n",
    "show(m)\n",
    "show(m / s ** 2)\n",
    "show(feet.in_units(cm))\n",
    "show((V * A).in_units(watt))\n"
   ]
  },
  {
   "attachments": {},
   "cell_type": "markdown",
   "metadata": {},
   "source": [
    "## Values"
   ]
  },
  {
   "cell_type": "code",
   "execution_count": 5,
   "metadata": {},
   "outputs": [
    {
     "data": {
      "text/latex": [
       "$$ 2.5 \\hspace{1.25em} \\frac{\\text{m}}{\\text{s}} $$"
      ],
      "text/plain": [
       "2.5 meters/second"
      ]
     },
     "metadata": {},
     "output_type": "display_data"
    },
    {
     "name": "stdout",
     "output_type": "stream",
     "text": [
      "$$ 2.5 \\hspace{1.25em} \\frac{\\text{m}}{\\text{s}} $$\n"
     ]
    },
    {
     "data": {
      "text/latex": [
       "$$ 5 \\hspace{1.25em} \\text{m} $$"
      ],
      "text/plain": [
       "5 meters"
      ]
     },
     "metadata": {},
     "output_type": "display_data"
    },
    {
     "name": "stdout",
     "output_type": "stream",
     "text": [
      "$$ 5 \\hspace{1.25em} \\text{m} $$\n"
     ]
    }
   ],
   "source": [
    "v = 2.5 * m / s\n",
    "show(v)\n",
    "show(m(5))"
   ]
  },
  {
   "attachments": {},
   "cell_type": "markdown",
   "metadata": {},
   "source": [
    "## Symbols"
   ]
  },
  {
   "cell_type": "code",
   "execution_count": 6,
   "metadata": {},
   "outputs": [
    {
     "data": {
      "text/latex": [
       "$$ t \\hspace{1.25em} \\text{s} $$"
      ],
      "text/plain": [
       "t seconds"
      ]
     },
     "metadata": {},
     "output_type": "display_data"
    },
    {
     "name": "stdout",
     "output_type": "stream",
     "text": [
      "$$ t \\hspace{1.25em} \\text{s} $$\n"
     ]
    },
    {
     "data": {
      "text/latex": [
       "$$ \\hat{y}_1 \\hspace{1.25em} \\text{V} $$"
      ],
      "text/plain": [
       "\\hat{y}_1 volts"
      ]
     },
     "metadata": {},
     "output_type": "display_data"
    },
    {
     "name": "stdout",
     "output_type": "stream",
     "text": [
      "$$ \\hat{y}_1 \\hspace{1.25em} \\text{V} $$\n"
     ]
    }
   ],
   "source": [
    "t = \"t\" * seconds\n",
    "show(t)\n",
    "\n",
    "y = \"\\\\hat{y}_1\" * volts\n",
    "show(y)"
   ]
  },
  {
   "attachments": {},
   "cell_type": "markdown",
   "metadata": {},
   "source": [
    "## Symbolic Functions"
   ]
  },
  {
   "cell_type": "code",
   "execution_count": 7,
   "metadata": {},
   "outputs": [
    {
     "data": {
      "text/latex": [
       "$$ a \\hspace{1.25em} \\frac{\\text{m}}{\\text{s}^{2}} $$"
      ],
      "text/plain": [
       "a(t) meters/second**2"
      ]
     },
     "metadata": {},
     "output_type": "display_data"
    },
    {
     "name": "stdout",
     "output_type": "stream",
     "text": [
      "$$ a \\hspace{1.25em} \\frac{\\text{m}}{\\text{s}^{2}} $$\n"
     ]
    }
   ],
   "source": [
    "a = \"a(t)\" * m / s ** 2\n",
    "show(a)"
   ]
  },
  {
   "attachments": {},
   "cell_type": "markdown",
   "metadata": {},
   "source": [
    "## Equations"
   ]
  },
  {
   "cell_type": "code",
   "execution_count": 8,
   "metadata": {},
   "outputs": [
    {
     "data": {
      "text/latex": [
       "$$ 2.5 = t a \\hspace{1.25em} \\frac{\\text{m}}{\\text{s}} $$"
      ],
      "text/plain": [
       "2.5 = t*a(t) meter/second"
      ]
     },
     "metadata": {},
     "output_type": "display_data"
    },
    {
     "name": "stdout",
     "output_type": "stream",
     "text": [
      "$$ 2.5 = t a \\hspace{1.25em} \\frac{\\text{m}}{\\text{s}} $$\n"
     ]
    }
   ],
   "source": [
    "eqn = (v == a * t)\n",
    "show(eqn)"
   ]
  },
  {
   "attachments": {},
   "cell_type": "markdown",
   "metadata": {},
   "source": [
    "## Solving"
   ]
  },
  {
   "cell_type": "code",
   "execution_count": 9,
   "metadata": {},
   "outputs": [
    {
     "data": {
      "text/latex": [
       "$$ \\frac{2.5}{t} \\hspace{1.25em} \\frac{\\text{m}}{\\text{s}^{2}} $$"
      ],
      "text/plain": [
       "2.5/t meters/second**2"
      ]
     },
     "metadata": {},
     "output_type": "display_data"
    },
    {
     "name": "stdout",
     "output_type": "stream",
     "text": [
      "$$ \\frac{2.5}{t} \\hspace{1.25em} \\frac{\\text{m}}{\\text{s}^{2}} $$\n"
     ]
    }
   ],
   "source": [
    "sln, = solve([eqn], solve_for=[a])\n",
    "\n",
    "show(sln[a])"
   ]
  },
  {
   "attachments": {},
   "cell_type": "markdown",
   "metadata": {},
   "source": [
    "## Algebra"
   ]
  },
  {
   "cell_type": "code",
   "execution_count": 10,
   "metadata": {},
   "outputs": [
    {
     "data": {
      "text/latex": [
       "$$ -1 \\hspace{1.25em} dimensionless $$"
      ],
      "text/plain": [
       "-1"
      ]
     },
     "metadata": {},
     "output_type": "display_data"
    },
    {
     "name": "stdout",
     "output_type": "stream",
     "text": [
      "$$ -1 \\hspace{1.25em} dimensionless $$\n"
     ]
    },
    {
     "data": {
      "text/latex": [
       "$$ t^{2} + 3 t + 2 \\hspace{1.25em} \\text{s}^{2} $$"
      ],
      "text/plain": [
       "t**2 + 3*t + 2 seconds**2"
      ]
     },
     "metadata": {},
     "output_type": "display_data"
    },
    {
     "name": "stdout",
     "output_type": "stream",
     "text": [
      "$$ t^{2} + 3 t + 2 \\hspace{1.25em} \\text{s}^{2} $$\n"
     ]
    },
    {
     "data": {
      "text/latex": [
       "$$ \\left(t + 1\\right) \\left(t + 2\\right) \\hspace{1.25em} \\text{s}^{2} $$"
      ],
      "text/plain": [
       "(t + 1.0)*(t + 2.0) seconds**2"
      ]
     },
     "metadata": {},
     "output_type": "display_data"
    },
    {
     "name": "stdout",
     "output_type": "stream",
     "text": [
      "$$ \\left(t + 1\\right) \\left(t + 2\\right) \\hspace{1.25em} \\text{s}^{2} $$\n"
     ]
    },
    {
     "data": {
      "text/latex": [
       "$$ 42 \\hspace{1.25em} \\text{s}^{2} $$"
      ],
      "text/plain": [
       "42 seconds**2"
      ]
     },
     "metadata": {},
     "output_type": "display_data"
    },
    {
     "name": "stdout",
     "output_type": "stream",
     "text": [
      "$$ 42 \\hspace{1.25em} \\text{s}^{2} $$\n"
     ]
    }
   ],
   "source": [
    "show(simplify(e ** (1j * pi)))\n",
    "\n",
    "show(expand((t + 1)(t + 2)))\n",
    "\n",
    "show(factor(t**2 + 3 * t * s + 2))\n",
    "\n",
    "show(subs((t + 1)(t + 2), { t: 5 }))"
   ]
  },
  {
   "attachments": {},
   "cell_type": "markdown",
   "metadata": {},
   "source": [
    "## Calculus"
   ]
  },
  {
   "cell_type": "code",
   "execution_count": 11,
   "metadata": {},
   "outputs": [
    {
     "data": {
      "text/latex": [
       "$$ \\dot{a} \\hspace{1.25em} \\frac{\\text{m}}{\\text{s}^{3}} $$"
      ],
      "text/plain": [
       "Derivative(a(t), t) meters/second**3"
      ]
     },
     "metadata": {},
     "output_type": "display_data"
    },
    {
     "name": "stdout",
     "output_type": "stream",
     "text": [
      "$$ \\dot{a} \\hspace{1.25em} \\frac{\\text{m}}{\\text{s}^{3}} $$\n"
     ]
    },
    {
     "data": {
      "text/latex": [
       "$$ \\int\\limits_{0}^{10} a\\, dt \\hspace{1.25em} \\frac{\\text{m}}{\\text{s}} $$"
      ],
      "text/plain": [
       "Integral(a(t), (t, 0, 10)) meters/second"
      ]
     },
     "metadata": {},
     "output_type": "display_data"
    },
    {
     "name": "stdout",
     "output_type": "stream",
     "text": [
      "$$ \\int\\limits_{0}^{10} a\\, dt \\hspace{1.25em} \\frac{\\text{m}}{\\text{s}} $$\n"
     ]
    }
   ],
   "source": [
    "show(diff(a, wrt=t, order=1))\n",
    "show(integral(a, wrt=t, between=(0, 10)))\n",
    "\n"
   ]
  },
  {
   "attachments": {},
   "cell_type": "markdown",
   "metadata": {},
   "source": []
  },
  {
   "attachments": {},
   "cell_type": "markdown",
   "metadata": {},
   "source": [
    "## Vectors"
   ]
  },
  {
   "cell_type": "code",
   "execution_count": 12,
   "metadata": {},
   "outputs": [
    {
     "data": {
      "text/latex": [
       "$$ \\begin{bmatrix}1 \\\\ 2 \\\\ 3 \\end{bmatrix} \\hspace{1.25em} \\begin{matrix} \\hat{i} \\cdot \\text{m} \\\\ \\hat{j} \\cdot \\text{m} \\\\ \\hat{k} \\cdot \\text{m} \\end{matrix}\\normalsize \\hspace{0.7em} \\small\\text{wrt. O}\\normalsize $$"
      ],
      "text/plain": [
       "[1, 2, 3] wrt. O"
      ]
     },
     "metadata": {},
     "output_type": "display_data"
    },
    {
     "name": "stdout",
     "output_type": "stream",
     "text": [
      "$$ \\begin{bmatrix}1 \\\\ 2 \\\\ 3 \\end{bmatrix} \\hspace{1.25em} \\begin{matrix} \\hat{i} \\cdot \\text{m} \\\\ \\hat{j} \\cdot \\text{m} \\\\ \\hat{k} \\cdot \\text{m} \\end{matrix}\\normalsize \\hspace{0.7em} \\small\\text{wrt. O}\\normalsize $$\n"
     ]
    },
    {
     "data": {
      "text/latex": [
       "$$ \\begin{bmatrix}x \\\\ y \\\\ z \\end{bmatrix} \\hspace{1.25em} \\begin{matrix} \\hat{i} \\cdot \\text{m} \\\\ \\hat{j} \\cdot \\text{m} \\\\ \\hat{k} \\cdot \\text{m} \\end{matrix}\\normalsize \\hspace{0.7em} \\small\\text{wrt. O}\\normalsize $$"
      ],
      "text/plain": [
       "[x, y, z] wrt. O"
      ]
     },
     "metadata": {},
     "output_type": "display_data"
    },
    {
     "name": "stdout",
     "output_type": "stream",
     "text": [
      "$$ \\begin{bmatrix}x \\\\ y \\\\ z \\end{bmatrix} \\hspace{1.25em} \\begin{matrix} \\hat{i} \\cdot \\text{m} \\\\ \\hat{j} \\cdot \\text{m} \\\\ \\hat{k} \\cdot \\text{m} \\end{matrix}\\normalsize \\hspace{0.7em} \\small\\text{wrt. O}\\normalsize $$\n"
     ]
    },
    {
     "data": {
      "text/latex": [
       "$$ \\vec{v_3} \\hspace{1.25em} \\begin{matrix} \\hat{i} \\cdot \\text{m} \\\\ \\hat{j} \\cdot \\text{m} \\\\ \\hat{k} \\cdot \\text{m} \\end{matrix}\\normalsize \\hspace{0.7em} \\small\\text{wrt. O}\\normalsize $$"
      ],
      "text/plain": [
       "\\vec{v_3} wrt. O"
      ]
     },
     "metadata": {},
     "output_type": "display_data"
    },
    {
     "name": "stdout",
     "output_type": "stream",
     "text": [
      "$$ \\vec{v_3} \\hspace{1.25em} \\begin{matrix} \\hat{i} \\cdot \\text{m} \\\\ \\hat{j} \\cdot \\text{m} \\\\ \\hat{k} \\cdot \\text{m} \\end{matrix}\\normalsize \\hspace{0.7em} \\small\\text{wrt. O}\\normalsize $$\n"
     ]
    },
    {
     "data": {
      "text/latex": [
       "$$ \\left[\\begin{matrix}x\\\\y\\\\z\\end{matrix}\\right] \\times \\vec{v_3} \\hspace{1.25em} \\begin{matrix} \\hat{i} \\cdot \\text{m}^{2} \\\\ \\hat{j} \\cdot \\text{m}^{2} \\\\ \\hat{k} \\cdot \\text{m}^{2} \\end{matrix}\\normalsize \\hspace{0.7em} \\small\\text{wrt. O}\\normalsize $$"
      ],
      "text/plain": [
       "Cross(Matrix([\n",
       "\t[x],\n",
       "\t[y],\n",
       "\t[z]]), \\vec{v_3}) wrt. O"
      ]
     },
     "metadata": {},
     "output_type": "display_data"
    },
    {
     "name": "stdout",
     "output_type": "stream",
     "text": [
      "$$ \\left[\\begin{matrix}x\\\\y\\\\z\\end{matrix}\\right] \\times \\vec{v_3} \\hspace{1.25em} \\begin{matrix} \\hat{i} \\cdot \\text{m}^{2} \\\\ \\hat{j} \\cdot \\text{m}^{2} \\\\ \\hat{k} \\cdot \\text{m}^{2} \\end{matrix}\\normalsize \\hspace{0.7em} \\small\\text{wrt. O}\\normalsize $$\n"
     ]
    }
   ],
   "source": [
    "O = R3(\"O\") # 3D reference frame with origin at O\n",
    "\n",
    "v1 = O[1, 2, 3]\n",
    "show(v1)\n",
    "\n",
    "x, y, z = (\"x\", \"y\", \"z\") * m\n",
    "v2 = O[x, y, z]\n",
    "show(v2)\n",
    "\n",
    "v3 = \"v_3\" @ O\n",
    "show(v3)\n",
    "\n",
    "\n",
    "show(v2.cross(v3))"
   ]
  },
  {
   "attachments": {},
   "cell_type": "markdown",
   "metadata": {},
   "source": [
    "## Matrices"
   ]
  },
  {
   "cell_type": "code",
   "execution_count": 13,
   "metadata": {},
   "outputs": [
    {
     "data": {
      "text/latex": [
       "$$ \\left[\\begin{matrix}1 & 2\\\\3 & 4\\\\5 & 6\\end{matrix}\\right] \\hspace{1.25em} \\begin{matrix} \\hat{i} \\cdot \\text{m} \\\\ \\hat{j} \\cdot \\text{m} \\\\ \\hat{k} \\cdot \\text{m} \\end{matrix}\\normalsize \\hspace{0.7em} \\small\\text{wrt. O}\\normalsize \\hspace{0.75em} ⟷ \\hspace{0.75em} \\begin{matrix} \\hat{i} \\cdot \\text{m} \\\\ \\hat{j} \\cdot \\text{m} \\end{matrix}\\normalsize \\hspace{0.7em} \\small\\text{wrt. O2}\\normalsize $$"
      ],
      "text/plain": [
       "<mathpad.matrix.Matrix at 0x7f7ea0967220>"
      ]
     },
     "metadata": {},
     "output_type": "display_data"
    },
    {
     "name": "stdout",
     "output_type": "stream",
     "text": [
      "$$ \\left[\\begin{matrix}1 & 2\\\\3 & 4\\\\5 & 6\\end{matrix}\\right] \\hspace{1.25em} \\begin{matrix} \\hat{i} \\cdot \\text{m} \\\\ \\hat{j} \\cdot \\text{m} \\\\ \\hat{k} \\cdot \\text{m} \\end{matrix}\\normalsize \\hspace{0.7em} \\small\\text{wrt. O}\\normalsize \\hspace{0.75em} ⟷ \\hspace{0.75em} \\begin{matrix} \\hat{i} \\cdot \\text{m} \\\\ \\hat{j} \\cdot \\text{m} \\end{matrix}\\normalsize \\hspace{0.7em} \\small\\text{wrt. O2}\\normalsize $$\n"
     ]
    },
    {
     "data": {
      "text/latex": [
       "$$ \\begin{bmatrix}x + 3 y + 5 z \\\\ 2 x + 4 y + 6 z \\end{bmatrix} \\hspace{1.25em} \\begin{matrix} \\hat{i} \\cdot \\text{m} \\\\ \\hat{j} \\cdot \\text{m} \\end{matrix}\\normalsize \\hspace{0.7em} \\small\\text{wrt. O2}\\normalsize $$"
      ],
      "text/plain": [
       "[x + 3*y + 5*z, 2*x + 4*y + 6*z] wrt. O2"
      ]
     },
     "metadata": {},
     "output_type": "display_data"
    },
    {
     "name": "stdout",
     "output_type": "stream",
     "text": [
      "$$ \\begin{bmatrix}x + 3 y + 5 z \\\\ 2 x + 4 y + 6 z \\end{bmatrix} \\hspace{1.25em} \\begin{matrix} \\hat{i} \\cdot \\text{m} \\\\ \\hat{j} \\cdot \\text{m} \\end{matrix}\\normalsize \\hspace{0.7em} \\small\\text{wrt. O2}\\normalsize $$\n"
     ]
    },
    {
     "data": {
      "text/latex": [
       "$$ \\mathbf{B} \\hspace{1.25em} \\begin{matrix} \\hat{i} \\cdot \\text{m} \\\\ \\hat{j} \\cdot \\text{m} \\end{matrix}\\normalsize \\hspace{0.7em} \\small\\text{wrt. O2}\\normalsize \\hspace{0.75em} ⟷ \\hspace{0.75em} \\begin{matrix} \\hat{i} \\cdot \\text{m} \\\\ \\hat{j} \\cdot \\text{m} \\\\ \\hat{k} \\cdot \\text{m} \\end{matrix}\\normalsize \\hspace{0.7em} \\small\\text{wrt. O}\\normalsize $$"
      ],
      "text/plain": [
       "<mathpad.matrix.Matrix at 0x7f7ea0a79d90>"
      ]
     },
     "metadata": {},
     "output_type": "display_data"
    },
    {
     "name": "stdout",
     "output_type": "stream",
     "text": [
      "$$ \\mathbf{B} \\hspace{1.25em} \\begin{matrix} \\hat{i} \\cdot \\text{m} \\\\ \\hat{j} \\cdot \\text{m} \\end{matrix}\\normalsize \\hspace{0.7em} \\small\\text{wrt. O2}\\normalsize \\hspace{0.75em} ⟷ \\hspace{0.75em} \\begin{matrix} \\hat{i} \\cdot \\text{m} \\\\ \\hat{j} \\cdot \\text{m} \\\\ \\hat{k} \\cdot \\text{m} \\end{matrix}\\normalsize \\hspace{0.7em} \\small\\text{wrt. O}\\normalsize $$\n"
     ]
    },
    {
     "data": {
      "text/latex": [
       "$$ \\left[\\begin{matrix}1 & 0\\\\0 & 1\\end{matrix}\\right] \\hspace{1.25em} \\begin{matrix} \\hat{i} \\cdot \\text{m} \\\\ \\hat{j} \\cdot \\text{m} \\end{matrix}\\normalsize \\hspace{0.7em} \\small\\text{wrt. O2}\\normalsize \\hspace{0.75em} ⟷ \\hspace{0.75em} \\begin{matrix} \\hat{i} \\cdot \\text{m} \\\\ \\hat{j} \\cdot \\text{m} \\end{matrix}\\normalsize \\hspace{0.7em} \\small\\text{wrt. O2}\\normalsize $$"
      ],
      "text/plain": [
       "<mathpad.matrix.Matrix at 0x7f7ea08f7190>"
      ]
     },
     "metadata": {},
     "output_type": "display_data"
    },
    {
     "name": "stdout",
     "output_type": "stream",
     "text": [
      "$$ \\left[\\begin{matrix}1 & 0\\\\0 & 1\\end{matrix}\\right] \\hspace{1.25em} \\begin{matrix} \\hat{i} \\cdot \\text{m} \\\\ \\hat{j} \\cdot \\text{m} \\end{matrix}\\normalsize \\hspace{0.7em} \\small\\text{wrt. O2}\\normalsize \\hspace{0.75em} ⟷ \\hspace{0.75em} \\begin{matrix} \\hat{i} \\cdot \\text{m} \\\\ \\hat{j} \\cdot \\text{m} \\end{matrix}\\normalsize \\hspace{0.7em} \\small\\text{wrt. O2}\\normalsize $$\n"
     ]
    }
   ],
   "source": [
    "O2 = R2(\"O2\")\n",
    " \n",
    "A = Mat[O, O2](\n",
    "    [1, 2],\n",
    "    [3, 4],\n",
    "    [5, 6]\n",
    ")\n",
    "show(A)\n",
    "\n",
    "v2_wrt_O2 = v2 @ A\n",
    "show(v2_wrt_O2)\n",
    "\n",
    "B = Mat[O2, O](\"B\")\n",
    "show(B)\n",
    "\n",
    "I = Mat[O2, O2].I\n",
    "show(I)"
   ]
  },
  {
   "attachments": {},
   "cell_type": "markdown",
   "metadata": {},
   "source": [
    "## Numpy Compatibility"
   ]
  },
  {
   "cell_type": "code",
   "execution_count": 14,
   "metadata": {},
   "outputs": [
    {
     "data": {
      "text/plain": [
       "array([0.84147098, 0.90929743, 0.14112001])"
      ]
     },
     "metadata": {},
     "output_type": "display_data"
    },
    {
     "data": {
      "text/plain": [
       "array([0.        , 0.25881905, 0.5       , 0.70710678, 0.8660254 ,\n",
       "       0.96592583, 1.        , 0.96592583, 0.8660254 , 0.70710678,\n",
       "       0.5       , 0.25881905])"
      ]
     },
     "execution_count": 14,
     "metadata": {},
     "output_type": "execute_result"
    }
   ],
   "source": [
    "y = sin(t)\n",
    "\n",
    "y_fn = as_numpy_func(y)\n",
    "\n",
    "basic = y_fn({ t: [1, 2, 3] })\n",
    "display(basic)\n",
    "\n",
    "import numpy as np\n",
    "y_fn({ t: np.arange(start=0, stop=np.pi, step=np.pi / 12) })"
   ]
  },
  {
   "attachments": {},
   "cell_type": "markdown",
   "metadata": {},
   "source": [
    "## Simulation"
   ]
  },
  {
   "cell_type": "code",
   "execution_count": null,
   "metadata": {},
   "outputs": [],
   "source": []
  },
  {
   "attachments": {},
   "cell_type": "markdown",
   "metadata": {},
   "source": [
    "## Code Generation"
   ]
  },
  {
   "cell_type": "code",
   "execution_count": null,
   "metadata": {},
   "outputs": [],
   "source": []
  }
 ],
 "metadata": {
  "kernelspec": {
   "display_name": "mathpad-IMbbmyaw-py3.8",
   "language": "python",
   "name": "python3"
  },
  "language_info": {
   "codemirror_mode": {
    "name": "ipython",
    "version": 3
   },
   "file_extension": ".py",
   "mimetype": "text/x-python",
   "name": "python",
   "nbconvert_exporter": "python",
   "pygments_lexer": "ipython3",
   "version": "3.8.10"
  },
  "orig_nbformat": 4
 },
 "nbformat": 4,
 "nbformat_minor": 2
}
