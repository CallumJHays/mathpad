{
  "cells": [
    {
      "cell_type": "code",
      "execution_count": 1,
      "metadata": {
        "trusted": true
      },
      "outputs": [],
      "source": [
        "try:\n",
        "    # install for jupyterlite if needed\n",
        "    import piplite\n",
        "    print('installing piplite packages... This may take up to ~5 minutes. If still running, please try refreshing the page.')\n",
        "    await piplite.install(['mathpad', 'nbformat>=5.6', 'ipywidgets>=7,<8'])\n",
        "    print('piplite packages installed and ready to go!')\n",
        "    in_jupyterlite = True\n",
        "\n",
        "except (ImportError, SyntaxError):\n",
        "    # not running in jupyterlite\n",
        "    in_jupyterlite = False\n"
      ]
    },
    {
      "cell_type": "markdown",
      "metadata": {},
      "source": [
        "![Cart Spring Problem Question and Diagram](imgs/cart_spring_cargo/question.png)"
      ]
    },
    {
      "cell_type": "markdown",
      "metadata": {},
      "source": [
        "Let $x_1$, $x_2$ and $x_3$ be the distance in the x direction from equilibrium position for bodies $m_1$, $m_2$ and $m_3$ respectively"
      ]
    },
    {
      "cell_type": "code",
      "execution_count": 2,
      "metadata": {
        "trusted": true
      },
      "outputs": [],
      "source": [
        "# Variable definitions\n",
        "from mathpad import *\n",
        "\n",
        "x1 = \"x1(t)\" * m\n",
        "v1 = diff(x1)\n",
        "m1 = \"m1\" * kg\n",
        "\n",
        "x2 = \"x2(t)\" * m\n",
        "v2 = diff(x2)\n",
        "m2 = \"m2\" * kg\n",
        "\n",
        "x3 = \"x3(t)\" * m\n",
        "v3 = diff(x3)\n",
        "m3 = \"m3\" * kg\n",
        "\n",
        "c = \"c\" * N * s / m\n",
        "F = \"F(t)\" * N\n",
        "\n",
        "k1 = \"k1\" * N / m\n",
        "k2 = \"k2\" * N / m"
      ]
    },
    {
      "cell_type": "markdown",
      "metadata": {},
      "source": [
        "# Part A\n",
        "\n",
        "Derive the equations of motion for this system using the direct (i.e. Newton-Euler) approach.<br />Be sure to draw any necessary Free Body Diagrams.\n",
        "\n",
        "## FBD @ m1\n",
        "![Free Body Diagram 1](imgs/cart_spring_cargo/FBD_1.png)\n",
        "\n",
        "Assume $N = -mg$"
      ]
    },
    {
      "cell_type": "code",
      "execution_count": 3,
      "metadata": {
        "trusted": true
      },
      "outputs": [
        {
          "name": "stdout",
          "output_type": "stream",
          "text": [
            "Sum of Forces on body m2 in the i direction:\n"
          ]
        },
        {
          "data": {
            "text/latex": [
              "$$ - c \\left(\\dot{x}_{1} - \\dot{x}_{2}\\right) - c \\left(\\dot{x}_{1} - \\dot{x}_{3}\\right) - k_{1} \\left(x_{1} - x_{2}\\right) + F \\hspace{1.25em} \\text{N} $$"
            ],
            "text/plain": [
              "-c*(Derivative(x1(t), t) - Derivative(x2(t), t)) - c*(Derivative(x1(t), t) - Derivative(x3(t), t)) - k(x1(t) - x2(t)) + F(t) newtons"
            ]
          },
          "execution_count": 3,
          "metadata": {},
          "output_type": "execute_result"
        }
      ],
      "source": [
        "print(\"Sum of Forces on body m2 in the i direction:\")\n",
        "m1_sum_forces_i = F + k1 * (x2 - x1) + c * (v2 - v1) + c * (v3 - v1)\n",
        "m1_sum_forces_i"
      ]
    },
    {
      "cell_type": "markdown",
      "metadata": {},
      "source": [
        "\n",
        "\n",
        "## FBD @ m2\n",
        "![Free Body Diagram 2](imgs/cart_spring_cargo/FBD_2.png)\n",
        "\n",
        "Assume $N = -mg$"
      ]
    },
    {
      "cell_type": "code",
      "execution_count": 4,
      "metadata": {
        "trusted": true
      },
      "outputs": [
        {
          "name": "stdout",
          "output_type": "stream",
          "text": [
            "Sum of Forces on body m1 in the i direction:\n"
          ]
        },
        {
          "data": {
            "text/latex": [
              "$$ c \\left(\\dot{x}_{1} - \\dot{x}_{2}\\right) + k_{1} \\left(x_{1} - x_{2}\\right) - k_{2} \\left(x_{2} - x_{3}\\right) \\hspace{1.25em} \\text{N} $$"
            ],
            "text/plain": [
              "c*(Derivative(x1(t), t) - Derivative(x2(t), t)) + k(x1(t) - x2(t)) - k2*(x2(t) - x3(t)) newtons"
            ]
          },
          "execution_count": 4,
          "metadata": {},
          "output_type": "execute_result"
        }
      ],
      "source": [
        "print(\"Sum of Forces on body m1 in the i direction:\")\n",
        "m2_sum_forces_i = k2 * (x3 - x2) - c * (v2 - v1) - k1 * (x2 - x1)\n",
        "m2_sum_forces_i"
      ]
    },
    {
      "cell_type": "markdown",
      "metadata": {},
      "source": [
        "\n",
        "\n",
        "## FBD @ m3\n",
        "![Free Body Diagram 3](imgs/cart_spring_cargo/FBD_3.png)\n",
        "\n",
        "Assume $N = -mg$"
      ]
    },
    {
      "cell_type": "code",
      "execution_count": 5,
      "metadata": {
        "trusted": true
      },
      "outputs": [
        {
          "name": "stdout",
          "output_type": "stream",
          "text": [
            "Sum of Forces on body m3 in the i direction:\n"
          ]
        },
        {
          "data": {
            "text/latex": [
              "$$ c \\left(\\dot{x}_{1} - \\dot{x}_{3}\\right) + k_{2} \\left(x_{2} - x_{3}\\right) \\hspace{1.25em} \\text{N} $$"
            ],
            "text/plain": [
              "c*(Derivative(x1(t), t) - Derivative(x3(t), t)) + k2*(x2(t) - x3(t)) newtons"
            ]
          },
          "execution_count": 5,
          "metadata": {},
          "output_type": "execute_result"
        }
      ],
      "source": [
        "print(\"Sum of Forces on body m3 in the i direction:\")\n",
        "m3_sum_forces_i = - c * (v3 - v1) - k2 * (x3 - x2)\n",
        "m3_sum_forces_i"
      ]
    },
    {
      "cell_type": "code",
      "execution_count": 6,
      "metadata": {
        "trusted": true
      },
      "outputs": [
        {
          "name": "stdout",
          "output_type": "stream",
          "text": [
            "Dynamics of Body 1\n"
          ]
        },
        {
          "data": {
            "text/latex": [
              "$$ - c \\left(\\dot{x}_{1} - \\dot{x}_{2}\\right) - c \\left(\\dot{x}_{1} - \\dot{x}_{3}\\right) - k_{1} \\left(x_{1} - x_{2}\\right) + F = m_{1} \\ddot{x}_{1} \\hspace{1.25em} \\text{N} $$"
            ],
            "text/plain": [
              "-c*(Derivative(x1(t), t) - Derivative(x2(t), t)) - c*(Derivative(x1(t), t) - Derivative(x3(t), t)) - k(x1(t) - x2(t)) + F(t) = mDerivative(x1(t), (t, 2)) newton"
            ]
          },
          "execution_count": 6,
          "metadata": {},
          "output_type": "execute_result"
        }
      ],
      "source": [
        "print(\"Dynamics of Body 1\")\n",
        "x1_dynamics = m1 * diff(v1) == m1_sum_forces_i\n",
        "x1_dynamics"
      ]
    },
    {
      "cell_type": "code",
      "execution_count": 7,
      "metadata": {
        "trusted": true
      },
      "outputs": [
        {
          "name": "stdout",
          "output_type": "stream",
          "text": [
            "Dynamics of Body 2\n"
          ]
        },
        {
          "data": {
            "text/latex": [
              "$$ m_{2} \\ddot{x}_{2} = c \\left(\\dot{x}_{1} - \\dot{x}_{2}\\right) + k_{1} \\left(x_{1} - x_{2}\\right) - k_{2} \\left(x_{2} - x_{3}\\right) \\hspace{1.25em} \\frac{\\text{kg} \\text{m}}{\\text{s}^{2}} $$"
            ],
            "text/plain": [
              "m2*Derivative(x2(t), (t, 2)) = c*(Derivative(x1(t), t) - Derivative(x2(t), t)) + k(x1(t) - x2(t)) - k2*(x2(t) - x3(t)) kilogram*meter/second**2"
            ]
          },
          "execution_count": 7,
          "metadata": {},
          "output_type": "execute_result"
        }
      ],
      "source": [
        "print(\"Dynamics of Body 2\")\n",
        "x2_dynamics = m2 * diff(v2) == m2_sum_forces_i\n",
        "x2_dynamics"
      ]
    },
    {
      "cell_type": "code",
      "execution_count": 8,
      "metadata": {
        "trusted": true
      },
      "outputs": [
        {
          "name": "stdout",
          "output_type": "stream",
          "text": [
            "Dynamics of Body 3\n"
          ]
        },
        {
          "data": {
            "text/latex": [
              "$$ m_{3} \\ddot{x}_{3} = c \\left(\\dot{x}_{1} - \\dot{x}_{3}\\right) + k_{2} \\left(x_{2} - x_{3}\\right) \\hspace{1.25em} \\frac{\\text{kg} \\text{m}}{\\text{s}^{2}} $$"
            ],
            "text/plain": [
              "m3*Derivative(x3(t), (t, 2)) = c*(Derivative(x1(t), t) - Derivative(x3(t), t)) + k2*(x2(t) - x3(t)) kilogram*meter/second**2"
            ]
          },
          "execution_count": 8,
          "metadata": {},
          "output_type": "execute_result"
        }
      ],
      "source": [
        "print(\"Dynamics of Body 3\")\n",
        "x3_dynamics = m3 * diff(v3) == m3_sum_forces_i\n",
        "x3_dynamics"
      ]
    },
    {
      "cell_type": "code",
      "execution_count": 9,
      "metadata": {
        "trusted": true
      },
      "outputs": [],
      "source": [
        "system_dynamics = [x1_dynamics, x2_dynamics, x3_dynamics]"
      ]
    },
    {
      "cell_type": "markdown",
      "metadata": {},
      "source": [
        "## Simulation Results"
      ]
    },
    {
      "cell_type": "code",
      "execution_count": 10,
      "metadata": {},
      "outputs": [],
      "source": [
        "simulation_substitutions = {\n",
        "    k1: 1,\n",
        "    k2: 1,\n",
        "    m1: 1,\n",
        "    m2: 1,\n",
        "    m3: 1,\n",
        "    c: 0.5,\n",
        "    # A small perturbation\n",
        "    F: piecewise(t, [(1, 1 * N), (float('inf'), 0 * N)]),\n",
        "}"
      ]
    },
    {
      "cell_type": "code",
      "execution_count": 11,
      "metadata": {},
      "outputs": [],
      "source": [
        "simulation_initial_conditions = {\n",
        "    x1: 0,\n",
        "    v1: 0, \n",
        "    x2: 0,\n",
        "    v2: 0,\n",
        "    x3: 0,\n",
        "    v3: 0\n",
        "}"
      ]
    },
    {
      "cell_type": "code",
      "execution_count": 12,
      "metadata": {
        "trusted": true
      },
      "outputs": [
        {
          "name": "stdout",
          "output_type": "stream",
          "text": [
            "Solving subbed Equations...\n",
            "Solving finished.\n",
            "Simulating from t=0 to t=10 with a max_step of 0.01.\n"
          ]
        },
        {
          "data": {
            "application/vnd.jupyter.widget-view+json": {
              "model_id": "55d50f4c79e74c4b8e4f71d81e22c7b4",
              "version_major": 2,
              "version_minor": 0
            },
            "text/plain": [
              "  0%|          | 0/10 [00:00<?, ?it/s]"
            ]
          },
          "metadata": {},
          "output_type": "display_data"
        },
        {
          "name": "stdout",
          "output_type": "stream",
          "text": [
            "Simulation finished. Plotting...\n"
          ]
        },
        {
          "data": {
            "image/svg+xml": "<svg class=\"main-svg\" xmlns=\"http://www.w3.org/2000/svg\" xmlns:xlink=\"http://www.w3.org/1999/xlink\" width=\"960\" height=\"400\" style=\"\" viewBox=\"0 0 960 400\"><rect x=\"0\" y=\"0\" width=\"960\" height=\"400\" style=\"fill: rgb(255, 255, 255); fill-opacity: 1;\"/><defs id=\"defs-bbb07f\"><g class=\"clips\"><clipPath id=\"clipbbb07fxyplot\" class=\"plotclip\"><rect width=\"632\" height=\"220\"/></clipPath><clipPath class=\"axesclip\" id=\"clipbbb07fx\"><rect x=\"80\" y=\"0\" width=\"632\" height=\"400\"/></clipPath><clipPath class=\"axesclip\" id=\"clipbbb07fy\"><rect x=\"0\" y=\"100\" width=\"960\" height=\"220\"/></clipPath><clipPath class=\"axesclip\" id=\"clipbbb07fxy\"><rect x=\"80\" y=\"100\" width=\"632\" height=\"220\"/></clipPath></g><g class=\"gradients\"/><g class=\"patterns\"/></defs><g class=\"bglayer\"><rect class=\"bg\" x=\"80\" y=\"100\" width=\"632\" height=\"220\" style=\"fill: rgb(229, 236, 246); fill-opacity: 1; stroke-width: 0;\"/></g><g class=\"layer-below\"><g class=\"imagelayer\"/><g class=\"shapelayer\"/></g><g class=\"cartesianlayer\"><g class=\"subplot xy\"><g class=\"layer-subplot\"><g class=\"shapelayer\"/><g class=\"imagelayer\"/></g><g class=\"minor-gridlayer\"><g class=\"x\"/><g class=\"y\"/></g><g class=\"gridlayer\"><g class=\"x\"><path class=\"xgrid crisp\" transform=\"translate(206.4,0)\" d=\"M0,100v220\" style=\"stroke: rgb(255, 255, 255); stroke-opacity: 1; stroke-width: 1px;\"/><path class=\"xgrid crisp\" transform=\"translate(332.8,0)\" d=\"M0,100v220\" style=\"stroke: rgb(255, 255, 255); stroke-opacity: 1; stroke-width: 1px;\"/><path class=\"xgrid crisp\" transform=\"translate(459.2,0)\" d=\"M0,100v220\" style=\"stroke: rgb(255, 255, 255); stroke-opacity: 1; stroke-width: 1px;\"/><path class=\"xgrid crisp\" transform=\"translate(585.6,0)\" d=\"M0,100v220\" style=\"stroke: rgb(255, 255, 255); stroke-opacity: 1; stroke-width: 1px;\"/></g><g class=\"y\"><path class=\"ygrid crisp\" transform=\"translate(0,243.41)\" d=\"M80,0h632\" style=\"stroke: rgb(255, 255, 255); stroke-opacity: 1; stroke-width: 1px;\"/><path class=\"ygrid crisp\" transform=\"translate(0,177.82)\" d=\"M80,0h632\" style=\"stroke: rgb(255, 255, 255); stroke-opacity: 1; stroke-width: 1px;\"/><path class=\"ygrid crisp\" transform=\"translate(0,112.23)\" d=\"M80,0h632\" style=\"stroke: rgb(255, 255, 255); stroke-opacity: 1; stroke-width: 1px;\"/></g></g><g class=\"zerolinelayer\"><path class=\"xzl zl crisp\" transform=\"translate(80,0)\" d=\"M0,100v220\" style=\"stroke: rgb(255, 255, 255); stroke-opacity: 1; stroke-width: 2px;\"/><path class=\"yzl zl crisp\" transform=\"translate(0,309)\" d=\"M80,0h632\" style=\"stroke: rgb(255, 255, 255); stroke-opacity: 1; stroke-width: 2px;\"/></g><path class=\"xlines-below\"/><path class=\"ylines-below\"/><g class=\"overlines-below\"/><g class=\"xaxislayer-below\"/><g class=\"yaxislayer-below\"/><g class=\"overaxes-below\"/><g class=\"plot\" transform=\"translate(80,100)\" clip-path=\"url(#clipbbb07fxyplot)\"><g class=\"scatterlayer mlayer\"><g class=\"trace scatter trace3b5fd3\" style=\"stroke-miterlimit: 2; opacity: 1;\"><g class=\"fills\"/><g class=\"errorbars\"/><g class=\"lines\"><path class=\"js-line\" d=\"M0,209L12.2,151.58L12.27,151.31L20.8,117.75L20.86,117.55L29.14,89.58L29.14,89.58L29.27,89.19L35.65,70.45L35.97,69.58L41.78,54.47L41.78,54.47L41.91,54.16L50.19,35.39L50.5,34.72L62.57,12.17L62.64,12.05L63.27,11L63.46,12.1L63.78,13.21L69.78,33.23L70.1,34.23L74.84,48.57L75.15,49.48L87.92,81.85L87.92,81.85L88.04,82.13L100.05,104.83L100.12,104.93L107.07,114.93L107.38,115.34L115.85,124.61L115.92,124.67L122.87,130.22L123.18,130.43L132.16,135.13L132.16,135.13L132.28,135.18L140.56,137.49L140.88,137.54L150.04,138.26L150.36,138.25L159.52,137.52L159.84,137.47L170.01,135.5L170.08,135.48L183.54,131.89L183.86,131.8L205.03,125.81L205.34,125.72L232.52,120.09L232.58,120.08L251.1,117.91L251.16,117.91L278.97,116.05L279.29,116.03L321.32,112.11L321.63,112.07L358.6,105.48L358.92,105.42L406.32,96.63L406.38,96.62L423.44,94.68L423.51,94.68L439.5,93.75L439.82,93.74L458.83,93.73L458.9,93.74L474.89,94.49L475.21,94.51L561.16,100.92L561.22,100.92L620.25,100.5L620.57,100.49L632,100.11L632,100.11\" style=\"vector-effect: non-scaling-stroke; fill: none; stroke: rgb(99, 110, 250); stroke-opacity: 1; stroke-width: 2px; opacity: 1;\"/></g><g class=\"points\"/><g class=\"text\"/></g><g class=\"trace scatter tracecf7e86\" style=\"stroke-miterlimit: 2; opacity: 1;\"><g class=\"fills\"/><g class=\"errorbars\"/><g class=\"lines\"><path class=\"js-line\" d=\"M0,209L5.95,208.26L6.26,208.18L11.57,206.19L11.64,206.16L18.4,201.85L18.4,201.85L18.52,201.75L25.28,195.47L25.35,195.4L32.86,186.22L32.93,186.13L41.66,172.8L41.71,172.7L50.19,157.33L50.5,156.71L60.93,135.04L61.25,134.34L74.2,106.99L74.52,106.38L85.58,87.36L85.9,86.88L92.34,78.06L92.34,78.06L92.47,77.91L99.8,70.01L99.86,69.96L106.18,65L106.25,64.95L113.2,61.42L113.2,61.42L113.32,61.38L119.52,59.89L119.52,59.89L119.64,59.87L126.47,59.9L126.47,59.9L126.6,59.92L133.61,61.59L133.93,61.7L141.83,65.33L142.14,65.5L151.94,71.97L152.26,72.2L196.62,108.68L196.62,108.68L196.75,108.76L206.92,114.85L207.24,115.01L216.21,118.84L216.21,118.84L216.34,118.88L225.25,121.17L225.57,121.23L234.73,121.97L235.05,121.97L243.95,121.22L244.02,121.21L257.86,117.63L257.93,117.6L267.6,113.76L267.91,113.62L285.29,105.16L285.61,105L309.12,93.62L309.12,93.62L309.24,93.56L323.84,88.21L324.16,88.11L338.06,84.98L338.12,84.97L349.76,83.95L350.07,83.94L364.29,84.64L364.61,84.68L378.51,87.09L378.57,87.11L393.36,90.96L393.68,91.06L443.29,104.82L443.61,104.88L458.27,107.06L458.27,107.06L458.4,107.07L473.63,107.94L473.94,107.94L486.08,107.66L486.08,107.66L486.2,107.65L503.96,105.98L504.28,105.94L528.42,102.29L528.42,102.29L528.55,102.27L566.85,96.94L566.9,96.94L587.2,95.65L587.2,95.65L587.32,95.65L610.58,95.77L610.58,95.77L610.71,95.78L632,97.04L632,97.04\" style=\"vector-effect: non-scaling-stroke; fill: none; stroke: rgb(239, 85, 59); stroke-opacity: 1; stroke-width: 2px; opacity: 1;\"/></g><g class=\"points\"/><g class=\"text\"/></g><g class=\"trace scatter tracea175ea\" style=\"stroke-miterlimit: 2; opacity: 1;\"><g class=\"fills\"/><g class=\"errorbars\"/><g class=\"lines\"><path class=\"js-line\" d=\"M0,209L5.95,208.31L6.26,208.23L12.84,205.95L12.9,205.92L21.12,201.26L21.43,201.05L31.23,193.36L31.54,193.08L45.07,179.61L45.13,179.54L56.32,166.58L56.32,166.58L56.44,166.42L75.4,144.21L75.47,144.15L84.95,135.71L85.26,135.45L104.91,121.2L104.98,121.15L176.59,72.48L176.9,72.29L189.16,65.62L189.23,65.59L198.71,61.54L199.02,61.42L211.16,57.99L211.16,57.99L211.28,57.96L222.09,56.69L222.41,56.68L232.01,57.04L232.01,57.04L232.14,57.05L242.32,58.87L242.63,58.95L253.06,62.21L253.38,62.33L268.86,69.27L269.18,69.43L290.98,81.6L291.3,81.78L312.84,93.83L312.91,93.87L334.59,103.5L334.9,103.61L349.12,107.77L349.44,107.84L360.82,109.8L360.87,109.8L371.05,110.57L371.05,110.57L371.18,110.57L385.78,110.22L386.1,110.2L403.48,108.07L403.79,108.02L431.28,102.87L431.6,102.81L456.56,98.57L456.88,98.53L471.73,96.91L472.05,96.88L491.7,96.06L491.77,96.06L515.34,96.8L515.66,96.82L591.81,102.38L592.13,102.39L613.87,102.51L613.93,102.51L632,101.96L632,101.96\" style=\"vector-effect: non-scaling-stroke; fill: none; stroke: rgb(0, 204, 150); stroke-opacity: 1; stroke-width: 2px; opacity: 1;\"/></g><g class=\"points\"/><g class=\"text\"/></g></g></g><g class=\"overplot\"/><path class=\"xlines-above crisp\" d=\"M0,0\" style=\"fill: none;\"/><path class=\"ylines-above crisp\" d=\"M0,0\" style=\"fill: none;\"/><g class=\"overlines-above\"/><g class=\"xaxislayer-above\"><g class=\"xtick\"><text text-anchor=\"middle\" x=\"0\" y=\"333\" transform=\"translate(80,0)\" style=\"font-family: 'Open Sans', verdana, arial, sans-serif; font-size: 12px; fill: rgb(42, 63, 95); fill-opacity: 1; white-space: pre; opacity: 1;\">0</text></g><g class=\"xtick\"><text text-anchor=\"middle\" x=\"0\" y=\"333\" style=\"font-family: 'Open Sans', verdana, arial, sans-serif; font-size: 12px; fill: rgb(42, 63, 95); fill-opacity: 1; white-space: pre; opacity: 1;\" transform=\"translate(206.4,0)\">2</text></g><g class=\"xtick\"><text text-anchor=\"middle\" x=\"0\" y=\"333\" style=\"font-family: 'Open Sans', verdana, arial, sans-serif; font-size: 12px; fill: rgb(42, 63, 95); fill-opacity: 1; white-space: pre; opacity: 1;\" transform=\"translate(332.8,0)\">4</text></g><g class=\"xtick\"><text text-anchor=\"middle\" x=\"0\" y=\"333\" style=\"font-family: 'Open Sans', verdana, arial, sans-serif; font-size: 12px; fill: rgb(42, 63, 95); fill-opacity: 1; white-space: pre; opacity: 1;\" transform=\"translate(459.2,0)\">6</text></g><g class=\"xtick\"><text text-anchor=\"middle\" x=\"0\" y=\"333\" style=\"font-family: 'Open Sans', verdana, arial, sans-serif; font-size: 12px; fill: rgb(42, 63, 95); fill-opacity: 1; white-space: pre; opacity: 1;\" transform=\"translate(585.6,0)\">8</text></g><g class=\"xtick\"><text text-anchor=\"middle\" x=\"0\" y=\"333\" style=\"font-family: 'Open Sans', verdana, arial, sans-serif; font-size: 12px; fill: rgb(42, 63, 95); fill-opacity: 1; white-space: pre; opacity: 1;\" transform=\"translate(712,0)\">10</text></g></g><g class=\"yaxislayer-above\"><g class=\"ytick\"><text text-anchor=\"end\" x=\"79\" y=\"4.199999999999999\" transform=\"translate(0,309)\" style=\"font-family: 'Open Sans', verdana, arial, sans-serif; font-size: 12px; fill: rgb(42, 63, 95); fill-opacity: 1; white-space: pre; opacity: 1;\">0</text></g><g class=\"ytick\"><text text-anchor=\"end\" x=\"79\" y=\"4.199999999999999\" style=\"font-family: 'Open Sans', verdana, arial, sans-serif; font-size: 12px; fill: rgb(42, 63, 95); fill-opacity: 1; white-space: pre; opacity: 1;\" transform=\"translate(0,243.41)\">0.2</text></g><g class=\"ytick\"><text text-anchor=\"end\" x=\"79\" y=\"4.199999999999999\" style=\"font-family: 'Open Sans', verdana, arial, sans-serif; font-size: 12px; fill: rgb(42, 63, 95); fill-opacity: 1; white-space: pre; opacity: 1;\" transform=\"translate(0,177.82)\">0.4</text></g><g class=\"ytick\"><text text-anchor=\"end\" x=\"79\" y=\"4.199999999999999\" style=\"font-family: 'Open Sans', verdana, arial, sans-serif; font-size: 12px; fill: rgb(42, 63, 95); fill-opacity: 1; white-space: pre; opacity: 1;\" transform=\"translate(0,112.23)\">0.6</text></g></g><g class=\"overaxes-above\"/></g></g><g class=\"polarlayer\"/><g class=\"smithlayer\"/><g class=\"ternarylayer\"/><g class=\"geolayer\"/><g class=\"funnelarealayer\"/><g class=\"pielayer\"/><g class=\"iciclelayer\"/><g class=\"treemaplayer\"/><g class=\"sunburstlayer\"/><g class=\"glimages\"/><defs id=\"topdefs-bbb07f\"><g class=\"clips\"/><clipPath id=\"legendbbb07f\"><rect width=\"223\" height=\"67\" x=\"0\" y=\"0\"/></clipPath></defs><g class=\"layer-above\"><g class=\"imagelayer\"/><g class=\"shapelayer\"/></g><g class=\"infolayer\"><g class=\"legend\" pointer-events=\"all\" transform=\"translate(724.64,100)\"><rect class=\"bg\" shape-rendering=\"crispEdges\" style=\"stroke: rgb(68, 68, 68); stroke-opacity: 1; fill: rgb(255, 255, 255); fill-opacity: 1; stroke-width: 0px;\" width=\"223\" height=\"67\" x=\"0\" y=\"0\"/><g class=\"scrollbox\" transform=\"\" clip-path=\"url(#legendbbb07f)\"><g class=\"groups\"><g class=\"traces\" transform=\"translate(0,14.5)\" style=\"opacity: 1;\"><text class=\"legendtext\" text-anchor=\"start\" x=\"40\" y=\"4.680000000000001\" style=\"font-family: 'Open Sans', verdana, arial, sans-serif; font-size: 12px; fill: rgb(42, 63, 95); fill-opacity: 1; white-space: pre;\">Derivative(x1(t), t) meters/second</text><g class=\"layers\" style=\"opacity: 1;\"><g class=\"legendfill\"/><g class=\"legendlines\"><path class=\"js-line\" d=\"M5,0h30\" style=\"fill: none; stroke: rgb(99, 110, 250); stroke-opacity: 1; stroke-width: 2px;\"/></g><g class=\"legendsymbols\"><g class=\"legendpoints\"/></g></g><rect class=\"legendtoggle\" x=\"0\" y=\"-9.5\" width=\"217.390625\" height=\"19\" style=\"fill: rgb(0, 0, 0); fill-opacity: 0;\"/></g><g class=\"traces\" transform=\"translate(0,33.5)\" style=\"opacity: 1;\"><text class=\"legendtext\" text-anchor=\"start\" x=\"40\" y=\"4.680000000000001\" style=\"font-family: 'Open Sans', verdana, arial, sans-serif; font-size: 12px; fill: rgb(42, 63, 95); fill-opacity: 1; white-space: pre;\">Derivative(x2(t), t) meters/second</text><g class=\"layers\" style=\"opacity: 1;\"><g class=\"legendfill\"/><g class=\"legendlines\"><path class=\"js-line\" d=\"M5,0h30\" style=\"fill: none; stroke: rgb(239, 85, 59); stroke-opacity: 1; stroke-width: 2px;\"/></g><g class=\"legendsymbols\"><g class=\"legendpoints\"/></g></g><rect class=\"legendtoggle\" x=\"0\" y=\"-9.5\" width=\"217.390625\" height=\"19\" style=\"fill: rgb(0, 0, 0); fill-opacity: 0;\"/></g><g class=\"traces\" transform=\"translate(0,52.5)\" style=\"opacity: 1;\"><text class=\"legendtext\" text-anchor=\"start\" x=\"40\" y=\"4.680000000000001\" style=\"font-family: 'Open Sans', verdana, arial, sans-serif; font-size: 12px; fill: rgb(42, 63, 95); fill-opacity: 1; white-space: pre;\">Derivative(x3(t), t) meters/second</text><g class=\"layers\" style=\"opacity: 1;\"><g class=\"legendfill\"/><g class=\"legendlines\"><path class=\"js-line\" d=\"M5,0h30\" style=\"fill: none; stroke: rgb(0, 204, 150); stroke-opacity: 1; stroke-width: 2px;\"/></g><g class=\"legendsymbols\"><g class=\"legendpoints\"/></g></g><rect class=\"legendtoggle\" x=\"0\" y=\"-9.5\" width=\"217.390625\" height=\"19\" style=\"fill: rgb(0, 0, 0); fill-opacity: 0;\"/></g></g></g><rect class=\"scrollbar\" rx=\"20\" ry=\"3\" width=\"0\" height=\"0\" style=\"fill: rgb(128, 139, 164); fill-opacity: 1;\" x=\"0\" y=\"0\"/></g><g class=\"g-gtitle\"><text class=\"gtitle\" x=\"480\" y=\"40\" text-anchor=\"middle\" dy=\"0.7em\" style=\"font-family: 'Open Sans', verdana, arial, sans-serif; font-size: 17px; fill: rgb(42, 63, 95); opacity: 1; font-weight: normal; white-space: pre;\">Cart'n'Cargo System Response to a Small [Direct Method]</text></g><g class=\"g-xtitle\"><text class=\"xtitle\" x=\"396\" y=\"360.8\" text-anchor=\"middle\" style=\"font-family: 'Open Sans', verdana, arial, sans-serif; font-size: 14px; fill: rgb(42, 63, 95); opacity: 1; font-weight: normal; white-space: pre;\">t seconds</text></g><g class=\"g-ytitle\"/></g></svg>"
          },
          "metadata": {},
          "output_type": "display_data"
        }
      ],
      "source": [
        "sim_data = simulate_dynamic_system(\n",
        "    system_dynamics,\n",
        "    plot_title=\"Cart'n'Cargo System Response to a Small [Direct Method]\",\n",
        "    x_f=10, max_step=0.01,\n",
        "    substitute=simulation_substitutions,\n",
        "    initial_conditions=simulation_initial_conditions, # type: ignore\n",
        "    record=[v1, v2, v3],\n",
        "    plot_static=not in_jupyterlite\n",
        ")"
      ]
    },
    {
      "cell_type": "markdown",
      "metadata": {},
      "source": [
        "# Part B\n",
        "\n",
        "Repeat a) using lagrange's equations. Be sure to specify any generalized coordinates\n",
        "\n"
      ]
    },
    {
      "cell_type": "code",
      "execution_count": 13,
      "metadata": {
        "trusted": true
      },
      "outputs": [
        {
          "name": "stdout",
          "output_type": "stream",
          "text": [
            "Kinetic Energy\n"
          ]
        },
        {
          "data": {
            "text/latex": [
              "$$ \\frac{m_{1} \\dot{x}_{1}^{2}}{2} + \\frac{m_{2} \\dot{x}_{2}^{2}}{2} + \\frac{m_{3} \\dot{x}_{3}^{2}}{2} \\hspace{1.25em} \\frac{\\text{kg} \\text{m}^{2}}{\\text{s}^{2}} $$"
            ],
            "text/plain": [
              "0.5*mDerivative(x1(t), t)**2 + 0.5*m2*Derivative(x2(t), t)**2 + 0.5*m3*Derivative(x3(t), t)**2 kilogram*meters**2/second**2"
            ]
          },
          "execution_count": 13,
          "metadata": {},
          "output_type": "execute_result"
        }
      ],
      "source": [
        "# Kinetic energy\n",
        "from mathpad.mech import kinetic_energy, elastic_energy, euler_lagrange\n",
        "\n",
        "print(\"Kinetic Energy\")\n",
        "T = kinetic_energy(m1, v1) + kinetic_energy(m2, v2) + kinetic_energy(m3, v3)\n",
        "T"
      ]
    },
    {
      "cell_type": "code",
      "execution_count": 14,
      "metadata": {
        "trusted": true
      },
      "outputs": [
        {
          "name": "stdout",
          "output_type": "stream",
          "text": [
            "Potential Energy\n"
          ]
        },
        {
          "data": {
            "text/latex": [
              "$$ \\frac{k_{1} \\left(x_{1} - x_{2}\\right)^{2}}{2} + \\frac{k_{2} \\left(x_{2} - x_{3}\\right)^{2}}{2} \\hspace{1.25em} \\text{m} \\text{N} $$"
            ],
            "text/plain": [
              "0.5*k(x1(t) - x2(t))**2 + 0.5*k2*(x2(t) - x3(t))**2 meter*newtons"
            ]
          },
          "execution_count": 14,
          "metadata": {},
          "output_type": "execute_result"
        }
      ],
      "source": [
        "print(\"Potential Energy\")\n",
        "V = elastic_energy(k1, x2 - x1) + elastic_energy(k2, x3 - x2)\n",
        "V"
      ]
    },
    {
      "cell_type": "code",
      "execution_count": 15,
      "metadata": {
        "trusted": true
      },
      "outputs": [
        {
          "name": "stdout",
          "output_type": "stream",
          "text": [
            "Damping Force between bodies 1 & 2:\n"
          ]
        },
        {
          "data": {
            "text/latex": [
              "$$ c \\left(- \\dot{x}_{1} + \\dot{x}_{2}\\right) \\hspace{1.25em} \\text{N} $$"
            ],
            "text/plain": [
              "c*(-Derivative(x1(t), t) + Derivative(x2(t), t)) newtons"
            ]
          },
          "execution_count": 15,
          "metadata": {},
          "output_type": "execute_result"
        }
      ],
      "source": [
        "print(\"Damping Force between bodies 1 & 2:\")\n",
        "Fc2 = c * diff(x2 - x1)\n",
        "Fc2"
      ]
    },
    {
      "cell_type": "code",
      "execution_count": 16,
      "metadata": {
        "trusted": true
      },
      "outputs": [
        {
          "name": "stdout",
          "output_type": "stream",
          "text": [
            "Damping Force between bodies 1 & 3:\n"
          ]
        },
        {
          "data": {
            "text/latex": [
              "$$ c \\left(- \\dot{x}_{1} + \\dot{x}_{3}\\right) \\hspace{1.25em} \\text{N} $$"
            ],
            "text/plain": [
              "c*(-Derivative(x1(t), t) + Derivative(x3(t), t)) newtons"
            ]
          },
          "execution_count": 16,
          "metadata": {},
          "output_type": "execute_result"
        }
      ],
      "source": [
        "print(\"Damping Force between bodies 1 & 3:\")\n",
        "Fc3 = c * diff(x3 - x1)\n",
        "Fc3"
      ]
    },
    {
      "cell_type": "code",
      "execution_count": 17,
      "metadata": {
        "trusted": true
      },
      "outputs": [
        {
          "name": "stdout",
          "output_type": "stream",
          "text": [
            "Non-Conservative Forces @ Body 1\n"
          ]
        },
        {
          "data": {
            "text/latex": [
              "$$ - 2 c \\dot{x}_{1} + c \\dot{x}_{2} + c \\dot{x}_{3} + F \\hspace{1.25em} \\text{N} $$"
            ],
            "text/plain": [
              "-2*c*Derivative(x1(t), t) + c*Derivative(x2(t), t) + c*Derivative(x3(t), t) + F(t) newtons"
            ]
          },
          "execution_count": 17,
          "metadata": {},
          "output_type": "execute_result"
        }
      ],
      "source": [
        "print(\"Non-Conservative Forces @ Body 1\")\n",
        "Qx1 = F + Fc2 + Fc3\n",
        "Qx1"
      ]
    },
    {
      "cell_type": "code",
      "execution_count": 18,
      "metadata": {
        "trusted": true
      },
      "outputs": [
        {
          "name": "stdout",
          "output_type": "stream",
          "text": [
            "Dynamics of Body 1\n"
          ]
        },
        {
          "data": {
            "text/latex": [
              "$$ - 2 c \\dot{x}_{1} + c \\dot{x}_{2} + c \\dot{x}_{3} + F = k_{1} \\left(x_{1} - x_{2}\\right) + m_{1} \\ddot{x}_{1} \\hspace{1.25em} \\text{N} $$"
            ],
            "text/plain": [
              "-2*c*Derivative(x1(t), t) + c*Derivative(x2(t), t) + c*Derivative(x3(t), t) + F(t) = k(x1(t) - x2(t)) + mDerivative(x1(t), (t, 2)) newton"
            ]
          },
          "execution_count": 18,
          "metadata": {},
          "output_type": "execute_result"
        }
      ],
      "source": [
        "print(\"Dynamics of Body 1\")\n",
        "x1_dynamics = euler_lagrange(T, V, Qx1, x1)\n",
        "x1_dynamics"
      ]
    },
    {
      "cell_type": "code",
      "execution_count": 19,
      "metadata": {
        "trusted": true
      },
      "outputs": [
        {
          "name": "stdout",
          "output_type": "stream",
          "text": [
            "Non-Conservative Forces @ Body 2\n"
          ]
        },
        {
          "data": {
            "text/latex": [
              "$$ - c \\left(- \\dot{x}_{1} + \\dot{x}_{2}\\right) \\hspace{1.25em} \\text{N} $$"
            ],
            "text/plain": [
              "-c*(-Derivative(x1(t), t) + Derivative(x2(t), t)) newtons"
            ]
          },
          "execution_count": 19,
          "metadata": {},
          "output_type": "execute_result"
        }
      ],
      "source": [
        "print(\"Non-Conservative Forces @ Body 2\")\n",
        "Qx2 = -Fc2\n",
        "Qx2"
      ]
    },
    {
      "cell_type": "code",
      "execution_count": 20,
      "metadata": {
        "trusted": true
      },
      "outputs": [
        {
          "name": "stdout",
          "output_type": "stream",
          "text": [
            "Dynamics of Body 2\n"
          ]
        },
        {
          "data": {
            "text/latex": [
              "$$ - k_{1} \\left(x_{1} - x_{2}\\right) + k_{2} \\left(x_{2} - x_{3}\\right) + m_{2} \\ddot{x}_{2} = - c \\left(- \\dot{x}_{1} + \\dot{x}_{2}\\right) \\hspace{1.25em} \\frac{\\text{kg} \\text{m}}{\\text{s}^{2}} $$"
            ],
            "text/plain": [
              "-k(x1(t) - x2(t)) + k2*(x2(t) - x3(t)) + m2*Derivative(x2(t), (t, 2)) = -c*(-Derivative(x1(t), t) + Derivative(x2(t), t)) kilogram*meter/second**2"
            ]
          },
          "execution_count": 20,
          "metadata": {},
          "output_type": "execute_result"
        }
      ],
      "source": [
        "print(\"Dynamics of Body 2\")\n",
        "x2_dynamics = euler_lagrange(T, V, Qx2, x2)\n",
        "x2_dynamics"
      ]
    },
    {
      "cell_type": "code",
      "execution_count": 21,
      "metadata": {
        "trusted": true
      },
      "outputs": [
        {
          "name": "stdout",
          "output_type": "stream",
          "text": [
            "Non-Conservative Forces @ Body 3\n"
          ]
        },
        {
          "data": {
            "text/latex": [
              "$$ - c \\left(- \\dot{x}_{1} + \\dot{x}_{3}\\right) \\hspace{1.25em} \\text{N} $$"
            ],
            "text/plain": [
              "-c*(-Derivative(x1(t), t) + Derivative(x3(t), t)) newtons"
            ]
          },
          "execution_count": 21,
          "metadata": {},
          "output_type": "execute_result"
        }
      ],
      "source": [
        "print(\"Non-Conservative Forces @ Body 3\")\n",
        "Qx3 = -Fc3\n",
        "Qx3"
      ]
    },
    {
      "cell_type": "code",
      "execution_count": 22,
      "metadata": {
        "trusted": true
      },
      "outputs": [
        {
          "name": "stdout",
          "output_type": "stream",
          "text": [
            "Dynamics of Body 3\n"
          ]
        },
        {
          "data": {
            "text/latex": [
              "$$ - k_{2} \\left(x_{2} - x_{3}\\right) + m_{3} \\ddot{x}_{3} = - c \\left(- \\dot{x}_{1} + \\dot{x}_{3}\\right) \\hspace{1.25em} \\frac{\\text{kg} \\text{m}}{\\text{s}^{2}} $$"
            ],
            "text/plain": [
              "-k2*(x2(t) - x3(t)) + m3*Derivative(x3(t), (t, 2)) = -c*(-Derivative(x1(t), t) + Derivative(x3(t), t)) kilogram*meter/second**2"
            ]
          },
          "execution_count": 22,
          "metadata": {},
          "output_type": "execute_result"
        }
      ],
      "source": [
        "print(\"Dynamics of Body 3\")\n",
        "x3_dynamics = euler_lagrange(T, V, Qx3, x3)\n",
        "x3_dynamics"
      ]
    },
    {
      "cell_type": "code",
      "execution_count": 23,
      "metadata": {},
      "outputs": [],
      "source": [
        "system_dynamics = [x1_dynamics, x2_dynamics, x3_dynamics]"
      ]
    },
    {
      "cell_type": "markdown",
      "metadata": {},
      "source": [
        "## Simulation Results"
      ]
    },
    {
      "cell_type": "code",
      "execution_count": 25,
      "metadata": {
        "trusted": true
      },
      "outputs": [
        {
          "name": "stdout",
          "output_type": "stream",
          "text": [
            "Solving subbed Equations...\n",
            "Solving finished.\n",
            "Simulating from t=0 to t=10 with a max_step of 0.01.\n"
          ]
        },
        {
          "data": {
            "application/vnd.jupyter.widget-view+json": {
              "model_id": "190651ac99ed4e9799adcf162c02ae30",
              "version_major": 2,
              "version_minor": 0
            },
            "text/plain": [
              "  0%|          | 0/10 [00:00<?, ?it/s]"
            ]
          },
          "metadata": {},
          "output_type": "display_data"
        },
        {
          "name": "stdout",
          "output_type": "stream",
          "text": [
            "Simulation finished. Plotting...\n"
          ]
        },
        {
          "data": {
            "image/svg+xml": "<svg class=\"main-svg\" xmlns=\"http://www.w3.org/2000/svg\" xmlns:xlink=\"http://www.w3.org/1999/xlink\" width=\"960\" height=\"400\" style=\"\" viewBox=\"0 0 960 400\"><rect x=\"0\" y=\"0\" width=\"960\" height=\"400\" style=\"fill: rgb(255, 255, 255); fill-opacity: 1;\"/><defs id=\"defs-586775\"><g class=\"clips\"><clipPath id=\"clip586775xyplot\" class=\"plotclip\"><rect width=\"632\" height=\"220\"/></clipPath><clipPath class=\"axesclip\" id=\"clip586775x\"><rect x=\"80\" y=\"0\" width=\"632\" height=\"400\"/></clipPath><clipPath class=\"axesclip\" id=\"clip586775y\"><rect x=\"0\" y=\"100\" width=\"960\" height=\"220\"/></clipPath><clipPath class=\"axesclip\" id=\"clip586775xy\"><rect x=\"80\" y=\"100\" width=\"632\" height=\"220\"/></clipPath></g><g class=\"gradients\"/><g class=\"patterns\"/></defs><g class=\"bglayer\"><rect class=\"bg\" x=\"80\" y=\"100\" width=\"632\" height=\"220\" style=\"fill: rgb(229, 236, 246); fill-opacity: 1; stroke-width: 0;\"/></g><g class=\"layer-below\"><g class=\"imagelayer\"/><g class=\"shapelayer\"/></g><g class=\"cartesianlayer\"><g class=\"subplot xy\"><g class=\"layer-subplot\"><g class=\"shapelayer\"/><g class=\"imagelayer\"/></g><g class=\"minor-gridlayer\"><g class=\"x\"/><g class=\"y\"/></g><g class=\"gridlayer\"><g class=\"x\"><path class=\"xgrid crisp\" transform=\"translate(206.4,0)\" d=\"M0,100v220\" style=\"stroke: rgb(255, 255, 255); stroke-opacity: 1; stroke-width: 1px;\"/><path class=\"xgrid crisp\" transform=\"translate(332.8,0)\" d=\"M0,100v220\" style=\"stroke: rgb(255, 255, 255); stroke-opacity: 1; stroke-width: 1px;\"/><path class=\"xgrid crisp\" transform=\"translate(459.2,0)\" d=\"M0,100v220\" style=\"stroke: rgb(255, 255, 255); stroke-opacity: 1; stroke-width: 1px;\"/><path class=\"xgrid crisp\" transform=\"translate(585.6,0)\" d=\"M0,100v220\" style=\"stroke: rgb(255, 255, 255); stroke-opacity: 1; stroke-width: 1px;\"/></g><g class=\"y\"><path class=\"ygrid crisp\" transform=\"translate(0,243.41)\" d=\"M80,0h632\" style=\"stroke: rgb(255, 255, 255); stroke-opacity: 1; stroke-width: 1px;\"/><path class=\"ygrid crisp\" transform=\"translate(0,177.82)\" d=\"M80,0h632\" style=\"stroke: rgb(255, 255, 255); stroke-opacity: 1; stroke-width: 1px;\"/><path class=\"ygrid crisp\" transform=\"translate(0,112.23)\" d=\"M80,0h632\" style=\"stroke: rgb(255, 255, 255); stroke-opacity: 1; stroke-width: 1px;\"/></g></g><g class=\"zerolinelayer\"><path class=\"xzl zl crisp\" transform=\"translate(80,0)\" d=\"M0,100v220\" style=\"stroke: rgb(255, 255, 255); stroke-opacity: 1; stroke-width: 2px;\"/><path class=\"yzl zl crisp\" transform=\"translate(0,309)\" d=\"M80,0h632\" style=\"stroke: rgb(255, 255, 255); stroke-opacity: 1; stroke-width: 2px;\"/></g><path class=\"xlines-below\"/><path class=\"ylines-below\"/><g class=\"overlines-below\"/><g class=\"xaxislayer-below\"/><g class=\"yaxislayer-below\"/><g class=\"overaxes-below\"/><g class=\"plot\" transform=\"translate(80,100)\" clip-path=\"url(#clip586775xyplot)\"><g class=\"scatterlayer mlayer\"><g class=\"trace scatter traceda5e78\" style=\"stroke-miterlimit: 2; opacity: 1;\"><g class=\"fills\"/><g class=\"errorbars\"/><g class=\"lines\"><path class=\"js-line\" d=\"M0,209L12.2,151.58L12.27,151.31L20.8,117.75L20.86,117.55L29.14,89.58L29.14,89.58L29.27,89.19L35.65,70.45L35.97,69.58L41.78,54.47L41.78,54.47L41.91,54.16L50.19,35.39L50.5,34.72L62.57,12.17L62.64,12.05L63.27,11L63.46,12.1L63.78,13.21L69.78,33.23L70.1,34.23L74.84,48.57L75.15,49.48L87.92,81.85L87.92,81.85L88.04,82.13L100.05,104.83L100.12,104.93L107.07,114.93L107.38,115.34L115.85,124.61L115.92,124.67L122.87,130.22L123.18,130.43L132.16,135.13L132.16,135.13L132.28,135.18L140.56,137.49L140.88,137.54L150.04,138.26L150.36,138.25L159.52,137.52L159.84,137.47L170.01,135.5L170.08,135.48L183.54,131.89L183.86,131.8L205.03,125.81L205.34,125.72L232.52,120.09L232.58,120.08L251.1,117.91L251.16,117.91L278.97,116.05L279.29,116.03L321.32,112.11L321.63,112.07L358.6,105.48L358.92,105.42L406.32,96.63L406.38,96.62L423.44,94.68L423.51,94.68L439.5,93.75L439.82,93.74L458.83,93.73L458.9,93.74L474.89,94.49L475.21,94.51L561.16,100.92L561.22,100.92L620.25,100.5L620.57,100.49L632,100.11L632,100.11\" style=\"vector-effect: non-scaling-stroke; fill: none; stroke: rgb(99, 110, 250); stroke-opacity: 1; stroke-width: 2px; opacity: 1;\"/></g><g class=\"points\"/><g class=\"text\"/></g><g class=\"trace scatter trace8bac33\" style=\"stroke-miterlimit: 2; opacity: 1;\"><g class=\"fills\"/><g class=\"errorbars\"/><g class=\"lines\"><path class=\"js-line\" d=\"M0,209L5.95,208.26L6.26,208.18L11.57,206.19L11.64,206.16L18.4,201.85L18.4,201.85L18.52,201.75L25.28,195.47L25.35,195.4L32.86,186.22L32.93,186.13L41.66,172.8L41.71,172.7L50.19,157.33L50.5,156.71L60.93,135.04L61.25,134.34L74.2,106.99L74.52,106.38L85.58,87.36L85.9,86.88L92.34,78.06L92.34,78.06L92.47,77.91L99.8,70.01L99.86,69.96L106.18,65L106.25,64.95L113.2,61.42L113.2,61.42L113.32,61.38L119.52,59.89L119.52,59.89L119.64,59.87L126.47,59.9L126.47,59.9L126.6,59.92L133.61,61.59L133.93,61.7L141.83,65.33L142.14,65.5L151.94,71.97L152.26,72.2L196.62,108.68L196.62,108.68L196.75,108.76L206.92,114.85L207.24,115.01L216.21,118.84L216.21,118.84L216.34,118.88L225.25,121.17L225.57,121.23L234.73,121.97L235.05,121.97L243.95,121.22L244.02,121.21L257.86,117.63L257.93,117.6L267.6,113.76L267.91,113.62L285.29,105.16L285.61,105L309.12,93.62L309.12,93.62L309.24,93.56L323.84,88.21L324.16,88.11L338.06,84.98L338.12,84.97L349.76,83.95L350.07,83.94L364.29,84.64L364.61,84.68L378.51,87.09L378.57,87.11L393.36,90.96L393.68,91.06L443.29,104.82L443.61,104.88L458.27,107.06L458.27,107.06L458.4,107.07L473.63,107.94L473.94,107.94L486.08,107.66L486.08,107.66L486.2,107.65L503.96,105.98L504.28,105.94L528.42,102.29L528.42,102.29L528.55,102.27L566.85,96.94L566.9,96.94L587.2,95.65L587.2,95.65L587.32,95.65L610.58,95.77L610.58,95.77L610.71,95.78L632,97.04L632,97.04\" style=\"vector-effect: non-scaling-stroke; fill: none; stroke: rgb(239, 85, 59); stroke-opacity: 1; stroke-width: 2px; opacity: 1;\"/></g><g class=\"points\"/><g class=\"text\"/></g><g class=\"trace scatter trace5a60a4\" style=\"stroke-miterlimit: 2; opacity: 1;\"><g class=\"fills\"/><g class=\"errorbars\"/><g class=\"lines\"><path class=\"js-line\" d=\"M0,209L5.95,208.31L6.26,208.23L12.84,205.95L12.9,205.92L21.12,201.26L21.43,201.05L31.23,193.36L31.54,193.08L45.07,179.61L45.13,179.54L56.32,166.58L56.32,166.58L56.44,166.42L75.4,144.21L75.47,144.15L84.95,135.71L85.26,135.45L104.91,121.2L104.98,121.15L176.59,72.48L176.9,72.29L189.16,65.62L189.23,65.59L198.71,61.54L199.02,61.42L211.16,57.99L211.16,57.99L211.28,57.96L222.09,56.69L222.41,56.68L232.01,57.04L232.01,57.04L232.14,57.05L242.32,58.87L242.63,58.95L253.06,62.21L253.38,62.33L268.86,69.27L269.18,69.43L290.98,81.6L291.3,81.78L312.84,93.83L312.91,93.87L334.59,103.5L334.9,103.61L349.12,107.77L349.44,107.84L360.82,109.8L360.87,109.8L371.05,110.57L371.05,110.57L371.18,110.57L385.78,110.22L386.1,110.2L403.48,108.07L403.79,108.02L431.28,102.87L431.6,102.81L456.56,98.57L456.88,98.53L471.73,96.91L472.05,96.88L491.7,96.06L491.77,96.06L515.34,96.8L515.66,96.82L591.81,102.38L592.13,102.39L613.87,102.51L613.93,102.51L632,101.96L632,101.96\" style=\"vector-effect: non-scaling-stroke; fill: none; stroke: rgb(0, 204, 150); stroke-opacity: 1; stroke-width: 2px; opacity: 1;\"/></g><g class=\"points\"/><g class=\"text\"/></g></g></g><g class=\"overplot\"/><path class=\"xlines-above crisp\" d=\"M0,0\" style=\"fill: none;\"/><path class=\"ylines-above crisp\" d=\"M0,0\" style=\"fill: none;\"/><g class=\"overlines-above\"/><g class=\"xaxislayer-above\"><g class=\"xtick\"><text text-anchor=\"middle\" x=\"0\" y=\"333\" transform=\"translate(80,0)\" style=\"font-family: 'Open Sans', verdana, arial, sans-serif; font-size: 12px; fill: rgb(42, 63, 95); fill-opacity: 1; white-space: pre; opacity: 1;\">0</text></g><g class=\"xtick\"><text text-anchor=\"middle\" x=\"0\" y=\"333\" style=\"font-family: 'Open Sans', verdana, arial, sans-serif; font-size: 12px; fill: rgb(42, 63, 95); fill-opacity: 1; white-space: pre; opacity: 1;\" transform=\"translate(206.4,0)\">2</text></g><g class=\"xtick\"><text text-anchor=\"middle\" x=\"0\" y=\"333\" style=\"font-family: 'Open Sans', verdana, arial, sans-serif; font-size: 12px; fill: rgb(42, 63, 95); fill-opacity: 1; white-space: pre; opacity: 1;\" transform=\"translate(332.8,0)\">4</text></g><g class=\"xtick\"><text text-anchor=\"middle\" x=\"0\" y=\"333\" style=\"font-family: 'Open Sans', verdana, arial, sans-serif; font-size: 12px; fill: rgb(42, 63, 95); fill-opacity: 1; white-space: pre; opacity: 1;\" transform=\"translate(459.2,0)\">6</text></g><g class=\"xtick\"><text text-anchor=\"middle\" x=\"0\" y=\"333\" style=\"font-family: 'Open Sans', verdana, arial, sans-serif; font-size: 12px; fill: rgb(42, 63, 95); fill-opacity: 1; white-space: pre; opacity: 1;\" transform=\"translate(585.6,0)\">8</text></g><g class=\"xtick\"><text text-anchor=\"middle\" x=\"0\" y=\"333\" style=\"font-family: 'Open Sans', verdana, arial, sans-serif; font-size: 12px; fill: rgb(42, 63, 95); fill-opacity: 1; white-space: pre; opacity: 1;\" transform=\"translate(712,0)\">10</text></g></g><g class=\"yaxislayer-above\"><g class=\"ytick\"><text text-anchor=\"end\" x=\"79\" y=\"4.199999999999999\" transform=\"translate(0,309)\" style=\"font-family: 'Open Sans', verdana, arial, sans-serif; font-size: 12px; fill: rgb(42, 63, 95); fill-opacity: 1; white-space: pre; opacity: 1;\">0</text></g><g class=\"ytick\"><text text-anchor=\"end\" x=\"79\" y=\"4.199999999999999\" style=\"font-family: 'Open Sans', verdana, arial, sans-serif; font-size: 12px; fill: rgb(42, 63, 95); fill-opacity: 1; white-space: pre; opacity: 1;\" transform=\"translate(0,243.41)\">0.2</text></g><g class=\"ytick\"><text text-anchor=\"end\" x=\"79\" y=\"4.199999999999999\" style=\"font-family: 'Open Sans', verdana, arial, sans-serif; font-size: 12px; fill: rgb(42, 63, 95); fill-opacity: 1; white-space: pre; opacity: 1;\" transform=\"translate(0,177.82)\">0.4</text></g><g class=\"ytick\"><text text-anchor=\"end\" x=\"79\" y=\"4.199999999999999\" style=\"font-family: 'Open Sans', verdana, arial, sans-serif; font-size: 12px; fill: rgb(42, 63, 95); fill-opacity: 1; white-space: pre; opacity: 1;\" transform=\"translate(0,112.23)\">0.6</text></g></g><g class=\"overaxes-above\"/></g></g><g class=\"polarlayer\"/><g class=\"smithlayer\"/><g class=\"ternarylayer\"/><g class=\"geolayer\"/><g class=\"funnelarealayer\"/><g class=\"pielayer\"/><g class=\"iciclelayer\"/><g class=\"treemaplayer\"/><g class=\"sunburstlayer\"/><g class=\"glimages\"/><defs id=\"topdefs-586775\"><g class=\"clips\"/><clipPath id=\"legend586775\"><rect width=\"223\" height=\"67\" x=\"0\" y=\"0\"/></clipPath></defs><g class=\"layer-above\"><g class=\"imagelayer\"/><g class=\"shapelayer\"/></g><g class=\"infolayer\"><g class=\"legend\" pointer-events=\"all\" transform=\"translate(724.64,100)\"><rect class=\"bg\" shape-rendering=\"crispEdges\" width=\"223\" height=\"67\" x=\"0\" y=\"0\" style=\"stroke: rgb(68, 68, 68); stroke-opacity: 1; fill: rgb(255, 255, 255); fill-opacity: 1; stroke-width: 0px;\"/><g class=\"scrollbox\" transform=\"\" clip-path=\"url(#legend586775)\"><g class=\"groups\"><g class=\"traces\" transform=\"translate(0,14.5)\" style=\"opacity: 1;\"><text class=\"legendtext\" text-anchor=\"start\" x=\"40\" y=\"4.680000000000001\" style=\"font-family: 'Open Sans', verdana, arial, sans-serif; font-size: 12px; fill: rgb(42, 63, 95); fill-opacity: 1; white-space: pre;\">Derivative(x1(t), t) meters/second</text><g class=\"layers\" style=\"opacity: 1;\"><g class=\"legendfill\"/><g class=\"legendlines\"><path class=\"js-line\" d=\"M5,0h30\" style=\"fill: none; stroke: rgb(99, 110, 250); stroke-opacity: 1; stroke-width: 2px;\"/></g><g class=\"legendsymbols\"><g class=\"legendpoints\"/></g></g><rect class=\"legendtoggle\" x=\"0\" y=\"-9.5\" width=\"217.390625\" height=\"19\" style=\"fill: rgb(0, 0, 0); fill-opacity: 0;\"/></g><g class=\"traces\" transform=\"translate(0,33.5)\" style=\"opacity: 1;\"><text class=\"legendtext\" text-anchor=\"start\" x=\"40\" y=\"4.680000000000001\" style=\"font-family: 'Open Sans', verdana, arial, sans-serif; font-size: 12px; fill: rgb(42, 63, 95); fill-opacity: 1; white-space: pre;\">Derivative(x2(t), t) meters/second</text><g class=\"layers\" style=\"opacity: 1;\"><g class=\"legendfill\"/><g class=\"legendlines\"><path class=\"js-line\" d=\"M5,0h30\" style=\"fill: none; stroke: rgb(239, 85, 59); stroke-opacity: 1; stroke-width: 2px;\"/></g><g class=\"legendsymbols\"><g class=\"legendpoints\"/></g></g><rect class=\"legendtoggle\" x=\"0\" y=\"-9.5\" width=\"217.390625\" height=\"19\" style=\"fill: rgb(0, 0, 0); fill-opacity: 0;\"/></g><g class=\"traces\" transform=\"translate(0,52.5)\" style=\"opacity: 1;\"><text class=\"legendtext\" text-anchor=\"start\" x=\"40\" y=\"4.680000000000001\" style=\"font-family: 'Open Sans', verdana, arial, sans-serif; font-size: 12px; fill: rgb(42, 63, 95); fill-opacity: 1; white-space: pre;\">Derivative(x3(t), t) meters/second</text><g class=\"layers\" style=\"opacity: 1;\"><g class=\"legendfill\"/><g class=\"legendlines\"><path class=\"js-line\" d=\"M5,0h30\" style=\"fill: none; stroke: rgb(0, 204, 150); stroke-opacity: 1; stroke-width: 2px;\"/></g><g class=\"legendsymbols\"><g class=\"legendpoints\"/></g></g><rect class=\"legendtoggle\" x=\"0\" y=\"-9.5\" width=\"217.390625\" height=\"19\" style=\"fill: rgb(0, 0, 0); fill-opacity: 0;\"/></g></g></g><rect class=\"scrollbar\" rx=\"20\" ry=\"3\" width=\"0\" height=\"0\" x=\"0\" y=\"0\" style=\"fill: rgb(128, 139, 164); fill-opacity: 1;\"/></g><g class=\"g-gtitle\"><text class=\"gtitle\" x=\"480\" y=\"40\" text-anchor=\"middle\" dy=\"0.7em\" style=\"font-family: 'Open Sans', verdana, arial, sans-serif; font-size: 17px; fill: rgb(42, 63, 95); opacity: 1; font-weight: normal; white-space: pre;\">Cart'n'Cargo System Response to a Small Perturbation [Energy Method]</text></g><g class=\"g-xtitle\"><text class=\"xtitle\" x=\"396\" y=\"360.8\" text-anchor=\"middle\" style=\"font-family: 'Open Sans', verdana, arial, sans-serif; font-size: 14px; fill: rgb(42, 63, 95); opacity: 1; font-weight: normal; white-space: pre;\">t seconds</text></g><g class=\"g-ytitle\"/></g></svg>"
          },
          "metadata": {},
          "output_type": "display_data"
        }
      ],
      "source": [
        "sim_data = simulate_dynamic_system(\n",
        "    system_dynamics,\n",
        "    plot_title=\"Cart'n'Cargo System Response to a Small Perturbation [Energy Method]\",\n",
        "    x_f=10, max_step=0.01,\n",
        "    substitute=simulation_substitutions,\n",
        "    initial_conditions=simulation_initial_conditions, # type: ignore\n",
        "    record=[v1, v2, v3],\n",
        "    plot_static=not in_jupyterlite\n",
        ")"
      ]
    }
  ],
  "metadata": {
    "kernelspec": {
      "display_name": "Python 3.8.10 ('mathpad-IMbbmyaw-py3.8')",
      "language": "python",
      "name": "python3"
    },
    "language_info": {
      "codemirror_mode": {
        "name": "ipython",
        "version": 3
      },
      "file_extension": ".py",
      "mimetype": "text/x-python",
      "name": "python",
      "nbconvert_exporter": "python",
      "pygments_lexer": "ipython3",
      "version": "3.8.10"
    },
    "vscode": {
      "interpreter": {
        "hash": "c68f6f75b9b5074b455bff57bf843aee0a1a4f29736bbb117f262860b9efa145"
      }
    }
  },
  "nbformat": 4,
  "nbformat_minor": 4
}
