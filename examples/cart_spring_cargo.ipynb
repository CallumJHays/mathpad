{
 "cells": [
  {
   "cell_type": "markdown",
   "metadata": {},
   "source": [
    "![Cart Spring Problem Question and Diagram](imgs/cart_spring_cargo/question.png)"
   ]
  },
  {
   "cell_type": "markdown",
   "metadata": {},
   "source": [
    "Let $x_1$, $x_2$ and $x_3$ be the distance in the x direction from equilibrium position for bodies $m_1$, $m_2$ and $m_3$ respectively"
   ]
  },
  {
   "cell_type": "code",
   "execution_count": 22,
   "metadata": {},
   "outputs": [],
   "source": [
    "# Variable definitions\n",
    "from mathpad import *\n",
    "from IPython.display import display\n",
    "\n",
    "x1 = \"x1(t)\" * m\n",
    "v1 = diff(x1)\n",
    "m1 = \"m1\" * kg\n",
    "\n",
    "x2 = \"x2(t)\" * m\n",
    "v2 = diff(x2)\n",
    "m2 = \"m2\" * kg\n",
    "\n",
    "x3 = \"x3(t)\" * m\n",
    "v3 = diff(x3)\n",
    "m3 = \"m3\" * kg\n",
    "\n",
    "c = \"c\" * N * s / m\n",
    "F = \"F(t)\" * N\n",
    "\n",
    "k1 = \"k1\" * N / m\n",
    "k2 = \"k2\" * N / m"
   ]
  },
  {
   "cell_type": "markdown",
   "metadata": {},
   "source": [
    "# Part A\n",
    "\n",
    "<ins>Derive the equations of motion for this system using the direct (i.e. Newton-Euler) approach.<br />Be sure to draw any necessary Free Body Diagrams.</ins>\n",
    "\n",
    "## FBD @ m1\n",
    "![Free Body Diagram 1](imgs/cart_spring_cargo/FBD_1.png)\n",
    "\n",
    "Assume $N = -mg$"
   ]
  },
  {
   "cell_type": "code",
   "execution_count": 2,
   "metadata": {},
   "outputs": [
    {
     "name": "stdout",
     "output_type": "stream",
     "text": [
      "Sum of Forces on body m2 in the i direction:\n"
     ]
    },
    {
     "data": {
      "text/latex": [
       "$\\displaystyle - c \\left(\\dot{x}_{1} - \\dot{x}_{2}\\right) - c \\left(\\dot{x}_{1} - \\dot{x}_{3}\\right) - k_{1} \\left(x_{1} - x_{2}\\right) + F \\hspace{1.25em} \\text{N}$"
      ],
      "text/plain": [
       "-c*(Derivative(x1(t), t) - Derivative(x2(t), t)) - c*(Derivative(x1(t), t) - Derivative(x3(t), t)) - k(x1(t) - x2(t)) + F(t) newtons"
      ]
     },
     "execution_count": 2,
     "metadata": {},
     "output_type": "execute_result"
    }
   ],
   "source": [
    "print(\"Sum of Forces on body m2 in the i direction:\")\n",
    "m1_sum_forces_i = F + k1 * (x2 - x1) + c * (v2 - v1) + c * (v3 - v1)\n",
    "m1_sum_forces_i"
   ]
  },
  {
   "cell_type": "markdown",
   "metadata": {},
   "source": [
    "\n",
    "\n",
    "## FBD @ m2\n",
    "![Free Body Diagram 2](imgs/cart_spring_cargo/FBD_2.png)\n",
    "\n",
    "Assume $N = -mg$"
   ]
  },
  {
   "cell_type": "code",
   "execution_count": 15,
   "metadata": {},
   "outputs": [
    {
     "name": "stdout",
     "output_type": "stream",
     "text": [
      "Sum of Forces on body m1 in the i direction:\n"
     ]
    },
    {
     "data": {
      "text/latex": [
       "$\\displaystyle c \\left(\\dot{x}_{1} - \\dot{x}_{2}\\right) + k_{1} \\left(x_{1} - x_{2}\\right) - k_{2} \\left(x_{2} - x_{3}\\right) \\hspace{1.25em} \\text{N}$"
      ],
      "text/plain": [
       "c*(Derivative(x1(t), t) - Derivative(x2(t), t)) + k(x1(t) - x2(t)) - k2*(x2(t) - x3(t)) newtons"
      ]
     },
     "execution_count": 15,
     "metadata": {},
     "output_type": "execute_result"
    }
   ],
   "source": [
    "print(\"Sum of Forces on body m1 in the i direction:\")\n",
    "m2_sum_forces_i = k2 * (x3 - x2) - c * (v2 - v1) - k1 * (x2 - x1)\n",
    "m2_sum_forces_i"
   ]
  },
  {
   "cell_type": "markdown",
   "metadata": {},
   "source": [
    "\n",
    "\n",
    "## FBD @ m3\n",
    "![Free Body Diagram 3](imgs/cart_spring_cargo/FBD_3.png)\n",
    "\n",
    "Assume $N = -mg$"
   ]
  },
  {
   "cell_type": "code",
   "execution_count": 20,
   "metadata": {},
   "outputs": [
    {
     "name": "stdout",
     "output_type": "stream",
     "text": [
      "Sum of Forces on body m3 in the i direction:\n"
     ]
    },
    {
     "data": {
      "text/latex": [
       "$\\displaystyle c \\left(\\dot{x}_{1} - \\dot{x}_{3}\\right) + k_{2} \\left(x_{2} - x_{3}\\right) \\hspace{1.25em} \\text{N}$"
      ],
      "text/plain": [
       "c*(Derivative(x1(t), t) - Derivative(x3(t), t)) + k2*(x2(t) - x3(t)) newtons"
      ]
     },
     "execution_count": 20,
     "metadata": {},
     "output_type": "execute_result"
    }
   ],
   "source": [
    "print(\"Sum of Forces on body m3 in the i direction:\")\n",
    "m3_sum_forces_i = - c * (v3 - v1) - k2 * (x3 - x2)\n",
    "m3_sum_forces_i"
   ]
  },
  {
   "cell_type": "markdown",
   "metadata": {},
   "source": [
    "## Simulation Results"
   ]
  },
  {
   "cell_type": "code",
   "execution_count": 21,
   "metadata": {},
   "outputs": [
    {
     "name": "stdout",
     "output_type": "stream",
     "text": [
      "Solving subbed Equations\n",
      "Solving finished. Simulating...\n"
     ]
    },
    {
     "data": {
      "application/vnd.jupyter.widget-view+json": {
       "model_id": "428a198b5cf8476ab526bf8ff2cb7d9c",
       "version_major": 2,
       "version_minor": 0
      },
      "text/plain": [
       "  0%|          | 0/10 [00:00<?, ?it/s]"
      ]
     },
     "metadata": {},
     "output_type": "display_data"
    },
    {
     "name": "stdout",
     "output_type": "stream",
     "text": [
      "Simulation finished. Plotting...\n"
     ]
    },
    {
     "data": {
      "image/svg+xml": "<svg class=\"main-svg\" xmlns=\"http://www.w3.org/2000/svg\" xmlns:xlink=\"http://www.w3.org/1999/xlink\" width=\"960\" height=\"400\" style=\"\" viewBox=\"0 0 960 400\"><rect x=\"0\" y=\"0\" width=\"960\" height=\"400\" style=\"fill: rgb(255, 255, 255); fill-opacity: 1;\"/><defs id=\"defs-cb92f4\"><g class=\"clips\"><clipPath id=\"clipcb92f4xyplot\" class=\"plotclip\"><rect width=\"601\" height=\"220\"/></clipPath><clipPath class=\"axesclip\" id=\"clipcb92f4x\"><rect x=\"80\" y=\"0\" width=\"601\" height=\"400\"/></clipPath><clipPath class=\"axesclip\" id=\"clipcb92f4y\"><rect x=\"0\" y=\"100\" width=\"960\" height=\"220\"/></clipPath><clipPath class=\"axesclip\" id=\"clipcb92f4xy\"><rect x=\"80\" y=\"100\" width=\"601\" height=\"220\"/></clipPath></g><g class=\"gradients\"/><g class=\"patterns\"/></defs><g class=\"bglayer\"><rect class=\"bg\" x=\"80\" y=\"100\" width=\"601\" height=\"220\" style=\"fill: rgb(229, 236, 246); fill-opacity: 1; stroke-width: 0;\"/></g><g class=\"layer-below\"><g class=\"imagelayer\"/><g class=\"shapelayer\"/></g><g class=\"cartesianlayer\"><g class=\"subplot xy\"><g class=\"layer-subplot\"><g class=\"shapelayer\"/><g class=\"imagelayer\"/></g><g class=\"gridlayer\"><g class=\"x\"><path class=\"xgrid crisp\" transform=\"translate(200.2,0)\" d=\"M0,100v220\" style=\"stroke: rgb(255, 255, 255); stroke-opacity: 1; stroke-width: 1px;\"/><path class=\"xgrid crisp\" transform=\"translate(320.4,0)\" d=\"M0,100v220\" style=\"stroke: rgb(255, 255, 255); stroke-opacity: 1; stroke-width: 1px;\"/><path class=\"xgrid crisp\" transform=\"translate(440.6,0)\" d=\"M0,100v220\" style=\"stroke: rgb(255, 255, 255); stroke-opacity: 1; stroke-width: 1px;\"/><path class=\"xgrid crisp\" transform=\"translate(560.8,0)\" d=\"M0,100v220\" style=\"stroke: rgb(255, 255, 255); stroke-opacity: 1; stroke-width: 1px;\"/></g><g class=\"y\"><path class=\"ygrid crisp\" transform=\"translate(0,243.41)\" d=\"M80,0h601\" style=\"stroke: rgb(255, 255, 255); stroke-opacity: 1; stroke-width: 1px;\"/><path class=\"ygrid crisp\" transform=\"translate(0,177.82)\" d=\"M80,0h601\" style=\"stroke: rgb(255, 255, 255); stroke-opacity: 1; stroke-width: 1px;\"/><path class=\"ygrid crisp\" transform=\"translate(0,112.23)\" d=\"M80,0h601\" style=\"stroke: rgb(255, 255, 255); stroke-opacity: 1; stroke-width: 1px;\"/></g></g><g class=\"zerolinelayer\"><path class=\"xzl zl crisp\" transform=\"translate(80,0)\" d=\"M0,100v220\" style=\"stroke: rgb(255, 255, 255); stroke-opacity: 1; stroke-width: 2px;\"/><path class=\"yzl zl crisp\" transform=\"translate(0,309)\" d=\"M80,0h601\" style=\"stroke: rgb(255, 255, 255); stroke-opacity: 1; stroke-width: 2px;\"/></g><path class=\"xlines-below\"/><path class=\"ylines-below\"/><g class=\"overlines-below\"/><g class=\"xaxislayer-below\"/><g class=\"yaxislayer-below\"/><g class=\"overaxes-below\"/><g class=\"plot\" transform=\"translate(80,100)\" clip-path=\"url(#clipcb92f4xyplot)\"><g class=\"scatterlayer mlayer\"><g class=\"trace scatter trace28158d\" style=\"stroke-miterlimit: 2; opacity: 1;\"><g class=\"fills\"/><g class=\"errorbars\"/><g class=\"lines\"><path class=\"js-line\" d=\"M0,209L5.66,179.57L5.96,178.08L12.87,146.01L13.17,144.71L19.83,117.55L19.9,117.29L28.91,85.68L28.91,85.68L29.03,85.29L38.65,57.3L38.71,57.14L47.73,35.39L48.03,34.72L57.94,14.95L58.24,14.41L60.17,11L60.35,12.1L60.65,13.21L68.7,40.88L68.76,41.07L77.6,66.91L77.6,66.91L77.72,67.23L86.01,87.24L86.01,87.24L86.13,87.5L94,102.88L94.3,103.4L101.51,114.53L101.57,114.6L109.63,124.08L109.93,124.38L116.78,130.18L116.84,130.22L124.05,134.42L124.35,134.56L132.89,137.33L132.89,137.33L133.01,137.36L141.48,138.25L141.78,138.26L151.7,137.52L152,137.47L161.31,135.59L161.61,135.51L178.14,130.79L178.44,130.7L197.73,125.06L197.8,125.04L225.44,119.44L225.44,119.44L225.56,119.43L246.48,117.27L246.48,117.27L246.6,117.26L289.33,114.14L289.63,114.11L321.18,109.5L321.48,109.44L342.16,105.24L342.22,105.22L390.65,96.03L390.72,96.02L416.74,93.79L417.04,93.78L435.97,93.72L436.27,93.73L466.62,95.7L466.92,95.73L533.93,100.93L534.23,100.94L589.83,100.5L590.13,100.49L601,100.11L601,100.11\" style=\"vector-effect: non-scaling-stroke; fill: none; stroke: rgb(99, 110, 250); stroke-opacity: 1; stroke-width: 2px; opacity: 1;\"/></g><g class=\"points\"/><g class=\"text\"/></g><g class=\"trace scatter trace6e9f1f\" style=\"stroke-miterlimit: 2; opacity: 1;\"><g class=\"fills\"/><g class=\"errorbars\"/><g class=\"lines\"><path class=\"js-line\" d=\"M0,209L5.66,208.26L5.96,208.18L11.06,206.16L11.36,206L17.07,202.19L17.37,201.95L22.78,196.85L22.84,196.79L30.84,186.82L30.9,186.73L39.13,173.64L39.13,173.64L39.25,173.43L48.33,156.09L48.63,155.47L57.34,136.42L57.64,135.73L71.77,104.58L72.07,103.98L82.34,85.86L82.4,85.76L89.19,76.31L89.49,75.94L97.91,67.31L97.96,67.27L104.04,63.1L104.04,63.1L104.16,63.04L110.58,60.48L110.65,60.46L117.44,59.69L117.74,59.7L124.05,60.65L124.35,60.73L131.87,63.69L132.17,63.84L139.68,68.41L139.98,68.62L150.8,77.19L150.85,77.24L165.22,90.32L165.27,90.37L185.71,107.76L185.78,107.81L195.39,114.08L195.39,114.08L195.51,114.15L205.19,118.69L205.49,118.8L215.4,121.38L215.7,121.42L223.82,121.97L224.12,121.96L232.05,121.21L232.05,121.21L232.17,121.19L243.4,118.27L243.47,118.24L254.29,113.85L254.29,113.85L254.41,113.79L273.7,103.87L274,103.71L295.28,93.03L295.34,93L309.1,87.85L309.16,87.84L321,85.06L321,85.06L321.12,85.04L332,83.97L332.3,83.96L342.82,84.26L343.12,84.29L354.84,85.99L355.14,86.05L371.66,90.24L371.96,90.33L392.1,96.74L392.4,96.84L422.15,104.94L422.45,105L435.97,107.08L436.27,107.11L454.6,107.94L454.9,107.93L468.43,107.2L468.73,107.17L486.46,104.94L486.76,104.9L538.74,96.97L539.04,96.94L564.53,95.52L564.59,95.52L589.83,96.24L590.13,96.26L601,97.04L601,97.04\" style=\"vector-effect: non-scaling-stroke; fill: none; stroke: rgb(239, 85, 59); stroke-opacity: 1; stroke-width: 2px; opacity: 1;\"/></g><g class=\"points\"/><g class=\"text\"/></g><g class=\"trace scatter trace38bbae\" style=\"stroke-miterlimit: 2; opacity: 1;\"><g class=\"fills\"/><g class=\"errorbars\"/><g class=\"lines\"><path class=\"js-line\" d=\"M0,209L5.66,208.31L5.96,208.23L12.27,205.92L12.57,205.77L20.43,201.01L20.5,200.96L30.72,192.4L30.72,192.4L30.84,192.28L41.11,181.59L41.41,181.25L47.67,173.94L47.73,173.86L60.65,157.19L60.7,157.11L72.19,143.72L72.19,143.72L72.31,143.6L83.61,133.33L83.61,133.33L83.73,133.24L96.83,123.29L96.83,123.29L96.95,123.2L170.93,70.62L171.23,70.44L182.1,64.52L182.17,64.49L191.79,60.5L191.79,60.5L191.91,60.46L200.98,57.95L201.28,57.89L210.54,56.72L210.6,56.72L221.17,57.1L221.23,57.11L230.43,58.87L230.73,58.95L240.47,62.14L240.47,62.14L240.59,62.19L252.67,67.69L252.97,67.85L266.84,75.62L266.91,75.66L301.89,96.16L301.95,96.19L314.51,102.05L314.57,102.07L325.39,105.97L325.69,106.06L339.15,109.22L339.21,109.23L351.23,110.5L351.53,110.51L365.05,110.35L365.35,110.33L383.62,108.08L383.68,108.07L408.93,103.12L409.23,103.05L434.77,98.48L435.07,98.44L457.96,96.3L458.03,96.3L474.79,96.11L474.86,96.12L491.08,96.87L491.08,96.87L491.2,96.88L515.12,98.96L515.12,98.96L515.24,98.97L563.38,102.4L563.68,102.41L583.82,102.51L584.12,102.5L601,101.96L601,101.96\" style=\"vector-effect: non-scaling-stroke; fill: none; stroke: rgb(0, 204, 150); stroke-opacity: 1; stroke-width: 2px; opacity: 1;\"/></g><g class=\"points\"/><g class=\"text\"/></g></g></g><g class=\"overplot\"/><path class=\"xlines-above crisp\" d=\"M0,0\" style=\"fill: none;\"/><path class=\"ylines-above crisp\" d=\"M0,0\" style=\"fill: none;\"/><g class=\"overlines-above\"/><g class=\"xaxislayer-above\"><g class=\"xtick\"><text text-anchor=\"middle\" x=\"0\" y=\"333\" transform=\"translate(80,0)\" style=\"font-family: 'Open Sans', verdana, arial, sans-serif; font-size: 12px; fill: rgb(42, 63, 95); fill-opacity: 1; white-space: pre; opacity: 1;\">0</text></g><g class=\"xtick\"><text text-anchor=\"middle\" x=\"0\" y=\"333\" style=\"font-family: 'Open Sans', verdana, arial, sans-serif; font-size: 12px; fill: rgb(42, 63, 95); fill-opacity: 1; white-space: pre; opacity: 1;\" transform=\"translate(200.2,0)\">2</text></g><g class=\"xtick\"><text text-anchor=\"middle\" x=\"0\" y=\"333\" style=\"font-family: 'Open Sans', verdana, arial, sans-serif; font-size: 12px; fill: rgb(42, 63, 95); fill-opacity: 1; white-space: pre; opacity: 1;\" transform=\"translate(320.4,0)\">4</text></g><g class=\"xtick\"><text text-anchor=\"middle\" x=\"0\" y=\"333\" style=\"font-family: 'Open Sans', verdana, arial, sans-serif; font-size: 12px; fill: rgb(42, 63, 95); fill-opacity: 1; white-space: pre; opacity: 1;\" transform=\"translate(440.6,0)\">6</text></g><g class=\"xtick\"><text text-anchor=\"middle\" x=\"0\" y=\"333\" style=\"font-family: 'Open Sans', verdana, arial, sans-serif; font-size: 12px; fill: rgb(42, 63, 95); fill-opacity: 1; white-space: pre; opacity: 1;\" transform=\"translate(560.8,0)\">8</text></g><g class=\"xtick\"><text text-anchor=\"middle\" x=\"0\" y=\"333\" style=\"font-family: 'Open Sans', verdana, arial, sans-serif; font-size: 12px; fill: rgb(42, 63, 95); fill-opacity: 1; white-space: pre; opacity: 1;\" transform=\"translate(681,0)\">10</text></g></g><g class=\"yaxislayer-above\"><g class=\"ytick\"><text text-anchor=\"end\" x=\"79\" y=\"4.199999999999999\" transform=\"translate(0,309)\" style=\"font-family: 'Open Sans', verdana, arial, sans-serif; font-size: 12px; fill: rgb(42, 63, 95); fill-opacity: 1; white-space: pre; opacity: 1;\">0</text></g><g class=\"ytick\"><text text-anchor=\"end\" x=\"79\" y=\"4.199999999999999\" style=\"font-family: 'Open Sans', verdana, arial, sans-serif; font-size: 12px; fill: rgb(42, 63, 95); fill-opacity: 1; white-space: pre; opacity: 1;\" transform=\"translate(0,243.41)\">0.2</text></g><g class=\"ytick\"><text text-anchor=\"end\" x=\"79\" y=\"4.199999999999999\" style=\"font-family: 'Open Sans', verdana, arial, sans-serif; font-size: 12px; fill: rgb(42, 63, 95); fill-opacity: 1; white-space: pre; opacity: 1;\" transform=\"translate(0,177.82)\">0.4</text></g><g class=\"ytick\"><text text-anchor=\"end\" x=\"79\" y=\"4.199999999999999\" style=\"font-family: 'Open Sans', verdana, arial, sans-serif; font-size: 12px; fill: rgb(42, 63, 95); fill-opacity: 1; white-space: pre; opacity: 1;\" transform=\"translate(0,112.23)\">0.6</text></g></g><g class=\"overaxes-above\"/></g></g><g class=\"polarlayer\"/><g class=\"ternarylayer\"/><g class=\"geolayer\"/><g class=\"funnelarealayer\"/><g class=\"pielayer\"/><g class=\"iciclelayer\"/><g class=\"treemaplayer\"/><g class=\"sunburstlayer\"/><g class=\"glimages\"/><defs id=\"topdefs-cb92f4\"><g class=\"clips\"/><clipPath id=\"legendcb92f4\"><rect width=\"255\" height=\"67\" x=\"0\" y=\"0\"/></clipPath></defs><g class=\"layer-above\"><g class=\"imagelayer\"/><g class=\"shapelayer\"/></g><g class=\"infolayer\"><g class=\"legend\" pointer-events=\"all\" transform=\"translate(693.02,100)\"><rect class=\"bg\" shape-rendering=\"crispEdges\" width=\"255\" height=\"67\" x=\"0\" y=\"0\" style=\"stroke: rgb(68, 68, 68); stroke-opacity: 1; fill: rgb(255, 255, 255); fill-opacity: 1; stroke-width: 0px;\"/><g class=\"scrollbox\" transform=\"\" clip-path=\"url(#legendcb92f4)\"><g class=\"groups\"><g class=\"traces\" transform=\"translate(0,14.5)\" style=\"opacity: 1;\"><text class=\"legendtext\" text-anchor=\"start\" x=\"40\" y=\"4.680000000000001\" style=\"font-family: 'Open Sans', verdana, arial, sans-serif; font-size: 12px; fill: rgb(42, 63, 95); fill-opacity: 1; white-space: pre;\">Derivative(x1(t), t) meters/second</text><g class=\"layers\" style=\"opacity: 1;\"><g class=\"legendfill\"/><g class=\"legendlines\"><path class=\"js-line\" d=\"M5,0h30\" style=\"fill: none; stroke: rgb(99, 110, 250); stroke-opacity: 1; stroke-width: 2px;\"/></g><g class=\"legendsymbols\"><g class=\"legendpoints\"/></g></g><rect class=\"legendtoggle\" x=\"0\" y=\"-9.5\" width=\"249.375\" height=\"19\" style=\"fill: rgb(0, 0, 0); fill-opacity: 0;\"/></g><g class=\"traces\" transform=\"translate(0,33.5)\" style=\"opacity: 1;\"><text class=\"legendtext\" text-anchor=\"start\" x=\"40\" y=\"4.680000000000001\" style=\"font-family: 'Open Sans', verdana, arial, sans-serif; font-size: 12px; fill: rgb(42, 63, 95); fill-opacity: 1; white-space: pre;\">Derivative(x2(t), t) meters/second</text><g class=\"layers\" style=\"opacity: 1;\"><g class=\"legendfill\"/><g class=\"legendlines\"><path class=\"js-line\" d=\"M5,0h30\" style=\"fill: none; stroke: rgb(239, 85, 59); stroke-opacity: 1; stroke-width: 2px;\"/></g><g class=\"legendsymbols\"><g class=\"legendpoints\"/></g></g><rect class=\"legendtoggle\" x=\"0\" y=\"-9.5\" width=\"249.375\" height=\"19\" style=\"fill: rgb(0, 0, 0); fill-opacity: 0;\"/></g><g class=\"traces\" transform=\"translate(0,52.5)\" style=\"opacity: 1;\"><text class=\"legendtext\" text-anchor=\"start\" x=\"40\" y=\"4.680000000000001\" style=\"font-family: 'Open Sans', verdana, arial, sans-serif; font-size: 12px; fill: rgb(42, 63, 95); fill-opacity: 1; white-space: pre;\">Derivative(x3(t), t) meters/second</text><g class=\"layers\" style=\"opacity: 1;\"><g class=\"legendfill\"/><g class=\"legendlines\"><path class=\"js-line\" d=\"M5,0h30\" style=\"fill: none; stroke: rgb(0, 204, 150); stroke-opacity: 1; stroke-width: 2px;\"/></g><g class=\"legendsymbols\"><g class=\"legendpoints\"/></g></g><rect class=\"legendtoggle\" x=\"0\" y=\"-9.5\" width=\"249.375\" height=\"19\" style=\"fill: rgb(0, 0, 0); fill-opacity: 0;\"/></g></g></g><rect class=\"scrollbar\" rx=\"20\" ry=\"3\" width=\"0\" height=\"0\" x=\"0\" y=\"0\" style=\"fill: rgb(128, 139, 164); fill-opacity: 1;\"/></g><g class=\"g-gtitle\"><text class=\"gtitle\" x=\"480\" y=\"40\" text-anchor=\"middle\" dy=\"0.7em\" style=\"font-family: 'Open Sans', verdana, arial, sans-serif; font-size: 17px; fill: rgb(42, 63, 95); opacity: 1; font-weight: normal; white-space: pre;\">Cart'n'Cargo System Response to a Small [Direct Method]</text></g><g class=\"g-xtitle\"><text class=\"xtitle\" x=\"380.5\" y=\"360.8\" text-anchor=\"middle\" style=\"font-family: 'Open Sans', verdana, arial, sans-serif; font-size: 14px; fill: rgb(42, 63, 95); opacity: 1; font-weight: normal; white-space: pre;\">t seconds</text></g><g class=\"g-ytitle\"/></g></svg>"
     },
     "metadata": {},
     "output_type": "display_data"
    }
   ],
   "source": [
    "system_dynamics = [\n",
    "    m1 * diff(v1) == m1_sum_forces_i,\n",
    "    m2 * diff(v2) == m2_sum_forces_i,\n",
    "    m3 * diff(v3) == m3_sum_forces_i,\n",
    "]\n",
    "\n",
    "sim_data = simulate_dynamic_system(\n",
    "    system_dynamics,\n",
    "    plot_title=\"Cart'n'Cargo System Response to a Small [Direct Method]\",\n",
    "    x_f=10, max_step=0.01,\n",
    "    substitute={\n",
    "        k1: 1,\n",
    "        k2: 1,\n",
    "        m1: 1,\n",
    "        m2: 1,\n",
    "        m3: 1,\n",
    "        c: 0.5,\n",
    "        # A small perturbation\n",
    "        F: piecewise(t, [(1, 1 * N), (float('inf'), 0 * N)]),\n",
    "    },\n",
    "    initial_conditions={\n",
    "        x1: 0,\n",
    "        diff(x1): 0, \n",
    "        x2: 0,\n",
    "        diff(x2): 0,\n",
    "        x3: 0,\n",
    "        diff(x3): 0\n",
    "    },\n",
    "    record=diff([x1, x2, x3]), # type: ignore\n",
    "    plot_static=True\n",
    ")"
   ]
  },
  {
   "cell_type": "markdown",
   "metadata": {},
   "source": [
    "# Part B\n",
    "\n",
    "<ins>Repeat a) using lagrange's equations. Be sure to specify any generalized coordinates</ins>\n",
    "\n"
   ]
  },
  {
   "cell_type": "code",
   "execution_count": 6,
   "metadata": {},
   "outputs": [
    {
     "name": "stdout",
     "output_type": "stream",
     "text": [
      "Kinetic Energy\n"
     ]
    },
    {
     "data": {
      "text/latex": [
       "$\\displaystyle \\frac{m_{1} \\dot{x}_{1}^{2}}{2} + \\frac{m_{2} \\dot{x}_{2}^{2}}{2} + \\frac{m_{3} \\dot{x}_{3}^{2}}{2} \\hspace{1.25em} \\frac{\\text{kg} \\text{m}^{2}}{\\text{s}^{2}}$"
      ],
      "text/plain": [
       "0.5*mDerivative(x1(t), t)**2 + 0.5*m2*Derivative(x2(t), t)**2 + 0.5*m3*Derivative(x3(t), t)**2 kilogram*meters**2/second**2"
      ]
     },
     "execution_count": 6,
     "metadata": {},
     "output_type": "execute_result"
    }
   ],
   "source": [
    "# Kinetic energy\n",
    "from mathpad.mech import kinetic_energy, elastic_energy, euler_lagrange\n",
    "\n",
    "print(\"Kinetic Energy\")\n",
    "T = kinetic_energy(m1, diff(x1)) + kinetic_energy(m2, diff(x2)) + kinetic_energy(m3, diff(x3))\n",
    "T"
   ]
  },
  {
   "cell_type": "code",
   "execution_count": 7,
   "metadata": {},
   "outputs": [
    {
     "name": "stdout",
     "output_type": "stream",
     "text": [
      "Potential Energy\n"
     ]
    },
    {
     "data": {
      "text/latex": [
       "$\\displaystyle \\frac{k_{1} \\left(x_{1} - x_{2}\\right)^{2}}{2} + \\frac{k_{2} \\left(x_{2} - x_{3}\\right)^{2}}{2} \\hspace{1.25em} \\text{m} \\text{N}$"
      ],
      "text/plain": [
       "0.5*k(x1(t) - x2(t))**2 + 0.5*k2*(x2(t) - x3(t))**2 meter*newtons"
      ]
     },
     "execution_count": 7,
     "metadata": {},
     "output_type": "execute_result"
    }
   ],
   "source": [
    "print(\"Potential Energy\")\n",
    "V = elastic_energy(k1, x2 - x1) + elastic_energy(k2, x3 - x2)\n",
    "V"
   ]
  },
  {
   "cell_type": "code",
   "execution_count": 8,
   "metadata": {},
   "outputs": [
    {
     "name": "stdout",
     "output_type": "stream",
     "text": [
      "Damping Force between bodies 1 & 2:\n"
     ]
    },
    {
     "data": {
      "text/latex": [
       "$\\displaystyle c \\left(- \\dot{x}_{1} + \\dot{x}_{2}\\right) \\hspace{1.25em} \\text{N}$"
      ],
      "text/plain": [
       "c*(-Derivative(x1(t), t) + Derivative(x2(t), t)) newtons"
      ]
     },
     "metadata": {},
     "output_type": "display_data"
    },
    {
     "name": "stdout",
     "output_type": "stream",
     "text": [
      "Damping Force between bodies 1 & 3:\n"
     ]
    },
    {
     "data": {
      "text/latex": [
       "$\\displaystyle c \\left(- \\dot{x}_{1} + \\dot{x}_{3}\\right) \\hspace{1.25em} \\text{N}$"
      ],
      "text/plain": [
       "c*(-Derivative(x1(t), t) + Derivative(x3(t), t)) newtons"
      ]
     },
     "metadata": {},
     "output_type": "display_data"
    }
   ],
   "source": [
    "print(\"Damping Force between bodies 1 & 2:\")\n",
    "Fc2 = c * diff(x2 - x1)\n",
    "display(Fc2)\n",
    "\n",
    "print(\"Damping Force between bodies 1 & 3:\")\n",
    "Fc3 = c * diff(x3 - x1)\n",
    "display(Fc3)"
   ]
  },
  {
   "cell_type": "code",
   "execution_count": 9,
   "metadata": {},
   "outputs": [
    {
     "name": "stdout",
     "output_type": "stream",
     "text": [
      "Non-Conservative Forces @ Body 1\n"
     ]
    },
    {
     "data": {
      "text/latex": [
       "$\\displaystyle - 2 c \\dot{x}_{1} + c \\dot{x}_{2} + c \\dot{x}_{3} + F \\hspace{1.25em} \\text{N}$"
      ],
      "text/plain": [
       "-2*c*Derivative(x1(t), t) + c*Derivative(x2(t), t) + c*Derivative(x3(t), t) + F(t) newtons"
      ]
     },
     "metadata": {},
     "output_type": "display_data"
    },
    {
     "name": "stdout",
     "output_type": "stream",
     "text": [
      "Dynamics of Body 1\n"
     ]
    },
    {
     "data": {
      "text/latex": [
       "$\\displaystyle k_{1} \\left(x_{1} - x_{2}\\right) + m_{1} \\ddot{x}_{1} = - 2 c \\dot{x}_{1} + c \\dot{x}_{2} + c \\dot{x}_{3} + F \\hspace{1.25em} \\frac{\\text{kg} \\text{m}}{\\text{s}^{2}}$"
      ],
      "text/plain": [
       "k(x1(t) - x2(t)) + mDerivative(x1(t), (t, 2)) = -2*c*Derivative(x1(t), t) + c*Derivative(x2(t), t) + c*Derivative(x3(t), t) + F(t) kilogram*meter/second**2"
      ]
     },
     "execution_count": 9,
     "metadata": {},
     "output_type": "execute_result"
    }
   ],
   "source": [
    "print(\"Non-Conservative Forces @ Body 1\")\n",
    "Qx1 = F + Fc2 + Fc3\n",
    "display(Qx1)\n",
    "\n",
    "print(\"Dynamics of Body 1\")\n",
    "x1_dynamics = euler_lagrange(T, V, Qx1, x1)\n",
    "x1_dynamics"
   ]
  },
  {
   "cell_type": "code",
   "execution_count": 10,
   "metadata": {},
   "outputs": [
    {
     "name": "stdout",
     "output_type": "stream",
     "text": [
      "Non-Conservative Forces @ Body 2\n"
     ]
    },
    {
     "data": {
      "text/latex": [
       "$\\displaystyle - c \\left(- \\dot{x}_{1} + \\dot{x}_{2}\\right) \\hspace{1.25em} \\text{N}$"
      ],
      "text/plain": [
       "-c*(-Derivative(x1(t), t) + Derivative(x2(t), t)) newtons"
      ]
     },
     "metadata": {},
     "output_type": "display_data"
    },
    {
     "name": "stdout",
     "output_type": "stream",
     "text": [
      "Dynamics of Body 2\n"
     ]
    },
    {
     "data": {
      "text/latex": [
       "$\\displaystyle - k_{1} \\left(x_{1} - x_{2}\\right) + k_{2} \\left(x_{2} - x_{3}\\right) + m_{2} \\ddot{x}_{2} = - c \\left(- \\dot{x}_{1} + \\dot{x}_{2}\\right) \\hspace{1.25em} \\frac{\\text{kg} \\text{m}}{\\text{s}^{2}}$"
      ],
      "text/plain": [
       "-k(x1(t) - x2(t)) + k2*(x2(t) - x3(t)) + m2*Derivative(x2(t), (t, 2)) = -c*(-Derivative(x1(t), t) + Derivative(x2(t), t)) kilogram*meter/second**2"
      ]
     },
     "execution_count": 10,
     "metadata": {},
     "output_type": "execute_result"
    }
   ],
   "source": [
    "print(\"Non-Conservative Forces @ Body 2\")\n",
    "Qx2 = -Fc2\n",
    "display(Qx2)\n",
    "\n",
    "print(\"Dynamics of Body 2\")\n",
    "x2_dynamics = euler_lagrange(T, V, Qx2, x2)\n",
    "x2_dynamics"
   ]
  },
  {
   "cell_type": "code",
   "execution_count": 11,
   "metadata": {},
   "outputs": [
    {
     "name": "stdout",
     "output_type": "stream",
     "text": [
      "Non-Conservative Forces @ Body 3\n"
     ]
    },
    {
     "data": {
      "text/latex": [
       "$\\displaystyle - c \\left(- \\dot{x}_{1} + \\dot{x}_{3}\\right) \\hspace{1.25em} \\text{N}$"
      ],
      "text/plain": [
       "-c*(-Derivative(x1(t), t) + Derivative(x3(t), t)) newtons"
      ]
     },
     "metadata": {},
     "output_type": "display_data"
    },
    {
     "name": "stdout",
     "output_type": "stream",
     "text": [
      "Dynamics of Body 3\n"
     ]
    },
    {
     "data": {
      "text/latex": [
       "$\\displaystyle - k_{2} \\left(x_{2} - x_{3}\\right) + m_{3} \\ddot{x}_{3} = - c \\left(- \\dot{x}_{1} + \\dot{x}_{3}\\right) \\hspace{1.25em} \\frac{\\text{kg} \\text{m}}{\\text{s}^{2}}$"
      ],
      "text/plain": [
       "-k2*(x2(t) - x3(t)) + m3*Derivative(x3(t), (t, 2)) = -c*(-Derivative(x1(t), t) + Derivative(x3(t), t)) kilogram*meter/second**2"
      ]
     },
     "execution_count": 11,
     "metadata": {},
     "output_type": "execute_result"
    }
   ],
   "source": [
    "print(\"Non-Conservative Forces @ Body 3\")\n",
    "Qx3 = -Fc3\n",
    "display(Qx3)\n",
    "\n",
    "print(\"Dynamics of Body 3\")\n",
    "x3_dynamics = euler_lagrange(T, V, Qx3, x3)\n",
    "x3_dynamics"
   ]
  },
  {
   "cell_type": "markdown",
   "metadata": {},
   "source": [
    "## Simulation Results"
   ]
  },
  {
   "cell_type": "code",
   "execution_count": 12,
   "metadata": {},
   "outputs": [
    {
     "name": "stdout",
     "output_type": "stream",
     "text": [
      "Solving subbed Equations\n",
      "Solving finished. Simulating...\n"
     ]
    },
    {
     "data": {
      "application/vnd.jupyter.widget-view+json": {
       "model_id": "be23f888ae204ad497481ebbbf048e91",
       "version_major": 2,
       "version_minor": 0
      },
      "text/plain": [
       "  0%|          | 0/10 [00:00<?, ?it/s]"
      ]
     },
     "metadata": {},
     "output_type": "display_data"
    },
    {
     "name": "stdout",
     "output_type": "stream",
     "text": [
      "Simulation finished. Plotting...\n"
     ]
    },
    {
     "data": {
      "image/svg+xml": "<svg class=\"main-svg\" xmlns=\"http://www.w3.org/2000/svg\" xmlns:xlink=\"http://www.w3.org/1999/xlink\" width=\"960\" height=\"400\" style=\"\" viewBox=\"0 0 960 400\"><rect x=\"0\" y=\"0\" width=\"960\" height=\"400\" style=\"fill: rgb(255, 255, 255); fill-opacity: 1;\"/><defs id=\"defs-00127a\"><g class=\"clips\"><clipPath id=\"clip00127axyplot\" class=\"plotclip\"><rect width=\"601\" height=\"220\"/></clipPath><clipPath class=\"axesclip\" id=\"clip00127ax\"><rect x=\"80\" y=\"0\" width=\"601\" height=\"400\"/></clipPath><clipPath class=\"axesclip\" id=\"clip00127ay\"><rect x=\"0\" y=\"100\" width=\"960\" height=\"220\"/></clipPath><clipPath class=\"axesclip\" id=\"clip00127axy\"><rect x=\"80\" y=\"100\" width=\"601\" height=\"220\"/></clipPath></g><g class=\"gradients\"/><g class=\"patterns\"/></defs><g class=\"bglayer\"><rect class=\"bg\" x=\"80\" y=\"100\" width=\"601\" height=\"220\" style=\"fill: rgb(229, 236, 246); fill-opacity: 1; stroke-width: 0;\"/></g><g class=\"layer-below\"><g class=\"imagelayer\"/><g class=\"shapelayer\"/></g><g class=\"cartesianlayer\"><g class=\"subplot xy\"><g class=\"layer-subplot\"><g class=\"shapelayer\"/><g class=\"imagelayer\"/></g><g class=\"gridlayer\"><g class=\"x\"><path class=\"xgrid crisp\" transform=\"translate(200.2,0)\" d=\"M0,100v220\" style=\"stroke: rgb(255, 255, 255); stroke-opacity: 1; stroke-width: 1px;\"/><path class=\"xgrid crisp\" transform=\"translate(320.4,0)\" d=\"M0,100v220\" style=\"stroke: rgb(255, 255, 255); stroke-opacity: 1; stroke-width: 1px;\"/><path class=\"xgrid crisp\" transform=\"translate(440.6,0)\" d=\"M0,100v220\" style=\"stroke: rgb(255, 255, 255); stroke-opacity: 1; stroke-width: 1px;\"/><path class=\"xgrid crisp\" transform=\"translate(560.8,0)\" d=\"M0,100v220\" style=\"stroke: rgb(255, 255, 255); stroke-opacity: 1; stroke-width: 1px;\"/></g><g class=\"y\"><path class=\"ygrid crisp\" transform=\"translate(0,243.41)\" d=\"M80,0h601\" style=\"stroke: rgb(255, 255, 255); stroke-opacity: 1; stroke-width: 1px;\"/><path class=\"ygrid crisp\" transform=\"translate(0,177.82)\" d=\"M80,0h601\" style=\"stroke: rgb(255, 255, 255); stroke-opacity: 1; stroke-width: 1px;\"/><path class=\"ygrid crisp\" transform=\"translate(0,112.23)\" d=\"M80,0h601\" style=\"stroke: rgb(255, 255, 255); stroke-opacity: 1; stroke-width: 1px;\"/></g></g><g class=\"zerolinelayer\"><path class=\"xzl zl crisp\" transform=\"translate(80,0)\" d=\"M0,100v220\" style=\"stroke: rgb(255, 255, 255); stroke-opacity: 1; stroke-width: 2px;\"/><path class=\"yzl zl crisp\" transform=\"translate(0,309)\" d=\"M80,0h601\" style=\"stroke: rgb(255, 255, 255); stroke-opacity: 1; stroke-width: 2px;\"/></g><path class=\"xlines-below\"/><path class=\"ylines-below\"/><g class=\"overlines-below\"/><g class=\"xaxislayer-below\"/><g class=\"yaxislayer-below\"/><g class=\"overaxes-below\"/><g class=\"plot\" transform=\"translate(80,100)\" clip-path=\"url(#clip00127axyplot)\"><g class=\"scatterlayer mlayer\"><g class=\"trace scatter traced7775d\" style=\"stroke-miterlimit: 2; opacity: 1;\"><g class=\"fills\"/><g class=\"errorbars\"/><g class=\"lines\"><path class=\"js-line\" d=\"M0,209L5.66,179.57L5.96,178.08L12.87,146.01L13.17,144.71L19.83,117.55L19.9,117.29L28.91,85.68L28.91,85.68L29.03,85.29L38.65,57.3L38.71,57.14L47.73,35.39L48.03,34.72L57.94,14.95L58.24,14.41L60.17,11L60.35,12.1L60.65,13.21L68.7,40.88L68.76,41.07L77.6,66.91L77.6,66.91L77.72,67.23L86.01,87.24L86.01,87.24L86.13,87.5L94,102.88L94.3,103.4L101.51,114.53L101.57,114.6L109.63,124.08L109.93,124.38L116.78,130.18L116.84,130.22L124.05,134.42L124.35,134.56L132.89,137.33L132.89,137.33L133.01,137.36L141.48,138.25L141.78,138.26L151.7,137.52L152,137.47L161.31,135.59L161.61,135.51L178.14,130.79L178.44,130.7L197.73,125.06L197.8,125.04L225.44,119.44L225.44,119.44L225.56,119.43L246.48,117.27L246.48,117.27L246.6,117.26L289.33,114.14L289.63,114.11L321.18,109.5L321.48,109.44L342.16,105.24L342.22,105.22L390.65,96.03L390.72,96.02L416.74,93.79L417.04,93.78L435.97,93.72L436.27,93.73L466.62,95.7L466.92,95.73L533.93,100.93L534.23,100.94L589.83,100.5L590.13,100.49L601,100.11L601,100.11\" style=\"vector-effect: non-scaling-stroke; fill: none; stroke: rgb(99, 110, 250); stroke-opacity: 1; stroke-width: 2px; opacity: 1;\"/></g><g class=\"points\"/><g class=\"text\"/></g><g class=\"trace scatter traceffded3\" style=\"stroke-miterlimit: 2; opacity: 1;\"><g class=\"fills\"/><g class=\"errorbars\"/><g class=\"lines\"><path class=\"js-line\" d=\"M0,209L5.66,208.26L5.96,208.18L11.06,206.16L11.36,206L17.07,202.19L17.37,201.95L22.78,196.85L22.84,196.79L30.84,186.82L30.9,186.73L39.13,173.64L39.13,173.64L39.25,173.43L48.33,156.09L48.63,155.47L57.34,136.42L57.64,135.73L71.77,104.58L72.07,103.98L82.34,85.86L82.4,85.76L89.19,76.31L89.49,75.94L97.91,67.31L97.96,67.27L104.04,63.1L104.04,63.1L104.16,63.04L110.58,60.48L110.65,60.46L117.44,59.69L117.74,59.7L124.05,60.65L124.35,60.73L131.87,63.69L132.17,63.84L139.68,68.41L139.98,68.62L150.8,77.19L150.85,77.24L165.22,90.32L165.27,90.37L185.71,107.76L185.78,107.81L195.39,114.08L195.39,114.08L195.51,114.15L205.19,118.69L205.49,118.8L215.4,121.38L215.7,121.42L223.82,121.97L224.12,121.96L232.05,121.21L232.05,121.21L232.17,121.19L243.4,118.27L243.47,118.24L254.29,113.85L254.29,113.85L254.41,113.79L273.7,103.87L274,103.71L295.28,93.03L295.34,93L309.1,87.85L309.16,87.84L321,85.06L321,85.06L321.12,85.04L332,83.97L332.3,83.96L342.82,84.26L343.12,84.29L354.84,85.99L355.14,86.05L371.66,90.24L371.96,90.33L392.1,96.74L392.4,96.84L422.15,104.94L422.45,105L435.97,107.08L436.27,107.11L454.6,107.94L454.9,107.93L468.43,107.2L468.73,107.17L486.46,104.94L486.76,104.9L538.74,96.97L539.04,96.94L564.53,95.52L564.59,95.52L589.83,96.24L590.13,96.26L601,97.04L601,97.04\" style=\"vector-effect: non-scaling-stroke; fill: none; stroke: rgb(239, 85, 59); stroke-opacity: 1; stroke-width: 2px; opacity: 1;\"/></g><g class=\"points\"/><g class=\"text\"/></g><g class=\"trace scatter tracec54032\" style=\"stroke-miterlimit: 2; opacity: 1;\"><g class=\"fills\"/><g class=\"errorbars\"/><g class=\"lines\"><path class=\"js-line\" d=\"M0,209L5.66,208.31L5.96,208.23L12.27,205.92L12.57,205.77L20.43,201.01L20.5,200.96L30.72,192.4L30.72,192.4L30.84,192.28L41.11,181.59L41.41,181.25L47.67,173.94L47.73,173.86L60.65,157.19L60.7,157.11L72.19,143.72L72.19,143.72L72.31,143.6L83.61,133.33L83.61,133.33L83.73,133.24L96.83,123.29L96.83,123.29L96.95,123.2L170.93,70.62L171.23,70.44L182.1,64.52L182.17,64.49L191.79,60.5L191.79,60.5L191.91,60.46L200.98,57.95L201.28,57.89L210.54,56.72L210.6,56.72L221.17,57.1L221.23,57.11L230.43,58.87L230.73,58.95L240.47,62.14L240.47,62.14L240.59,62.19L252.67,67.69L252.97,67.85L266.84,75.62L266.91,75.66L301.89,96.16L301.95,96.19L314.51,102.05L314.57,102.07L325.39,105.97L325.69,106.06L339.15,109.22L339.21,109.23L351.23,110.5L351.53,110.51L365.05,110.35L365.35,110.33L383.62,108.08L383.68,108.07L408.93,103.12L409.23,103.05L434.77,98.48L435.07,98.44L457.96,96.3L458.03,96.3L474.79,96.11L474.86,96.12L491.08,96.87L491.08,96.87L491.2,96.88L515.12,98.96L515.12,98.96L515.24,98.97L563.38,102.4L563.68,102.41L583.82,102.51L584.12,102.5L601,101.96L601,101.96\" style=\"vector-effect: non-scaling-stroke; fill: none; stroke: rgb(0, 204, 150); stroke-opacity: 1; stroke-width: 2px; opacity: 1;\"/></g><g class=\"points\"/><g class=\"text\"/></g></g></g><g class=\"overplot\"/><path class=\"xlines-above crisp\" d=\"M0,0\" style=\"fill: none;\"/><path class=\"ylines-above crisp\" d=\"M0,0\" style=\"fill: none;\"/><g class=\"overlines-above\"/><g class=\"xaxislayer-above\"><g class=\"xtick\"><text text-anchor=\"middle\" x=\"0\" y=\"333\" transform=\"translate(80,0)\" style=\"font-family: 'Open Sans', verdana, arial, sans-serif; font-size: 12px; fill: rgb(42, 63, 95); fill-opacity: 1; white-space: pre; opacity: 1;\">0</text></g><g class=\"xtick\"><text text-anchor=\"middle\" x=\"0\" y=\"333\" style=\"font-family: 'Open Sans', verdana, arial, sans-serif; font-size: 12px; fill: rgb(42, 63, 95); fill-opacity: 1; white-space: pre; opacity: 1;\" transform=\"translate(200.2,0)\">2</text></g><g class=\"xtick\"><text text-anchor=\"middle\" x=\"0\" y=\"333\" style=\"font-family: 'Open Sans', verdana, arial, sans-serif; font-size: 12px; fill: rgb(42, 63, 95); fill-opacity: 1; white-space: pre; opacity: 1;\" transform=\"translate(320.4,0)\">4</text></g><g class=\"xtick\"><text text-anchor=\"middle\" x=\"0\" y=\"333\" style=\"font-family: 'Open Sans', verdana, arial, sans-serif; font-size: 12px; fill: rgb(42, 63, 95); fill-opacity: 1; white-space: pre; opacity: 1;\" transform=\"translate(440.6,0)\">6</text></g><g class=\"xtick\"><text text-anchor=\"middle\" x=\"0\" y=\"333\" style=\"font-family: 'Open Sans', verdana, arial, sans-serif; font-size: 12px; fill: rgb(42, 63, 95); fill-opacity: 1; white-space: pre; opacity: 1;\" transform=\"translate(560.8,0)\">8</text></g><g class=\"xtick\"><text text-anchor=\"middle\" x=\"0\" y=\"333\" style=\"font-family: 'Open Sans', verdana, arial, sans-serif; font-size: 12px; fill: rgb(42, 63, 95); fill-opacity: 1; white-space: pre; opacity: 1;\" transform=\"translate(681,0)\">10</text></g></g><g class=\"yaxislayer-above\"><g class=\"ytick\"><text text-anchor=\"end\" x=\"79\" y=\"4.199999999999999\" transform=\"translate(0,309)\" style=\"font-family: 'Open Sans', verdana, arial, sans-serif; font-size: 12px; fill: rgb(42, 63, 95); fill-opacity: 1; white-space: pre; opacity: 1;\">0</text></g><g class=\"ytick\"><text text-anchor=\"end\" x=\"79\" y=\"4.199999999999999\" style=\"font-family: 'Open Sans', verdana, arial, sans-serif; font-size: 12px; fill: rgb(42, 63, 95); fill-opacity: 1; white-space: pre; opacity: 1;\" transform=\"translate(0,243.41)\">0.2</text></g><g class=\"ytick\"><text text-anchor=\"end\" x=\"79\" y=\"4.199999999999999\" style=\"font-family: 'Open Sans', verdana, arial, sans-serif; font-size: 12px; fill: rgb(42, 63, 95); fill-opacity: 1; white-space: pre; opacity: 1;\" transform=\"translate(0,177.82)\">0.4</text></g><g class=\"ytick\"><text text-anchor=\"end\" x=\"79\" y=\"4.199999999999999\" style=\"font-family: 'Open Sans', verdana, arial, sans-serif; font-size: 12px; fill: rgb(42, 63, 95); fill-opacity: 1; white-space: pre; opacity: 1;\" transform=\"translate(0,112.23)\">0.6</text></g></g><g class=\"overaxes-above\"/></g></g><g class=\"polarlayer\"/><g class=\"ternarylayer\"/><g class=\"geolayer\"/><g class=\"funnelarealayer\"/><g class=\"pielayer\"/><g class=\"iciclelayer\"/><g class=\"treemaplayer\"/><g class=\"sunburstlayer\"/><g class=\"glimages\"/><defs id=\"topdefs-00127a\"><g class=\"clips\"/><clipPath id=\"legend00127a\"><rect width=\"255\" height=\"67\" x=\"0\" y=\"0\"/></clipPath></defs><g class=\"layer-above\"><g class=\"imagelayer\"/><g class=\"shapelayer\"/></g><g class=\"infolayer\"><g class=\"legend\" pointer-events=\"all\" transform=\"translate(693.02,100)\"><rect class=\"bg\" shape-rendering=\"crispEdges\" width=\"255\" height=\"67\" x=\"0\" y=\"0\" style=\"stroke: rgb(68, 68, 68); stroke-opacity: 1; fill: rgb(255, 255, 255); fill-opacity: 1; stroke-width: 0px;\"/><g class=\"scrollbox\" transform=\"\" clip-path=\"url(#legend00127a)\"><g class=\"groups\"><g class=\"traces\" transform=\"translate(0,14.5)\" style=\"opacity: 1;\"><text class=\"legendtext\" text-anchor=\"start\" x=\"40\" y=\"4.680000000000001\" style=\"font-family: 'Open Sans', verdana, arial, sans-serif; font-size: 12px; fill: rgb(42, 63, 95); fill-opacity: 1; white-space: pre;\">Derivative(x1(t), t) meters/second</text><g class=\"layers\" style=\"opacity: 1;\"><g class=\"legendfill\"/><g class=\"legendlines\"><path class=\"js-line\" d=\"M5,0h30\" style=\"fill: none; stroke: rgb(99, 110, 250); stroke-opacity: 1; stroke-width: 2px;\"/></g><g class=\"legendsymbols\"><g class=\"legendpoints\"/></g></g><rect class=\"legendtoggle\" x=\"0\" y=\"-9.5\" width=\"249.375\" height=\"19\" style=\"fill: rgb(0, 0, 0); fill-opacity: 0;\"/></g><g class=\"traces\" transform=\"translate(0,33.5)\" style=\"opacity: 1;\"><text class=\"legendtext\" text-anchor=\"start\" x=\"40\" y=\"4.680000000000001\" style=\"font-family: 'Open Sans', verdana, arial, sans-serif; font-size: 12px; fill: rgb(42, 63, 95); fill-opacity: 1; white-space: pre;\">Derivative(x2(t), t) meters/second</text><g class=\"layers\" style=\"opacity: 1;\"><g class=\"legendfill\"/><g class=\"legendlines\"><path class=\"js-line\" d=\"M5,0h30\" style=\"fill: none; stroke: rgb(239, 85, 59); stroke-opacity: 1; stroke-width: 2px;\"/></g><g class=\"legendsymbols\"><g class=\"legendpoints\"/></g></g><rect class=\"legendtoggle\" x=\"0\" y=\"-9.5\" width=\"249.375\" height=\"19\" style=\"fill: rgb(0, 0, 0); fill-opacity: 0;\"/></g><g class=\"traces\" transform=\"translate(0,52.5)\" style=\"opacity: 1;\"><text class=\"legendtext\" text-anchor=\"start\" x=\"40\" y=\"4.680000000000001\" style=\"font-family: 'Open Sans', verdana, arial, sans-serif; font-size: 12px; fill: rgb(42, 63, 95); fill-opacity: 1; white-space: pre;\">Derivative(x3(t), t) meters/second</text><g class=\"layers\" style=\"opacity: 1;\"><g class=\"legendfill\"/><g class=\"legendlines\"><path class=\"js-line\" d=\"M5,0h30\" style=\"fill: none; stroke: rgb(0, 204, 150); stroke-opacity: 1; stroke-width: 2px;\"/></g><g class=\"legendsymbols\"><g class=\"legendpoints\"/></g></g><rect class=\"legendtoggle\" x=\"0\" y=\"-9.5\" width=\"249.375\" height=\"19\" style=\"fill: rgb(0, 0, 0); fill-opacity: 0;\"/></g></g></g><rect class=\"scrollbar\" rx=\"20\" ry=\"3\" width=\"0\" height=\"0\" x=\"0\" y=\"0\" style=\"fill: rgb(128, 139, 164); fill-opacity: 1;\"/></g><g class=\"g-gtitle\"><text class=\"gtitle\" x=\"480\" y=\"40\" text-anchor=\"middle\" dy=\"0.7em\" style=\"font-family: 'Open Sans', verdana, arial, sans-serif; font-size: 17px; fill: rgb(42, 63, 95); opacity: 1; font-weight: normal; white-space: pre;\">Cart'n'Cargo System Response to a Small Perturbation [Energy Method]</text></g><g class=\"g-xtitle\"><text class=\"xtitle\" x=\"380.5\" y=\"360.8\" text-anchor=\"middle\" style=\"font-family: 'Open Sans', verdana, arial, sans-serif; font-size: 14px; fill: rgb(42, 63, 95); opacity: 1; font-weight: normal; white-space: pre;\">t seconds</text></g><g class=\"g-ytitle\"/></g></svg>"
     },
     "metadata": {},
     "output_type": "display_data"
    }
   ],
   "source": [
    "system_dynamics = [\n",
    "    x1_dynamics,\n",
    "    x2_dynamics,\n",
    "    x3_dynamics,\n",
    "]\n",
    "\n",
    "sim_data = simulate_dynamic_system(\n",
    "    system_dynamics,\n",
    "    plot_title=\"Cart'n'Cargo System Response to a Small Perturbation [Energy Method]\",\n",
    "    x_f=10, max_step=0.01,\n",
    "    substitute={\n",
    "        k1: 1,\n",
    "        k2: 1,\n",
    "        m1: 1,\n",
    "        m2: 1,\n",
    "        m3: 1,\n",
    "        c: 0.5,\n",
    "        # A small perturbation\n",
    "        F: piecewise(t, [(1, 1 * N), (float('inf'), 0 * N)]),\n",
    "    },\n",
    "    initial_conditions={\n",
    "        x1: 0,\n",
    "        diff(x1): 0, \n",
    "        x2: 0,\n",
    "        diff(x2): 0,\n",
    "        x3: 0,\n",
    "        diff(x3): 0\n",
    "    },\n",
    "    record=diff([x1, x2, x3]), # type: ignore\n",
    "    plot_static=True\n",
    ")"
   ]
  },
  {
   "cell_type": "markdown",
   "metadata": {},
   "source": [
    "## Analysis\n",
    "\n",
    "As both sets of equations produce the same output, the answers are more likely correct."
   ]
  }
 ],
 "metadata": {
  "kernelspec": {
   "display_name": "Python 3.8.10 ('mathpad-IMbbmyaw-py3.8')",
   "language": "python",
   "name": "python3"
  },
  "language_info": {
   "codemirror_mode": {
    "name": "ipython",
    "version": 3
   },
   "file_extension": ".py",
   "mimetype": "text/x-python",
   "name": "python",
   "nbconvert_exporter": "python",
   "pygments_lexer": "ipython3",
   "version": "3.8.10"
  },
  "vscode": {
   "interpreter": {
    "hash": "c68f6f75b9b5074b455bff57bf843aee0a1a4f29736bbb117f262860b9efa145"
   }
  }
 },
 "nbformat": 4,
 "nbformat_minor": 2
}
