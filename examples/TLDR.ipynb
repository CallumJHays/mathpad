{
 "cells": [
  {
   "cell_type": "code",
   "execution_count": 1,
   "metadata": {},
   "outputs": [],
   "source": [
    "try:\n",
    "    # install for jupyterlite if needed\n",
    "    import piplite\n",
    "    print('installing piplite packages... This may take up to ~5 minutes. If still running, please try refreshing the page.')\n",
    "    await piplite.install(['mathpad', 'nbformat>=5.6', 'ipywidgets>=7,<8'])\n",
    "    print('piplite packages installed and ready to go!')\n",
    "    in_jupyterlite = True\n",
    "\n",
    "except (ImportError, SyntaxError):\n",
    "    # not running in jupyterlite\n",
    "    in_jupyterlite = False\n",
    "\n",
    "from mathpad import *\n"
   ]
  },
  {
   "cell_type": "markdown",
   "metadata": {},
   "source": [
    "# Mathpad Features TLDR"
   ]
  },
  {
   "cell_type": "code",
   "execution_count": 2,
   "metadata": {},
   "outputs": [
    {
     "name": "stdout",
     "output_type": "stream",
     "text": [
      "Constants\n"
     ]
    },
    {
     "data": {
      "text/latex": [
       "$$ 10 \\hspace{1.25em} \\frac{\\text{m}}{\\text{s}^{2}} $$"
      ],
      "text/plain": [
       "10 meters/second**2"
      ]
     },
     "execution_count": 2,
     "metadata": {},
     "output_type": "execute_result"
    }
   ],
   "source": [
    "print(\"Constants\")\n",
    "a = 10 * meter / s**2\n",
    "a"
   ]
  },
  {
   "cell_type": "code",
   "execution_count": 3,
   "metadata": {},
   "outputs": [
    {
     "name": "stdout",
     "output_type": "stream",
     "text": [
      "Variables\n"
     ]
    },
    {
     "data": {
      "text/latex": [
       "$$ b \\hspace{1.25em} \\frac{\\text{m}}{\\text{s}} $$"
      ],
      "text/plain": [
       "b(t) meters/second"
      ]
     },
     "execution_count": 3,
     "metadata": {},
     "output_type": "execute_result"
    }
   ],
   "source": [
    "print(\"Variables\")\n",
    "b = \"b(t)\" * m / s\n",
    "b"
   ]
  },
  {
   "cell_type": "code",
   "execution_count": 4,
   "metadata": {},
   "outputs": [
    {
     "name": "stdout",
     "output_type": "stream",
     "text": [
      "Vector Spaces / Reference Frames\n"
     ]
    },
    {
     "data": {
      "text/latex": [
       "$$ \\begin{matrix} \\hat{i} \\cdot \\text{m} \\\\ \\hat{j} \\cdot \\text{m} \\\\ \\hat{k} \\cdot \\text{m} \\end{matrix} \\hspace{0.7em} \\text{wrt. O} $$"
      ],
      "text/plain": [
       "Matrix([\n",
       "[meter],\n",
       "[meter],\n",
       "[meter]])"
      ]
     },
     "execution_count": 4,
     "metadata": {},
     "output_type": "execute_result"
    }
   ],
   "source": [
    "print(\"Vector Spaces / Reference Frames\")\n",
    "O = R3(\"O\")\n",
    "O"
   ]
  },
  {
   "cell_type": "code",
   "execution_count": 5,
   "metadata": {},
   "outputs": [
    {
     "name": "stdout",
     "output_type": "stream",
     "text": [
      "Vector Constants\n"
     ]
    },
    {
     "data": {
      "text/latex": [
       "$$ \\begin{bmatrix} 1 \\\\ 2 \\\\ 3 \\end{bmatrix} \\hspace{1.25em} \\begin{matrix} \\hat{i} \\cdot \\text{m} \\\\ \\hat{j} \\cdot \\text{m} \\\\ \\hat{k} \\cdot \\text{m} \\end{matrix} \\hspace{0.7em} \\text{wrt. O} $$"
      ],
      "text/plain": [
       "O[1, 2, 3]"
      ]
     },
     "execution_count": 5,
     "metadata": {},
     "output_type": "execute_result"
    }
   ],
   "source": [
    "print(\"Vector Constants\")\n",
    "c = O[1, 2, 3]\n",
    "c"
   ]
  },
  {
   "cell_type": "code",
   "execution_count": 6,
   "metadata": {},
   "outputs": [
    {
     "name": "stdout",
     "output_type": "stream",
     "text": [
      "Vector Variables\n"
     ]
    },
    {
     "data": {
      "text/latex": [
       "$$ \\begin{bmatrix} d_{0, 0} \\\\ d_{1, 0} \\\\ d_{2, 0} \\end{bmatrix} \\hspace{1.25em} \\begin{matrix} \\hat{i} \\cdot \\text{m} \\\\ \\hat{j} \\cdot \\text{m} \\\\ \\hat{k} \\cdot \\text{m} \\end{matrix} \\hspace{0.7em} \\text{wrt. O} $$"
      ],
      "text/plain": [
       "O[\"d\"]"
      ]
     },
     "execution_count": 6,
     "metadata": {},
     "output_type": "execute_result"
    }
   ],
   "source": [
    "print(\"Vector Variables\")\n",
    "d = O.sym(\"d\")\n",
    "d"
   ]
  },
  {
   "cell_type": "code",
   "execution_count": 7,
   "metadata": {},
   "outputs": [
    {
     "name": "stdout",
     "output_type": "stream",
     "text": [
      "Calculus\n"
     ]
    },
    {
     "data": {
      "text/latex": [
       "$$ \\int\\limits_{0}^{1} b\\, dt \\hspace{1.25em} \\text{m} $$"
      ],
      "text/plain": [
       "Integral(b(t), (t, 0, 1)) meters"
      ]
     },
     "metadata": {},
     "output_type": "display_data"
    },
    {
     "data": {
      "text/latex": [
       "$$ \\dot{b} \\hspace{1.25em} \\frac{\\text{m}}{\\text{s}^{2}} $$"
      ],
      "text/plain": [
       "Derivative(b(t), t) meters/second**2"
      ]
     },
     "execution_count": 7,
     "metadata": {},
     "output_type": "execute_result"
    }
   ],
   "source": [
    "print(\"Calculus\")\n",
    "display(\n",
    "    integral(b, between=(0, 1))\n",
    ")\n",
    "\n",
    "e = diff(b)\n",
    "e"
   ]
  },
  {
   "cell_type": "code",
   "execution_count": 8,
   "metadata": {},
   "outputs": [
    {
     "name": "stdout",
     "output_type": "stream",
     "text": [
      "Equations\n"
     ]
    },
    {
     "data": {
      "text/latex": [
       "$$ \\left[\\begin{matrix}\\frac{10}{\\dot{b}}\\\\\\frac{20}{\\dot{b}}\\\\\\frac{30}{\\dot{b}}\\end{matrix}\\right] = \\left[\\begin{matrix}d_{0, 0}\\\\d_{1, 0}\\\\d_{2, 0}\\end{matrix}\\right] \\hspace{1.25em} \\begin{matrix} \\hat{i} \\cdot \\text{m} \\\\ \\hat{j} \\cdot \\text{m} \\\\ \\hat{k} \\cdot \\text{m} \\end{matrix} \\hspace{0.7em} \\text{wrt. O} $$"
      ],
      "text/plain": [
       "O[10/Derivative(b(t), t), 20/Derivative(b(t), t), 30/Derivative(b(t), t)] = O[d[0, 0], d[1, 0], d[2, 0]] <O: OutputSpace>"
      ]
     },
     "execution_count": 8,
     "metadata": {},
     "output_type": "execute_result"
    }
   ],
   "source": [
    "print(\"Equations\")\n",
    "eqn = a / e * c == d\n",
    "eqn"
   ]
  },
  {
   "cell_type": "code",
   "execution_count": 9,
   "metadata": {},
   "outputs": [
    {
     "name": "stdout",
     "output_type": "stream",
     "text": [
      "Dimensional Validity Checking\n",
      "DimensionError: [length/time**2: 10 meters/second**2] \"+\" [length/time: b(t) meters/second]\n"
     ]
    }
   ],
   "source": [
    "print(\"Dimensional Validity Checking\")\n",
    "\n",
    "try:\n",
    "    a + b\n",
    "except DimensionError as e:\n",
    "    print(\"DimensionError:\", e)"
   ]
  },
  {
   "cell_type": "code",
   "execution_count": 10,
   "metadata": {},
   "outputs": [
    {
     "name": "stdout",
     "output_type": "stream",
     "text": [
      "Equation Solving\n"
     ]
    },
    {
     "data": {
      "text/latex": [
       "$$ \\begin{bmatrix} \\frac{10}{\\dot{b}} \\\\ \\frac{20}{\\dot{b}} \\\\ \\frac{30}{\\dot{b}} \\end{bmatrix} \\hspace{1.25em} \\begin{matrix} \\hat{i} \\cdot \\text{m} \\\\ \\hat{j} \\cdot \\text{m} \\\\ \\hat{k} \\cdot \\text{m} \\end{matrix} \\hspace{0.7em} \\text{wrt. O} $$"
      ],
      "text/plain": [
       "O[10/Derivative(b(t), t), 20/Derivative(b(t), t), 30/Derivative(b(t), t)]"
      ]
     },
     "execution_count": 10,
     "metadata": {},
     "output_type": "execute_result"
    }
   ],
   "source": [
    "print(\"Equation Solving\")\n",
    "sln = solve(eqn, d)\n",
    "sln[d]"
   ]
  },
  {
   "cell_type": "code",
   "execution_count": 11,
   "metadata": {},
   "outputs": [
    {
     "name": "stdout",
     "output_type": "stream",
     "text": [
      "Algebra\n",
      "=========\n",
      "\n",
      "Substituting b =\n"
     ]
    },
    {
     "data": {
      "text/latex": [
       "$$ 5 t \\hspace{1.25em} \\frac{\\text{m}}{\\text{s}} $$"
      ],
      "text/plain": [
       "5*t meters/second"
      ]
     },
     "metadata": {},
     "output_type": "display_data"
    },
    {
     "name": "stdout",
     "output_type": "stream",
     "text": [
      "Yields d =\n"
     ]
    },
    {
     "data": {
      "text/latex": [
       "$$ \\begin{bmatrix} \\frac{10}{\\left(5\\right)} \\\\ \\frac{20}{\\left(5\\right)} \\\\ \\frac{30}{\\left(5\\right)} \\end{bmatrix} \\hspace{1.25em} \\begin{matrix} \\hat{i} \\cdot \\text{m} \\\\ \\hat{j} \\cdot \\text{m} \\\\ \\hat{k} \\cdot \\text{m} \\end{matrix} \\hspace{0.7em} \\text{wrt. O} $$"
      ],
      "text/plain": [
       "O[10/Derivative(5*t, t), 20/Derivative(5*t, t), 30/Derivative(5*t, t)]"
      ]
     },
     "metadata": {},
     "output_type": "display_data"
    },
    {
     "name": "stdout",
     "output_type": "stream",
     "text": [
      "Which simplifies to\n"
     ]
    },
    {
     "data": {
      "text/latex": [
       "$$ \\begin{bmatrix} 2 \\\\ 4 \\\\ 6 \\end{bmatrix} \\hspace{1.25em} \\begin{matrix} \\hat{i} \\cdot \\text{m} \\\\ \\hat{j} \\cdot \\text{m} \\\\ \\hat{k} \\cdot \\text{m} \\end{matrix} \\hspace{0.7em} \\text{wrt. O} $$"
      ],
      "text/plain": [
       "O[\"Matrix([[2], [4], [6]])\"]"
      ]
     },
     "metadata": {},
     "output_type": "display_data"
    }
   ],
   "source": [
    "print(\"Algebra\\n=========\\n\")\n",
    "\n",
    "print(\"Substituting b =\")\n",
    "b_subs = (5 * t) * (m / s**2)\n",
    "display(b_subs)\n",
    "\n",
    "print(\"Yields d =\")\n",
    "f = subs(sln[d], { b: b_subs })\n",
    "display(f)\n",
    "\n",
    "print(\"Which simplifies to\")\n",
    "display(simplify(f))"
   ]
  },
  {
   "cell_type": "code",
   "execution_count": 12,
   "metadata": {},
   "outputs": [
    {
     "name": "stdout",
     "output_type": "stream",
     "text": [
      "Automatic Unit Conversion (favors the larger unit)\n"
     ]
    },
    {
     "data": {
      "text/latex": [
       "$$ 9.213711.. \\hspace{1.25em} \\text{mile} $$"
      ],
      "text/plain": [
       "9.21371 miles"
      ]
     },
     "execution_count": 12,
     "metadata": {},
     "output_type": "execute_result"
    }
   ],
   "source": [
    "print(\"Automatic Unit Conversion (favors the larger unit)\")\n",
    "dist = 10 * km + 3 * miles\n",
    "dist"
   ]
  },
  {
   "cell_type": "code",
   "execution_count": 13,
   "metadata": {},
   "outputs": [
    {
     "name": "stdout",
     "output_type": "stream",
     "text": [
      "Manual Unit Conversion\n"
     ]
    },
    {
     "data": {
      "text/latex": [
       "$$ 14.82803.. \\hspace{1.25em} \\text{km} $$"
      ],
      "text/plain": [
       "14.828 kilometers"
      ]
     },
     "metadata": {},
     "output_type": "display_data"
    },
    {
     "data": {
      "text/latex": [
       "$$ 14828.03.. \\hspace{1.25em} \\text{m} $$"
      ],
      "text/plain": [
       "1.4828e+4 meters"
      ]
     },
     "execution_count": 13,
     "metadata": {},
     "output_type": "execute_result"
    }
   ],
   "source": [
    "print(\"Manual Unit Conversion\")\n",
    "display(dist.in_units(km))\n",
    "dist.in_units(\"SI\")"
   ]
  },
  {
   "cell_type": "code",
   "execution_count": 27,
   "metadata": {},
   "outputs": [
    {
     "name": "stdout",
     "output_type": "stream",
     "text": [
      "Simulation of differential systems of equations\n",
      "===============================================\n",
      "\n",
      "Solving subbed Equations...\n",
      "Solving finished.\n",
      "Simulating from t=0 to t=10 with a max_step of 0.01.\n"
     ]
    },
    {
     "data": {
      "application/vnd.jupyter.widget-view+json": {
       "model_id": "e6dba2c1634e4eab860621e6f1833b06",
       "version_major": 2,
       "version_minor": 0
      },
      "text/plain": [
       "  0%|          | 0/10 [00:00<?, ?it/s]"
      ]
     },
     "metadata": {},
     "output_type": "display_data"
    },
    {
     "name": "stdout",
     "output_type": "stream",
     "text": [
      "Simulation finished. Plotting...\n"
     ]
    },
    {
     "data": {
      "image/svg+xml": "<svg class=\"main-svg\" xmlns=\"http://www.w3.org/2000/svg\" xmlns:xlink=\"http://www.w3.org/1999/xlink\" width=\"960\" height=\"400\" style=\"\" viewBox=\"0 0 960 400\"><rect x=\"0\" y=\"0\" width=\"960\" height=\"400\" style=\"fill: rgb(255, 255, 255); fill-opacity: 1;\"/><defs id=\"defs-f158d2\"><g class=\"clips\"><clipPath id=\"clipf158d2xyplot\" class=\"plotclip\"><rect width=\"727\" height=\"220\"/></clipPath><clipPath class=\"axesclip\" id=\"clipf158d2x\"><rect x=\"80\" y=\"0\" width=\"727\" height=\"400\"/></clipPath><clipPath class=\"axesclip\" id=\"clipf158d2y\"><rect x=\"0\" y=\"100\" width=\"960\" height=\"220\"/></clipPath><clipPath class=\"axesclip\" id=\"clipf158d2xy\"><rect x=\"80\" y=\"100\" width=\"727\" height=\"220\"/></clipPath></g><g class=\"gradients\"/><g class=\"patterns\"/></defs><g class=\"bglayer\"><rect class=\"bg\" x=\"80\" y=\"100\" width=\"727\" height=\"220\" style=\"fill: rgb(229, 236, 246); fill-opacity: 1; stroke-width: 0;\"/></g><g class=\"layer-below\"><g class=\"imagelayer\"/><g class=\"shapelayer\"/></g><g class=\"cartesianlayer\"><g class=\"subplot xy\"><g class=\"layer-subplot\"><g class=\"shapelayer\"/><g class=\"imagelayer\"/></g><g class=\"minor-gridlayer\"><g class=\"x\"/><g class=\"y\"/></g><g class=\"gridlayer\"><g class=\"x\"><path class=\"xgrid crisp\" transform=\"translate(225.4,0)\" d=\"M0,100v220\" style=\"stroke: rgb(255, 255, 255); stroke-opacity: 1; stroke-width: 1px;\"/><path class=\"xgrid crisp\" transform=\"translate(370.8,0)\" d=\"M0,100v220\" style=\"stroke: rgb(255, 255, 255); stroke-opacity: 1; stroke-width: 1px;\"/><path class=\"xgrid crisp\" transform=\"translate(516.2,0)\" d=\"M0,100v220\" style=\"stroke: rgb(255, 255, 255); stroke-opacity: 1; stroke-width: 1px;\"/><path class=\"xgrid crisp\" transform=\"translate(661.6,0)\" d=\"M0,100v220\" style=\"stroke: rgb(255, 255, 255); stroke-opacity: 1; stroke-width: 1px;\"/></g><g class=\"y\"><path class=\"ygrid crisp\" transform=\"translate(0,273.98)\" d=\"M80,0h727\" style=\"stroke: rgb(255, 255, 255); stroke-opacity: 1; stroke-width: 1px;\"/><path class=\"ygrid crisp\" transform=\"translate(0,238.96)\" d=\"M80,0h727\" style=\"stroke: rgb(255, 255, 255); stroke-opacity: 1; stroke-width: 1px;\"/><path class=\"ygrid crisp\" transform=\"translate(0,203.94)\" d=\"M80,0h727\" style=\"stroke: rgb(255, 255, 255); stroke-opacity: 1; stroke-width: 1px;\"/><path class=\"ygrid crisp\" transform=\"translate(0,168.92000000000002)\" d=\"M80,0h727\" style=\"stroke: rgb(255, 255, 255); stroke-opacity: 1; stroke-width: 1px;\"/><path class=\"ygrid crisp\" transform=\"translate(0,133.9)\" d=\"M80,0h727\" style=\"stroke: rgb(255, 255, 255); stroke-opacity: 1; stroke-width: 1px;\"/></g></g><g class=\"zerolinelayer\"><path class=\"xzl zl crisp\" transform=\"translate(80,0)\" d=\"M0,100v220\" style=\"stroke: rgb(255, 255, 255); stroke-opacity: 1; stroke-width: 2px;\"/><path class=\"yzl zl crisp\" transform=\"translate(0,309)\" d=\"M80,0h727\" style=\"stroke: rgb(255, 255, 255); stroke-opacity: 1; stroke-width: 2px;\"/></g><path class=\"xlines-below\"/><path class=\"ylines-below\"/><g class=\"overlines-below\"/><g class=\"xaxislayer-below\"/><g class=\"yaxislayer-below\"/><g class=\"overaxes-below\"/><g class=\"plot\" transform=\"translate(80,100)\" clip-path=\"url(#clipf158d2xyplot)\"><g class=\"scatterlayer mlayer\"><g class=\"trace scatter trace290f77\" style=\"stroke-miterlimit: 2; opacity: 1;\"><g class=\"fills\"/><g class=\"errorbars\"/><g class=\"lines\"><path class=\"js-line\" d=\"M0,98.98L29.3,71.72L29.66,71.41L43.11,60.71L43.47,60.45L54.74,53.09L55.11,52.88L66.3,47.33L66.38,47.3L76.55,43.85L76.92,43.75L86,41.98L86.37,41.94L95.96,41.36L95.96,41.36L96.11,41.36L108.54,42.37L108.9,42.43L118.72,44.47L119.08,44.57L127.08,46.93L127.14,46.95L138.35,51.11L138.71,51.26L153.98,58.17L154.04,58.2L227.04,96.03L227.41,96.19L245.22,103.02L245.58,103.13L258.73,106.74L258.81,106.75L267.75,108.4L268.12,108.45L281.57,109.56L281.93,109.57L296.76,108.83L296.83,108.82L308.83,106.77L308.89,106.75L321.55,103.25L321.92,103.13L333.91,98.65L334.27,98.49L347.51,92.4L347.51,92.4L347.65,92.33L365.9,82.41L366.26,82.19L378.26,74.96L378.62,74.73L400.8,60.56L401.16,60.32L442.96,34.25L443.32,34.05L466.95,22.15L467.32,22L482,16.51L482,16.51L482.15,16.46L494.36,13.27L494.36,13.27L494.51,13.24L506.94,11.4L507.3,11.37L521.48,11.14L521.84,11.16L535.29,12.75L535.65,12.82L550.56,16.53L550.92,16.64L568.01,23.1L568.37,23.26L597.09,38.14L597.45,38.35L655.97,75.09L656.34,75.31L672.47,84.79L672.47,84.79L672.62,84.87L692.83,95.06L692.83,95.06L692.98,95.13L708.24,101.06L708.32,101.09L721.4,104.67L721.77,104.75L727,105.74L727,105.74\" style=\"vector-effect: non-scaling-stroke; fill: none; stroke: rgb(99, 110, 250); stroke-opacity: 1; stroke-width: 2px; opacity: 1;\"/></g><g class=\"points\"/><g class=\"text\"/></g><g class=\"trace scatter traceb38d2d\" style=\"stroke-miterlimit: 2; opacity: 1;\"><g class=\"fills\"/><g class=\"errorbars\"/><g class=\"lines\"><path class=\"js-line\" d=\"M0,209L10.4,208.28L10.76,208.23L20.94,206.12L21,206.1L30.75,202.83L31.12,202.68L45.29,195.84L45.66,195.64L66.88,181.39L66.88,181.39L67.03,181.28L83.82,167.38L84.19,167.06L154.34,102.22L154.71,101.92L166.4,92.87L166.48,92.82L179.71,84.04L179.79,84L191.2,77.88L191.2,77.88L191.35,77.82L201.6,73.62L201.96,73.5L213.74,70.34L213.74,70.34L213.88,70.31L225.29,68.98L225.37,68.98L234.24,69.14L234.31,69.15L245.22,70.78L245.58,70.87L254.67,73.44L255.03,73.57L265.5,77.84L265.57,77.88L276.48,83.69L276.84,83.9L290.29,92.81L290.65,93.07L306.65,105.72L306.71,105.78L321.92,119.31L321.98,119.37L347.51,143.69L347.51,143.69L347.65,143.83L377.53,171.34L377.89,171.65L400.8,189.23L401.16,189.48L416.72,198.63L416.79,198.66L426.97,203.19L427.33,203.33L442.23,207.6L442.6,207.67L454.37,208.96L454.37,208.96L454.52,208.97L465.5,208.5L465.86,208.46L477.64,206.14L477.64,206.14L477.78,206.1L488.76,202.33L489.13,202.18L501.85,195.97L502.21,195.77L512.03,189.74L512.39,189.49L523.66,181.4L524.02,181.12L535.72,171.62L535.8,171.55L556.37,152.94L556.74,152.6L582.25,128.15L582.33,128.08L597.51,113.96L597.59,113.89L621,94.48L621.08,94.43L634.67,85.15L634.67,85.15L634.82,85.06L648.48,77.65L648.48,77.65L648.63,77.58L661.06,72.74L661.42,72.62L675.6,69.52L675.96,69.48L685.78,68.92L686.14,68.92L700.83,70.53L700.83,70.53L700.97,70.56L711.65,73.51L711.73,73.54L722.13,77.77L722.49,77.94L727,80.19L727,80.19\" style=\"vector-effect: non-scaling-stroke; fill: none; stroke: rgb(239, 85, 59); stroke-opacity: 1; stroke-width: 2px; opacity: 1;\"/></g><g class=\"points\"/><g class=\"text\"/></g></g></g><g class=\"overplot\"/><path class=\"xlines-above crisp\" d=\"M0,0\" style=\"fill: none;\"/><path class=\"ylines-above crisp\" d=\"M0,0\" style=\"fill: none;\"/><g class=\"overlines-above\"/><g class=\"xaxislayer-above\"><g class=\"xtick\"><text text-anchor=\"middle\" x=\"0\" y=\"333\" transform=\"translate(80,0)\" style=\"font-family: 'Open Sans', verdana, arial, sans-serif; font-size: 12px; fill: rgb(42, 63, 95); fill-opacity: 1; white-space: pre; opacity: 1;\">0</text></g><g class=\"xtick\"><text text-anchor=\"middle\" x=\"0\" y=\"333\" style=\"font-family: 'Open Sans', verdana, arial, sans-serif; font-size: 12px; fill: rgb(42, 63, 95); fill-opacity: 1; white-space: pre; opacity: 1;\" transform=\"translate(225.4,0)\">2</text></g><g class=\"xtick\"><text text-anchor=\"middle\" x=\"0\" y=\"333\" style=\"font-family: 'Open Sans', verdana, arial, sans-serif; font-size: 12px; fill: rgb(42, 63, 95); fill-opacity: 1; white-space: pre; opacity: 1;\" transform=\"translate(370.8,0)\">4</text></g><g class=\"xtick\"><text text-anchor=\"middle\" x=\"0\" y=\"333\" style=\"font-family: 'Open Sans', verdana, arial, sans-serif; font-size: 12px; fill: rgb(42, 63, 95); fill-opacity: 1; white-space: pre; opacity: 1;\" transform=\"translate(516.2,0)\">6</text></g><g class=\"xtick\"><text text-anchor=\"middle\" x=\"0\" y=\"333\" style=\"font-family: 'Open Sans', verdana, arial, sans-serif; font-size: 12px; fill: rgb(42, 63, 95); fill-opacity: 1; white-space: pre; opacity: 1;\" transform=\"translate(661.6,0)\">8</text></g><g class=\"xtick\"><text text-anchor=\"middle\" x=\"0\" y=\"333\" style=\"font-family: 'Open Sans', verdana, arial, sans-serif; font-size: 12px; fill: rgb(42, 63, 95); fill-opacity: 1; white-space: pre; opacity: 1;\" transform=\"translate(807,0)\">10</text></g></g><g class=\"yaxislayer-above\"><g class=\"ytick\"><text text-anchor=\"end\" x=\"79\" y=\"4.199999999999999\" transform=\"translate(0,309)\" style=\"font-family: 'Open Sans', verdana, arial, sans-serif; font-size: 12px; fill: rgb(42, 63, 95); fill-opacity: 1; white-space: pre; opacity: 1;\">0</text></g><g class=\"ytick\"><text text-anchor=\"end\" x=\"79\" y=\"4.199999999999999\" style=\"font-family: 'Open Sans', verdana, arial, sans-serif; font-size: 12px; fill: rgb(42, 63, 95); fill-opacity: 1; white-space: pre; opacity: 1;\" transform=\"translate(0,273.98)\">0.5</text></g><g class=\"ytick\"><text text-anchor=\"end\" x=\"79\" y=\"4.199999999999999\" style=\"font-family: 'Open Sans', verdana, arial, sans-serif; font-size: 12px; fill: rgb(42, 63, 95); fill-opacity: 1; white-space: pre; opacity: 1;\" transform=\"translate(0,238.96)\">1</text></g><g class=\"ytick\"><text text-anchor=\"end\" x=\"79\" y=\"4.199999999999999\" style=\"font-family: 'Open Sans', verdana, arial, sans-serif; font-size: 12px; fill: rgb(42, 63, 95); fill-opacity: 1; white-space: pre; opacity: 1;\" transform=\"translate(0,203.94)\">1.5</text></g><g class=\"ytick\"><text text-anchor=\"end\" x=\"79\" y=\"4.199999999999999\" style=\"font-family: 'Open Sans', verdana, arial, sans-serif; font-size: 12px; fill: rgb(42, 63, 95); fill-opacity: 1; white-space: pre; opacity: 1;\" transform=\"translate(0,168.92000000000002)\">2</text></g><g class=\"ytick\"><text text-anchor=\"end\" x=\"79\" y=\"4.199999999999999\" style=\"font-family: 'Open Sans', verdana, arial, sans-serif; font-size: 12px; fill: rgb(42, 63, 95); fill-opacity: 1; white-space: pre; opacity: 1;\" transform=\"translate(0,133.9)\">2.5</text></g></g><g class=\"overaxes-above\"/></g></g><g class=\"polarlayer\"/><g class=\"smithlayer\"/><g class=\"ternarylayer\"/><g class=\"geolayer\"/><g class=\"funnelarealayer\"/><g class=\"pielayer\"/><g class=\"iciclelayer\"/><g class=\"treemaplayer\"/><g class=\"sunburstlayer\"/><g class=\"glimages\"/><defs id=\"topdefs-f158d2\"><g class=\"clips\"/><clipPath id=\"legendf158d2\"><rect width=\"126\" height=\"48\" x=\"0\" y=\"0\"/></clipPath></defs><g class=\"layer-above\"><g class=\"imagelayer\"/><g class=\"shapelayer\"/></g><g class=\"infolayer\"><g class=\"legend\" pointer-events=\"all\" transform=\"translate(821.54,100)\"><rect class=\"bg\" shape-rendering=\"crispEdges\" width=\"126\" height=\"48\" x=\"0\" y=\"0\" style=\"stroke: rgb(68, 68, 68); stroke-opacity: 1; fill: rgb(255, 255, 255); fill-opacity: 1; stroke-width: 0px;\"/><g class=\"scrollbox\" transform=\"\" clip-path=\"url(#legendf158d2)\"><g class=\"groups\"><g class=\"traces\" transform=\"translate(0,14.5)\" style=\"opacity: 1;\"><text class=\"legendtext\" text-anchor=\"start\" x=\"40\" y=\"4.680000000000001\" style=\"font-family: 'Open Sans', verdana, arial, sans-serif; font-size: 12px; fill: rgb(42, 63, 95); fill-opacity: 1; white-space: pre;\">phi(t) radians</text><g class=\"layers\" style=\"opacity: 1;\"><g class=\"legendfill\"/><g class=\"legendlines\"><path class=\"js-line\" d=\"M5,0h30\" style=\"fill: none; stroke: rgb(99, 110, 250); stroke-opacity: 1; stroke-width: 2px;\"/></g><g class=\"legendsymbols\"><g class=\"legendpoints\"/></g></g><rect class=\"legendtoggle\" x=\"0\" y=\"-9.5\" width=\"120.71875\" height=\"19\" style=\"fill: rgb(0, 0, 0); fill-opacity: 0;\"/></g><g class=\"traces\" transform=\"translate(0,33.5)\" style=\"opacity: 1;\"><text class=\"legendtext\" text-anchor=\"start\" x=\"40\" y=\"4.680000000000001\" style=\"font-family: 'Open Sans', verdana, arial, sans-serif; font-size: 12px; fill: rgb(42, 63, 95); fill-opacity: 1; white-space: pre;\">theta(t) radians</text><g class=\"layers\" style=\"opacity: 1;\"><g class=\"legendfill\"/><g class=\"legendlines\"><path class=\"js-line\" d=\"M5,0h30\" style=\"fill: none; stroke: rgb(239, 85, 59); stroke-opacity: 1; stroke-width: 2px;\"/></g><g class=\"legendsymbols\"><g class=\"legendpoints\"/></g></g><rect class=\"legendtoggle\" x=\"0\" y=\"-9.5\" width=\"120.71875\" height=\"19\" style=\"fill: rgb(0, 0, 0); fill-opacity: 0;\"/></g></g></g><rect class=\"scrollbar\" rx=\"20\" ry=\"3\" width=\"0\" height=\"0\" x=\"0\" y=\"0\" style=\"fill: rgb(128, 139, 164); fill-opacity: 1;\"/></g><g class=\"g-gtitle\"><text class=\"gtitle\" x=\"480\" y=\"40\" text-anchor=\"middle\" dy=\"0.7em\" style=\"font-family: 'Open Sans', verdana, arial, sans-serif; font-size: 17px; fill: rgb(42, 63, 95); opacity: 1; font-weight: normal; white-space: pre;\">Solution #1</text></g><g class=\"g-xtitle\"><text class=\"xtitle\" x=\"443.5\" y=\"360.8\" text-anchor=\"middle\" style=\"font-family: 'Open Sans', verdana, arial, sans-serif; font-size: 14px; fill: rgb(42, 63, 95); opacity: 1; font-weight: normal; white-space: pre;\">t seconds</text></g><g class=\"g-ytitle\"/></g></svg>"
     },
     "metadata": {},
     "output_type": "display_data"
    }
   ],
   "source": [
    "print(\"Simulation of differential systems of equations\")\n",
    "print(\"===============================================\\n\")\n",
    "\n",
    "theta = \"theta(t)\" * rad\n",
    "phi = \"phi(t)\" * rad\n",
    "\n",
    "system_of_eqns = [\n",
    "    diff(theta) == sin(t * rad / s) / s,\n",
    "    diff(phi) == sin(theta + phi) / s\n",
    "]\n",
    "\n",
    "sim_data = simulate_dynamic_system(\n",
    "    system_of_eqns,\n",
    "    x_f=10, max_step=0.01,\n",
    "    record=[phi, theta],\n",
    "    initial_conditions={theta: 0, phi: pi / 2},\n",
    "    display_explanation=False,\n",
    "    plot_static=not in_jupyterlite\n",
    ")"
   ]
  }
 ],
 "metadata": {
  "kernelspec": {
   "display_name": "Python 3.8.10 ('mathpad-IMbbmyaw-py3.8')",
   "language": "python",
   "name": "python3"
  },
  "language_info": {
   "codemirror_mode": {
    "name": "ipython",
    "version": 3
   },
   "file_extension": ".py",
   "mimetype": "text/x-python",
   "name": "python",
   "nbconvert_exporter": "python",
   "pygments_lexer": "ipython3",
   "version": "3.8.10"
  },
  "orig_nbformat": 4,
  "vscode": {
   "interpreter": {
    "hash": "c68f6f75b9b5074b455bff57bf843aee0a1a4f29736bbb117f262860b9efa145"
   }
  }
 },
 "nbformat": 4,
 "nbformat_minor": 2
}
