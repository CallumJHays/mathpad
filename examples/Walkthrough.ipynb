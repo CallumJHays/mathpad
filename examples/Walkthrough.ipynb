{
 "cells": [
  {
   "cell_type": "code",
   "execution_count": 1,
   "metadata": {},
   "outputs": [],
   "source": [
    "try:\n",
    "    # install for jupyterlite if needed\n",
    "    import piplite\n",
    "    print('installing piplite packages... This may take up to ~5 minutes. If still running, please try refreshing the page.')\n",
    "    await piplite.install(['mathpad', 'nbformat>=5.6', 'ipywidgets>=7,<8'])\n",
    "    print('piplite packages installed and ready to go!')\n",
    "    in_jupyterlite = True\n",
    "\n",
    "except (ImportError, SyntaxError):\n",
    "    # not running in jupyterlite\n",
    "    in_jupyterlite = False\n",
    "\n",
    "from mathpad import *\n",
    "from typing import List\n"
   ]
  },
  {
   "cell_type": "markdown",
   "metadata": {},
   "source": [
    "# Welcome to MathPad\n",
    "\n",
    "MathPad is a a Python library that makes it easy to solve engineering, science and maths problems.\n",
    "\n",
    "MathPad is ideal for engineering students and academics seeking to easily check their work or better understand the mathematical models and equations they are working with.\n",
    "\n",
    "Features:\n",
    "- Intuitive interface for those unfamiliar with Python\n",
    "- Easy-to-use construction of systems of equations - goodbye hand calculations!\n",
    "- Self-explanatory latex output\n",
    "- Automatic dimensionality validity checking\n",
    "- Automatic unit conversion\n",
    "- Growing library of equations and constants to utilize\n",
    "\n",
    "This notebook will serve as a tour of the major features of `mathpad`.\n",
    "\n",
    "For more complex, problem-driven examples, please check out the other `.ipynb` files in this directory by accessing the menu to the left."
   ]
  },
  {
   "cell_type": "markdown",
   "metadata": {},
   "source": [
    "# Vals\n",
    "\n",
    "In `mathpad`, the core objects you will be working with are `Val`s.\n",
    "\n",
    "`Val`s consist of `units` and an `expr` (mathematical expression):"
   ]
  },
  {
   "cell_type": "code",
   "execution_count": 2,
   "metadata": {},
   "outputs": [
    {
     "name": "stdout",
     "output_type": "stream",
     "text": [
      "Val:\n"
     ]
    },
    {
     "data": {
      "text/latex": [
       "$$ 5 \\hspace{1.25em} \\frac{\\text{m}}{\\text{s}} $$"
      ],
      "text/plain": [
       "5 meters/second"
      ]
     },
     "metadata": {},
     "output_type": "display_data"
    },
    {
     "name": "stdout",
     "output_type": "stream",
     "text": [
      "Val.expr:\n"
     ]
    },
    {
     "data": {
      "text/latex": [
       "$\\displaystyle 5$"
      ],
      "text/plain": [
       "5"
      ]
     },
     "metadata": {},
     "output_type": "display_data"
    },
    {
     "name": "stdout",
     "output_type": "stream",
     "text": [
      "Val.units:\n"
     ]
    },
    {
     "data": {
      "text/latex": [
       "$\\displaystyle \\frac{\\text{m}}{\\text{s}}$"
      ],
      "text/plain": [
       "meter \n",
       "──────\n",
       "second"
      ]
     },
     "metadata": {},
     "output_type": "display_data"
    }
   ],
   "source": [
    "print(\"Val:\")\n",
    "x = 5 * meters / second\n",
    "display(x)\n",
    "\n",
    "print(\"Val.expr:\")\n",
    "display(x.expr)\n",
    "\n",
    "print(\"Val.units:\")\n",
    "display(x.units)"
   ]
  },
  {
   "cell_type": "markdown",
   "metadata": {},
   "source": [
    "Units exposed by mathpad, such as `meters`, `volts`, or `grams`, are actually just `Val`s with an `expr == 1`"
   ]
  },
  {
   "cell_type": "code",
   "execution_count": 3,
   "metadata": {},
   "outputs": [
    {
     "data": {
      "text/plain": [
       "(1 meters, 1 volts, 1 grams)"
      ]
     },
     "execution_count": 3,
     "metadata": {},
     "output_type": "execute_result"
    }
   ],
   "source": [
    "meters, volts, grams"
   ]
  },
  {
   "cell_type": "markdown",
   "metadata": {},
   "source": [
    "# Complex Numbers\n",
    "\n",
    "Complex and imaginary numbers are supported out of the box, taking the form: (`a + bj`)"
   ]
  },
  {
   "cell_type": "code",
   "execution_count": 4,
   "metadata": {},
   "outputs": [
    {
     "data": {
      "text/latex": [
       "$$ 1.0 i \\hspace{1.25em} \\text{m} $$"
      ],
      "text/plain": [
       "I meters"
      ]
     },
     "metadata": {},
     "output_type": "display_data"
    },
    {
     "data": {
      "text/latex": [
       "$$ 1 + 1.0 i \\hspace{1.25em} \\text{V} $$"
      ],
      "text/plain": [
       "1.0 + I volts"
      ]
     },
     "metadata": {},
     "output_type": "display_data"
    }
   ],
   "source": [
    "imaginary = 1j * meters\n",
    "display(imaginary)\n",
    "\n",
    "complex = 1 + 1j * volts\n",
    "display(complex)"
   ]
  },
  {
   "cell_type": "markdown",
   "metadata": {},
   "source": [
    "# Dimensionality\n",
    "\n",
    "A `Val`'s units always have a corresponding `dimension` attribute that describes the dimensionality of the expression:"
   ]
  },
  {
   "cell_type": "code",
   "execution_count": 5,
   "metadata": {},
   "outputs": [
    {
     "data": {
      "text/latex": [
       "$\\displaystyle \\frac{length}{time}$"
      ],
      "text/plain": [
       "length\n",
       "──────\n",
       " time "
      ]
     },
     "execution_count": 5,
     "metadata": {},
     "output_type": "execute_result"
    }
   ],
   "source": [
    "x.dimension"
   ]
  },
  {
   "cell_type": "markdown",
   "metadata": {},
   "source": [
    "This dimensionality is used to determine the validity of expressions and equations.\n",
    "\n",
    "If an expression is not dimensionally valid, a `DimensionError` will be raised.\n",
    "\n",
    "For example, `1 meter` cannot be added to `1 volt`:"
   ]
  },
  {
   "cell_type": "code",
   "execution_count": 6,
   "metadata": {},
   "outputs": [
    {
     "name": "stdout",
     "output_type": "stream",
     "text": [
      "<class 'mathpad.val.SumDimensionsMismatch'> [Dimension(length, L): 1 meters] \"+\" [Dimension(voltage, U): 1 volts]\n"
     ]
    }
   ],
   "source": [
    "try:\n",
    "    1 * meter + 1 * volt\n",
    "    \n",
    "except DimensionError as err:\n",
    "    print(type(err), err)"
   ]
  },
  {
   "cell_type": "markdown",
   "metadata": {},
   "source": [
    "The full list of dimensionality rules are as follows:\n",
    "- Added or subtracted `Val`s must have *equivalent* dimensionality\n",
    "- The left-hand-side and right-hand-side of an `Equation` must have *equivalent* dimensionality\n",
    "- Exponents must always be *dimensionless*. Angles are *dimensionless*.\n",
    "\n",
    "This means that angles can be used as exponents:"
   ]
  },
  {
   "cell_type": "code",
   "execution_count": 7,
   "metadata": {},
   "outputs": [
    {
     "data": {
      "text/latex": [
       "$$ e^{1.0 i \\pi} \\hspace{1.25em} dimensionless $$"
      ],
      "text/plain": [
       "-1.0 + 0.e-12*I"
      ]
     },
     "execution_count": 7,
     "metadata": {},
     "output_type": "execute_result"
    }
   ],
   "source": [
    "e ** (pi * i)"
   ]
  },
  {
   "cell_type": "markdown",
   "metadata": {},
   "source": [
    "# Defining Vals\n",
    "\n",
    "`Val`s can be either constants, variables, or functions of other `Val`s.\n",
    "\n",
    "## Constants\n",
    "\n",
    "Constants are defined as combinations of numeric primitives and unit expressions:"
   ]
  },
  {
   "cell_type": "code",
   "execution_count": 8,
   "metadata": {},
   "outputs": [
    {
     "name": "stdout",
     "output_type": "stream",
     "text": [
      "Examples of constants:\n"
     ]
    },
    {
     "data": {
      "text/latex": [
       "$$ 5 \\hspace{1.25em} \\frac{\\text{m}}{\\text{s}} $$"
      ],
      "text/plain": [
       "5 meters/second"
      ]
     },
     "metadata": {},
     "output_type": "display_data"
    },
    {
     "data": {
      "text/latex": [
       "$$ 0.5 \\hspace{1.25em} \\text{s} $$"
      ],
      "text/plain": [
       "0.5 seconds"
      ]
     },
     "metadata": {},
     "output_type": "display_data"
    }
   ],
   "source": [
    "print(\"Examples of constants:\")\n",
    "display(5 * meters / second)\n",
    "display(0.5 * second)"
   ]
  },
  {
   "cell_type": "markdown",
   "metadata": {},
   "source": [
    "# Symbolic Variables\n",
    "\n",
    "Symbolic Variables are defined with a symbol (denoted by a string) multiplied by a unit expression.\n",
    "\n",
    "Naming symbols is pretty intuitive, and usually they convert to LaTeX easily:"
   ]
  },
  {
   "cell_type": "code",
   "execution_count": 9,
   "metadata": {},
   "outputs": [
    {
     "name": "stdout",
     "output_type": "stream",
     "text": [
      "Examples of variables:\n"
     ]
    },
    {
     "data": {
      "text/latex": [
       "$$ \\alpha \\hspace{1.25em} \\frac{\\text{m}}{\\text{s}^{2}} $$"
      ],
      "text/plain": [
       "alpha meters/second**2"
      ]
     },
     "metadata": {},
     "output_type": "display_data"
    },
    {
     "data": {
      "text/latex": [
       "$$ \\theta_{2} \\hspace{1.25em} \\text{rad} $$"
      ],
      "text/plain": [
       "theta2 radians"
      ]
     },
     "metadata": {},
     "output_type": "display_data"
    },
    {
     "data": {
      "text/latex": [
       "$$ \\phi^{abc}_{xyz} \\hspace{1.25em} \\frac{\\text{rad}}{\\text{s}} $$"
      ],
      "text/plain": [
       "phi_xyz^abc radians/second"
      ]
     },
     "metadata": {},
     "output_type": "display_data"
    },
    {
     "data": {
      "text/latex": [
       "$$ \\zeta^{15}_{1,2} \\hspace{1.25em} \\text{m} $$"
      ],
      "text/plain": [
       "zeta_1,2^15 meters"
      ]
     },
     "metadata": {},
     "output_type": "display_data"
    }
   ],
   "source": [
    "print(\"Examples of variables:\")\n",
    "\n",
    "a = \"alpha\" * meters / s ** 2\n",
    "display(a)\n",
    "\n",
    "theta2 = \"theta2\" * radians\n",
    "display(theta2)\n",
    "\n",
    "phi_xyz = \"phi_xyz^abc\" * rad / s\n",
    "display(phi_xyz)\n",
    "\n",
    "zeta = \"zeta_1,2^15\" * meters\n",
    "display(zeta)"
   ]
  },
  {
   "cell_type": "markdown",
   "metadata": {},
   "source": [
    "You can also specify LaTeX directly in the symbol if you need more control:"
   ]
  },
  {
   "cell_type": "code",
   "execution_count": 10,
   "metadata": {},
   "outputs": [
    {
     "data": {
      "text/latex": [
       "$$ \\vec{\\text{beta}^{a,b}_{c,d}} \\hspace{1.25em} \\text{rad} $$"
      ],
      "text/plain": [
       "\\vec{\\text{beta}^{a,b}_{c,d}} radians"
      ]
     },
     "execution_count": 10,
     "metadata": {},
     "output_type": "execute_result"
    }
   ],
   "source": [
    "beta = \"\\\\vec{\\\\text{beta}^{a,b}_{c,d}}\" * radians\n",
    "beta"
   ]
  },
  {
   "cell_type": "markdown",
   "metadata": {},
   "source": [
    "# Expressions\n",
    "\n",
    "Expressions are defined via arithmetic expressions of `Vals`."
   ]
  },
  {
   "cell_type": "code",
   "execution_count": 11,
   "metadata": {},
   "outputs": [
    {
     "data": {
      "text/latex": [
       "$$ \\zeta^{15}_{1,2} e^{\\theta_{2}} \\hspace{1.25em} \\text{m} $$"
      ],
      "text/plain": [
       "zeta_1,2^15*exp(theta2) meters"
      ]
     },
     "execution_count": 11,
     "metadata": {},
     "output_type": "execute_result"
    }
   ],
   "source": [
    "r = zeta * e ** theta2\n",
    "r"
   ]
  },
  {
   "cell_type": "markdown",
   "metadata": {},
   "source": [
    "The most common variable to utilise in an expression definition is `t seconds`.\n",
    "\n",
    "This variable is defined automatically by `mathpad` and is immediately available when you `import *`"
   ]
  },
  {
   "cell_type": "code",
   "execution_count": 12,
   "metadata": {},
   "outputs": [
    {
     "data": {
      "text/latex": [
       "$$ \\alpha t \\hspace{1.25em} \\frac{\\text{m}}{\\text{s}} $$"
      ],
      "text/plain": [
       "alpha*t meters/second"
      ]
     },
     "execution_count": 12,
     "metadata": {},
     "output_type": "execute_result"
    }
   ],
   "source": [
    "v = a * t\n",
    "v"
   ]
  },
  {
   "cell_type": "markdown",
   "metadata": {},
   "source": [
    "Note that the units of the expression are auto-calculated, and that in multiplication, numeric literals are assumed to be *dimensionless*.\n",
    "\n",
    "This may lead to confusing behaviour when defining functional expressions. For example:"
   ]
  },
  {
   "cell_type": "code",
   "execution_count": 13,
   "metadata": {},
   "outputs": [
    {
     "data": {
      "text/latex": [
       "$$ 5 t \\hspace{1.25em} \\text{m} $$"
      ],
      "text/plain": [
       "5*t meters"
      ]
     },
     "execution_count": 13,
     "metadata": {},
     "output_type": "execute_result"
    }
   ],
   "source": [
    "v_fn = (5 * t) * (meters / second)\n",
    "v_fn"
   ]
  },
  {
   "cell_type": "markdown",
   "metadata": {},
   "source": [
    "To get around this, the `Val.re()` (\"replace units\") function is recommended.\n",
    "\n",
    "Note that this function essentially sidesteps dimensionality checking and should be done with care.\n",
    "\n",
    "Ideally, most of your expressions are solely made up of operations between symbolic variable `Vals`."
   ]
  },
  {
   "cell_type": "code",
   "execution_count": 14,
   "metadata": {},
   "outputs": [
    {
     "data": {
      "text/latex": [
       "$$ 5 t \\hspace{1.25em} \\frac{\\text{m}}{\\text{s}} $$"
      ],
      "text/plain": [
       "5*t meters/second"
      ]
     },
     "execution_count": 14,
     "metadata": {},
     "output_type": "execute_result"
    }
   ],
   "source": [
    "v_fn2 = (5 * t).re(meters / second)\n",
    "v_fn2"
   ]
  },
  {
   "cell_type": "markdown",
   "metadata": {},
   "source": [
    "## Symbolic Functions\n",
    "\n",
    "<a name=\"symbolic-functions\"></a>\n",
    "\n",
    "It is a common need to define functions a Val that is some unknown function of at least one other symbol.\n",
    "\n",
    "These can be defined similarly to variables, but with parenthesis specifying the inputs to the functions:"
   ]
  },
  {
   "cell_type": "code",
   "execution_count": 15,
   "metadata": {},
   "outputs": [
    {
     "name": "stdout",
     "output_type": "stream",
     "text": [
      "Symbolic Functions:\n",
      "y(t) meters = \n"
     ]
    },
    {
     "data": {
      "text/latex": [
       "$$ y \\hspace{1.25em} \\text{m} $$"
      ],
      "text/plain": [
       "y(t) meters"
      ]
     },
     "metadata": {},
     "output_type": "display_data"
    },
    {
     "name": "stdout",
     "output_type": "stream",
     "text": [
      "f(alpha, zeta_1,2^15, theta2) newtons = \n"
     ]
    },
    {
     "data": {
      "text/latex": [
       "$$ f{\\left(\\alpha,\\zeta^{15}_{1,2},\\theta_{2} \\right)} \\hspace{1.25em} \\text{N} $$"
      ],
      "text/plain": [
       "f(alpha, zeta_1,2^15, theta2) newtons"
      ]
     },
     "execution_count": 15,
     "metadata": {},
     "output_type": "execute_result"
    }
   ],
   "source": [
    "print(\"Symbolic Functions:\")\n",
    "\n",
    "y = \"y(t)\" * meters\n",
    "print(f\"{y} = \")\n",
    "display(y)\n",
    "\n",
    "f = \"f(a, zeta, theta2)\" * N\n",
    "print(f\"{f} = \")\n",
    "f"
   ]
  },
  {
   "cell_type": "markdown",
   "metadata": {},
   "source": [
    "Note that symbolic functions of just time (such as `y(t)` above) do not display the dependency on `t` in their latex output, as this often makes larger physics expressions difficult to read."
   ]
  },
  {
   "cell_type": "markdown",
   "metadata": {},
   "source": [
    "## Equations\n",
    "\n",
    "Equations can be defined with the `==` operator. This returns an `Equation` object rather than a `bool`.\n",
    "\n",
    "As mentioned above, the units on the left and right hand side of the equation must have *equivalent* dimensionality.\n",
    "\n",
    "If one of the sides is just a number (`int`, `float` or `complex`), its units are assumed to be the same as the other side."
   ]
  },
  {
   "cell_type": "code",
   "execution_count": 16,
   "metadata": {},
   "outputs": [
    {
     "data": {
      "text/latex": [
       "$$ y = 5 t \\hspace{1.25em} \\text{m} $$"
      ],
      "text/plain": [
       "y(t) = 5*t meter"
      ]
     },
     "execution_count": 16,
     "metadata": {},
     "output_type": "execute_result"
    }
   ],
   "source": [
    "eqn = y == v_fn\n",
    "eqn"
   ]
  },
  {
   "cell_type": "markdown",
   "metadata": {},
   "source": [
    "Equations can be evaluated for their truthiness with the `Equation.eval()` function.\n",
    "\n",
    "Currently this function will return `False` if the truthiness of the equation cannot be adequately evaluated.\n",
    "\n",
    "This is the case if there are any Symbolic `Val`s in the equation that can't be cancelled out.\n",
    "\n",
    "In the future an `Equation.Unevaluable()` error will be raised instead."
   ]
  },
  {
   "cell_type": "code",
   "execution_count": 17,
   "metadata": {},
   "outputs": [
    {
     "name": "stdout",
     "output_type": "stream",
     "text": [
      "y(t) = 5*t meter ? False\n",
      "5 = 5 meter ? True\n"
     ]
    }
   ],
   "source": [
    "print(eqn, '?', eqn.eval())\n",
    "\n",
    "const_eqn = (5 * meters == 5)\n",
    "print(const_eqn, '?', const_eqn.eval())"
   ]
  },
  {
   "cell_type": "markdown",
   "metadata": {},
   "source": [
    "### Constructor Library\n",
    "\n",
    "A bunch of equations and value constructors are provided for easy use.\n",
    "\n",
    "When `display()`-ed, each constructor will display the equation / value in terms of its function argument names."
   ]
  },
  {
   "cell_type": "code",
   "execution_count": 18,
   "metadata": {},
   "outputs": [
    {
     "data": {
      "text/latex": [
       "$$ F t + m v_{1} = m v_{2} \\hspace{1.25em} \\frac{\\text{kg} \\text{m}}{\\text{s}} $$"
      ],
      "text/plain": [
       "<mathpad._quality_of_life.MathPadConstructor at 0x7fd564212f70>"
      ]
     },
     "execution_count": 18,
     "metadata": {},
     "output_type": "execute_result"
    }
   ],
   "source": [
    "from mathpad.elec import ohms_law, kerchoffs_current_law, kerchoffs_voltage_law, resistance_resistivity\n",
    "from mathpad.mech import euler_lagrange, kinetic_energy, elastic_energy, gravitational_energy, euler_lagrange, impulse_momentum\n",
    "\n",
    "impulse_momentum"
   ]
  },
  {
   "cell_type": "markdown",
   "metadata": {},
   "source": [
    "### Custom Constructors\n",
    "\n",
    "You can make custom constructors that aren't in the library too with the `@mathpad_constructor` decorator.\n",
    "\n",
    "It is recommended you make arguments keyword arguments so that the must be specified when calling the function. This aids in readability for newcomers."
   ]
  },
  {
   "cell_type": "code",
   "execution_count": 19,
   "metadata": {},
   "outputs": [
    {
     "data": {
      "text/latex": [
       "$$ A = x y \\hspace{1.25em} \\text{m}^{2} $$"
      ],
      "text/plain": [
       "<mathpad._quality_of_life.MathPadConstructor at 0x7fd564196d90>"
      ]
     },
     "execution_count": 19,
     "metadata": {},
     "output_type": "execute_result"
    }
   ],
   "source": [
    "@mathpad_constructor\n",
    "def my_epic_equation(\n",
    "    # X[] must wrap your args for correct typing with Vals\n",
    "    A: X[Area],\n",
    "    x: X[Length],\n",
    "    y: X[Length]\n",
    "):\n",
    "    return A == x * y\n",
    "\n",
    "my_epic_equation"
   ]
  },
  {
   "cell_type": "markdown",
   "metadata": {},
   "source": [
    "## Algebra\n",
    "MathPad provides the following algebraic functions:\n",
    "- `subs()`\n",
    "- `factor()`\n",
    "- `expand()`\n",
    "- `simplify()`\n",
    "\n",
    "More will be implemented in the future, but usually usage of `simplify()` and `subs()` is all you need.\n",
    "\n",
    "### `subs()`\n",
    "\n",
    "Substitutes `Val`s for others. Often used to plug in constants for symbolic `Val`s."
   ]
  },
  {
   "cell_type": "code",
   "execution_count": 20,
   "metadata": {},
   "outputs": [
    {
     "name": "stdout",
     "output_type": "stream",
     "text": [
      "subs() examples:\n",
      "================\n",
      "\n",
      "v_fn: 5*t meters.\n",
      "Subbing in t = 5 second:\n"
     ]
    },
    {
     "data": {
      "text/latex": [
       "$$ 25 \\hspace{1.25em} \\text{m} $$"
      ],
      "text/plain": [
       "25 meters"
      ]
     },
     "metadata": {},
     "output_type": "display_data"
    },
    {
     "name": "stdout",
     "output_type": "stream",
     "text": [
      "eqn: y(t) = 5*t meter.\n",
      "Subbing in t = 0.1 second:\n"
     ]
    },
    {
     "data": {
      "text/latex": [
       "$$ y{\\left(0.1 \\right)} = 0.5 \\hspace{1.25em} \\text{m} $$"
      ],
      "text/plain": [
       "y(0.1) = 0.5 meter"
      ]
     },
     "metadata": {},
     "output_type": "display_data"
    }
   ],
   "source": [
    "print(\"subs() examples:\\n================\\n\")\n",
    "\n",
    "print(f\"v_fn: {v_fn}.\\nSubbing in {t == 5}:\")\n",
    "display(subs(v_fn, {t: 5}))\n",
    "\n",
    "print(f\"eqn: {eqn}.\\nSubbing in {t == 0.1}:\")\n",
    "display(subs(eqn, {t: 0.1}))"
   ]
  },
  {
   "cell_type": "markdown",
   "metadata": {},
   "source": [
    "### `factor()`\n",
    "\n",
    "Takes a polynomial and factors it into irreducible factors over the rational numbers.\n",
    "\n",
    "See the underlying [`sympy.factor()`](https://docs.sympy.org/latest/tutorials/intro-tutorial/simplification.html#factor) function for more details:"
   ]
  },
  {
   "cell_type": "code",
   "execution_count": 21,
   "metadata": {},
   "outputs": [
    {
     "name": "stdout",
     "output_type": "stream",
     "text": [
      "factor() examples:\n",
      "==================\n",
      "\n",
      "Example 1\n"
     ]
    },
    {
     "data": {
      "text/latex": [
       "$$ 5 t \\left(\\sin^{2}{\\left(x \\right)} + 2 \\sin{\\left(x \\right)} \\cos{\\left(x \\right)} + \\cos^{2}{\\left(x \\right)}\\right) \\hspace{1.25em} \\text{m} $$"
      ],
      "text/plain": [
       "5*t*(sin(x)**2 + 2*sin(x)*cos(x) + cos(x)**2) meters"
      ]
     },
     "metadata": {},
     "output_type": "display_data"
    },
    {
     "name": "stdout",
     "output_type": "stream",
     "text": [
      "factors to:\n"
     ]
    },
    {
     "data": {
      "text/latex": [
       "$$ 5 t \\left(\\sin{\\left(x \\right)} + \\cos{\\left(x \\right)}\\right)^{2} \\hspace{1.25em} \\text{m} $$"
      ],
      "text/plain": [
       "5*t*(sin(x) + cos(x))**2 meters"
      ]
     },
     "metadata": {},
     "output_type": "display_data"
    },
    {
     "name": "stdout",
     "output_type": "stream",
     "text": [
      "Example 2\n"
     ]
    },
    {
     "data": {
      "text/latex": [
       "$$ x^{3} - x^{2} + x - 1 \\hspace{1.25em} \\text{rad}^{3} $$"
      ],
      "text/plain": [
       "x**3 - x**2 + x - 1 radians**3"
      ]
     },
     "metadata": {},
     "output_type": "display_data"
    },
    {
     "name": "stdout",
     "output_type": "stream",
     "text": [
      "factors to:\n"
     ]
    },
    {
     "data": {
      "text/latex": [
       "$$ \\left(x - 1\\right) \\left(x^{2} + 1\\right) \\hspace{1.25em} \\text{rad}^{3} $$"
      ],
      "text/plain": [
       "(x - 1.0)*(x**2 + 1.0) radians**3"
      ]
     },
     "metadata": {},
     "output_type": "display_data"
    }
   ],
   "source": [
    "print(\"factor() examples:\\n==================\\n\")\n",
    "\n",
    "x = \"x\" * rad\n",
    "\n",
    "print(\"Example 1\")\n",
    "eg1 = (cos(x)**2 + 2*cos(x)*sin(x) + sin(x)**2) * v_fn\n",
    "display(eg1)\n",
    "print('factors to:')\n",
    "display(factor(eg1))\n",
    "\n",
    "print(\"Example 2\")\n",
    "eg2 = x**3 - x**2 + x - 1\n",
    "display(eg2)\n",
    "print('factors to:')\n",
    "display(factor(eg2))\n"
   ]
  },
  {
   "cell_type": "markdown",
   "metadata": {},
   "source": [
    "### `expand()`\n",
    "\n",
    "Expands an expression, undoing any factorization. This usually makes the output more verbose, although in some cases it can result in cancellation, leading to a smaller output.\n",
    "\n",
    "See the underlying [`sympy.expand()`](https://docs.sympy.org/latest/tutorials/intro-tutorial/simplification.html#expand) function for more details:"
   ]
  },
  {
   "cell_type": "code",
   "execution_count": 22,
   "metadata": {},
   "outputs": [
    {
     "name": "stdout",
     "output_type": "stream",
     "text": [
      "factor() examples:\n",
      "==================\n",
      "\n",
      "Example 1\n"
     ]
    },
    {
     "data": {
      "text/latex": [
       "$$ 5 t \\left(x + 1\\right)^{2} \\hspace{1.25em} \\text{m} \\text{rad}^{2} $$"
      ],
      "text/plain": [
       "5*t*(x + 1.0)**2 meter*radians**2"
      ]
     },
     "metadata": {},
     "output_type": "display_data"
    },
    {
     "name": "stdout",
     "output_type": "stream",
     "text": [
      "expands to:\n"
     ]
    },
    {
     "data": {
      "text/latex": [
       "$$ 5 t x^{2} + 10 t x + 5 t \\hspace{1.25em} \\text{m} \\text{rad}^{2} $$"
      ],
      "text/plain": [
       "5*t*x**2 + 10*t*x + 5*t meter*radians**2"
      ]
     },
     "metadata": {},
     "output_type": "display_data"
    },
    {
     "name": "stdout",
     "output_type": "stream",
     "text": [
      "Example 2\n"
     ]
    },
    {
     "data": {
      "text/latex": [
       "$$ \\left(x - 3\\right) \\left(x + 2\\right) \\hspace{1.25em} \\text{rad}^{2} $$"
      ],
      "text/plain": [
       "(x - 3.0)*(x + 2.0) radians**2"
      ]
     },
     "metadata": {},
     "output_type": "display_data"
    },
    {
     "name": "stdout",
     "output_type": "stream",
     "text": [
      "expands to:\n"
     ]
    },
    {
     "data": {
      "text/latex": [
       "$$ x^{2} - x - 6 \\hspace{1.25em} \\text{rad}^{2} $$"
      ],
      "text/plain": [
       "x**2 - x - 6 radians**2"
      ]
     },
     "metadata": {},
     "output_type": "display_data"
    },
    {
     "name": "stdout",
     "output_type": "stream",
     "text": [
      "Example 3\n"
     ]
    },
    {
     "data": {
      "text/latex": [
       "$$ - x \\left(x - 1\\right) + \\left(x - 2\\right) \\left(x + 1\\right) \\hspace{1.25em} \\text{rad}^{2} $$"
      ],
      "text/plain": [
       "-x*(x - 1.0) + (x - 2.0)*(x + 1.0) radians**2"
      ]
     },
     "metadata": {},
     "output_type": "display_data"
    },
    {
     "name": "stdout",
     "output_type": "stream",
     "text": [
      "expands to:\n"
     ]
    },
    {
     "data": {
      "text/latex": [
       "$$ -2 \\hspace{1.25em} \\text{rad}^{2} $$"
      ],
      "text/plain": [
       "-2 radians**2"
      ]
     },
     "metadata": {},
     "output_type": "display_data"
    }
   ],
   "source": [
    "print(\"factor() examples:\\n==================\\n\")\n",
    "\n",
    "print(\"Example 1\")\n",
    "eg1 = ((x + 1)**2) * v_fn\n",
    "display(eg1)\n",
    "print('expands to:')\n",
    "display(expand(eg1))\n",
    "\n",
    "print(\"Example 2\")\n",
    "eg2 = (x + 2)*(x - 3)\n",
    "display(eg2)\n",
    "print('expands to:')\n",
    "display(expand(eg2))\n",
    "\n",
    "\n",
    "print(\"Example 3\")\n",
    "eg3 = (x + 1)*(x - 2) - (x - 1)*x\n",
    "display(eg3)\n",
    "print('expands to:')\n",
    "display(expand(eg3))"
   ]
  },
  {
   "cell_type": "markdown",
   "metadata": {},
   "source": [
    "### `simplify()`\n",
    "\n",
    "Attempts simplification by any combination of the algebraic functions available to sympy.\n",
    "\n",
    "See the underlying [`sympy.simplify()`](https://docs.sympy.org/latest/tutorials/intro-tutorial/simplification.html) function for more details"
   ]
  },
  {
   "cell_type": "code",
   "execution_count": 23,
   "metadata": {},
   "outputs": [
    {
     "name": "stdout",
     "output_type": "stream",
     "text": [
      "simplify() examples:\n",
      "====================\n",
      "\n",
      "Example 1: Trig Identity\n"
     ]
    },
    {
     "data": {
      "text/latex": [
       "$$ 5 t \\left(\\sin^{2}{\\left(\\theta_{2} \\right)} + \\cos^{2}{\\left(\\theta_{2} \\right)}\\right) \\hspace{1.25em} \\text{m} $$"
      ],
      "text/plain": [
       "5*t*(sin(theta2)**2 + cos(theta2)**2) meters"
      ]
     },
     "metadata": {},
     "output_type": "display_data"
    },
    {
     "name": "stdout",
     "output_type": "stream",
     "text": [
      "simplifies to:\n"
     ]
    },
    {
     "data": {
      "text/latex": [
       "$$ 5 t \\hspace{1.25em} \\text{m} $$"
      ],
      "text/plain": [
       "5*t meters"
      ]
     },
     "metadata": {},
     "output_type": "display_data"
    },
    {
     "name": "stdout",
     "output_type": "stream",
     "text": [
      "Example 2: Polynomial Fraction\n"
     ]
    },
    {
     "data": {
      "text/latex": [
       "$$ \\frac{\\theta_{2}^{3} + \\theta_{2}^{2} - \\theta_{2} - 1}{\\theta_{2}^{2} + 2 \\theta_{2} + 1} \\hspace{1.25em} \\text{rad} $$"
      ],
      "text/plain": [
       "(theta2**3 + theta2**2 - theta2 - 1.0)/(theta2**2 + 2*theta2 + 1.0) radians"
      ]
     },
     "metadata": {},
     "output_type": "display_data"
    },
    {
     "name": "stdout",
     "output_type": "stream",
     "text": [
      "simplifies to:\n"
     ]
    },
    {
     "data": {
      "text/latex": [
       "$$ \\theta_{2} - 1 \\hspace{1.25em} \\text{rad} $$"
      ],
      "text/plain": [
       "theta2 - 1 radians"
      ]
     },
     "metadata": {},
     "output_type": "display_data"
    }
   ],
   "source": [
    "print(\"simplify() examples:\\n====================\\n\")\n",
    "\n",
    "print(\"Example 1: Trig Identity\")\n",
    "eg1 = (sin(theta2)**2 + cos(theta2)**2) * v_fn\n",
    "display(eg1)\n",
    "print('simplifies to:')\n",
    "display(simplify(eg1))\n",
    "\n",
    "print(\"Example 2: Polynomial Fraction\")\n",
    "eg2 = (theta2**3 + theta2**2 - theta2 - 1) / (theta2**2 + 2*theta2 + 1)\n",
    "display(eg2)\n",
    "print('simplifies to:')\n",
    "display(simplify(eg2))"
   ]
  },
  {
   "cell_type": "markdown",
   "metadata": {},
   "source": [
    "## Solving\n",
    "\n",
    "MathPad provides the ability to solve equations and systems of equations with ease, provided they are solveable.\n",
    "\n",
    "This is done by using the `solve()` function. This function takes a list of equations and an equivalent list of symbolic `Val`s to solve for. The length of the list of equations must be greater than or equal to the length of list of unknowns, otherwise solving is impossible.\n",
    "\n",
    "The output of the `solve()` function is a list of `Solutions`. Each `Solution` is essentially a `dict` mapping unknowns `Val`s passed to `solve_for` to their respective solution `Val`."
   ]
  },
  {
   "cell_type": "code",
   "execution_count": 24,
   "metadata": {},
   "outputs": [
    {
     "data": {
      "text/latex": [
       "$$ c^{2} = a^{2} + b^{2} \\hspace{1.25em} \\text{m}^{2} $$"
      ],
      "text/plain": [
       "c**2 = a^2 + b**2 meter**2"
      ]
     },
     "metadata": {},
     "output_type": "display_data"
    },
    {
     "name": "stdout",
     "output_type": "stream",
     "text": [
      "Solving c**2 = a^2 + b**2 meter**2 for a^2 meters**2 ...\n",
      "Solutions found: [Solution( a^2 = -b**2 + c**2 meters**2 )]\n",
      "Solution #1 for a^2 =\n"
     ]
    },
    {
     "data": {
      "text/latex": [
       "$$ a^{2} = - b^{2} + c^{2} \\hspace{1.25em} \\text{m}^{2} $$"
      ],
      "text/plain": [
       "a^2 = -b**2 + c**2 meter**2"
      ]
     },
     "metadata": {},
     "output_type": "display_data"
    }
   ],
   "source": [
    "a2 = \"a^2\" * m**2\n",
    "b = \"b\" * m\n",
    "c = \"c\" * m\n",
    "\n",
    "eqn = c**2 == a2 + b**2\n",
    "display(eqn)\n",
    "\n",
    "print(f\"Solving {eqn} for {a2} ...\")\n",
    "solutions = solve([eqn], [a2])\n",
    "print(f\"Solutions found: {solutions}\")\n",
    "solution = solutions[0]\n",
    "print(\"Solution #1 for a^2 =\")\n",
    "display(a2 == solution[a2])"
   ]
  },
  {
   "cell_type": "markdown",
   "metadata": {},
   "source": [
    "### Solving Systems of Equations\n",
    "`solve()` takes a list of equations, making it simple to solve systems of equations:"
   ]
  },
  {
   "cell_type": "code",
   "execution_count": 25,
   "metadata": {},
   "outputs": [
    {
     "name": "stdout",
     "output_type": "stream",
     "text": [
      "Solving system of equations:\n"
     ]
    },
    {
     "data": {
      "text/latex": [
       "$$ \\frac{y}{12} + z = 12 \\hspace{1.25em} \\text{N} $$"
      ],
      "text/plain": [
       "0.0833333*y + z = 12 newton"
      ]
     },
     "metadata": {},
     "output_type": "display_data"
    },
    {
     "data": {
      "text/latex": [
       "$$ \\frac{x}{2} - y + 132 z = 42 \\hspace{1.25em} \\text{N} $$"
      ],
      "text/plain": [
       "0.5*x - y + 132*z = 42 newton"
      ]
     },
     "metadata": {},
     "output_type": "display_data"
    },
    {
     "data": {
      "text/latex": [
       "$$ \\pi x - \\frac{z}{\\pi} = -96 \\hspace{1.25em} \\text{N} \\text{rad} $$"
      ],
      "text/plain": [
       "3.14159*x - 0.3183z = -96 newton*radian"
      ]
     },
     "metadata": {},
     "output_type": "display_data"
    },
    {
     "name": "stdout",
     "output_type": "stream",
     "text": [
      "Solution:\n"
     ]
    },
    {
     "data": {
      "text/latex": [
       "$$ x = -30.4162 \\hspace{1.25em} \\text{N} $$"
      ],
      "text/plain": [
       "x = -30.4162 newton"
      ]
     },
     "metadata": {},
     "output_type": "display_data"
    },
    {
     "data": {
      "text/latex": [
       "$$ y = 127.233 \\hspace{1.25em} \\text{N} $$"
      ],
      "text/plain": [
       "y = 127.233 newton"
      ]
     },
     "metadata": {},
     "output_type": "display_data"
    },
    {
     "data": {
      "text/latex": [
       "$$ z = 1.39728 \\hspace{1.25em} \\text{N} $$"
      ],
      "text/plain": [
       "z = 1.39728 newton"
      ]
     },
     "metadata": {},
     "output_type": "display_data"
    }
   ],
   "source": [
    "x = \"x\" * N\n",
    "y = \"y\" * N\n",
    "z = \"z\" * N\n",
    "\n",
    "system_of_equations = [\n",
    "    y/12 + z == 12,\n",
    "    x/2 - y + 132*z == 42,\n",
    "    pi*x - z/pi == -96,\n",
    "]\n",
    "\n",
    "print(\"Solving system of equations:\")\n",
    "for eqn in system_of_equations:\n",
    "    display(eqn)\n",
    "\n",
    "sln = solve(system_of_equations, [x, y, z])[0]\n",
    "\n",
    "print(\"Solution:\")\n",
    "for val, result in sln.items():\n",
    "    display(val == result.eval())"
   ]
  },
  {
   "cell_type": "markdown",
   "metadata": {},
   "source": [
    "Note that you can solve for `Val` expressions as well, not just symbols:"
   ]
  },
  {
   "cell_type": "code",
   "execution_count": 26,
   "metadata": {},
   "outputs": [
    {
     "name": "stdout",
     "output_type": "stream",
     "text": [
      "Solving\n"
     ]
    },
    {
     "data": {
      "text/latex": [
       "$$ c_{2} = a^{2} + b^{2} \\hspace{1.25em} \\text{m}^{2} $$"
      ],
      "text/plain": [
       "c2 = a**2 + b**2 meter**2"
      ]
     },
     "metadata": {},
     "output_type": "display_data"
    },
    {
     "name": "stdout",
     "output_type": "stream",
     "text": [
      "for\n"
     ]
    },
    {
     "data": {
      "text/latex": [
       "$$ \\frac{1}{\\sqrt{c_{2}}} \\hspace{1.25em} \\frac{1}{\\text{m}} $$"
      ],
      "text/plain": [
       "c2**(-0.5) 1/meters"
      ]
     },
     "metadata": {},
     "output_type": "display_data"
    },
    {
     "name": "stdout",
     "output_type": "stream",
     "text": [
      "Solution #1\n"
     ]
    },
    {
     "data": {
      "text/latex": [
       "$$ \\frac{1}{\\sqrt{c_{2}}} = - \\sqrt{\\frac{1}{a^{2} + b^{2}}} \\hspace{1.25em} \\frac{1}{\\text{m}} $$"
      ],
      "text/plain": [
       "c2**(-0.5) = -(1/(a**2 + b**2))**0.5 1/meter"
      ]
     },
     "metadata": {},
     "output_type": "display_data"
    },
    {
     "name": "stdout",
     "output_type": "stream",
     "text": [
      "Solution #2\n"
     ]
    },
    {
     "data": {
      "text/latex": [
       "$$ \\frac{1}{\\sqrt{c_{2}}} = \\sqrt{\\frac{1}{a^{2} + b^{2}}} \\hspace{1.25em} \\frac{1}{\\text{m}} $$"
      ],
      "text/plain": [
       "c2**(-0.5) = (1/(a**2 + b**2))**0.5 1/meter"
      ]
     },
     "metadata": {},
     "output_type": "display_data"
    }
   ],
   "source": [
    "a = \"a\" * m\n",
    "b = \"b\" * m\n",
    "c2 = \"c2\" * m**2\n",
    "\n",
    "c_inv = 1 / sqrt(c2)\n",
    "\n",
    "eqn = c2 == a**2 + b**2\n",
    "print(\"Solving\")\n",
    "display(eqn)\n",
    "print(\"for\")\n",
    "display(c_inv)\n",
    "\n",
    "solutions = solve([eqn], [c_inv])\n",
    "assert len(solutions) == 2\n",
    "\n",
    "print(\"Solution #1\")\n",
    "display(c_inv == solutions[0][c_inv])\n",
    "\n",
    "print(\"Solution #2\")\n",
    "display(c_inv == solutions[1][c_inv])"
   ]
  },
  {
   "cell_type": "markdown",
   "metadata": {},
   "source": [
    "## Efficient, large-scale evaluation\n",
    "\n",
    "Often times you will come to an answer of a `Val` which is a function of many other symbolic `Val`s.\n",
    "\n",
    "In order to test and visualize your solution, you may want to calculate the results for a range of different inputs.\n",
    "\n",
    "You could use `subs()` over and over again in order to get the resulting value for each set of inputs, but this is computationally expensive.\n",
    "\n",
    "A more efficient way to do this would be by converting the `Val` to a numpy-compatible function using `as_numpy_func()`, and then calling it with all the inputs at once.\n",
    "\n",
    "This will result in using `numpy`'s C backend for doing all the required computations, rather than significantly slower sympy code."
   ]
  },
  {
   "cell_type": "code",
   "execution_count": 27,
   "metadata": {},
   "outputs": [
    {
     "name": "stdout",
     "output_type": "stream",
     "text": [
      "Evaluating:\n"
     ]
    },
    {
     "data": {
      "text/latex": [
       "$$ \\frac{1}{\\sqrt{c_{2}}} = \\sqrt{\\frac{1}{a^{2} + b^{2}}} \\hspace{1.25em} \\frac{1}{\\text{m}} $$"
      ],
      "text/plain": [
       "c2**(-0.5) = (1/(a**2 + b**2))**0.5 1/meter"
      ]
     },
     "metadata": {},
     "output_type": "display_data"
    },
    {
     "name": "stdout",
     "output_type": "stream",
     "text": [
      "Evaluating (scalar input) with b = 1m, a = 4m:\n"
     ]
    },
    {
     "data": {
      "text/latex": [
       "$$ \\frac{1}{\\sqrt{c_{2}}} = 0.242535625036333 \\hspace{1.25em} \\frac{1}{\\text{m}} $$"
      ],
      "text/plain": [
       "c2**(-0.5) = 0.242536 1/meter"
      ]
     },
     "metadata": {},
     "output_type": "display_data"
    },
    {
     "name": "stdout",
     "output_type": "stream",
     "text": [
      "Evaluating (list input) with b = [1, 2, 3] m, a = [4, 5, 6] m:\n"
     ]
    },
    {
     "data": {
      "text/plain": [
       "array([0.24253563, 0.18569534, 0.1490712 ])"
      ]
     },
     "metadata": {},
     "output_type": "display_data"
    },
    {
     "name": "stdout",
     "output_type": "stream",
     "text": [
      "Evaluating (50 million el np.array inputs) with:\n",
      "b = [0.78956136 0.23112849 0.1559791  ... 0.92933114 0.4069253  0.57102495] (shape=(50000000,)) m, and\n",
      "a = [0.42842448 0.42792548 0.6974274  ... 0.88422236 0.6506857  0.75806954] (shape=(50000000,)) m:\n",
      "Result: [1.11320571 2.05611386 1.3992729  ... 0.7795614  1.30301584 1.0536601 ] (shape=(50000000,)) m\n"
     ]
    }
   ],
   "source": [
    "import numpy as np\n",
    "\n",
    "sln2_c_inv = solutions[1][c_inv]\n",
    "print(\"Evaluating:\")\n",
    "display(c_inv == sln2_c_inv)\n",
    "\n",
    "evaluate_a_with_numpy = as_numpy_func(sln2_c_inv)\n",
    "\n",
    "print(\"Evaluating (scalar input) with b = 1m, a = 4m:\")\n",
    "display(c_inv == evaluate_a_with_numpy({ b: 1, a: 4 }))\n",
    "\n",
    "\n",
    "print(\"Evaluating (list input) with b = [1, 2, 3] m, a = [4, 5, 6] m:\")\n",
    "display(evaluate_a_with_numpy({ b: [1, 2, 3], a: [4, 5, 6] }))\n",
    "\n",
    "\n",
    "print(f\"Evaluating (50 million el np.array inputs) with:\")\n",
    "b_arr = np.random.random(50_000_000)\n",
    "a_arr = np.random.random(50_000_000)\n",
    "print(f\"b = {b_arr} (shape={b_arr.shape}) m, and\")\n",
    "print(f\"a = {a_arr} (shape={b_arr.shape}) m:\")\n",
    "res = evaluate_a_with_numpy({ b: b_arr, a: a_arr })\n",
    "print(f\"Result: {res} (shape={res.shape}) m\")\n",
    "del a_arr, b_arr, res"
   ]
  },
  {
   "cell_type": "markdown",
   "metadata": {},
   "source": [
    "## Calculus\n",
    "\n",
    "The `diff()` and `integral()` allow you to do calculus easily:"
   ]
  },
  {
   "cell_type": "code",
   "execution_count": 28,
   "metadata": {},
   "outputs": [
    {
     "data": {
      "text/latex": [
       "$$ y = \\frac{t^{3}}{3} \\hspace{1.25em} \\text{m} $$"
      ],
      "text/plain": [
       "y(t) = 0.333333*t**3 meter"
      ]
     },
     "metadata": {},
     "output_type": "display_data"
    },
    {
     "name": "stdout",
     "output_type": "stream",
     "text": [
      "Derivative of y:\n"
     ]
    },
    {
     "data": {
      "text/latex": [
       "$$ \\dot{y} = t^{2} \\hspace{1.25em} \\frac{\\text{m}}{\\text{s}} $$"
      ],
      "text/plain": [
       "Derivative(y(t), t) = t**2 meter/second"
      ]
     },
     "metadata": {},
     "output_type": "display_data"
    },
    {
     "name": "stdout",
     "output_type": "stream",
     "text": [
      "Double-Derivative of y:\n"
     ]
    },
    {
     "data": {
      "text/latex": [
       "$$ \\ddot{y} = 2 t \\hspace{1.25em} \\frac{\\text{m}}{\\text{s}^{2}} $$"
      ],
      "text/plain": [
       "Derivative(y(t), (t, 2)) = 2*t meter/second**2"
      ]
     },
     "metadata": {},
     "output_type": "display_data"
    },
    {
     "name": "stdout",
     "output_type": "stream",
     "text": [
      "Indefinite Integral of y:\n"
     ]
    },
    {
     "data": {
      "text/latex": [
       "$$ \\int y\\, dt = \\frac{t^{4}}{12} \\hspace{1.25em} \\text{m} \\text{s} $$"
      ],
      "text/plain": [
       "Integral(y(t), t) = 0.0833333*t**4 meter*second"
      ]
     },
     "metadata": {},
     "output_type": "display_data"
    },
    {
     "name": "stdout",
     "output_type": "stream",
     "text": [
      "Definite Integral of y from t=1 to t=2:\n"
     ]
    },
    {
     "data": {
      "text/latex": [
       "$$ \\int\\limits_{1}^{2} y\\, dt = \\frac{5}{4} \\hspace{1.25em} \\text{m} \\text{s} $$"
      ],
      "text/plain": [
       "Integral(y(t), (t, 1, 2)) = 1.25 meter*second"
      ]
     },
     "metadata": {},
     "output_type": "display_data"
    }
   ],
   "source": [
    "y = \"y(t)\" * m\n",
    "_y = (t**3 / 3).re(m)\n",
    "eqn = y == _y\n",
    "display(eqn)\n",
    "\n",
    "print(\"Derivative of y:\")\n",
    "display(\n",
    "    diff(y) == diff(_y)\n",
    ")\n",
    "\n",
    "print(\"Double-Derivative of y:\")\n",
    "display(\n",
    "    diff(y, 2) == diff(_y, 2)\n",
    ")\n",
    "\n",
    "print(\"Indefinite Integral of y:\")\n",
    "display(\n",
    "    integral(y) == integral(_y)\n",
    ")\n",
    "\n",
    "print(\"Definite Integral of y from t=1 to t=2:\")\n",
    "display(\n",
    "    integral(y, between=(1, 2)) == integral(_y, between=(1, 2))\n",
    ")"
   ]
  },
  {
   "cell_type": "markdown",
   "metadata": {},
   "source": [
    "By default, the `diff()` and `integral()` functions are `wrt=t`, as this is the most common use-case.\n",
    "\n",
    "So if needed, specify `wrt=x` instead where `x` is a symbolic `Val`: "
   ]
  },
  {
   "cell_type": "code",
   "execution_count": 29,
   "metadata": {},
   "outputs": [
    {
     "data": {
      "text/latex": [
       "$$ y{\\left(x \\right)} = \\frac{x^{3}}{3} \\hspace{1.25em} \\text{m} $$"
      ],
      "text/plain": [
       "y(x) = 0.333333*x**3 meter"
      ]
     },
     "metadata": {},
     "output_type": "display_data"
    },
    {
     "name": "stdout",
     "output_type": "stream",
     "text": [
      "Derivative of y:\n"
     ]
    },
    {
     "data": {
      "text/latex": [
       "$$ \\frac{d}{d x} y{\\left(x \\right)} = x^{2} \\hspace{1.25em} dimensionless $$"
      ],
      "text/plain": [
       "Derivative(y(x), x) = x**2 1"
      ]
     },
     "metadata": {},
     "output_type": "display_data"
    },
    {
     "name": "stdout",
     "output_type": "stream",
     "text": [
      "Double-Derivative of y:\n"
     ]
    },
    {
     "data": {
      "text/latex": [
       "$$ \\frac{d^{2}}{d x^{2}} y{\\left(x \\right)} = 2 x \\hspace{1.25em} \\frac{1}{\\text{m}} $$"
      ],
      "text/plain": [
       "Derivative(y(x), (x, 2)) = 2*x 1/meter"
      ]
     },
     "metadata": {},
     "output_type": "display_data"
    },
    {
     "name": "stdout",
     "output_type": "stream",
     "text": [
      "Indefinite Integral of y:\n"
     ]
    },
    {
     "data": {
      "text/latex": [
       "$$ \\int y{\\left(x \\right)}\\, dx = \\frac{x^{4}}{12} \\hspace{1.25em} \\text{m}^{2} $$"
      ],
      "text/plain": [
       "Integral(y(x), x) = 0.0833333*x**4 meter**2"
      ]
     },
     "metadata": {},
     "output_type": "display_data"
    },
    {
     "name": "stdout",
     "output_type": "stream",
     "text": [
      "Definite Integral of y from t=1 to t=2:\n"
     ]
    },
    {
     "data": {
      "text/latex": [
       "$$ \\int\\limits_{1}^{2} y{\\left(x \\right)}\\, dx = \\frac{5}{4} \\hspace{1.25em} \\text{m}^{2} $$"
      ],
      "text/plain": [
       "Integral(y(x), (x, 1, 2)) = 1.25 meter**2"
      ]
     },
     "metadata": {},
     "output_type": "display_data"
    }
   ],
   "source": [
    "x = \"x\" * m\n",
    "y = \"y(x)\" * m\n",
    "_y = (x**3 / 3).re(m)\n",
    "eqn = y == _y\n",
    "display(eqn)\n",
    "\n",
    "print(\"Derivative of y:\")\n",
    "display(\n",
    "    diff(y, wrt=x) == diff(_y, wrt=x)\n",
    ")\n",
    "\n",
    "print(\"Double-Derivative of y:\")\n",
    "display(\n",
    "    diff(y, 2, wrt=x) == diff(_y, 2, wrt=x)\n",
    ")\n",
    "\n",
    "print(\"Indefinite Integral of y:\")\n",
    "display(\n",
    "    integral(y, wrt=x) == integral(_y, wrt=x)\n",
    ")\n",
    "\n",
    "print(\"Definite Integral of y from t=1 to t=2:\")\n",
    "display(\n",
    "    integral(y, wrt=x, between=(1, 2)) \\\n",
    "    == integral(_y, wrt=x, between=(1, 2))\n",
    ")"
   ]
  },
  {
   "cell_type": "markdown",
   "metadata": {},
   "source": [
    "## Simulating Systems of Differential Equations\n",
    "\n",
    "When working with systems of differential equations, it can be helpful to run a simulation to determine the validity of your model. MathPad offers the `simulate_dynamic_system()` function to assist with this.\n",
    "\n",
    "To demonstrate its use, we will be simulating the motion of a simple pendulum in the diagram below. Note that this model doesn't include any damping forces such as friction and air resistance, so it will oscillate forever.\n",
    "\n",
    "![Simple Pendulum Problem Diagram](imgs/simple_pendulum.png)\n",
    "\n",
    "We will be skipping the solving part of this problem and get right into simulating."
   ]
  },
  {
   "cell_type": "code",
   "execution_count": 30,
   "metadata": {},
   "outputs": [
    {
     "data": {
      "text/latex": [
       "$$ \\ddot{\\theta} = - \\frac{g \\sin{\\left(\\theta \\right)}}{l} \\hspace{1.25em} \\frac{\\text{rad}}{\\text{s}^{2}} $$"
      ],
      "text/plain": [
       "Derivative(theta(t), (t, 2)) = -g*sin(theta(t))/l radian/second**2"
      ]
     },
     "metadata": {},
     "output_type": "display_data"
    },
    {
     "name": "stdout",
     "output_type": "stream",
     "text": [
      "Solving subbed Equations...\n",
      "Solving finished.\n",
      "Simulating from t=0 to t=10 with a max_step of 0.01.\n"
     ]
    },
    {
     "data": {
      "application/vnd.jupyter.widget-view+json": {
       "model_id": "6dcf5659757740d0ba7a70b30e6b4592",
       "version_major": 2,
       "version_minor": 0
      },
      "text/plain": [
       "  0%|          | 0/10 [00:00<?, ?it/s]"
      ]
     },
     "metadata": {},
     "output_type": "display_data"
    },
    {
     "name": "stdout",
     "output_type": "stream",
     "text": [
      "Simulation finished. Plotting...\n"
     ]
    },
    {
     "data": {
      "image/svg+xml": "<svg class=\"main-svg\" xmlns=\"http://www.w3.org/2000/svg\" xmlns:xlink=\"http://www.w3.org/1999/xlink\" width=\"960\" height=\"400\" style=\"\" viewBox=\"0 0 960 400\"><rect x=\"0\" y=\"0\" width=\"960\" height=\"400\" style=\"fill: rgb(255, 255, 255); fill-opacity: 1;\"/><defs id=\"defs-a39d1c\"><g class=\"clips\"><clipPath id=\"clipa39d1cxyplot\" class=\"plotclip\"><rect width=\"579\" height=\"220\"/></clipPath><clipPath class=\"axesclip\" id=\"clipa39d1cx\"><rect x=\"80\" y=\"0\" width=\"579\" height=\"400\"/></clipPath><clipPath class=\"axesclip\" id=\"clipa39d1cy\"><rect x=\"0\" y=\"100\" width=\"960\" height=\"220\"/></clipPath><clipPath class=\"axesclip\" id=\"clipa39d1cxy\"><rect x=\"80\" y=\"100\" width=\"579\" height=\"220\"/></clipPath></g><g class=\"gradients\"/><g class=\"patterns\"/></defs><g class=\"bglayer\"><rect class=\"bg\" x=\"80\" y=\"100\" width=\"579\" height=\"220\" style=\"fill: rgb(229, 236, 246); fill-opacity: 1; stroke-width: 0;\"/></g><g class=\"layer-below\"><g class=\"imagelayer\"/><g class=\"shapelayer\"/></g><g class=\"cartesianlayer\"><g class=\"subplot xy\"><g class=\"layer-subplot\"><g class=\"shapelayer\"/><g class=\"imagelayer\"/></g><g class=\"minor-gridlayer\"><g class=\"x\"/><g class=\"y\"/></g><g class=\"gridlayer\"><g class=\"x\"><path class=\"xgrid crisp\" transform=\"translate(195.8,0)\" d=\"M0,100v220\" style=\"stroke: rgb(255, 255, 255); stroke-opacity: 1; stroke-width: 1px;\"/><path class=\"xgrid crisp\" transform=\"translate(311.6,0)\" d=\"M0,100v220\" style=\"stroke: rgb(255, 255, 255); stroke-opacity: 1; stroke-width: 1px;\"/><path class=\"xgrid crisp\" transform=\"translate(427.4,0)\" d=\"M0,100v220\" style=\"stroke: rgb(255, 255, 255); stroke-opacity: 1; stroke-width: 1px;\"/><path class=\"xgrid crisp\" transform=\"translate(543.2,0)\" d=\"M0,100v220\" style=\"stroke: rgb(255, 255, 255); stroke-opacity: 1; stroke-width: 1px;\"/></g><g class=\"y\"><path class=\"ygrid crisp\" transform=\"translate(0,268.32)\" d=\"M80,0h579\" style=\"stroke: rgb(255, 255, 255); stroke-opacity: 1; stroke-width: 1px;\"/><path class=\"ygrid crisp\" transform=\"translate(0,151.68)\" d=\"M80,0h579\" style=\"stroke: rgb(255, 255, 255); stroke-opacity: 1; stroke-width: 1px;\"/></g></g><g class=\"zerolinelayer\"><path class=\"xzl zl crisp\" transform=\"translate(80,0)\" d=\"M0,100v220\" style=\"stroke: rgb(255, 255, 255); stroke-opacity: 1; stroke-width: 2px;\"/><path class=\"yzl zl crisp\" transform=\"translate(0,210)\" d=\"M80,0h579\" style=\"stroke: rgb(255, 255, 255); stroke-opacity: 1; stroke-width: 2px;\"/></g><path class=\"xlines-below\"/><path class=\"ylines-below\"/><g class=\"overlines-below\"/><g class=\"xaxislayer-below\"/><g class=\"yaxislayer-below\"/><g class=\"overaxes-below\"/><g class=\"plot\" transform=\"translate(80,100)\" clip-path=\"url(#clipa39d1cxyplot)\"><g class=\"scatterlayer mlayer\"><g class=\"trace scatter trace9ead95\" style=\"stroke-miterlimit: 2; opacity: 1;\"><g class=\"fills\"/><g class=\"errorbars\"/><g class=\"lines\"><path class=\"js-line\" d=\"M0,97.78L8.93,98.95L9.22,99.03L16.46,101.64L16.75,101.77L27.46,107.67L27.75,107.85L46.97,118.83L46.97,118.83L47.09,118.88L55.83,121.59L56.12,121.64L62.2,122.21L62.49,122.22L70.89,121.15L71.18,121.08L78.99,118.28L79.28,118.15L89.99,112.22L90.28,112.04L109.39,101.14L109.44,101.12L118.36,98.38L118.65,98.32L126.18,97.82L126.23,97.82L133.76,98.98L133.82,99L139.79,101.04L140.08,101.16L149.63,106.12L149.92,106.3L171.63,118.81L171.92,118.93L179.16,121.3L179.45,121.36L186.69,122.21L186.98,122.22L194.21,121.47L194.5,121.41L203.48,118.38L203.77,118.25L211.99,113.87L212.1,113.81L234.57,100.95L234.57,100.95L234.69,100.9L242.27,98.54L242.56,98.48L249.22,97.79L249.51,97.78L257.9,98.84L258.19,98.91L266.01,101.69L266.3,101.83L274.46,106.19L274.52,106.23L297.57,119.31L297.62,119.33L305.67,121.67L305.72,121.67L311.58,122.21L311.58,122.21L311.69,122.22L319.86,121.26L320.15,121.19L326.8,118.98L327.09,118.86L335.49,114.59L335.78,114.42L358.65,101.22L358.94,101.09L367.91,98.36L368.2,98.3L375.38,97.81L375.44,97.81L382.39,98.78L382.68,98.85L390.84,101.74L390.9,101.77L401.26,107.46L401.32,107.5L423.84,119.9L423.9,119.92L432.18,121.94L432.47,121.98L440.69,121.96L440.69,121.96L440.81,121.94L447.64,120.41L447.64,120.41L447.76,120.38L456.5,116.64L456.79,116.49L485.79,100.25L485.86,100.23L492.16,98.44L492.22,98.43L500.33,97.82L500.33,97.82L500.45,97.82L508.03,99.01L508.32,99.09L517.3,102.57L517.59,102.71L530.37,110.21L530.44,110.25L543.29,117.68L543.35,117.71L552.96,121.22L553.02,121.23L560.43,122.21L560.48,122.21L568.25,121.49L568.54,121.43L576.18,119.01L576.18,119.01L576.3,118.96L579,117.75L579,117.75\" style=\"vector-effect: non-scaling-stroke; fill: none; stroke: rgb(99, 110, 250); stroke-opacity: 1; stroke-width: 2px; opacity: 1;\"/></g><g class=\"points\"/><g class=\"text\"/></g><g class=\"trace scatter trace0a61aa\" style=\"stroke-miterlimit: 2; opacity: 1;\"><g class=\"fills\"/><g class=\"errorbars\"/><g class=\"lines\"><path class=\"js-line\" d=\"M0,110L13.51,131.97L13.57,132.05L20.34,140.58L20.34,140.58L20.46,140.7L25.49,144.81L25.55,144.85L29.6,146.38L29.6,146.38L29.72,146.4L33.59,146.21L33.66,146.19L37.83,144.21L37.88,144.17L42.46,140.12L42.52,140.05L48.25,132.83L48.31,132.75L56.7,119.59L56.75,119.51L78.41,84.5L78.7,84.12L85.36,76.94L85.65,76.71L89.76,74.24L89.82,74.22L93.47,73.48L93.76,73.49L97.28,74.23L97.35,74.25L101.4,76.69L101.4,76.69L101.52,76.78L106.61,81.92L106.61,81.92L106.73,82.06L113.73,91.81L114.02,92.26L123,107.06L123.29,107.56L134,125.52L134.29,125.98L140.19,134.73L140.19,134.73L140.31,134.88L146.56,142.06L146.56,142.06L146.68,142.16L151.37,145.43L151.66,145.57L155.42,146.5L155.71,146.51L159.24,145.92L159.3,145.9L162.95,143.92L163.24,143.71L167.58,139.67L167.87,139.35L175.11,129.69L175.4,129.25L187.84,108.68L188.13,108.19L203.19,84.42L203.24,84.36L209.09,77.79L209.09,77.79L209.21,77.68L214.24,74.34L214.3,74.31L218.47,73.49L218.53,73.49L222.35,74.37L222.41,74.4L226.64,77.11L226.93,77.36L231.85,82.56L232.14,82.91L242.1,97.63L242.1,97.63L242.21,97.82L266.41,136.7L266.41,136.7L266.53,136.85L272.72,143.29L272.78,143.34L277.59,146.03L277.88,146.12L281.58,146.47L281.64,146.46L285.7,145.15L285.99,144.99L290.33,141.69L290.62,141.42L297.85,132.58L298.14,132.16L303.99,123.14L304.05,123.03L317.25,100.73L317.3,100.64L327.9,84.42L327.96,84.34L334.33,77.33L334.62,77.08L338.96,74.33L339.25,74.21L343.54,73.5L343.6,73.5L347.65,74.64L347.94,74.79L352.11,77.77L352.11,77.77L352.22,77.88L357.43,83.65L357.49,83.72L365.31,95.19L365.36,95.27L391.59,137.28L391.65,137.35L397.27,143.16L397.27,143.16L397.38,143.25L402.07,145.96L402.36,146.05L406.13,146.48L406.42,146.45L410.18,145.27L410.47,145.12L414.81,141.91L415.1,141.64L419.85,136.28L419.85,136.28L419.97,136.13L428.71,123.12L429,122.65L449.31,89.05L449.38,88.95L455.34,81.06L455.63,80.73L461.42,75.54L461.47,75.5L465.76,73.68L466.05,73.62L470.22,73.83L470.22,73.83L470.34,73.86L474.28,75.76L474.28,75.76L474.39,75.84L478.91,79.83L478.91,79.83L479.02,79.95L484.87,87.34L485.16,87.76L491.07,96.88L491.07,96.88L491.18,97.07L515.9,136.77L515.96,136.85L521.87,143.07L521.93,143.11L526.56,145.87L526.85,145.98L531.02,146.47L531.02,146.47L531.13,146.45L534.67,145.39L534.96,145.24L539.24,142.18L539.3,142.12L544.51,136.35L544.8,135.97L553.77,122.55L554.06,122.08L567.09,100.05L567.38,99.56L575.77,86.54L576.06,86.14L579,82.31L579,82.31\" style=\"vector-effect: non-scaling-stroke; fill: none; stroke: rgb(239, 85, 59); stroke-opacity: 1; stroke-width: 2px; opacity: 1;\"/></g><g class=\"points\"/><g class=\"text\"/></g><g class=\"trace scatter trace5ef822\" style=\"stroke-miterlimit: 2; opacity: 1;\"><g class=\"fills\"/><g class=\"errorbars\"/><g class=\"lines\"><path class=\"js-line\" d=\"M0,209L3.14,208.28L3.43,208.14L6.62,205.7L6.91,205.39L10.67,199.91L10.96,199.37L14.55,190.93L14.55,190.93L14.67,190.61L21.03,166.98L21.09,166.71L26.71,137.1L26.71,137.1L26.82,136.42L42.81,46.52L42.86,46.3L47.15,30.97L47.44,30.12L51.2,21.02L51.49,20.46L55.59,14.45L55.66,14.39L58.55,12.06L58.55,12.06L58.67,12L62.2,11L62.49,11L65.68,11.81L65.97,11.95L69.15,14.48L69.44,14.8L73.14,20.31L73.2,20.42L76.68,28.43L76.97,29.23L81.71,45.7L81.71,45.7L81.83,46.18L86.52,68.62L86.81,70.18L97.81,135.95L97.86,136.25L106.03,177.02L106.15,177.47L110.84,192.76L111.13,193.51L114.89,201.4L115.18,201.87L118.94,206.51L119.23,206.76L122.71,208.71L122.76,208.72L125.89,208.9L126.18,208.84L129.37,207.4L129.66,207.19L132.84,203.93L133.13,203.54L136.89,196.86L137.18,196.21L140.37,187.68L140.66,186.78L145.58,167.76L145.87,166.43L151.19,138.44L151.19,138.44L151.31,137.76L158.32,95.12L158.61,93.36L165.26,56.66L165.55,55.28L170.42,35.57L170.47,35.37L175.05,22.8L175.11,22.68L179.16,15.8L179.45,15.44L182.63,12.45L182.92,12.27L186.11,11.07L186.4,11.03L189.58,11.46L189.87,11.57L193.06,13.68L193.35,13.95L197.11,18.96L197.4,19.46L201.57,28.91L201.57,28.91L201.68,29.23L205.74,42.91L205.79,43.14L210.43,64.36L210.72,65.87L218.94,114.24L218.94,114.24L219.05,114.95L228.37,166.88L228.66,168.2L235.73,193.22L235.73,193.22L235.84,193.52L240.53,202.85L240.82,203.27L244.88,207.47L244.93,207.5L248.4,208.92L248.47,208.93L251.82,208.58L251.88,208.56L254.83,206.83L254.83,206.83L254.95,206.73L258.31,202.88L258.31,202.88L258.42,202.71L261.96,196.08L262.25,195.4L266.41,183.31L266.41,183.31L266.53,182.91L270.93,164.8L270.98,164.56L274.64,145.67L274.69,145.35L292.41,45.81L292.47,45.54L297.85,27.39L298.14,26.63L302.78,17.32L302.83,17.24L306.54,13.05L306.83,12.82L310.35,11.15L310.42,11.14L313.43,11.2L313.49,11.21L316.79,12.85L316.79,12.85L316.9,12.94L320.26,16.54L320.26,16.54L320.38,16.71L323.91,23.02L324.2,23.66L328.37,35.31L328.37,35.31L328.48,35.7L332.59,51.99L332.88,53.31L335.89,68.33L335.89,68.33L336.01,68.95L341.8,102.81L341.86,103.16L352.28,163.08L352.57,164.46L357.49,184.44L357.78,185.41L361.83,196.56L361.89,196.68L365.42,203.11L365.42,203.11L365.54,203.27L369.41,207.34L369.48,207.39L372.89,208.88L372.95,208.9L376.54,208.58L376.6,208.56L379.9,206.53L379.9,206.53L380.01,206.43L383.55,202.08L383.84,201.62L387.6,193.85L387.89,193.11L392.23,179.32L392.52,178.21L397.78,154.16L397.85,153.82L407.86,94.39L408.15,92.64L418.69,39.65L418.69,39.65L418.81,39.22L423.84,24.24L423.9,24.09L428.13,16.4L428.42,16.02L431.6,12.78L431.89,12.57L435.08,11.15L435.37,11.09L438.55,11.31L438.84,11.4L442.03,13.27L442.32,13.52L446.08,18.2L446.37,18.67L450.65,27.96L450.71,28.12L454.76,41.35L455.05,42.46L460.96,70.21L461.07,70.83L467.84,111L467.91,111.39L475.03,153.14L475.32,154.66L480.24,177.26L480.53,178.39L485.28,193.52L485.28,193.52L485.39,193.82L490.08,203.03L490.37,203.44L494.14,207.35L494.43,207.55L497.9,208.93L497.95,208.94L501.08,208.64L501.37,208.54L504.56,206.58L504.85,206.32L508.61,201.52L508.9,201.03L512.08,194.42L512.37,193.7L516.14,182.28L516.43,181.24L521.64,158.58L521.69,158.32L532.06,97.56L532.11,97.24L542.02,45.06L542.02,45.06L542.13,44.58L547.4,27.07L547.69,26.33L552.04,17.58L552.33,17.14L555.51,13.43L555.8,13.18L559.5,11.21L559.56,11.2L563.04,11.24L563.33,11.32L566.8,13.32L566.85,13.37L569.93,16.87L569.98,16.96L573.46,23.28L573.75,23.93L578.09,36.31L578.38,37.31L579,39.55L579,39.55\" style=\"vector-effect: non-scaling-stroke; fill: none; stroke: rgb(0, 204, 150); stroke-opacity: 1; stroke-width: 2px; opacity: 1;\"/></g><g class=\"points\"/><g class=\"text\"/></g></g></g><g class=\"overplot\"/><path class=\"xlines-above crisp\" d=\"M0,0\" style=\"fill: none;\"/><path class=\"ylines-above crisp\" d=\"M0,0\" style=\"fill: none;\"/><g class=\"overlines-above\"/><g class=\"xaxislayer-above\"><g class=\"xtick\"><text text-anchor=\"middle\" x=\"0\" y=\"333\" transform=\"translate(80,0)\" style=\"font-family: 'Open Sans', verdana, arial, sans-serif; font-size: 12px; fill: rgb(42, 63, 95); fill-opacity: 1; white-space: pre; opacity: 1;\">0</text></g><g class=\"xtick\"><text text-anchor=\"middle\" x=\"0\" y=\"333\" style=\"font-family: 'Open Sans', verdana, arial, sans-serif; font-size: 12px; fill: rgb(42, 63, 95); fill-opacity: 1; white-space: pre; opacity: 1;\" transform=\"translate(195.8,0)\">2</text></g><g class=\"xtick\"><text text-anchor=\"middle\" x=\"0\" y=\"333\" style=\"font-family: 'Open Sans', verdana, arial, sans-serif; font-size: 12px; fill: rgb(42, 63, 95); fill-opacity: 1; white-space: pre; opacity: 1;\" transform=\"translate(311.6,0)\">4</text></g><g class=\"xtick\"><text text-anchor=\"middle\" x=\"0\" y=\"333\" style=\"font-family: 'Open Sans', verdana, arial, sans-serif; font-size: 12px; fill: rgb(42, 63, 95); fill-opacity: 1; white-space: pre; opacity: 1;\" transform=\"translate(427.4,0)\">6</text></g><g class=\"xtick\"><text text-anchor=\"middle\" x=\"0\" y=\"333\" style=\"font-family: 'Open Sans', verdana, arial, sans-serif; font-size: 12px; fill: rgb(42, 63, 95); fill-opacity: 1; white-space: pre; opacity: 1;\" transform=\"translate(543.2,0)\">8</text></g><g class=\"xtick\"><text text-anchor=\"middle\" x=\"0\" y=\"333\" style=\"font-family: 'Open Sans', verdana, arial, sans-serif; font-size: 12px; fill: rgb(42, 63, 95); fill-opacity: 1; white-space: pre; opacity: 1;\" transform=\"translate(659,0)\">10</text></g></g><g class=\"yaxislayer-above\"><g class=\"ytick\"><text text-anchor=\"end\" x=\"79\" y=\"4.199999999999999\" transform=\"translate(0,268.32)\" style=\"font-family: 'Open Sans', verdana, arial, sans-serif; font-size: 12px; fill: rgb(42, 63, 95); fill-opacity: 1; white-space: pre; opacity: 1;\">−5</text></g><g class=\"ytick\"><text text-anchor=\"end\" x=\"79\" y=\"4.199999999999999\" style=\"font-family: 'Open Sans', verdana, arial, sans-serif; font-size: 12px; fill: rgb(42, 63, 95); fill-opacity: 1; white-space: pre; opacity: 1;\" transform=\"translate(0,210)\">0</text></g><g class=\"ytick\"><text text-anchor=\"end\" x=\"79\" y=\"4.199999999999999\" style=\"font-family: 'Open Sans', verdana, arial, sans-serif; font-size: 12px; fill: rgb(42, 63, 95); fill-opacity: 1; white-space: pre; opacity: 1;\" transform=\"translate(0,151.68)\">5</text></g></g><g class=\"overaxes-above\"/></g></g><g class=\"polarlayer\"/><g class=\"smithlayer\"/><g class=\"ternarylayer\"/><g class=\"geolayer\"/><g class=\"funnelarealayer\"/><g class=\"pielayer\"/><g class=\"iciclelayer\"/><g class=\"treemaplayer\"/><g class=\"sunburstlayer\"/><g class=\"glimages\"/><defs id=\"topdefs-a39d1c\"><g class=\"clips\"/><clipPath id=\"legenda39d1c\"><rect width=\"277\" height=\"67\" x=\"0\" y=\"0\"/></clipPath></defs><g class=\"layer-above\"><g class=\"imagelayer\"/><g class=\"shapelayer\"/></g><g class=\"infolayer\"><g class=\"legend\" pointer-events=\"all\" transform=\"translate(670.58,100)\"><rect class=\"bg\" shape-rendering=\"crispEdges\" style=\"stroke: rgb(68, 68, 68); stroke-opacity: 1; fill: rgb(255, 255, 255); fill-opacity: 1; stroke-width: 0px;\" width=\"277\" height=\"67\" x=\"0\" y=\"0\"/><g class=\"scrollbox\" transform=\"\" clip-path=\"url(#legenda39d1c)\"><g class=\"groups\"><g class=\"traces\" transform=\"translate(0,14.5)\" style=\"opacity: 1;\"><text class=\"legendtext\" text-anchor=\"start\" x=\"40\" y=\"4.680000000000001\" style=\"font-family: 'Open Sans', verdana, arial, sans-serif; font-size: 12px; fill: rgb(42, 63, 95); fill-opacity: 1; white-space: pre;\">theta(t) radians</text><g class=\"layers\" style=\"opacity: 1;\"><g class=\"legendfill\"/><g class=\"legendlines\"><path class=\"js-line\" d=\"M5,0h30\" style=\"fill: none; stroke: rgb(99, 110, 250); stroke-opacity: 1; stroke-width: 2px;\"/></g><g class=\"legendsymbols\"><g class=\"legendpoints\"/></g></g><rect class=\"legendtoggle\" x=\"0\" y=\"-9.5\" width=\"271.765625\" height=\"19\" style=\"fill: rgb(0, 0, 0); fill-opacity: 0;\"/></g><g class=\"traces\" transform=\"translate(0,33.5)\" style=\"opacity: 1;\"><text class=\"legendtext\" text-anchor=\"start\" x=\"40\" y=\"4.680000000000001\" style=\"font-family: 'Open Sans', verdana, arial, sans-serif; font-size: 12px; fill: rgb(42, 63, 95); fill-opacity: 1; white-space: pre;\">Derivative(theta(t), t) radians/second</text><g class=\"layers\" style=\"opacity: 1;\"><g class=\"legendfill\"/><g class=\"legendlines\"><path class=\"js-line\" d=\"M5,0h30\" style=\"fill: none; stroke: rgb(239, 85, 59); stroke-opacity: 1; stroke-width: 2px;\"/></g><g class=\"legendsymbols\"><g class=\"legendpoints\"/></g></g><rect class=\"legendtoggle\" x=\"0\" y=\"-9.5\" width=\"271.765625\" height=\"19\" style=\"fill: rgb(0, 0, 0); fill-opacity: 0;\"/></g><g class=\"traces\" transform=\"translate(0,52.5)\" style=\"opacity: 1;\"><text class=\"legendtext\" text-anchor=\"start\" x=\"40\" y=\"4.680000000000001\" style=\"font-family: 'Open Sans', verdana, arial, sans-serif; font-size: 12px; fill: rgb(42, 63, 95); fill-opacity: 1; white-space: pre;\">Derivative(theta(t), (t, 2)) radians/second**2</text><g class=\"layers\" style=\"opacity: 1;\"><g class=\"legendfill\"/><g class=\"legendlines\"><path class=\"js-line\" d=\"M5,0h30\" style=\"fill: none; stroke: rgb(0, 204, 150); stroke-opacity: 1; stroke-width: 2px;\"/></g><g class=\"legendsymbols\"><g class=\"legendpoints\"/></g></g><rect class=\"legendtoggle\" x=\"0\" y=\"-9.5\" width=\"271.765625\" height=\"19\" style=\"fill: rgb(0, 0, 0); fill-opacity: 0;\"/></g></g></g><rect class=\"scrollbar\" rx=\"20\" ry=\"3\" width=\"0\" height=\"0\" style=\"fill: rgb(128, 139, 164); fill-opacity: 1;\" x=\"0\" y=\"0\"/></g><g class=\"g-gtitle\"><text class=\"gtitle\" x=\"480\" y=\"40\" text-anchor=\"middle\" dy=\"0.7em\" style=\"font-family: 'Open Sans', verdana, arial, sans-serif; font-size: 17px; fill: rgb(42, 63, 95); opacity: 1; font-weight: normal; white-space: pre;\">Solution #1</text></g><g class=\"g-xtitle\"><text class=\"xtitle\" x=\"369.5\" y=\"360.8\" text-anchor=\"middle\" style=\"font-family: 'Open Sans', verdana, arial, sans-serif; font-size: 14px; fill: rgb(42, 63, 95); opacity: 1; font-weight: normal; white-space: pre;\">t seconds</text></g><g class=\"g-ytitle\"/></g></svg>"
     },
     "metadata": {},
     "output_type": "display_data"
    }
   ],
   "source": [
    "from mathpad import *\n",
    "from mathpad.mech import gravitational_energy, kinetic_energy\n",
    "\n",
    "theta = \"theta(t)\" * rad\n",
    "g = \"g\" * m/s**2\n",
    "l = \"l\" * m\n",
    "\n",
    "eqn = diff(theta, 2) == -g/l * sin(theta)\n",
    "display(eqn)\n",
    "\n",
    "sim_data = simulate_dynamic_system(\n",
    "    [eqn],\n",
    "    x_final=10, max_step=0.01,\n",
    "    substitute={ g: 9.8, l: 1 },\n",
    "    initial_conditions={ theta: pi/3, diff(theta): 0 },\n",
    "    record=[theta, diff(theta), diff(theta, 2)],\n",
    "    plot_static=not in_jupyterlite\n",
    ")"
   ]
  },
  {
   "cell_type": "markdown",
   "metadata": {},
   "source": [
    "The `simulate_dynamic_system()` function returns a list of `(x, record_data)` tuples, where `x` is the variable that is being differentiated and `record_data` is a list of values that represent what was passed in for `record`.\n",
    "\n",
    "In this case `x = t`, and `record_data = [theta, diff(theta), diff(theta, 2)]`.\n",
    "\n",
    "You can use this data to produce your own plots / animations, or for further analysis with `scipy` or `pandas` etc..."
   ]
  },
  {
   "cell_type": "code",
   "execution_count": 31,
   "metadata": {},
   "outputs": [
    {
     "name": "stdout",
     "output_type": "stream",
     "text": [
      "t=0.000000, s: theta=1.05 rad, dtheta=0.00 rad/s, ddtheta=-8.49 rad/s^2\n",
      "t=0.000001, s: theta=1.05 rad, dtheta=-0.00 rad/s, ddtheta=-8.49 rad/s^2\n",
      "t=0.000024, s: theta=1.05 rad, dtheta=-0.00 rad/s, ddtheta=-8.49 rad/s^2\n",
      "t=0.000035, s: theta=1.05 rad, dtheta=-0.00 rad/s, ddtheta=-8.49 rad/s^2\n",
      "...\n"
     ]
    }
   ],
   "source": [
    "for time, (theta, dtheta, ddtheta) in sim_data[:4]:\n",
    "    print(f\"t={time:.6f}, s: theta={theta:.2f} rad, dtheta={dtheta:.2f} rad/s, ddtheta={ddtheta:.2f} rad/s^2\")\n",
    "print('...')"
   ]
  },
  {
   "cell_type": "markdown",
   "metadata": {},
   "source": [
    "\n",
    "Be careful not to let this output print in a iPython notebook as it will be rendered as latex and may slow down or crash the latex renderer. The easiest way to get around this is to assign the result to a variable (`sim_data = simulate_dynamic_system(...)`) if there is no assignment and the `simulate_dynamic_system()` function call is the last thing in the cell, you might encounter the crash/slowdown."
   ]
  },
  {
   "cell_type": "markdown",
   "metadata": {},
   "source": [
    "## Vector Spaces and Reference Frames\n",
    "\n",
    "`VectorSpace`s define the \"shape\", \"units\" and \"meaning\" of `Vector`tors.\n",
    "\n",
    "The definition of a `VectorSpace` includes the following core attributes:\n",
    "- a list of `base_units`\n",
    "- a list of `base_names`, and\n",
    "- a `name` for the space's reference frame\n",
    "\n",
    "The most common types of `VectorSpace`s used by engineering students are `R2` (2D cartesian co-ordinate space) and `R3` (3D cartesian co-ordinate space):"
   ]
  },
  {
   "cell_type": "code",
   "execution_count": 32,
   "metadata": {},
   "outputs": [
    {
     "data": {
      "text/latex": [
       "$$ \\begin{matrix} \\hat{i} \\cdot \\text{m} \\\\ \\hat{j} \\cdot \\text{m} \\end{matrix}\\normalsize \\hspace{0.7em} \\small\\text{wrt. O2}\\normalsize $$"
      ],
      "text/plain": [
       "Matrix([\n",
       "[meter],\n",
       "[meter]])"
      ]
     },
     "metadata": {},
     "output_type": "display_data"
    },
    {
     "data": {
      "text/latex": [
       "$$ \\begin{matrix} \\hat{i} \\cdot \\text{m} \\\\ \\hat{j} \\cdot \\text{m} \\\\ \\hat{k} \\cdot \\text{m} \\end{matrix}\\normalsize \\hspace{0.7em} \\small\\text{wrt. O3}\\normalsize $$"
      ],
      "text/plain": [
       "Matrix([\n",
       "[meter],\n",
       "[meter],\n",
       "[meter]])"
      ]
     },
     "metadata": {},
     "output_type": "display_data"
    }
   ],
   "source": [
    "O2 = R2(\"O2\") # 2D origin\n",
    "O3 = R3(\"O3\") # 3D origin\n",
    "display(O2, O3)"
   ]
  },
  {
   "cell_type": "markdown",
   "metadata": {},
   "source": [
    "### VectorSpace Arithmetic\n",
    "\n",
    "New vector spaces (retaining their reference frame name) can be constructed via arithmetic with a `Val` using the `\"*/+-\"` operators:"
   ]
  },
  {
   "cell_type": "code",
   "execution_count": 33,
   "metadata": {},
   "outputs": [
    {
     "data": {
      "text/latex": [
       "$$ \\begin{matrix} \\hat{i} \\cdot \\frac{\\text{m}}{\\text{s}} \\\\ \\hat{j} \\cdot \\frac{\\text{m}}{\\text{s}} \\\\ \\hat{k} \\cdot \\frac{\\text{m}}{\\text{s}} \\end{matrix}\\normalsize \\hspace{0.7em} \\small\\text{wrt. O3}\\normalsize $$"
      ],
      "text/plain": [
       "Matrix([\n",
       "[meter/second],\n",
       "[meter/second],\n",
       "[meter/second]])"
      ]
     },
     "execution_count": 33,
     "metadata": {},
     "output_type": "execute_result"
    }
   ],
   "source": [
    "VelWrtO3 = O3 / s\n",
    "VelWrtO3\n"
   ]
  },
  {
   "cell_type": "markdown",
   "metadata": {},
   "source": [
    "Note that the name of the reference frame (`\"O3\"` in this case) is inherited from the original `VectorSpace`.\n",
    "\n",
    "Alternatively, `VectorSpace` may be subclassed and instantiated:"
   ]
  },
  {
   "cell_type": "code",
   "execution_count": 34,
   "metadata": {},
   "outputs": [
    {
     "data": {
      "text/latex": [
       "$$ \\begin{matrix} \\hat{i} \\cdot \\frac{\\text{m}}{\\text{s}} \\\\ \\hat{j} \\cdot \\frac{\\text{m}}{\\text{s}} \\\\ \\hat{k} \\cdot \\frac{\\text{m}}{\\text{s}} \\end{matrix}\\normalsize \\hspace{0.7em} \\small\\text{wrt. O3}\\normalsize $$"
      ],
      "text/plain": [
       "Matrix([\n",
       "[meter/second],\n",
       "[meter/second],\n",
       "[meter/second]])"
      ]
     },
     "execution_count": 34,
     "metadata": {},
     "output_type": "execute_result"
    }
   ],
   "source": [
    "class VelR3(VectorSpace):\n",
    "    base_names = \"i\", \"j\", \"k\"\n",
    "    base_units = m/s, m/s, m/s\n",
    "\n",
    "VelWrtO3 = VelR3(\"O3\")\n",
    "VelWrtO3"
   ]
  },
  {
   "cell_type": "markdown",
   "metadata": {},
   "source": [
    "## `Vector`s\n",
    "\n",
    "`Vector`s can be instantiated from `VectorSpaces` in a number of ways:"
   ]
  },
  {
   "cell_type": "code",
   "execution_count": 35,
   "metadata": {},
   "outputs": [
    {
     "name": "stdout",
     "output_type": "stream",
     "text": [
      "Direct instantiation: ( O3[1, 2, 3] ) =>\n"
     ]
    },
    {
     "data": {
      "text/latex": [
       "$$ \\begin{bmatrix}1 \\\\ 2 \\\\ 3 \\end{bmatrix} \\hspace{1.25em} \\begin{matrix} \\hat{i} \\cdot \\text{m} \\\\ \\hat{j} \\cdot \\text{m} \\\\ \\hat{k} \\cdot \\text{m} \\end{matrix}\\normalsize \\hspace{0.7em} \\small\\text{wrt. O3}\\normalsize $$"
      ],
      "text/plain": [
       "[1, 2, 3] wrt. O3"
      ]
     },
     "metadata": {},
     "output_type": "display_data"
    },
    {
     "name": "stdout",
     "output_type": "stream",
     "text": [
      "Basis vectors: ( O3.j ) =>\n"
     ]
    },
    {
     "data": {
      "text/latex": [
       "$$ \\begin{bmatrix}0 \\\\ 1 \\\\ 0 \\end{bmatrix} \\hspace{1.25em} \\begin{matrix} \\hat{i} \\cdot \\text{m} \\\\ \\hat{j} \\cdot \\text{m} \\\\ \\hat{k} \\cdot \\text{m} \\end{matrix}\\normalsize \\hspace{0.7em} \\small\\text{wrt. O3}\\normalsize $$"
      ],
      "text/plain": [
       "[0, 1, 0] wrt. O3"
      ]
     },
     "metadata": {},
     "output_type": "display_data"
    },
    {
     "name": "stdout",
     "output_type": "stream",
     "text": [
      "Basis vector arithmetic: ( 1 * O3.i + 2 * O3.j + 3 * O3.k ) =>\n"
     ]
    },
    {
     "data": {
      "text/latex": [
       "$$ \\begin{bmatrix}1 \\\\ 2 \\\\ 3 \\end{bmatrix} \\hspace{1.25em} \\begin{matrix} \\hat{i} \\cdot \\text{m} \\\\ \\hat{j} \\cdot \\text{m} \\\\ \\hat{k} \\cdot \\text{m} \\end{matrix}\\normalsize \\hspace{0.7em} \\small\\text{wrt. O3}\\normalsize $$"
      ],
      "text/plain": [
       "[1, 2, 3] wrt. O3"
      ]
     },
     "metadata": {},
     "output_type": "display_data"
    },
    {
     "name": "stdout",
     "output_type": "stream",
     "text": [
      "Symbolic vecs: ( \"x\" * O3 ) =>\n",
      "\n"
     ]
    },
    {
     "data": {
      "text/latex": [
       "$$ \\vec{x} \\hspace{1.25em} \\begin{matrix} \\hat{i} \\cdot \\text{m} \\\\ \\hat{j} \\cdot \\text{m} \\\\ \\hat{k} \\cdot \\text{m} \\end{matrix}\\normalsize \\hspace{0.7em} \\small\\text{wrt. O3}\\normalsize $$"
      ],
      "text/plain": [
       "\\vec{x} wrt. O3"
      ]
     },
     "metadata": {},
     "output_type": "display_data"
    },
    {
     "name": "stdout",
     "output_type": "stream",
     "text": [
      "Symbolic function vecs: ( \"x(t)\" * O3 ) =>\n"
     ]
    },
    {
     "data": {
      "text/latex": [
       "$$ \\vec{x} \\hspace{1.25em} \\begin{matrix} \\hat{i} \\cdot \\text{m} \\\\ \\hat{j} \\cdot \\text{m} \\\\ \\hat{k} \\cdot \\text{m} \\end{matrix}\\normalsize \\hspace{0.7em} \\small\\text{wrt. O3}\\normalsize $$"
      ],
      "text/plain": [
       "\\vec{x}(t) wrt. O3"
      ]
     },
     "metadata": {},
     "output_type": "display_data"
    },
    {
     "name": "stdout",
     "output_type": "stream",
     "text": [
      "Special vectorspace constructors: ( O2.from_polar( \"l\" * m, \"theta\" * rad ) ) =>\n"
     ]
    },
    {
     "data": {
      "text/latex": [
       "$$ \\begin{bmatrix}l \\cos{\\left(\\theta \\right)} \\\\ l \\sin{\\left(\\theta \\right)} \\end{bmatrix} \\hspace{1.25em} \\begin{matrix} \\hat{i} \\cdot \\text{m} \\\\ \\hat{j} \\cdot \\text{m} \\end{matrix}\\normalsize \\hspace{0.7em} \\small\\text{wrt. O2}\\normalsize $$"
      ],
      "text/plain": [
       "[l*cos(theta), l*sin(theta)] wrt. O2"
      ]
     },
     "metadata": {},
     "output_type": "display_data"
    }
   ],
   "source": [
    "print(\"Direct instantiation: ( O3[1, 2, 3] ) =>\")\n",
    "display( O3[1, 2, 3] )\n",
    "\n",
    "print(\"Basis vectors: ( O3.j ) =>\")\n",
    "display( O3.j )\n",
    "\n",
    "print(\"Basis vector arithmetic: ( 1 * O3.i + 2 * O3.j + 3 * O3.k ) =>\")\n",
    "display( 1 * O3.i + 2 * O3.j + 3 * O3.k )\n",
    "\n",
    "print(\"Symbolic vecs: ( \\\"x\\\" * O3 ) =>\")\n",
    "display( \"x\" * O3 )\n",
    "\n",
    "print(\"Symbolic function vecs: ( \\\"x(t)\\\" * O3 ) =>\")\n",
    "display(\"x(t)\" * O3)\n",
    "\n",
    "print(\"Special vectorspace constructors: ( O2.from_polar( \\\"l\\\" * m, \\\"theta\\\" * rad ) ) =>\")\n",
    "display( O2.from_polar(\"l\" * m, \"theta\" * rad) )"
   ]
  },
  {
   "cell_type": "markdown",
   "metadata": {},
   "source": [
    "### `Vector` arithmetic\n",
    "\n",
    "When performing `Vector` arithmetic, new `VectorSpaces` are constructed automatically to keep track of the units:"
   ]
  },
  {
   "cell_type": "code",
   "execution_count": 36,
   "metadata": {},
   "outputs": [
    {
     "name": "stdout",
     "output_type": "stream",
     "text": [
      "Output space has units: meter**2\n"
     ]
    },
    {
     "data": {
      "text/latex": [
       "$$ \\begin{bmatrix}a \\\\ 2 a \\\\ 3 a \\end{bmatrix} \\hspace{1.25em} \\begin{matrix} \\hat{i} \\cdot \\text{m}^{2} \\\\ \\hat{j} \\cdot \\text{m}^{2} \\\\ \\hat{k} \\cdot \\text{m}^{2} \\end{matrix}\\normalsize \\hspace{0.7em} \\small\\text{wrt. O3}\\normalsize $$"
      ],
      "text/plain": [
       "[a, 2*a, 3*a] wrt. O3"
      ]
     },
     "execution_count": 36,
     "metadata": {},
     "output_type": "execute_result"
    }
   ],
   "source": [
    "a = \"a\" * m\n",
    "vec_mul_a = O3[1, 2, 3] * a\n",
    "\n",
    "print(f\"Output space has units: {vec_mul_a.space.base_units[0].units}\")\n",
    "vec_mul_a"
   ]
  },
  {
   "cell_type": "markdown",
   "metadata": {},
   "source": [
    "### `Vector` accessors\n",
    "\n",
    "Sub-components of vectors can be extracted using `vec.<base_name>` syntax or through the `vec[base_index]` accessors.\n",
    "\n",
    "For example:"
   ]
  },
  {
   "cell_type": "code",
   "execution_count": 37,
   "metadata": {},
   "outputs": [
    {
     "name": "stdout",
     "output_type": "stream",
     "text": [
      "vec.i (a meters) == vec[0] (a meters)?\n"
     ]
    },
    {
     "data": {
      "text/latex": [
       "$$ a = a \\hspace{1.25em} \\text{m} $$"
      ],
      "text/plain": [
       "a = a meter"
      ]
     },
     "metadata": {},
     "output_type": "display_data"
    },
    {
     "data": {
      "text/plain": [
       "True"
      ]
     },
     "metadata": {},
     "output_type": "display_data"
    }
   ],
   "source": [
    "a = \"a\" * m\n",
    "vec = O3[a, 0, 0]\n",
    "\n",
    "print(f\"vec.i ({vec.i}) == vec[0] ({vec[0]})?\")\n",
    "display(vec.i == vec[0])\n",
    "display(\n",
    "    (vec.i == vec[0]).eval()\n",
    ")"
   ]
  },
  {
   "cell_type": "markdown",
   "metadata": {},
   "source": [
    "### `Vector` methods\n",
    "\n",
    "`Vector`s support the following methods:"
   ]
  },
  {
   "cell_type": "code",
   "execution_count": 38,
   "metadata": {},
   "outputs": [
    {
     "name": "stdout",
     "output_type": "stream",
     "text": [
      "\n",
      "\n",
      "Magnitude / Norm (only works for vecs with uniform dimensionality):\n"
     ]
    },
    {
     "data": {
      "text/latex": [
       "$$ \\sqrt{\\vec{a}_{0, 0}^{2} + \\vec{a}_{1, 0}^{2} + \\vec{a}_{2, 0}^{2}} \\hspace{1.25em} \\text{m} $$"
      ],
      "text/plain": [
       "(\\vec{a}[0, 0]**2 + \\vec{a}[1, 0]**2 + \\vec{a}[2, 0]**2)**0.5 meters"
      ]
     },
     "metadata": {},
     "output_type": "display_data"
    },
    {
     "name": "stdout",
     "output_type": "stream",
     "text": [
      "Dot Product:\n"
     ]
    },
    {
     "data": {
      "text/latex": [
       "$$ \\left[\\begin{array}{c}\\vec{a}_{0, 0}\\\\\\vec{a}_{1, 0}\\\\\\vec{a}_{2, 0}\\end{array}\\right] \\cdot \\left[\\begin{array}{c}\\vec{b}_{0, 0}\\\\\\vec{b}_{1, 0}\\\\\\vec{b}_{2, 0}\\end{array}\\right] \\hspace{1.25em} \\text{m}^{2} $$"
      ],
      "text/plain": [
       "Dot(Matrix([\n",
       "[\\vec{a}[0, 0]],\n",
       "[\\vec{a}[1, 0]],\n",
       "[\\vec{a}[2, 0]]]), Matrix([\n",
       "[\\vec{b}[0, 0]],\n",
       "[\\vec{b}[1, 0]],\n",
       "[\\vec{b}[2, 0]]])) meters**2"
      ]
     },
     "metadata": {},
     "output_type": "display_data"
    },
    {
     "name": "stdout",
     "output_type": "stream",
     "text": [
      "Cross Product (only works for 3D Vecs):\n"
     ]
    },
    {
     "data": {
      "text/latex": [
       "$$ \\left[\\begin{matrix}\\vec{a}_{0, 0}\\\\\\vec{a}_{1, 0}\\\\\\vec{a}_{2, 0}\\end{matrix}\\right] \\times \\vec{b} \\hspace{1.25em} \\begin{matrix} \\hat{i} \\cdot \\text{m}^{2} \\\\ \\hat{j} \\cdot \\text{m}^{2} \\\\ \\hat{k} \\cdot \\text{m}^{2} \\end{matrix}\\normalsize \\hspace{0.7em} \\small\\text{wrt. O3}\\normalsize $$"
      ],
      "text/plain": [
       "Cross(Matrix([\n",
       "\t[\\vec{a}[0, 0]],\n",
       "\t[\\vec{a}[1, 0]],\n",
       "\t[\\vec{a}[2, 0]]]), \\vec{b}) wrt. O3"
      ]
     },
     "metadata": {},
     "output_type": "display_data"
    }
   ],
   "source": [
    "from mathpad import *\n",
    "\n",
    "O3 = R3(\"O3\")\n",
    "\n",
    "a = \"a\" * O3\n",
    "b = \"b\" * O3\n",
    "\n",
    "print(\"Magnitude / Norm (only works for vecs with uniform dimensionality):\")\n",
    "display( a.norm() )\n",
    "\n",
    "print(\"Dot Product:\")\n",
    "display( a.dot(b) )\n",
    "\n",
    "print(\"Cross Product (only works for 3D Vecs):\")\n",
    "display( a.cross(b) )"
   ]
  },
  {
   "cell_type": "markdown",
   "metadata": {},
   "source": [
    "### `Vector`tor Calculus\n",
    "\n",
    "The `diff()` and `integral()` functions accept a `Vector`. Both will perform their respective function elementwise across the whole vector."
   ]
  },
  {
   "cell_type": "code",
   "execution_count": 39,
   "metadata": {},
   "outputs": [
    {
     "name": "stdout",
     "output_type": "stream",
     "text": [
      "Original:\n"
     ]
    },
    {
     "data": {
      "text/latex": [
       "$$ \\vec{x} \\hspace{1.25em} \\begin{matrix} \\hat{i} \\cdot \\text{m} \\\\ \\hat{j} \\cdot \\text{m} \\\\ \\hat{k} \\cdot \\text{m} \\end{matrix}\\normalsize \\hspace{0.7em} \\small\\text{wrt. O3}\\normalsize $$"
      ],
      "text/plain": [
       "\\vec{x}(t) wrt. O3"
      ]
     },
     "metadata": {},
     "output_type": "display_data"
    },
    {
     "name": "stdout",
     "output_type": "stream",
     "text": [
      "Derivative:\n"
     ]
    },
    {
     "data": {
      "text/latex": [
       "$$ \\dot{\\vec{x}} \\hspace{1.25em} \\begin{matrix} \\hat{i} \\cdot \\frac{\\text{m}}{\\text{s}} \\\\ \\hat{j} \\cdot \\frac{\\text{m}}{\\text{s}} \\\\ \\hat{k} \\cdot \\frac{\\text{m}}{\\text{s}} \\end{matrix}\\normalsize \\hspace{0.7em} \\small\\text{wrt. O3}\\normalsize $$"
      ],
      "text/plain": [
       "Derivative(\\vec{x}(t), t) wrt. O3"
      ]
     },
     "metadata": {},
     "output_type": "display_data"
    },
    {
     "name": "stdout",
     "output_type": "stream",
     "text": [
      "Indefinite Integral:\n"
     ]
    },
    {
     "data": {
      "text/latex": [
       "$$ \\int \\vec{x}\\, dt \\hspace{1.25em} \\begin{matrix} \\hat{i} \\cdot \\text{m} \\text{s} \\\\ \\hat{j} \\cdot \\text{m} \\text{s} \\\\ \\hat{k} \\cdot \\text{m} \\text{s} \\end{matrix}\\normalsize \\hspace{0.7em} \\small\\text{wrt. O3}\\normalsize $$"
      ],
      "text/plain": [
       "Integral(\\vec{x}(t), t) wrt. O3"
      ]
     },
     "metadata": {},
     "output_type": "display_data"
    },
    {
     "name": "stdout",
     "output_type": "stream",
     "text": [
      "Definite Integral:\n"
     ]
    },
    {
     "data": {
      "text/latex": [
       "$$ \\int\\limits_{1}^{2} \\vec{x}\\, dt \\hspace{1.25em} \\begin{matrix} \\hat{i} \\cdot \\text{m} \\text{s} \\\\ \\hat{j} \\cdot \\text{m} \\text{s} \\\\ \\hat{k} \\cdot \\text{m} \\text{s} \\end{matrix}\\normalsize \\hspace{0.7em} \\small\\text{wrt. O3}\\normalsize $$"
      ],
      "text/plain": [
       "Integral(\\vec{x}(t), (t, 1, 2)) wrt. O3"
      ]
     },
     "metadata": {},
     "output_type": "display_data"
    }
   ],
   "source": [
    "O3 = R3(\"O3\")\n",
    "x = \"x(t)\" * O3\n",
    "\n",
    "print(\"Original:\")\n",
    "display(x)\n",
    "\n",
    "print(\"Derivative:\")\n",
    "display( diff(x) )\n",
    "\n",
    "\n",
    "print(\"Indefinite Integral:\")\n",
    "display( integral(x) )\n",
    "\n",
    "\n",
    "print(\"Definite Integral:\")\n",
    "display( integral(x, between=(1, 2)) )"
   ]
  },
  {
   "cell_type": "code",
   "execution_count": 40,
   "metadata": {},
   "outputs": [
    {
     "name": "stdout",
     "output_type": "stream",
     "text": [
      "1 in the j direction:\n"
     ]
    },
    {
     "data": {
      "text/latex": [
       "$$ \\begin{bmatrix}0 \\\\ 1 \\\\ 0 \\end{bmatrix} \\hspace{1.25em} \\begin{matrix} \\hat{i} \\cdot \\text{m} \\\\ \\hat{j} \\cdot \\text{m} \\\\ \\hat{k} \\cdot \\text{m} \\end{matrix}\\normalsize \\hspace{0.7em} \\small\\text{wrt. O3}\\normalsize $$"
      ],
      "text/plain": [
       "[0, 1, 0] wrt. O3"
      ]
     },
     "metadata": {},
     "output_type": "display_data"
    },
    {
     "name": "stdout",
     "output_type": "stream",
     "text": [
      "O3[1, 2, 3] alternative constructor syntax:\n"
     ]
    },
    {
     "data": {
      "text/latex": [
       "$$ \\begin{bmatrix}1 \\\\ 2 \\\\ 3 \\end{bmatrix} \\hspace{1.25em} \\begin{matrix} \\hat{i} \\cdot \\text{m} \\\\ \\hat{j} \\cdot \\text{m} \\\\ \\hat{k} \\cdot \\text{m} \\end{matrix}\\normalsize \\hspace{0.7em} \\small\\text{wrt. O3}\\normalsize $$"
      ],
      "text/plain": [
       "[1, 2, 3] wrt. O3"
      ]
     },
     "execution_count": 40,
     "metadata": {},
     "output_type": "execute_result"
    }
   ],
   "source": [
    "print(\"1 in the j direction:\")\n",
    "display(O3.j)\n",
    "\n",
    "print(\"O3[1, 2, 3] alternative constructor syntax:\")\n",
    "vec2 = 1 * O3.i + 2 * O3.j + 3 * O3.k\n",
    "vec2"
   ]
  },
  {
   "cell_type": "markdown",
   "metadata": {},
   "source": [
    "## Matrices\n",
    "\n",
    "Matrices are linear mappings between vector-spaces.\n",
    "\n",
    "They are constructed like so:"
   ]
  },
  {
   "cell_type": "code",
   "execution_count": 41,
   "metadata": {},
   "outputs": [
    {
     "name": "stdout",
     "output_type": "stream",
     "text": [
      "Basic Constructor:\n"
     ]
    },
    {
     "data": {
      "text/latex": [
       "$$ \\left[\\begin{matrix}1 & 2 & 3\\\\4 & 5 & 6\\\\7 & 8 & 9\\end{matrix}\\right] \\hspace{1.25em} \\begin{matrix} \\hat{i} \\cdot \\text{m} \\\\ \\hat{j} \\cdot \\text{m} \\\\ \\hat{k} \\cdot \\text{m} \\end{matrix}\\normalsize \\hspace{0.7em} \\small\\text{wrt. L}\\normalsize \\hspace{0.75em} ⟷ \\hspace{0.75em} \\begin{matrix} \\hat{i} \\cdot \\text{m} \\\\ \\hat{j} \\cdot \\text{m} \\\\ \\hat{k} \\cdot \\text{m} \\end{matrix}\\normalsize \\hspace{0.7em} \\small\\text{wrt. R}\\normalsize $$"
      ],
      "text/plain": [
       "<mathpad.matrix.Matrix at 0x7fd562363370>"
      ]
     },
     "metadata": {},
     "output_type": "display_data"
    },
    {
     "name": "stdout",
     "output_type": "stream",
     "text": [
      "Identity Constructor:\n"
     ]
    },
    {
     "data": {
      "text/latex": [
       "$$ \\left[\\begin{matrix}1 & 0 & 0\\\\0 & 1 & 0\\\\0 & 0 & 1\\end{matrix}\\right] \\hspace{1.25em} \\begin{matrix} \\hat{i} \\cdot \\text{m} \\\\ \\hat{j} \\cdot \\text{m} \\\\ \\hat{k} \\cdot \\text{m} \\end{matrix}\\normalsize \\hspace{0.7em} \\small\\text{wrt. L}\\normalsize \\hspace{0.75em} ⟷ \\hspace{0.75em} \\begin{matrix} \\hat{i} \\cdot \\text{m} \\\\ \\hat{j} \\cdot \\text{m} \\\\ \\hat{k} \\cdot \\text{m} \\end{matrix}\\normalsize \\hspace{0.7em} \\small\\text{wrt. R}\\normalsize $$"
      ],
      "text/plain": [
       "<mathpad.matrix.Matrix at 0x7fd562fe7f40>"
      ]
     },
     "metadata": {},
     "output_type": "display_data"
    },
    {
     "name": "stdout",
     "output_type": "stream",
     "text": [
      "Symbolic Constructor:\n"
     ]
    },
    {
     "data": {
      "text/latex": [
       "$$ \\mathbf{A} \\hspace{1.25em} \\begin{matrix} \\hat{i} \\cdot \\text{m} \\\\ \\hat{j} \\cdot \\text{m} \\\\ \\hat{k} \\cdot \\text{m} \\end{matrix}\\normalsize \\hspace{0.7em} \\small\\text{wrt. L}\\normalsize \\hspace{0.75em} ⟷ \\hspace{0.75em} \\begin{matrix} \\hat{i} \\cdot \\text{m} \\\\ \\hat{j} \\cdot \\text{m} \\\\ \\hat{k} \\cdot \\text{m} \\end{matrix}\\normalsize \\hspace{0.7em} \\small\\text{wrt. R}\\normalsize $$"
      ],
      "text/plain": [
       "<mathpad.matrix.Matrix at 0x7fd563ef7bb0>"
      ]
     },
     "metadata": {},
     "output_type": "display_data"
    }
   ],
   "source": [
    "from mathpad import *\n",
    "\n",
    "LSpace = R3(\"L\")\n",
    "RSpace = R3(\"R\")\n",
    "\n",
    "print(\"Basic Constructor:\")\n",
    "display(\n",
    "    Matrix(LSpace, RSpace, [\n",
    "        (1, 2, 3),\n",
    "        (4, 5, 6),\n",
    "        (7, 8, 9)\n",
    "    ])\n",
    ")\n",
    "\n",
    "print(\"Identity Constructor:\")\n",
    "display(\n",
    "    Matrix.identity(LSpace, RSpace)\n",
    ")\n",
    "\n",
    "\n",
    "print(\"Symbolic Constructor:\")\n",
    "display(\n",
    "    Matrix(LSpace, RSpace, \"A\")\n",
    ")\n"
   ]
  },
  {
   "cell_type": "markdown",
   "metadata": {},
   "source": [
    "As you can see from the latex output, the units of a matrix are described by the left and right vector-spaces, with an arrow between them.\n",
    "\n",
    "Currently, symbolic matrices as functions of time are not supported.\n",
    "\n",
    "The type signature of these matrices can be represented as `Matrix[L, R]`, which supports the following operations:\n",
    "\n",
    "| Operation Name               | Type Signature                                 |\n",
    "|------------------------------|------------------------------------------------|\n",
    "| Matrix-Vector multiplication | `Matrix[L, R] @ Vec[R]` &nbsp;&nbsp;&nbsp;&nbsp;&nbsp;&nbsp;&nbsp;&nbsp;&nbsp;&nbsp;&nbsp;&nbsp; `-> Vec[L]`        |\n",
    "| Vector-Matrix multiplication | &nbsp;&nbsp;&nbsp;&nbsp;&nbsp;&nbsp;&nbsp;&nbsp;&nbsp;&nbsp;&nbsp;&nbsp;`Vec[L] @ Matrix[L, R] -> Vec[R]`|\n",
    "| Matrix composition           | `Matrix[L, R] @ Matrix[R, T] -> Matrix[L, T]`  |\n",
    "| Scalar-Matrix multiplication | &nbsp;&nbsp;&nbsp;&nbsp;&nbsp;&nbsp;&nbsp;&nbsp;&nbsp;&nbsp;&nbsp;&nbsp;`Q[Val] * Matrix[L, R] -> Matrix[L, ?]`  |\n",
    "| Matrix addition              | `Matrix[L, R] + Matrix[L, R] -> Matrix[L, R]`  |\n",
    "| Matrix subtraction           | `Matrix[L, R] - Matrix[L, R] -> Matrix[L, R]`  |\n",
    "\n",
    "Use of these operations is demonstrated below:"
   ]
  },
  {
   "cell_type": "code",
   "execution_count": 42,
   "metadata": {},
   "outputs": [
    {
     "name": "stdout",
     "output_type": "stream",
     "text": [
      "\n",
      "\n",
      "Matrix-Vector Multiplication:\n"
     ]
    },
    {
     "data": {
      "text/latex": [
       "$$ \\mathbf{A} \\vec{v_R} \\hspace{1.25em} \\begin{matrix} \\hat{i} \\cdot \\text{m} \\\\ \\hat{j} \\cdot \\text{m} \\\\ \\hat{k} \\cdot \\text{m} \\end{matrix}\\normalsize \\hspace{0.7em} \\small\\text{wrt. L}\\normalsize $$"
      ],
      "text/plain": [
       "\\mathbf{A}*\\vec{v_R} wrt. L"
      ]
     },
     "metadata": {},
     "output_type": "display_data"
    },
    {
     "name": "stdout",
     "output_type": "stream",
     "text": [
      "Vector-Matrix Multiplication:\n"
     ]
    },
    {
     "data": {
      "text/latex": [
       "$$ \\vec{v_L}^{T} \\mathbf{A} \\hspace{1.25em} \\begin{matrix} \\hat{i} \\cdot \\text{m} \\\\ \\hat{j} \\cdot \\text{m} \\\\ \\hat{k} \\cdot \\text{m} \\end{matrix}\\normalsize \\hspace{0.7em} \\small\\text{wrt. R}\\normalsize $$"
      ],
      "text/plain": [
       "\\vec{v_L}.T*\\mathbf{A} wrt. R"
      ]
     },
     "metadata": {},
     "output_type": "display_data"
    },
    {
     "name": "stdout",
     "output_type": "stream",
     "text": [
      "Matrix Composition:\n"
     ]
    },
    {
     "data": {
      "text/latex": [
       "$$ \\mathbf{A} \\mathbf{B} \\hspace{1.25em} \\begin{matrix} \\hat{i} \\cdot \\text{m} \\\\ \\hat{j} \\cdot \\text{m} \\\\ \\hat{k} \\cdot \\text{m} \\end{matrix}\\normalsize \\hspace{0.7em} \\small\\text{wrt. L}\\normalsize \\hspace{0.75em} ⟷ \\hspace{0.75em} \\begin{matrix} \\hat{i} \\cdot \\text{m} \\\\ \\hat{j} \\cdot \\text{m} \\\\ \\hat{k} \\cdot \\text{m} \\end{matrix}\\normalsize \\hspace{0.7em} \\small\\text{wrt. C}\\normalsize $$"
      ],
      "text/plain": [
       "<mathpad.matrix.Matrix at 0x7fd564248df0>"
      ]
     },
     "metadata": {},
     "output_type": "display_data"
    },
    {
     "name": "stdout",
     "output_type": "stream",
     "text": [
      "Matrix Addition and Subtraction:\n"
     ]
    },
    {
     "data": {
      "text/latex": [
       "$$ 2 \\mathbf{A} \\hspace{1.25em} \\begin{matrix} \\hat{i} \\cdot \\text{m} \\\\ \\hat{j} \\cdot \\text{m} \\\\ \\hat{k} \\cdot \\text{m} \\end{matrix}\\normalsize \\hspace{0.7em} \\small\\text{wrt. L}\\normalsize \\hspace{0.75em} ⟷ \\hspace{0.75em} \\begin{matrix} \\hat{i} \\cdot \\text{m} \\\\ \\hat{j} \\cdot \\text{m} \\\\ \\hat{k} \\cdot \\text{m} \\end{matrix}\\normalsize \\hspace{0.7em} \\small\\text{wrt. R}\\normalsize $$"
      ],
      "text/plain": [
       "<mathpad.matrix.Matrix at 0x7fd563ec6a90>"
      ]
     },
     "metadata": {},
     "output_type": "display_data"
    },
    {
     "data": {
      "text/latex": [
       "$$ 0 \\hspace{1.25em} \\begin{matrix} \\hat{i} \\cdot \\text{m} \\\\ \\hat{j} \\cdot \\text{m} \\\\ \\hat{k} \\cdot \\text{m} \\end{matrix}\\normalsize \\hspace{0.7em} \\small\\text{wrt. L}\\normalsize \\hspace{0.75em} ⟷ \\hspace{0.75em} \\begin{matrix} \\hat{i} \\cdot \\text{m} \\\\ \\hat{j} \\cdot \\text{m} \\\\ \\hat{k} \\cdot \\text{m} \\end{matrix}\\normalsize \\hspace{0.7em} \\small\\text{wrt. R}\\normalsize $$"
      ],
      "text/plain": [
       "<mathpad.matrix.Matrix at 0x7fd577e20fd0>"
      ]
     },
     "metadata": {},
     "output_type": "display_data"
    },
    {
     "name": "stdout",
     "output_type": "stream",
     "text": [
      "Scalar-Matrix multiplication:\n"
     ]
    },
    {
     "data": {
      "text/latex": [
       "$$ m \\mathbf{A} \\hspace{1.25em} \\begin{matrix} \\hat{i} \\cdot \\text{m} \\\\ \\hat{j} \\cdot \\text{m} \\\\ \\hat{k} \\cdot \\text{m} \\end{matrix}\\normalsize \\hspace{0.7em} \\small\\text{wrt. L}\\normalsize \\hspace{0.75em} ⟷ \\hspace{0.75em} \\begin{matrix} \\hat{i} \\cdot \\text{kg} \\text{m} \\\\ \\hat{j} \\cdot \\text{kg} \\text{m} \\\\ \\hat{k} \\cdot \\text{kg} \\text{m} \\end{matrix}\\normalsize \\hspace{0.7em} \\small\\text{wrt. R}\\normalsize $$"
      ],
      "text/plain": [
       "<mathpad.matrix.Matrix at 0x7fd563e07460>"
      ]
     },
     "metadata": {},
     "output_type": "display_data"
    }
   ],
   "source": [
    "from mathpad import *\n",
    "\n",
    "L = R3(\"L\")\n",
    "R = R3(\"R\")\n",
    "C = R3(\"C\")\n",
    "\n",
    "A = Matrix(L, R, \"A\")\n",
    "B = Matrix(R, C, \"B\")\n",
    "vL = \"v_L\" * L\n",
    "vR = \"v_R\" * R\n",
    "\n",
    "print(\"Matrix-Vector Multiplication:\")\n",
    "display( A @ vR )\n",
    "\n",
    "print(\"Vector-Matrix Multiplication:\")\n",
    "display( vL @ A )\n",
    "\n",
    "print(\"Matrix Composition:\")\n",
    "display( A @ B )\n",
    "\n",
    "print(\"Matrix Addition and Subtraction:\")\n",
    "display( A + A, A - A )\n",
    "\n",
    "print(\"Scalar-Matrix multiplication:\")\n",
    "display( \"m\" * kg * A )"
   ]
  },
  {
   "cell_type": "markdown",
   "metadata": {},
   "source": [
    "Notice that Scalar-Matrix multiplication produces a new matrix with the old matrix's output space multiplied by the units of the Val (`m, m, m wrt. R` => `kgm, kgm, kgm wrt. R`). If the operand is `Dimensionless` or just a primitive number, there will be no change."
   ]
  },
  {
   "cell_type": "markdown",
   "metadata": {},
   "source": [
    "### State Space Models\n",
    "\n",
    "State Spaces are a type of `VectorSpace` that represent transient states of variables in a system of equations.\n",
    "\n",
    "State space models take the general form:\n",
    "\n",
    "$$\\dot{x}(t) = \\mathbf{A} x(t) + \\mathbf{B} u(t)$$\n",
    "\n",
    "$$y(t) = \\mathbf{C} x(t) + \\mathbf{D} u(t)$$\n",
    "\n",
    "Where\n",
    "- $x(t)$ is the state vector\n",
    "- $\\dot{x}(t)$ is the diff of the state vector\n",
    "- $\\mathbf{A}$ is the 'system matrix'\n",
    "- $\\mathbf{B}$ is the 'input matrix'\n",
    "- $u(t)$ is the input vector\n",
    "- $y(t)$ is the output vector\n",
    "- $\\mathbf{C}$ is the 'output matrix'\n",
    "- $\\mathbf{D}$ is the 'feed-forward matrix'\n",
    "\n",
    "If attending university, you will learn about them mostly in subjects regarding control theory.\n",
    "\n",
    "Below is a simple RLC circuit that may be modelled as a state space equation.\n",
    "\n",
    "<img src=\"imgs/RLC-state-space.jpg\" style=\"width: 500px;\" />\n",
    "\n",
    "*RLC circuit; example state-space problem*\n",
    "\n",
    "For a full state space problem, there are 3 unique vectorspaces that must be defined:\n",
    "- Input Space\n",
    "- State Space\n",
    "- Output Space\n",
    "\n",
    "For example, to represent the state of the above RLC circuit, one could define the following:"
   ]
  },
  {
   "cell_type": "code",
   "execution_count": 43,
   "metadata": {},
   "outputs": [],
   "source": [
    "from mathpad import *\n",
    "\n",
    "class StateSpace(VectorSpace):\n",
    "    base_names = \"v_C\", \"i_L\"\n",
    "    base_units = volts, amperes\n",
    "\n",
    "class InputSpace(VectorSpace):\n",
    "    base_names = \"v_i\",\n",
    "    base_units = volts,\n",
    "\n",
    "class OutputSpace(VectorSpace):\n",
    "    base_names = \"v_o\",\n",
    "    base_units = volts,\n",
    "\n",
    "# instantiate the spaces as reference frames\n",
    "RLC_x = StateSpace(\"RLCState\")\n",
    "RLC_i = InputSpace(\"RLCInput\")\n",
    "RLC_o = OutputSpace(\"RLCOutput\")"
   ]
  },
  {
   "cell_type": "markdown",
   "metadata": {},
   "source": [
    "And then define the state space model:"
   ]
  },
  {
   "cell_type": "code",
   "execution_count": 44,
   "metadata": {},
   "outputs": [
    {
     "data": {
      "text/plain": [
       "'A ='"
      ]
     },
     "metadata": {},
     "output_type": "display_data"
    },
    {
     "data": {
      "text/latex": [
       "$$ \\left[\\begin{matrix}- \\frac{R}{L} & - \\frac{1}{L}\\\\\\frac{1}{c} & 0\\end{matrix}\\right] \\hspace{1.25em} \\begin{matrix} \\hat{v_C} \\cdot \\frac{\\text{V}}{\\text{s}} \\\\ \\hat{i_L} \\cdot \\frac{\\text{A}}{\\text{s}} \\end{matrix}\\normalsize \\hspace{0.7em} \\small\\text{wrt. RLCState}\\normalsize \\hspace{0.75em} ⟷ \\hspace{0.75em} \\begin{matrix} \\hat{v_C} \\cdot \\text{V} \\\\ \\hat{i_L} \\cdot \\text{A} \\end{matrix}\\normalsize \\hspace{0.7em} \\small\\text{wrt. RLCState}\\normalsize $$"
      ],
      "text/plain": [
       "<mathpad.matrix.Matrix at 0x7fd563eb0790>"
      ]
     },
     "metadata": {},
     "output_type": "display_data"
    },
    {
     "data": {
      "text/plain": [
       "'B ='"
      ]
     },
     "metadata": {},
     "output_type": "display_data"
    },
    {
     "data": {
      "text/latex": [
       "$$ \\left[\\begin{matrix}\\frac{1}{L}\\\\0\\end{matrix}\\right] \\hspace{1.25em} \\begin{matrix} \\hat{v_C} \\cdot \\frac{\\text{V}}{\\text{s}} \\\\ \\hat{i_L} \\cdot \\frac{\\text{A}}{\\text{s}} \\end{matrix}\\normalsize \\hspace{0.7em} \\small\\text{wrt. RLCState}\\normalsize \\hspace{0.75em} ⟷ \\hspace{0.75em} \\begin{matrix} \\hat{v_i} \\cdot \\text{V} \\end{matrix}\\normalsize \\hspace{0.7em} \\small\\text{wrt. RLCInput}\\normalsize $$"
      ],
      "text/plain": [
       "<mathpad.matrix.Matrix at 0x7fd576ed5eb0>"
      ]
     },
     "metadata": {},
     "output_type": "display_data"
    },
    {
     "data": {
      "text/plain": [
       "'C ='"
      ]
     },
     "metadata": {},
     "output_type": "display_data"
    },
    {
     "data": {
      "text/latex": [
       "$$ \\left[\\begin{matrix}1 & 0\\end{matrix}\\right] \\hspace{1.25em} \\begin{matrix} \\hat{v_o} \\cdot \\text{V} \\end{matrix}\\normalsize \\hspace{0.7em} \\small\\text{wrt. RLCOutput}\\normalsize \\hspace{0.75em} ⟷ \\hspace{0.75em} \\begin{matrix} \\hat{v_C} \\cdot \\text{V} \\\\ \\hat{i_L} \\cdot \\text{A} \\end{matrix}\\normalsize \\hspace{0.7em} \\small\\text{wrt. RLCState}\\normalsize $$"
      ],
      "text/plain": [
       "<mathpad.matrix.Matrix at 0x7fd5620a52b0>"
      ]
     },
     "metadata": {},
     "output_type": "display_data"
    },
    {
     "data": {
      "text/plain": [
       "'D ='"
      ]
     },
     "metadata": {},
     "output_type": "display_data"
    },
    {
     "data": {
      "text/latex": [
       "$$ \\left[\\begin{matrix}0\\end{matrix}\\right] \\hspace{1.25em} \\begin{matrix} \\hat{v_o} \\cdot \\text{V} \\end{matrix}\\normalsize \\hspace{0.7em} \\small\\text{wrt. RLCOutput}\\normalsize \\hspace{0.75em} ⟷ \\hspace{0.75em} \\begin{matrix} \\hat{v_i} \\cdot \\text{V} \\end{matrix}\\normalsize \\hspace{0.7em} \\small\\text{wrt. RLCInput}\\normalsize $$"
      ],
      "text/plain": [
       "<mathpad.matrix.Matrix at 0x7fd5640c8fd0>"
      ]
     },
     "metadata": {},
     "output_type": "display_data"
    },
    {
     "name": "stdout",
     "output_type": "stream",
     "text": [
      "State Space Representation:\n"
     ]
    },
    {
     "data": {
      "text/plain": [
       "'system_eqn:'"
      ]
     },
     "metadata": {},
     "output_type": "display_data"
    },
    {
     "data": {
      "text/latex": [
       "$$ \\left[\\begin{matrix}\\dot{v}_{C}\\\\\\dot{i}_{L}\\end{matrix}\\right] = \\left[\\begin{matrix}- \\frac{R v_{C}}{L} - \\frac{i_{L}}{L} + \\frac{v_{i}}{L}\\\\\\frac{v_{C}}{c}\\end{matrix}\\right] \\hspace{1.25em} \\begin{matrix} \\hat{v_C} \\cdot \\frac{\\text{V}}{\\text{s}} \\\\ \\hat{i_L} \\cdot \\frac{\\text{A}}{\\text{s}} \\end{matrix}\\normalsize \\hspace{0.7em} \\small\\text{wrt. RLCState}\\normalsize $$"
      ],
      "text/plain": [
       "[Derivative(v_C(t), t), Derivative(i_L(t), t)] wrt. RLCState = [-R*v_C(t)/L - i_L(t)/L + v_i(t)/L, v_C(t)/c] wrt. RLCState <OutputSpace name=\"RLCState\">"
      ]
     },
     "metadata": {},
     "output_type": "display_data"
    },
    {
     "data": {
      "text/plain": [
       "'output_eqn:'"
      ]
     },
     "metadata": {},
     "output_type": "display_data"
    },
    {
     "data": {
      "text/latex": [
       "$$ \\left[\\begin{matrix}v_{o}\\end{matrix}\\right] = \\left[\\begin{matrix}v_{C}\\end{matrix}\\right] \\hspace{1.25em} \\begin{matrix} \\hat{v_o} \\cdot \\text{V} \\end{matrix}\\normalsize \\hspace{0.7em} \\small\\text{wrt. RLCOutput}\\normalsize $$"
      ],
      "text/plain": [
       "[v_o(t)] wrt. RLCOutput = [v_C(t)] wrt. RLCOutput <OutputSpace name=\"RLCOutput\">"
      ]
     },
     "metadata": {},
     "output_type": "display_data"
    }
   ],
   "source": [
    "R = \"R\" * ohms # resistor\n",
    "L = \"L\" * henrys # inductor\n",
    "c = \"c\" * farads # capacitor\n",
    "v_i = \"v_i\" * volts # input\n",
    "\n",
    "# define the derivative space \"diff(state)\"\n",
    "RLC_d = RLC_x / s\n",
    "\n",
    "A = Matrix(RLC_d, RLC_x, [\n",
    "    [-R/L, -1/L],\n",
    "    [1/c, 0]\n",
    "], check_val_dims=False)\n",
    "display(\"A =\", A)\n",
    "\n",
    "B = Matrix(RLC_d, RLC_i, [\n",
    "    [1/L],\n",
    "    [0]\n",
    "], check_val_dims=False)\n",
    "display(\"B =\", B)\n",
    "\n",
    "C = Matrix(RLC_o, RLC_x, [\n",
    "    [1, 0]\n",
    "])\n",
    "display(\"C =\", C)\n",
    "\n",
    "D = Matrix(RLC_o, RLC_i, [\n",
    "    [0]\n",
    "])\n",
    "display(\"D =\", D)\n",
    "\n",
    "x = RLC_x[\"v_C(t)\" * volts, \"i_L(t)\" * amperes]\n",
    "u = RLC_i[\"v_i(t)\" * volts,]\n",
    "y = RLC_o[\"v_o(t)\" * volts,]\n",
    "\n",
    "print(\"State Space Representation:\")\n",
    "system_eqn = diff(x) == A @ x + B @ u\n",
    "display('system_eqn:', system_eqn)\n",
    "output_eqn = y == C @ x + D @ u\n",
    "display('output_eqn:', output_eqn)"
   ]
  }
 ],
 "metadata": {
  "kernelspec": {
   "display_name": "Python 3.8.10 ('mathpad-IMbbmyaw-py3.8')",
   "language": "python",
   "name": "python3"
  },
  "language_info": {
   "codemirror_mode": {
    "name": "ipython",
    "version": 3
   },
   "file_extension": ".py",
   "mimetype": "text/x-python",
   "name": "python",
   "nbconvert_exporter": "python",
   "pygments_lexer": "ipython3",
   "version": "3.8.10"
  },
  "orig_nbformat": 4,
  "vscode": {
   "interpreter": {
    "hash": "c68f6f75b9b5074b455bff57bf843aee0a1a4f29736bbb117f262860b9efa145"
   }
  }
 },
 "nbformat": 4,
 "nbformat_minor": 2
}
