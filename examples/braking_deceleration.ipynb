{
 "cells": [
  {
   "cell_type": "code",
   "execution_count": 1,
   "metadata": {},
   "outputs": [
    {
     "name": "stdout",
     "output_type": "stream",
     "text": [
      "Solution( t = 1.1176 seconds )\n"
     ]
    },
    {
     "data": {
      "text/latex": [
       "$\\displaystyle \\frac{1397}{1250} \\hspace{1.25em} \\text{s}$"
      ],
      "text/plain": [
       "1.1176 seconds"
      ]
     },
     "execution_count": 1,
     "metadata": {},
     "output_type": "execute_result"
    }
   ],
   "source": [
    "from mathpad import *\n",
    "\n",
    "t = \"t\" * seconds  # \"t seconds\"\n",
    "\n",
    "velocity = 5 * miles / hour  # \"5 miles/hour\"\n",
    "\n",
    "deceleration = 2 * meters / second ** 2  # \"10 meters/second**2\"\n",
    "\n",
    "solution = solve(t == velocity / deceleration, t)  # \"Solution(t = 1.1176 seconds)\"\n",
    "print(solution)\n",
    "\n",
    "solution[t]"
   ]
  }
 ],
 "metadata": {
  "interpreter": {
   "hash": "bec35ff8d3ceac10428ff23ff3d495acaf5c2f0370f6a03008458d4f010ac403"
  },
  "kernelspec": {
   "display_name": "Python 3.9.1 64-bit ('mathpad-tPciuzSw-py3.9': poetry)",
   "name": "python3"
  },
  "language_info": {
   "codemirror_mode": {
    "name": "ipython",
    "version": 3
   },
   "file_extension": ".py",
   "mimetype": "text/x-python",
   "name": "python",
   "nbconvert_exporter": "python",
   "pygments_lexer": "ipython3",
   "version": "3.9.1"
  },
  "orig_nbformat": 4
 },
 "nbformat": 4,
 "nbformat_minor": 2
}
