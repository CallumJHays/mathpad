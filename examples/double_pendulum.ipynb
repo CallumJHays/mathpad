{
 "cells": [
  {
   "cell_type": "code",
   "execution_count": 1,
   "metadata": {},
   "outputs": [],
   "source": [
    "%load_ext autoreload\n",
    "%autoreload 2\n",
    "\n",
    "try:\n",
    "    # install for jupyterlite if needed\n",
    "    import piplite\n",
    "    print('installing piplite packages... This may take up to ~5 minutes. If still running, please try refreshing the page.')\n",
    "    await piplite.install(['mathpad', 'nbformat>=5.6', 'ipywidgets>=7,<8'])\n",
    "    print('piplite packages installed and ready to go!')\n",
    "    in_jupyterlite = True\n",
    "\n",
    "except ImportError:\n",
    "    # not running in jupyterlite\n",
    "    in_jupyterlite = False"
   ]
  },
  {
   "attachments": {},
   "cell_type": "markdown",
   "metadata": {},
   "source": [
    "<div style=\"display: flex; height: 300px;\">\n",
    "\n",
    "![cart spring pendulum diagram](imgs/double_pendulum.png)\n",
    "\n",
    "&nbsp;\n",
    "\n",
    "![cart spring pendulum simulation](imgs/double_pendulum_simulation.gif)\n",
    "</div>"
   ]
  },
  {
   "cell_type": "code",
   "execution_count": 2,
   "metadata": {},
   "outputs": [],
   "source": [
    "from mathpad import *\n",
    "\n",
    "theta = \"theta(t)\" * rad\n",
    "phi = \"phi(t)\" * rad\n",
    "m = \"m\" * kg\n",
    "l = \"l\" * meters\n",
    "g = \"g\" * meters / second ** 2\n"
   ]
  },
  {
   "cell_type": "code",
   "execution_count": 3,
   "metadata": {},
   "outputs": [],
   "source": [
    "O = R2(\"O\") * meters"
   ]
  },
  {
   "cell_type": "code",
   "execution_count": 4,
   "metadata": {},
   "outputs": [
    {
     "name": "stdout",
     "output_type": "stream",
     "text": [
      "Displacement of m1\n"
     ]
    },
    {
     "data": {
      "text/latex": [
       "$$ \\vec{r_1}(t) = \\left[\\begin{matrix}l \\sin{\\left(\\theta \\right)}\\\\- l \\cos{\\left(\\theta \\right)}\\end{matrix}\\right] \\hspace{1.25em} \\begin{matrix} \\hat{i} \\cdot \\text{m} \\\\ \\hat{j} \\cdot \\text{m} \\end{matrix}\\normalsize \\hspace{0.7em} \\small\\text{wrt. O}\\normalsize $$"
      ],
      "text/plain": [
       "\\vec{r_1}(t) wrt. O = [l*sin(theta(t)), -l*cos(theta(t))] wrt. O <R2 name=\"O\">"
      ]
     },
     "execution_count": 4,
     "metadata": {},
     "output_type": "execute_result"
    }
   ],
   "source": [
    "print(\"Displacement of m1\")\n",
    "r1 = \"r_1(t)\" @ O\n",
    "r1_def = r1 == O.from_polar(l, theta - pi/2)\n",
    "r1_def"
   ]
  },
  {
   "cell_type": "code",
   "execution_count": 5,
   "metadata": {},
   "outputs": [
    {
     "name": "stdout",
     "output_type": "stream",
     "text": [
      "Velocity of m1\n"
     ]
    },
    {
     "data": {
      "text/latex": [
       "$$ \\dot{\\vec{r_1}} \\hspace{1.25em} \\begin{matrix} \\hat{i} \\cdot \\frac{\\text{m}}{\\text{s}} \\\\ \\hat{j} \\cdot \\frac{\\text{m}}{\\text{s}} \\end{matrix}\\normalsize \\hspace{0.7em} \\small\\text{wrt. O}\\normalsize $$"
      ],
      "text/plain": [
       "Derivative(\\vec{r_1}(t), t) wrt. O"
      ]
     },
     "execution_count": 5,
     "metadata": {},
     "output_type": "execute_result"
    }
   ],
   "source": [
    "\n",
    "print('Velocity of m1')\n",
    "\n",
    "v1 = diff(r1)\n",
    "v1"
   ]
  },
  {
   "cell_type": "code",
   "execution_count": 6,
   "metadata": {},
   "outputs": [
    {
     "name": "stdout",
     "output_type": "stream",
     "text": [
      "Displacement of m2\n"
     ]
    },
    {
     "data": {
      "text/latex": [
       "$$ \\vec{r_2}(t) = \\left[\\begin{matrix}l \\sin{\\left(\\phi \\right)}\\\\- l \\cos{\\left(\\phi \\right)}\\end{matrix}\\right] + \\vec{r_1}(t) \\hspace{1.25em} \\begin{matrix} \\hat{i} \\cdot \\text{m} \\\\ \\hat{j} \\cdot \\text{m} \\end{matrix}\\normalsize \\hspace{0.7em} \\small\\text{wrt. O}\\normalsize $$"
      ],
      "text/plain": [
       "\\vec{r_2}(t) wrt. O = Matrix([\n",
       "\t[ l*sin(phi(t))],\n",
       "\t[-l*cos(phi(t))]]) + \\vec{r_1}(t) wrt. O <R2 name=\"O\">"
      ]
     },
     "execution_count": 6,
     "metadata": {},
     "output_type": "execute_result"
    }
   ],
   "source": [
    "print(\"Displacement of m2\")\n",
    "r2 = \"r_2(t)\" @ O\n",
    "r2_def = r2 == r1 + O.from_polar(l, phi - pi/2)\n",
    "r2_def"
   ]
  },
  {
   "cell_type": "code",
   "execution_count": 7,
   "metadata": {},
   "outputs": [
    {
     "name": "stdout",
     "output_type": "stream",
     "text": [
      "Velocity of m2\n"
     ]
    },
    {
     "data": {
      "text/latex": [
       "$$ \\dot{\\vec{r_2}} \\hspace{1.25em} \\begin{matrix} \\hat{i} \\cdot \\frac{\\text{m}}{\\text{s}} \\\\ \\hat{j} \\cdot \\frac{\\text{m}}{\\text{s}} \\end{matrix}\\normalsize \\hspace{0.7em} \\small\\text{wrt. O}\\normalsize $$"
      ],
      "text/plain": [
       "Derivative(\\vec{r_2}(t), t) wrt. O"
      ]
     },
     "execution_count": 7,
     "metadata": {},
     "output_type": "execute_result"
    }
   ],
   "source": [
    "print(\"Velocity of m2\")\n",
    "v2 = diff(r2)\n",
    "v2"
   ]
  },
  {
   "attachments": {},
   "cell_type": "markdown",
   "metadata": {},
   "source": []
  },
  {
   "cell_type": "code",
   "execution_count": 8,
   "metadata": {},
   "outputs": [
    {
     "data": {
      "text/latex": [
       "$$ \\dot{\\vec{r_2}_{i}} \\hspace{1.25em} \\frac{\\text{m}}{\\text{s}} $$"
      ],
      "text/plain": [
       "Derivative(\\vec{r_2}_{i}(t), t) meters/second"
      ]
     },
     "execution_count": 8,
     "metadata": {},
     "output_type": "execute_result"
    }
   ],
   "source": [
    "v2[0]"
   ]
  },
  {
   "cell_type": "code",
   "execution_count": null,
   "metadata": {},
   "outputs": [],
   "source": []
  },
  {
   "cell_type": "code",
   "execution_count": 9,
   "metadata": {},
   "outputs": [
    {
     "name": "stdout",
     "output_type": "stream",
     "text": [
      "Total Kinetic Energy\n"
     ]
    },
    {
     "data": {
      "text/latex": [
       "$$ \\frac{m \\left(\\dot{\\vec{r_1}_{i}}^{2} + \\dot{\\vec{r_1}_{j}}^{2}\\right)}{2} + \\frac{m \\left(\\dot{\\vec{r_2}_{i}}^{2} + \\dot{\\vec{r_2}_{j}}^{2}\\right)}{2} \\hspace{1.25em} \\text{J} $$"
      ],
      "text/plain": [
       "0.5*m*(Derivative(\\vec{r_1}_{i}(t), t)**2 + Derivative(\\vec{r_1}_{j}(t), t)**2) + 0.5*m*(Derivative(\\vec{r_2}_{i}(t), t)**2 + Derivative(\\vec{r_2}_{j}(t), t)**2) joules"
      ]
     },
     "execution_count": 9,
     "metadata": {},
     "output_type": "execute_result"
    }
   ],
   "source": [
    "from mathpad.library.mechanic import euler_lagrange, kinetic_energy, gravitational_energy\n",
    "\n",
    "print(\"Total Kinetic Energy\")\n",
    "T = kinetic_energy(m=m, v=v1.norm()) + kinetic_energy(m=m, v=v2.norm())\n",
    "T"
   ]
  },
  {
   "cell_type": "code",
   "execution_count": 11,
   "metadata": {},
   "outputs": [
    {
     "name": "stdout",
     "output_type": "stream",
     "text": [
      "Total Potential Energy\n"
     ]
    },
    {
     "data": {
      "text/latex": [
       "$$ \\vec{r_1}_j g m + \\vec{r_2}_j g m \\hspace{1.25em} \\frac{\\text{kg} \\text{m}^{2}}{\\text{s}^{2}} $$"
      ],
      "text/plain": [
       "\\vec{r_1}_j*g*m + \\vec{r_2}_j*g*m kilogram*meters**2/second**2"
      ]
     },
     "execution_count": 11,
     "metadata": {},
     "output_type": "execute_result"
    }
   ],
   "source": [
    "print(\"Total Potential Energy\")\n",
    "V = gravitational_energy(m=m, h=r1.j, g=g) \\\n",
    "    + gravitational_energy(m=m, h=r2.j, g=g)\n",
    "V"
   ]
  },
  {
   "cell_type": "code",
   "execution_count": 20,
   "metadata": {},
   "outputs": [
    {
     "data": {
      "text/latex": [
       "$$ \\vec{r_1}(t) \\hspace{1.25em} \\begin{matrix} \\hat{i} \\cdot \\text{m} \\\\ \\hat{j} \\cdot \\text{m} \\end{matrix}\\normalsize \\hspace{0.7em} \\small\\text{wrt. O}\\normalsize $$"
      ],
      "text/plain": [
       "\\vec{r_1}(t) wrt. O"
      ]
     },
     "execution_count": 20,
     "metadata": {},
     "output_type": "execute_result"
    }
   ],
   "source": [
    "r1"
   ]
  },
  {
   "cell_type": "code",
   "execution_count": 18,
   "metadata": {},
   "outputs": [
    {
     "data": {
      "text/latex": [
       "$$ \\left[\\begin{array}{c}\\vec{r_1}_{i}\\\\\\vec{r_1}_{j}\\end{array}\\right] \\cdot \\left[\\begin{array}{c}\\vec{r_2}_{i}\\\\\\vec{r_2}_{j}\\end{array}\\right] \\hspace{1.25em} \\text{m}^{2} $$"
      ],
      "text/plain": [
       "Dot(Matrix([\n",
       "[\\vec{r_1}_{i}(t)],\n",
       "[\\vec{r_1}_{j}(t)]]), Matrix([\n",
       "[\\vec{r_2}_{i}(t)],\n",
       "[\\vec{r_2}_{j}(t)]])) meters**2"
      ]
     },
     "execution_count": 18,
     "metadata": {},
     "output_type": "execute_result"
    }
   ],
   "source": [
    "r1.dot(r2)"
   ]
  },
  {
   "cell_type": "code",
   "execution_count": 16,
   "metadata": {},
   "outputs": [
    {
     "data": {
      "text/latex": [
       "$$ \\vec{r_1}_j g m + \\vec{r_2}_j g m - \\frac{m \\left(\\dot{\\vec{r_1}_{i}}^{2} + \\dot{\\vec{r_1}_{j}}^{2}\\right)}{2} - \\frac{m \\left(\\dot{\\vec{r_2}_{i}}^{2} + \\dot{\\vec{r_2}_{j}}^{2}\\right)}{2} \\hspace{1.25em} \\frac{\\text{kg} \\text{m}^{2}}{\\text{s}^{2}} $$"
      ],
      "text/plain": [
       "\\vec{r_1}_j*g*m + \\vec{r_2}_j*g*m - 0.5*m*(Derivative(\\vec{r_1}_{i}(t), t)**2 + Derivative(\\vec{r_1}_{j}(t), t)**2) - 0.5*m*(Derivative(\\vec{r_2}_{i}(t), t)**2 + Derivative(\\vec{r_2}_{j}(t), t)**2) kilogram*meters**2/second**2"
      ]
     },
     "execution_count": 16,
     "metadata": {},
     "output_type": "execute_result"
    }
   ],
   "source": [
    "V - T"
   ]
  },
  {
   "cell_type": "code",
   "execution_count": 17,
   "metadata": {},
   "outputs": [
    {
     "name": "stdout",
     "output_type": "stream",
     "text": [
      "Theta Dynamics: Lagrange Equation\n"
     ]
    },
    {
     "data": {
      "text/latex": [
       "$$ 0 = 0 \\hspace{1.25em} \\frac{\\text{kg} \\text{m}^{2}}{\\text{rad} \\text{s}^{2}} $$"
      ],
      "text/plain": [
       "0 = 0 kilogram*meter**2/(radian*second**2)"
      ]
     },
     "execution_count": 17,
     "metadata": {},
     "output_type": "execute_result"
    }
   ],
   "source": [
    "print(\"Theta Dynamics: Lagrange Equation\")\n",
    "theta_dynamics = euler_lagrange(PE=T, KE=V, NCF=0 * N * meter, var=theta)\n",
    "theta_dynamics"
   ]
  },
  {
   "cell_type": "code",
   "execution_count": 13,
   "metadata": {},
   "outputs": [
    {
     "name": "stdout",
     "output_type": "stream",
     "text": [
      "Phi Dynamics: Lagrange Equation\n"
     ]
    },
    {
     "data": {
      "text/latex": [
       "$$ 0 = 0 \\hspace{1.25em} \\frac{\\text{kg} \\text{m}^{2}}{\\text{rad} \\text{s}^{2}} $$"
      ],
      "text/plain": [
       "0 = 0 kilogram*meter**2/(radian*second**2)"
      ]
     },
     "execution_count": 13,
     "metadata": {},
     "output_type": "execute_result"
    }
   ],
   "source": [
    "print(\"Phi Dynamics: Lagrange Equation\")\n",
    "phi_dynamics = euler_lagrange(PE=T, KE=V, NCF=0 * N * meter, var=phi)\n",
    "phi_dynamics"
   ]
  },
  {
   "attachments": {},
   "cell_type": "markdown",
   "metadata": {},
   "source": [
    "# Simulation Results:"
   ]
  },
  {
   "cell_type": "code",
   "execution_count": 14,
   "metadata": {},
   "outputs": [
    {
     "name": "stdout",
     "output_type": "stream",
     "text": [
      "Solving subbed Equations...\n"
     ]
    },
    {
     "ename": "AssertionError",
     "evalue": "No Solution Found",
     "output_type": "error",
     "traceback": [
      "\u001b[0;31m---------------------------------------------------------------------------\u001b[0m",
      "\u001b[0;31mAssertionError\u001b[0m                            Traceback (most recent call last)",
      "\u001b[0;32m/tmp/ipykernel_18291/3954612945.py\u001b[0m in \u001b[0;36m<cell line: 1>\u001b[0;34m()\u001b[0m\n\u001b[0;32m----> 1\u001b[0;31m sim_data = simulate_dynamic_system(\n\u001b[0m\u001b[1;32m      2\u001b[0m     \u001b[0;34m[\u001b[0m\u001b[0mtheta_dynamics\u001b[0m\u001b[0;34m,\u001b[0m \u001b[0mphi_dynamics\u001b[0m\u001b[0;34m]\u001b[0m\u001b[0;34m,\u001b[0m\u001b[0;34m\u001b[0m\u001b[0;34m\u001b[0m\u001b[0m\n\u001b[1;32m      3\u001b[0m     \u001b[0mplot_title\u001b[0m\u001b[0;34m=\u001b[0m\u001b[0;34m\"Double Pendulum System Response to Being Dropped From a Height\"\u001b[0m\u001b[0;34m,\u001b[0m\u001b[0;34m\u001b[0m\u001b[0;34m\u001b[0m\u001b[0m\n\u001b[1;32m      4\u001b[0m     \u001b[0mx_final\u001b[0m\u001b[0;34m=\u001b[0m\u001b[0;36m5\u001b[0m\u001b[0;34m,\u001b[0m \u001b[0mmax_step\u001b[0m\u001b[0;34m=\u001b[0m\u001b[0;36m0.01\u001b[0m\u001b[0;34m,\u001b[0m\u001b[0;34m\u001b[0m\u001b[0;34m\u001b[0m\u001b[0m\n\u001b[1;32m      5\u001b[0m     substitute={\n",
      "\u001b[0;32m~/code/math.pad/mathpad/mathpad/simulate_dynamic_system.py\u001b[0m in \u001b[0;36msimulate_dynamic_system\u001b[0;34m(dynamics_equations, x_final, initial_conditions, record, max_step, substitute, x_axis, all_solutions, verbose, display_plots, display_progress_bar, explain, plot_static, plot_static_figsize, plot_title, _NEW_SOLVE)\u001b[0m\n\u001b[1;32m    124\u001b[0m     )\n\u001b[1;32m    125\u001b[0m \u001b[0;34m\u001b[0m\u001b[0m\n\u001b[0;32m--> 126\u001b[0;31m     \u001b[0;32massert\u001b[0m \u001b[0many\u001b[0m\u001b[0;34m(\u001b[0m\u001b[0msolutions\u001b[0m\u001b[0;34m)\u001b[0m\u001b[0;34m,\u001b[0m \u001b[0;34m\"No Solution Found\"\u001b[0m\u001b[0;34m\u001b[0m\u001b[0;34m\u001b[0m\u001b[0m\n\u001b[0m\u001b[1;32m    127\u001b[0m     \u001b[0m_print_if\u001b[0m\u001b[0;34m(\u001b[0m\u001b[0mverbose\u001b[0m\u001b[0;34m,\u001b[0m \u001b[0;34m\"Solving finished.\"\u001b[0m\u001b[0;34m)\u001b[0m\u001b[0;34m\u001b[0m\u001b[0;34m\u001b[0m\u001b[0m\n\u001b[1;32m    128\u001b[0m \u001b[0;34m\u001b[0m\u001b[0m\n",
      "\u001b[0;31mAssertionError\u001b[0m: No Solution Found"
     ]
    }
   ],
   "source": [
    "sim_data = simulate_dynamic_system(\n",
    "    [theta_dynamics, phi_dynamics],\n",
    "    plot_title=\"Double Pendulum System Response to Being Dropped From a Height\",\n",
    "    x_final=5, max_step=0.01,\n",
    "    substitute={\n",
    "        g: 9.81,\n",
    "        l: 0.5,\n",
    "        m: 1\n",
    "    },\n",
    "    initial_conditions={\n",
    "        theta: pi / 3,\n",
    "        diff(theta): 0,\n",
    "        phi: 0,\n",
    "        diff(phi): 0\n",
    "    },\n",
    "    record=[theta, phi]\n",
    ")\n"
   ]
  },
  {
   "cell_type": "code",
   "execution_count": null,
   "metadata": {},
   "outputs": [
    {
     "data": {
      "text/latex": [
       "$\\displaystyle 3020$"
      ],
      "text/plain": [
       "3020"
      ]
     },
     "execution_count": 12,
     "metadata": {},
     "output_type": "execute_result"
    }
   ],
   "source": [
    "len(sim_data)"
   ]
  },
  {
   "cell_type": "code",
   "execution_count": null,
   "metadata": {},
   "outputs": [
    {
     "data": {
      "text/latex": [
       "$\\displaystyle \\left( 0, \\  \\left[ 1.0471975511966, \\  0.0\\right]\\right)$"
      ],
      "text/plain": [
       "(0, [1.0471975511965979, 0.0])"
      ]
     },
     "execution_count": 13,
     "metadata": {},
     "output_type": "execute_result"
    }
   ],
   "source": [
    "sim_data[0]"
   ]
  },
  {
   "cell_type": "code",
   "execution_count": null,
   "metadata": {},
   "outputs": [],
   "source": [
    "import numpy as np\n",
    "from mathpad import viz3d\n",
    "\n",
    "def coords_to_labelstr(coords: np.ndarray) -> str:\n",
    "    sign = \"+ \" if coords[1, 1] >= 0 else \"\"\n",
    "    return f\"{coords[1, 0]:.2f} {sign}{coords[1, 1]:.2f} j\"\n",
    "\n",
    "O3 = R3(\"O\")\n",
    "r1_3d = O3[r1[0], r1[1], 0]\n",
    "r2_3d = O3[r2[0], r2[1], 0]\n",
    "\n",
    "r1_viz = viz3d.Vec(O3.zeros(), r1_3d, color='b', head_size=0)\n",
    "r1_text = viz3d.Text(\n",
    "    lambda s: coords_to_labelstr(s[r1_3d]),\n",
    "    r1_3d,\n",
    "    color='b'\n",
    ")\n",
    "r2_viz = viz3d.Vec(r1_3d, r2_3d, color='o', head_size=0)\n",
    "r2_text = viz3d.Text(\n",
    "    lambda s: coords_to_labelstr(s[r2_3d]),\n",
    "    r1_3d,\n",
    "    color='o'\n",
    ")\n",
    "pendulum_bobs = viz3d.Point(r1_3d, )"
   ]
  },
  {
   "cell_type": "code",
   "execution_count": null,
   "metadata": {},
   "outputs": [
    {
     "name": "stderr",
     "output_type": "stream",
     "text": [
      "/home/cal/.cache/pypoetry/virtualenvs/mathpad-IMbbmyaw-py3.8/lib/python3.8/site-packages/traittypes/traittypes.py:97: UserWarning:\n",
      "\n",
      "Given trait value dtype \"float64\" does not match required type \"float32\". A coerced copy has been created.\n",
      "\n"
     ]
    },
    {
     "data": {
      "application/vnd.jupyter.widget-view+json": {
       "model_id": "7466c41b8ed6479a869dc83d9ddd5cd5",
       "version_major": 2,
       "version_minor": 0
      },
      "text/plain": [
       "Plot(antialias=3, axes=['x', 'y', 'z'], axes_helper=1.0, axes_helper_colors=[16711680, 65280, 255], background…"
      ]
     },
     "metadata": {},
     "output_type": "display_data"
    }
   ],
   "source": [
    "import k3d\n",
    "from k3d.factory import plot as k3d_fig\n",
    "from math import sin, cos\n",
    "import numpy as np\n",
    "\n",
    "def theta_phi_to_vec_coords(theta: float, phi: float):\n",
    "    l = 0.5\n",
    "\n",
    "    def unit_polar(angle: float):\n",
    "        return np.array([(0, 0, 0), (sin(angle), -cos(angle), 0)])\n",
    "\n",
    "    r1 = l * unit_polar(theta)\n",
    "    r2 = r1[1] + l * unit_polar(phi)\n",
    "    return r1, r2\n",
    "\n",
    "\n",
    "r_1, r_2 = theta_phi_to_vec_coords(*sim_data[0][1])\n",
    "colors = 0x0000ff, 0xFF9900 # blue, orange\n",
    "origins = [r[0] for r in (r_1, r_2)]\n",
    "vectors = [r[1] - r[0] for r in (r_1, r_2)]\n",
    "\n",
    "vecs = k3d.vectors(origins, vectors, colors=[colors[0], colors[0],\n",
    "                                             colors[1], colors[1]], head_size=0.5)\n",
    "\n",
    "r_1_text = k3d.text(coords_to_labelstr(r_1), position=r_1[1], label_box=False, color=colors[0], name=\"r_1 label\")\n",
    "r_2_text = k3d.text(coords_to_labelstr(r_2), position=r_2[1], label_box=False, color=colors[1], name=\"r_2 label\")\n",
    "\n",
    "m_points = k3d.points([r_1[1], r_2[1]], colors=colors, point_size=0.05)\n",
    "\n",
    "def title(t: float):\n",
    "    return f\"Double Pendulum System Response to Being Dropped From a Height (t = {t:.2f}s)\"\n",
    "\n",
    "time_text = k3d.text2d(title(t=0), position=(0, 0), label_box=False, color=0x000000, name=\"time label\", is_html=True)\n",
    "\n",
    "# fig = k3d_fig(camera_no_rotate=True, camera_no_pan=True, camera_no_zoom=True, camera_auto_fit=False)\n",
    "fig = k3d_fig()\n",
    "fig += vecs + r_1_text + r_2_text + time_text + m_points\n",
    "fig"
   ]
  },
  {
   "cell_type": "code",
   "execution_count": null,
   "metadata": {},
   "outputs": [],
   "source": [
    "\n",
    "from time import sleep\n",
    "sleep(1) # give the js some time to load\n",
    "\n",
    "# 2d plot - format = [cx, cy, cz, ox, oy, oz, x_up, y_up, z_up]\n",
    "fig.camera = [0, -0.5, 2, 0, -0.5, 0, 0, 0, -10]\n",
    "# fig.grid_auto_fit = False\n",
    "# fig.grid = [-1, -1, 0, 1, 1, 0]\n",
    "# fig.camera_fov = 100\n",
    "\n",
    "fig.camera_reset()"
   ]
  },
  {
   "cell_type": "code",
   "execution_count": null,
   "metadata": {},
   "outputs": [
    {
     "data": {
      "application/vnd.jupyter.widget-view+json": {
       "model_id": "a1e557ce80a5413eb9fa8629d06e13ac",
       "version_major": 2,
       "version_minor": 0
      },
      "text/plain": [
       "FloatSlider(value=0.5, description='Time Scale:', max=2.0, step=0.01)"
      ]
     },
     "metadata": {},
     "output_type": "display_data"
    }
   ],
   "source": [
    "from ipywidgets import FloatSlider\n",
    "\n",
    "time_scale_slider = FloatSlider(\n",
    "    value=0.5,\n",
    "    min=0,\n",
    "    max=2.0,\n",
    "    step=0.01,\n",
    "    description='Time Scale:'\n",
    ")\n",
    "time_scale_slider"
   ]
  },
  {
   "cell_type": "code",
   "execution_count": null,
   "metadata": {},
   "outputs": [],
   "source": [
    "from time import sleep\n",
    "\n",
    "# ServerApp.iopub_msg_rate_limit = 10000.0 \n",
    "time_scale = time_scale_slider.value\n",
    "\n",
    "t_last = 0\n",
    "for t, [theta, phi] in sim_data[::100]:\n",
    "    dt = t - t_last\n",
    "    t_last = t\n",
    "    sleep(dt * time_scale)\n",
    "\n",
    "    time_text.text = title(t)\n",
    "\n",
    "    r_1, r_2 = theta_phi_to_vec_coords(theta, phi)\n",
    " \n",
    "    vecs.origins = [r[0] for r in (r_1, r_2)]\n",
    "    vecs.vectors = [r[1] - r[0] for r in (r_1, r_2)]\n",
    "    m_points.positions = [r_1[1], r_2[1]]\n",
    "\n",
    "    r_1_text.text = coords_to_labelstr(r_1)\n",
    "    r_1_text.position = r_1[1]\n",
    "    r_2_text.text = coords_to_labelstr(r_2)\n",
    "    r_2_text.position = r_2[1]\n",
    "\n",
    "    fig.grid = [-1, -1, -1e-10, 1, 1, 1e-10]"
   ]
  },
  {
   "cell_type": "code",
   "execution_count": null,
   "metadata": {},
   "outputs": [],
   "source": []
  }
 ],
 "metadata": {
  "kernelspec": {
   "display_name": "Python 3 (ipykernel)",
   "language": "python",
   "name": "python3"
  },
  "language_info": {
   "codemirror_mode": {
    "name": "ipython",
    "version": 3
   },
   "file_extension": ".py",
   "mimetype": "text/x-python",
   "name": "python",
   "nbconvert_exporter": "python",
   "pygments_lexer": "ipython3",
   "version": "3.8.10"
  },
  "vscode": {
   "interpreter": {
    "hash": "c68f6f75b9b5074b455bff57bf843aee0a1a4f29736bbb117f262860b9efa145"
   }
  }
 },
 "nbformat": 4,
 "nbformat_minor": 4
}
