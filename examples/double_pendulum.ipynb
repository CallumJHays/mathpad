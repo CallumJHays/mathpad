{
  "cells": [
    {
      "cell_type": "code",
      "execution_count": 2,
      "metadata": {
        "trusted": true
      },
      "outputs": [],
      "source": [
        "try:\n",
        "    # install for jupyterlite if needed\n",
        "    import piplite\n",
        "    print('installing piplite packages... This may take up to ~5 minutes. If still running, please try refreshing the page.')\n",
        "    await piplite.install(['mathpad', 'nbformat>=5.6', 'ipywidgets>=7,<8'])\n",
        "    print('piplite packages installed and ready to go!')\n",
        "    in_jupyterlite = True\n",
        "\n",
        "except (ImportError, SyntaxError):\n",
        "    # not running in jupyterlite\n",
        "    in_jupyterlite = False"
      ]
    },
    {
      "cell_type": "markdown",
      "metadata": {},
      "source": [
        "<div style=\"display: flex; height: 300px;\">\n",
        "\n",
        "![cart spring pendulum diagram](imgs/double_pendulum.png)\n",
        "\n",
        "&nbsp;\n",
        "\n",
        "![cart spring pendulum simulation](imgs/double_pendulum_simulation.gif)\n",
        "</div>"
      ]
    },
    {
      "cell_type": "code",
      "execution_count": 3,
      "metadata": {
        "trusted": true
      },
      "outputs": [],
      "source": [
        "from mathpad import *\n",
        "\n",
        "theta = \"theta(t)\" * rad\n",
        "phi = \"phi(t)\" * rad\n",
        "m = \"m\" * kg\n",
        "l = \"l\" * meters\n",
        "g = \"g\" * meters / second ** 2\n",
        "\n",
        "O = R2(\"O\") # Origin"
      ]
    },
    {
      "cell_type": "code",
      "execution_count": 4,
      "metadata": {
        "trusted": true
      },
      "outputs": [
        {
          "name": "stdout",
          "output_type": "stream",
          "text": [
            "Displacement of m1\n"
          ]
        },
        {
          "data": {
            "text/latex": [
              "$$ \\begin{bmatrix} l \\sin{\\left(\\theta \\right)} \\\\ - l \\cos{\\left(\\theta \\right)} \\end{bmatrix} \\hspace{1.25em} \\begin{matrix} \\text{m} \\\\ \\text{m} \\end{matrix}\\hspace{0.7em} \\text{wrt. O} $$"
            ],
            "text/plain": [
              "O[l*sin(theta(t)), -l*cos(theta(t))]"
            ]
          },
          "execution_count": 4,
          "metadata": {},
          "output_type": "execute_result"
        }
      ],
      "source": [
        "print(\"Displacement of m1\")\n",
        "r1 = O.from_polar(l, theta - pi/2)\n",
        "r1"
      ]
    },
    {
      "cell_type": "code",
      "execution_count": 5,
      "metadata": {
        "trusted": true
      },
      "outputs": [
        {
          "name": "stdout",
          "output_type": "stream",
          "text": [
            "Velocity of m1\n"
          ]
        },
        {
          "data": {
            "text/latex": [
              "$$ \\begin{bmatrix} l \\cos{\\left(\\theta \\right)} \\dot{\\theta} \\\\ l \\sin{\\left(\\theta \\right)} \\dot{\\theta} \\end{bmatrix} \\hspace{1.25em} \\begin{matrix} \\frac{\\text{m}}{\\text{s}} \\\\ \\frac{\\text{m}}{\\text{s}} \\end{matrix}\\hspace{0.7em} \\text{wrt. O} $$"
            ],
            "text/plain": [
              "O[l*cos(theta(t))*Derivative(theta(t), t), l*sin(theta(t))*Derivative(theta(t), t)]"
            ]
          },
          "execution_count": 5,
          "metadata": {},
          "output_type": "execute_result"
        }
      ],
      "source": [
        "print('Velocity of m1')\n",
        "v1 = diff(r1)\n",
        "v1"
      ]
    },
    {
      "cell_type": "code",
      "execution_count": 6,
      "metadata": {},
      "outputs": [
        {
          "name": "stdout",
          "output_type": "stream",
          "text": [
            "Displacement of m2\n"
          ]
        },
        {
          "data": {
            "text/latex": [
              "$$ \\begin{bmatrix} l \\sin{\\left(\\phi \\right)} + l \\sin{\\left(\\theta \\right)} \\\\ - l \\cos{\\left(\\phi \\right)} - l \\cos{\\left(\\theta \\right)} \\end{bmatrix} \\hspace{1.25em} \\begin{matrix} \\text{m} \\\\ \\text{m} \\end{matrix}\\hspace{0.7em} \\text{wrt. O} $$"
            ],
            "text/plain": [
              "O[l*sin(phi(t)) + l*sin(theta(t)), -l*cos(phi(t)) - l*cos(theta(t))]"
            ]
          },
          "execution_count": 6,
          "metadata": {},
          "output_type": "execute_result"
        }
      ],
      "source": [
        "print(\"Displacement of m2\")\n",
        "r2 = r1 + O.from_polar(l, phi - pi/2)\n",
        "r2"
      ]
    },
    {
      "cell_type": "code",
      "execution_count": 7,
      "metadata": {},
      "outputs": [
        {
          "name": "stdout",
          "output_type": "stream",
          "text": [
            "Velocity of m2\n"
          ]
        },
        {
          "data": {
            "text/latex": [
              "$$ \\begin{bmatrix} l \\left(\\cos{\\left(\\phi \\right)} \\dot{\\phi} + \\cos{\\left(\\theta \\right)} \\dot{\\theta}\\right) \\\\ l \\left(\\sin{\\left(\\phi \\right)} \\dot{\\phi} + \\sin{\\left(\\theta \\right)} \\dot{\\theta}\\right) \\end{bmatrix} \\hspace{1.25em} \\begin{matrix} \\frac{\\text{m}}{\\text{s}} \\\\ \\frac{\\text{m}}{\\text{s}} \\end{matrix}\\hspace{0.7em} \\text{wrt. O} $$"
            ],
            "text/plain": [
              "O[l*(cos(phi(t))*Derivative(phi(t), t) + cos(theta(t))*Derivative(theta(t), t)), l*(sin(phi(t))*Derivative(phi(t), t) + sin(theta(t))*Derivative(theta(t), t))]"
            ]
          },
          "execution_count": 7,
          "metadata": {},
          "output_type": "execute_result"
        }
      ],
      "source": [
        "print(\"Velocity of m2\")\n",
        "v2 = diff(r2)\n",
        "v2"
      ]
    },
    {
      "cell_type": "code",
      "execution_count": 8,
      "metadata": {},
      "outputs": [
        {
          "name": "stdout",
          "output_type": "stream",
          "text": [
            "Total Kinetic Energy\n"
          ]
        },
        {
          "data": {
            "text/latex": [
              "$$ \\frac{l^{2} m \\left(2 \\cos{\\left(\\phi - \\theta \\right)} \\dot{\\phi} \\dot{\\theta} + \\dot{\\phi}^{2} + 2 \\dot{\\theta}^{2}\\right)}{2} \\hspace{1.25em} \\frac{\\text{kg} \\text{m}^{2}}{\\text{s}^{2}} $$"
            ],
            "text/plain": [
              "0.5*l**2*m*(2*cos(phi(t) - theta(t))*Derivative(phi(t), t)*Derivative(theta(t), t) + Derivative(phi(t), t)**2 + 2*Derivative(theta(t), t)**2) kilogram*meters**2/second**2"
            ]
          },
          "execution_count": 8,
          "metadata": {},
          "output_type": "execute_result"
        }
      ],
      "source": [
        "from mathpad.mech import euler_lagrange, kinetic_energy, gravitational_energy\n",
        "\n",
        "print(\"Total Kinetic Energy\")\n",
        "T = kinetic_energy(m, abs(v1)) + kinetic_energy(m, abs(v2))\n",
        "T"
      ]
    },
    {
      "cell_type": "code",
      "execution_count": 9,
      "metadata": {},
      "outputs": [
        {
          "name": "stdout",
          "output_type": "stream",
          "text": [
            "Total Potential Energy\n"
          ]
        },
        {
          "data": {
            "text/latex": [
              "$$ - g l m \\left(\\cos{\\left(\\phi \\right)} + 2 \\cos{\\left(\\theta \\right)}\\right) \\hspace{1.25em} \\frac{\\text{kg} \\text{m}^{2}}{\\text{s}^{2}} $$"
            ],
            "text/plain": [
              "-g*l*m*(cos(phi(t)) + 2*cos(theta(t))) kilogram*meters**2/second**2"
            ]
          },
          "execution_count": 9,
          "metadata": {},
          "output_type": "execute_result"
        }
      ],
      "source": [
        "print(\"Total Potential Energy\")\n",
        "V = gravitational_energy(m, r1.j, g) \\\n",
        "    + gravitational_energy(m, r2.j, g)\n",
        "V"
      ]
    },
    {
      "cell_type": "code",
      "execution_count": 10,
      "metadata": {},
      "outputs": [
        {
          "name": "stdout",
          "output_type": "stream",
          "text": [
            "Theta Dynamics: Lagrange Equation\n"
          ]
        },
        {
          "data": {
            "text/latex": [
              "$$ l m \\left(2 g \\sin{\\left(\\theta \\right)} - l \\sin{\\left(\\phi - \\theta \\right)} \\dot{\\phi}^{2} + l \\cos{\\left(\\phi - \\theta \\right)} \\ddot{\\phi} + 2 l \\ddot{\\theta}\\right) = 0 \\hspace{1.25em} \\frac{\\text{kg} \\text{m}^{2}}{\\text{rad} \\text{s}^{2}} $$"
            ],
            "text/plain": [
              "l*m*(2*g*sin(theta(t)) - l*sin(phi(t) - theta(t))*Derivative(phi(t), t)**2 + l*cos(phi(t) - theta(t))*Derivative(phi(t), (t, 2)) + 2*l*Derivative(theta(t), (t, 2))) = 0 kilogram*meter**2/(radian*second**2)"
            ]
          },
          "execution_count": 10,
          "metadata": {},
          "output_type": "execute_result"
        }
      ],
      "source": [
        "print(\"Theta Dynamics: Lagrange Equation\")\n",
        "theta_dynamics = euler_lagrange(T, V, 0, theta)\n",
        "theta_dynamics"
      ]
    },
    {
      "cell_type": "code",
      "execution_count": 11,
      "metadata": {},
      "outputs": [
        {
          "name": "stdout",
          "output_type": "stream",
          "text": [
            "Phi Dynamics: Lagrange Equation\n"
          ]
        },
        {
          "data": {
            "text/latex": [
              "$$ l m \\left(g \\sin{\\left(\\phi \\right)} + l \\sin{\\left(\\phi - \\theta \\right)} \\dot{\\theta}^{2} + l \\cos{\\left(\\phi - \\theta \\right)} \\ddot{\\theta} + l \\ddot{\\phi}\\right) = 0 \\hspace{1.25em} \\frac{\\text{kg} \\text{m}^{2}}{\\text{rad} \\text{s}^{2}} $$"
            ],
            "text/plain": [
              "l*m*(g*sin(phi(t)) + l*sin(phi(t) - theta(t))*Derivative(theta(t), t)**2 + l*cos(phi(t) - theta(t))*Derivative(theta(t), (t, 2)) + l*Derivative(phi(t), (t, 2))) = 0 kilogram*meter**2/(radian*second**2)"
            ]
          },
          "execution_count": 11,
          "metadata": {},
          "output_type": "execute_result"
        }
      ],
      "source": [
        "print(\"Phi Dynamics: Lagrange Equation\")\n",
        "phi_dynamics = euler_lagrange(T, V, 0, phi)\n",
        "phi_dynamics"
      ]
    },
    {
      "cell_type": "markdown",
      "metadata": {},
      "source": [
        "# Simulation Results:"
      ]
    },
    {
      "cell_type": "code",
      "execution_count": 13,
      "metadata": {},
      "outputs": [
        {
          "name": "stdout",
          "output_type": "stream",
          "text": [
            "Solving subbed Equations...\n",
            "Solving finished.\n",
            "Simulating from t=0 to t=5 with a max_step of 0.01.\n"
          ]
        },
        {
          "data": {
            "application/vnd.jupyter.widget-view+json": {
              "model_id": "5c10bf98b2c64139aafe0493c2d8b3de",
              "version_major": 2,
              "version_minor": 0
            },
            "text/plain": [
              "  0%|          | 0/5 [00:00<?, ?it/s]"
            ]
          },
          "metadata": {},
          "output_type": "display_data"
        },
        {
          "name": "stdout",
          "output_type": "stream",
          "text": [
            "Simulation finished. Plotting...\n"
          ]
        },
        {
          "data": {
            "image/svg+xml": "<svg class=\"main-svg\" xmlns=\"http://www.w3.org/2000/svg\" xmlns:xlink=\"http://www.w3.org/1999/xlink\" width=\"960\" height=\"400\" style=\"\" viewBox=\"0 0 960 400\"><rect x=\"0\" y=\"0\" width=\"960\" height=\"400\" style=\"fill: rgb(255, 255, 255); fill-opacity: 1;\"/><defs id=\"defs-bab75d\"><g class=\"clips\"><clipPath id=\"clipbab75dxyplot\" class=\"plotclip\"><rect width=\"727\" height=\"220\"/></clipPath><clipPath class=\"axesclip\" id=\"clipbab75dx\"><rect x=\"80\" y=\"0\" width=\"727\" height=\"400\"/></clipPath><clipPath class=\"axesclip\" id=\"clipbab75dy\"><rect x=\"0\" y=\"100\" width=\"960\" height=\"220\"/></clipPath><clipPath class=\"axesclip\" id=\"clipbab75dxy\"><rect x=\"80\" y=\"100\" width=\"727\" height=\"220\"/></clipPath></g><g class=\"gradients\"/><g class=\"patterns\"/></defs><g class=\"bglayer\"><rect class=\"bg\" x=\"80\" y=\"100\" width=\"727\" height=\"220\" style=\"fill: rgb(229, 236, 246); fill-opacity: 1; stroke-width: 0;\"/></g><g class=\"layer-below\"><g class=\"imagelayer\"/><g class=\"shapelayer\"/></g><g class=\"cartesianlayer\"><g class=\"subplot xy\"><g class=\"layer-subplot\"><g class=\"shapelayer\"/><g class=\"imagelayer\"/></g><g class=\"minor-gridlayer\"><g class=\"x\"/><g class=\"y\"/></g><g class=\"gridlayer\"><g class=\"x\"><path class=\"xgrid crisp\" transform=\"translate(225.4,0)\" d=\"M0,100v220\" style=\"stroke: rgb(255, 255, 255); stroke-opacity: 1; stroke-width: 1px;\"/><path class=\"xgrid crisp\" transform=\"translate(370.8,0)\" d=\"M0,100v220\" style=\"stroke: rgb(255, 255, 255); stroke-opacity: 1; stroke-width: 1px;\"/><path class=\"xgrid crisp\" transform=\"translate(516.2,0)\" d=\"M0,100v220\" style=\"stroke: rgb(255, 255, 255); stroke-opacity: 1; stroke-width: 1px;\"/><path class=\"xgrid crisp\" transform=\"translate(661.6,0)\" d=\"M0,100v220\" style=\"stroke: rgb(255, 255, 255); stroke-opacity: 1; stroke-width: 1px;\"/></g><g class=\"y\"><path class=\"ygrid crisp\" transform=\"translate(0,273.87)\" d=\"M80,0h727\" style=\"stroke: rgb(255, 255, 255); stroke-opacity: 1; stroke-width: 1px;\"/><path class=\"ygrid crisp\" transform=\"translate(0,144.79)\" d=\"M80,0h727\" style=\"stroke: rgb(255, 255, 255); stroke-opacity: 1; stroke-width: 1px;\"/></g></g><g class=\"zerolinelayer\"><path class=\"xzl zl crisp\" transform=\"translate(80,0)\" d=\"M0,100v220\" style=\"stroke: rgb(255, 255, 255); stroke-opacity: 1; stroke-width: 2px;\"/><path class=\"yzl zl crisp\" transform=\"translate(0,209.32999999999998)\" d=\"M80,0h727\" style=\"stroke: rgb(255, 255, 255); stroke-opacity: 1; stroke-width: 2px;\"/></g><path class=\"xlines-below\"/><path class=\"ylines-below\"/><g class=\"overlines-below\"/><g class=\"xaxislayer-below\"/><g class=\"yaxislayer-below\"/><g class=\"overaxes-below\"/><g class=\"plot\" transform=\"translate(80,100)\" clip-path=\"url(#clipbab75dxyplot)\"><g class=\"scatterlayer mlayer\"><g class=\"trace scatter traceccd6ba\" style=\"stroke-miterlimit: 2; opacity: 1;\"><g class=\"fills\"/><g class=\"errorbars\"/><g class=\"lines\"><path class=\"js-line\" d=\"M0,41.74L5.54,42.66L6.27,42.91L11.36,45.6L12.08,46.11L18.03,51.6L18.19,51.78L23.85,59.32L24.01,59.57L30.26,70.88L30.99,72.39L38.98,90.6L39.71,92.27L50.47,114.55L50.61,114.81L59.34,129.12L60.07,130.17L66.61,138.55L67.34,139.35L73.73,145.15L73.88,145.25L79.26,148.05L79.55,148.14L84.06,148.69L84.78,148.62L88.42,147.55L89.15,147.18L92.78,144.58L93.51,143.9L98.16,138.59L98.16,138.58L109.5,125.2L109.63,125.08L115.61,120.45L115.61,120.46L115.9,120.27L123.31,116.3L124.04,115.97L139.16,110.49L139.31,110.45L161.12,103.99L161.85,103.84L169.84,102.87L170.57,102.86L177.11,103.73L177.84,103.94L182.93,106.3L183.66,106.78L188.31,110.82L188.31,110.82L188.6,111.13L194.42,118.86L194.56,119.08L202.69,130.07L202.85,130.23L206.92,133.39L207.05,133.46L210.55,134.81L211.28,134.96L215.64,134.96L215.77,134.94L220.73,133.32L221.46,132.97L227.41,129.08L227.57,128.95L235.13,122.03L235.27,121.88L245.45,110.38L246.18,109.48L254.03,99.3L254.17,99.1L263.92,84.54L263.92,84.54L264.21,84.07L279.91,58.42L279.91,58.42L280.2,58.05L286.16,52.28L286.89,51.78L291.25,49.64L291.38,49.6L295.9,48.92L295.9,48.92L296.2,48.92L301.43,50.01L301.56,50.06L306.37,52.66L306.52,52.76L312.33,57.87L313.06,58.65L318.15,65L318.88,66.03L325.42,76.83L326.15,78.2L332.69,92.24L333.42,93.99L351.59,137.4L352.32,138.77L358.86,149.58L359.59,150.62L365.54,157.99L365.7,158.17L371.95,163.58L372.68,164.06L377.76,166.4L378.49,166.6L383.14,166.96L383.14,166.96L383.44,166.94L387.94,165.65L388.67,165.29L393.03,162.22L393.16,162.11L398.12,156.55L398.85,155.57L405.39,145.31L406.12,144.1L418.48,125.43L419.2,124.47L430.97,110.29L431.13,110.11L444.65,96.28L445.38,95.63L452.65,89.91L452.78,89.83L458.59,86.7L458.75,86.64L463.55,85.41L464.28,85.35L468.93,85.86L468.93,85.86L469.22,85.94L473.58,88.17L473.73,88.28L478.09,92.49L478.82,93.39L484.92,102.55L485.22,103.01L490.74,110.69L490.74,110.69L491.03,111.02L496.56,115.85L496.56,115.85L496.85,116.03L501.35,118.13L502.08,118.35L507.17,119.12L507.9,119.14L514.44,118.46L515.17,118.3L523.16,115.94L523.89,115.68L537.11,110.34L537.27,110.27L553.7,102.7L554.43,102.31L562.42,97.37L563.15,96.84L570.55,90.22L570.71,90.05L576.96,82.41L577.69,81.44L586.41,71.15L586.54,71.04L591.07,68.24L591.07,68.24L591.36,68.12L595.86,67.37L596.59,67.41L601.08,68.6L601.24,68.67L605.9,71.5L606.04,71.62L611.71,76.95L611.86,77.12L618.69,85.88L618.98,86.3L624.94,95.78L625.67,97.04L633.67,112.58L634.4,114.15L643.85,136.23L644.57,137.93L653.3,155.68L653.43,155.9L659.4,164.62L659.4,164.62L659.7,164.98L664.2,169.81L664.93,170.47L671.04,174.68L671.04,174.68L671.33,174.82L675.83,176.41L676.56,176.55L681.65,176.67L682.38,176.56L687.32,174.98L687.47,174.91L693.14,171.18L693.28,171.06L698.95,165.14L699.1,164.96L704.91,156.36L705.64,155.1L711.75,142.89L711.75,142.89L712.04,142.25L723.82,116.32L724.54,114.87L727,110.13L727,110.13\" style=\"vector-effect: non-scaling-stroke; fill: none; stroke: rgb(99, 110, 250); stroke-opacity: 1; stroke-width: 2px; opacity: 1;\"/></g><g class=\"points\"/><g class=\"text\"/></g><g class=\"trace scatter trace5b31be\" style=\"stroke-miterlimit: 2; opacity: 1;\"><g class=\"fills\"/><g class=\"errorbars\"/><g class=\"lines\"><path class=\"js-line\" d=\"M0,109.33L6.99,108.59L7.72,108.42L14.12,106.11L14.26,106.04L20.08,102.26L20.81,101.64L25.75,96.52L25.9,96.34L31.71,87.8L32.44,86.57L44.07,67.91L44.2,67.77L47.71,64.46L48.43,63.95L52.8,62.08L52.93,62.05L56.43,62.01L57.16,62.15L60.79,63.58L61.52,64.01L66.01,67.63L66.17,67.79L70.97,73.44L71.7,74.44L77.51,83.73L77.64,83.97L84.06,96.88L84.78,98.53L90.89,113.96L90.89,113.96L91.18,114.76L98.6,137.6L99.32,139.96L108.77,167.71L109.5,169.5L115.61,182.66L115.61,182.66L115.9,183.21L121.86,193.02L122.59,194.04L128.69,201.25L128.69,201.25L128.99,201.53L134.22,205.72L134.35,205.8L139.31,208.16L140.04,208.37L144.98,209L145.12,208.99L150.34,207.97L150.5,207.91L155.3,205.45L156.03,204.96L162.57,199.04L163.3,198.23L169.41,190.07L169.41,190.07L169.7,189.62L176.52,177.55L176.68,177.23L182.93,163.06L183.66,161.19L189.76,143.28L189.76,143.28L190.05,142.33L197.03,117.03L197.32,115.94L206.19,86.44L206.92,84.39L213.46,68.08L214.19,66.47L221.59,52.25L221.75,51.98L228,42.92L228.73,42.04L234.68,36.28L234.84,36.16L239.49,33.56L239.63,33.5L244,32.67L244.72,32.68L249.22,33.73L249.38,33.8L253.45,36.28L253.58,36.39L258.1,40.94L258.1,40.94L258.39,41.3L262.9,47.88L263.63,49.13L269.57,61.1L269.73,61.47L283.25,90.87L283.98,92.18L291.54,104.04L291.54,104.04L291.83,104.44L300.27,114.46L300.27,114.46L300.56,114.76L307.54,120.7L307.54,120.7L307.83,120.91L313.79,123.99L314.52,124.23L319.46,124.87L319.6,124.85L323.97,123.77L324.69,123.42L329.06,120.21L329.19,120.09L333.71,114.56L334,114.14L347.09,94.35L347.23,94.21L351.59,90.79L352.32,90.42L356.68,89.27L356.81,89.26L360.32,89.57L361.04,89.76L365.7,91.82L365.99,91.99L371.95,96.65L372.68,97.34L379.95,105.67L380.08,105.84L387.22,116.41L387.35,116.62L394.78,130.58L394.78,130.58L395.07,131.19L405.39,155.8L406.12,157.56L414.11,174.21L414.84,175.44L420.66,183.44L420.79,183.59L425.75,188L426.47,188.48L431.13,190.49L431.13,190.49L431.42,190.57L435.92,190.78L436.65,190.66L440.29,189.49L441.01,189.14L445.67,185.96L445.67,185.96L445.96,185.71L451.92,179.26L452.65,178.3L457.73,170.65L458.46,169.42L464.57,157.7L464.57,157.7L464.86,157.08L473.29,136.14L473.29,136.15L473.58,135.32L479.54,116.09L480.27,113.47L494.08,65.19L494.81,63.16L501.35,47.17L502.08,45.61L509.48,31.9L509.64,31.64L515.89,22.88L516.62,22.01L522.73,16.04L522.73,16.04L523.02,15.81L528.25,12.61L528.38,12.56L533.34,11.14L534.07,11.06L539.16,11.43L539.89,11.62L544.54,13.6L544.54,13.6L544.83,13.77L550.79,18.42L551.52,19.15L556.61,25.2L557.33,26.21L563.88,37.06L564.6,38.47L570.71,52.2L570.71,52.2L571,52.94L576.96,69.92L577.69,72.18L591.5,112.16L592.23,113.89L600.08,130.14L600.23,130.4L607.06,141.23L607.06,141.23L607.35,141.63L614.17,149.11L614.33,149.25L619.13,152.28L619.86,152.56L623.49,153.26L624.22,153.25L627.85,152.37L628.58,152.03L632.21,149.44L632.94,148.75L637.3,143.33L637.43,143.14L643.85,132.28L644.57,131.01L652.13,119.62L652.13,119.62L652.43,119.27L657.95,113.99L657.95,113.99L658.24,113.77L664.2,110.45L664.93,110.18L670.02,108.88L670.75,108.78L678.15,108.74L678.31,108.76L686.01,110.55L686.74,110.81L694.14,114.65L694.3,114.76L700.12,119.66L700.12,119.66L700.41,119.96L706.37,127.44L707.1,128.53L713.64,139.88L714.37,141.2L721.93,153.24L722.22,153.6L726.5,157.77L726.86,158.02L727,158.12L727,158.12\" style=\"vector-effect: non-scaling-stroke; fill: none; stroke: rgb(239, 85, 59); stroke-opacity: 1; stroke-width: 2px; opacity: 1;\"/></g><g class=\"points\"/><g class=\"text\"/></g></g></g><g class=\"overplot\"/><path class=\"xlines-above crisp\" d=\"M0,0\" style=\"fill: none;\"/><path class=\"ylines-above crisp\" d=\"M0,0\" style=\"fill: none;\"/><g class=\"overlines-above\"/><g class=\"xaxislayer-above\"><g class=\"xtick\"><text text-anchor=\"middle\" x=\"0\" y=\"333\" transform=\"translate(80,0)\" style=\"font-family: 'Open Sans', verdana, arial, sans-serif; font-size: 12px; fill: rgb(42, 63, 95); fill-opacity: 1; white-space: pre; opacity: 1;\">0</text></g><g class=\"xtick\"><text text-anchor=\"middle\" x=\"0\" y=\"333\" style=\"font-family: 'Open Sans', verdana, arial, sans-serif; font-size: 12px; fill: rgb(42, 63, 95); fill-opacity: 1; white-space: pre; opacity: 1;\" transform=\"translate(225.4,0)\">1</text></g><g class=\"xtick\"><text text-anchor=\"middle\" x=\"0\" y=\"333\" style=\"font-family: 'Open Sans', verdana, arial, sans-serif; font-size: 12px; fill: rgb(42, 63, 95); fill-opacity: 1; white-space: pre; opacity: 1;\" transform=\"translate(370.8,0)\">2</text></g><g class=\"xtick\"><text text-anchor=\"middle\" x=\"0\" y=\"333\" style=\"font-family: 'Open Sans', verdana, arial, sans-serif; font-size: 12px; fill: rgb(42, 63, 95); fill-opacity: 1; white-space: pre; opacity: 1;\" transform=\"translate(516.2,0)\">3</text></g><g class=\"xtick\"><text text-anchor=\"middle\" x=\"0\" y=\"333\" style=\"font-family: 'Open Sans', verdana, arial, sans-serif; font-size: 12px; fill: rgb(42, 63, 95); fill-opacity: 1; white-space: pre; opacity: 1;\" transform=\"translate(661.6,0)\">4</text></g><g class=\"xtick\"><text text-anchor=\"middle\" x=\"0\" y=\"333\" style=\"font-family: 'Open Sans', verdana, arial, sans-serif; font-size: 12px; fill: rgb(42, 63, 95); fill-opacity: 1; white-space: pre; opacity: 1;\" transform=\"translate(807,0)\">5</text></g></g><g class=\"yaxislayer-above\"><g class=\"ytick\"><text text-anchor=\"end\" x=\"79\" y=\"4.199999999999999\" transform=\"translate(0,273.87)\" style=\"font-family: 'Open Sans', verdana, arial, sans-serif; font-size: 12px; fill: rgb(42, 63, 95); fill-opacity: 1; white-space: pre; opacity: 1;\">−1</text></g><g class=\"ytick\"><text text-anchor=\"end\" x=\"79\" y=\"4.199999999999999\" style=\"font-family: 'Open Sans', verdana, arial, sans-serif; font-size: 12px; fill: rgb(42, 63, 95); fill-opacity: 1; white-space: pre; opacity: 1;\" transform=\"translate(0,209.32999999999998)\">0</text></g><g class=\"ytick\"><text text-anchor=\"end\" x=\"79\" y=\"4.199999999999999\" style=\"font-family: 'Open Sans', verdana, arial, sans-serif; font-size: 12px; fill: rgb(42, 63, 95); fill-opacity: 1; white-space: pre; opacity: 1;\" transform=\"translate(0,144.79)\">1</text></g></g><g class=\"overaxes-above\"/></g></g><g class=\"polarlayer\"/><g class=\"smithlayer\"/><g class=\"ternarylayer\"/><g class=\"geolayer\"/><g class=\"funnelarealayer\"/><g class=\"pielayer\"/><g class=\"iciclelayer\"/><g class=\"treemaplayer\"/><g class=\"sunburstlayer\"/><g class=\"glimages\"/><defs id=\"topdefs-bab75d\"><g class=\"clips\"/><clipPath id=\"legendbab75d\"><rect width=\"126\" height=\"48\" x=\"0\" y=\"0\"/></clipPath></defs><g class=\"layer-above\"><g class=\"imagelayer\"/><g class=\"shapelayer\"/></g><g class=\"infolayer\"><g class=\"legend\" pointer-events=\"all\" transform=\"translate(821.54,100)\"><rect class=\"bg\" shape-rendering=\"crispEdges\" width=\"126\" height=\"48\" x=\"0\" y=\"0\" style=\"stroke: rgb(68, 68, 68); stroke-opacity: 1; fill: rgb(255, 255, 255); fill-opacity: 1; stroke-width: 0px;\"/><g class=\"scrollbox\" transform=\"\" clip-path=\"url(#legendbab75d)\"><g class=\"groups\"><g class=\"traces\" transform=\"translate(0,14.5)\" style=\"opacity: 1;\"><text class=\"legendtext\" text-anchor=\"start\" x=\"40\" y=\"4.680000000000001\" style=\"font-family: 'Open Sans', verdana, arial, sans-serif; font-size: 12px; fill: rgb(42, 63, 95); fill-opacity: 1; white-space: pre;\">theta(t) radians</text><g class=\"layers\" style=\"opacity: 1;\"><g class=\"legendfill\"/><g class=\"legendlines\"><path class=\"js-line\" d=\"M5,0h30\" style=\"fill: none; stroke: rgb(99, 110, 250); stroke-opacity: 1; stroke-width: 2px;\"/></g><g class=\"legendsymbols\"><g class=\"legendpoints\"/></g></g><rect class=\"legendtoggle\" x=\"0\" y=\"-9.5\" width=\"120.71875\" height=\"19\" style=\"fill: rgb(0, 0, 0); fill-opacity: 0;\"/></g><g class=\"traces\" transform=\"translate(0,33.5)\" style=\"opacity: 1;\"><text class=\"legendtext\" text-anchor=\"start\" x=\"40\" y=\"4.680000000000001\" style=\"font-family: 'Open Sans', verdana, arial, sans-serif; font-size: 12px; fill: rgb(42, 63, 95); fill-opacity: 1; white-space: pre;\">phi(t) radians</text><g class=\"layers\" style=\"opacity: 1;\"><g class=\"legendfill\"/><g class=\"legendlines\"><path class=\"js-line\" d=\"M5,0h30\" style=\"fill: none; stroke: rgb(239, 85, 59); stroke-opacity: 1; stroke-width: 2px;\"/></g><g class=\"legendsymbols\"><g class=\"legendpoints\"/></g></g><rect class=\"legendtoggle\" x=\"0\" y=\"-9.5\" width=\"120.71875\" height=\"19\" style=\"fill: rgb(0, 0, 0); fill-opacity: 0;\"/></g></g></g><rect class=\"scrollbar\" rx=\"20\" ry=\"3\" width=\"0\" height=\"0\" x=\"0\" y=\"0\" style=\"fill: rgb(128, 139, 164); fill-opacity: 1;\"/></g><g class=\"g-gtitle\"><text class=\"gtitle\" x=\"480\" y=\"40\" text-anchor=\"middle\" dy=\"0.7em\" style=\"font-family: 'Open Sans', verdana, arial, sans-serif; font-size: 17px; fill: rgb(42, 63, 95); opacity: 1; font-weight: normal; white-space: pre;\">Double Pendulum System Response to Being Dropped From a Height</text></g><g class=\"g-xtitle\"><text class=\"xtitle\" x=\"443.5\" y=\"360.8\" text-anchor=\"middle\" style=\"font-family: 'Open Sans', verdana, arial, sans-serif; font-size: 14px; fill: rgb(42, 63, 95); opacity: 1; font-weight: normal; white-space: pre;\">t seconds</text></g><g class=\"g-ytitle\"/></g></svg>"
          },
          "metadata": {},
          "output_type": "display_data"
        }
      ],
      "source": [
        "sim_data = simulate_dynamic_system(\n",
        "    [theta_dynamics, phi_dynamics],\n",
        "    plot_title=\"Double Pendulum System Response to Being Dropped From a Height\",\n",
        "    x_final=5, max_step=0.01,\n",
        "    substitute={\n",
        "        g: 9.81,\n",
        "        l: 0.5,\n",
        "        m: 1\n",
        "    },\n",
        "    initial_conditions={\n",
        "        theta: pi / 3,\n",
        "        diff(theta): 0,\n",
        "        phi: 0,\n",
        "        diff(phi): 0\n",
        "    },\n",
        "    record=[theta, phi],\n",
        "    plot_static=not in_jupyterlite\n",
        ")\n"
      ]
    }
  ],
  "metadata": {
    "kernelspec": {
      "display_name": "Python 3.8.10 ('mathpad-IMbbmyaw-py3.8')",
      "language": "python",
      "name": "python3"
    },
    "language_info": {
      "codemirror_mode": {
        "name": "ipython",
        "version": 3
      },
      "file_extension": ".py",
      "mimetype": "text/x-python",
      "name": "python",
      "nbconvert_exporter": "python",
      "pygments_lexer": "ipython3",
      "version": "3.8.10"
    },
    "vscode": {
      "interpreter": {
        "hash": "c68f6f75b9b5074b455bff57bf843aee0a1a4f29736bbb117f262860b9efa145"
      }
    }
  },
  "nbformat": 4,
  "nbformat_minor": 4
}
