{
 "cells": [
  {
   "cell_type": "markdown",
   "metadata": {},
   "source": [
    "# Welcome to MathPad\n",
    "\n",
    "MathPad is a a Python library that makes it easy to solve engineering, science and maths problems.\n",
    "\n",
    "For a TLDR tour, check out [TLDR.ipynb](./TLDR.ipynb)\n",
    "\n",
    "Features:\n",
    "- Intuitive interface for those unfamiliar with Python\n",
    "- Easy-to-use automatic solving of systems of equations - goodbye hand calcs!\n",
    "- Self-explanatory latex output\n",
    "- Automatic dimensionality validity checking\n",
    "- Automatic unit conversion\n",
    "- Growing library of equations and common constants to utilize\n",
    "\n",
    "This notebook will serve as a tour of the major features of mathpad.\n",
    "\n",
    "For more complex examples, please check out the other `.ipynb` files in this directory."
   ]
  },
  {
   "cell_type": "code",
   "execution_count": null,
   "metadata": {},
   "outputs": [],
   "source": []
  },
  {
   "cell_type": "markdown",
   "metadata": {},
   "source": [
    "## Basics\n",
    "\n",
    "In `mathpad`, the core objects you will be working with are `Val`s.\n",
    "\n",
    "`Val`s consist of `units` and an `expr` (mathematical expression):"
   ]
  },
  {
   "cell_type": "code",
   "execution_count": 1,
   "metadata": {},
   "outputs": [
    {
     "ename": "NameError",
     "evalue": "name 'meters' is not defined",
     "output_type": "error",
     "traceback": [
      "\u001b[0;31m---------------------------------------------------------------------------\u001b[0m",
      "\u001b[0;31mNameError\u001b[0m                                 Traceback (most recent call last)",
      "\u001b[0;32m/tmp/ipykernel_5644/3996106533.py\u001b[0m in \u001b[0;36m<cell line: 1>\u001b[0;34m()\u001b[0m\n\u001b[0;32m----> 1\u001b[0;31m \u001b[0mx\u001b[0m \u001b[0;34m=\u001b[0m \u001b[0;36m5\u001b[0m \u001b[0;34m*\u001b[0m \u001b[0mmeters\u001b[0m \u001b[0;34m/\u001b[0m \u001b[0msecond\u001b[0m\u001b[0;34m\u001b[0m\u001b[0;34m\u001b[0m\u001b[0m\n\u001b[0m\u001b[1;32m      2\u001b[0m \u001b[0mdisplay\u001b[0m\u001b[0;34m(\u001b[0m\u001b[0mx\u001b[0m\u001b[0;34m)\u001b[0m\u001b[0;34m\u001b[0m\u001b[0;34m\u001b[0m\u001b[0m\n\u001b[1;32m      3\u001b[0m \u001b[0;34m\u001b[0m\u001b[0m\n\u001b[1;32m      4\u001b[0m \u001b[0mx\u001b[0m\u001b[0;34m.\u001b[0m\u001b[0mdimension\u001b[0m\u001b[0;34m\u001b[0m\u001b[0;34m\u001b[0m\u001b[0m\n",
      "\u001b[0;31mNameError\u001b[0m: name 'meters' is not defined"
     ]
    }
   ],
   "source": [
    "x = 5 * meters / second\n",
    "display(x)\n",
    "\n",
    "x.dimension"
   ]
  },
  {
   "cell_type": "markdown",
   "metadata": {},
   "source": [
    "A `Val`'s units always have a corresponding `dimension` attribute that describes the dimensionality of the expression:"
   ]
  },
  {
   "cell_type": "code",
   "execution_count": null,
   "metadata": {},
   "outputs": [
    {
     "data": {
      "text/latex": [
       "$\\displaystyle \\frac{force}{time}$"
      ],
      "text/plain": [
       "force\n",
       "─────\n",
       " time"
      ]
     },
     "execution_count": 10,
     "metadata": {},
     "output_type": "execute_result"
    }
   ],
   "source": [
    "work = 15 * N / s\n",
    "work.dimension"
   ]
  },
  {
   "cell_type": "markdown",
   "metadata": {},
   "source": [
    "This dimensionality is used to determine the validity of expressions and equations.\n",
    "\n",
    "If an expression is not dimensionally valid, a `DimensionError` will be raised.\n",
    "\n",
    "For example, `1 meter` cannot be added to `1 volt`:"
   ]
  },
  {
   "cell_type": "code",
   "execution_count": null,
   "metadata": {},
   "outputs": [
    {
     "name": "stdout",
     "output_type": "stream",
     "text": [
      "DimensionError: [Dimension(length, L): 1 meters] \"+\" [Dimension(voltage, U): 1 volts]\n"
     ]
    }
   ],
   "source": [
    "try:\n",
    "    1 * meter + 1 * volt\n",
    "    \n",
    "except DimensionError as e:\n",
    "    print(\"DimensionError:\", e)"
   ]
  },
  {
   "cell_type": "markdown",
   "metadata": {},
   "source": [
    "The full list of dimensionality rules are as follows:\n",
    "- Added or subtracted `Val`s must have *equivalent* dimensionality\n",
    "- `Equation`s must be "
   ]
  },
  {
   "cell_type": "markdown",
   "metadata": {},
   "source": []
  },
  {
   "cell_type": "markdown",
   "metadata": {},
   "source": []
  }
 ],
 "metadata": {
  "kernelspec": {
   "display_name": "Python 3.8.10 ('mathpad-IMbbmyaw-py3.8')",
   "language": "python",
   "name": "python3"
  },
  "language_info": {
   "codemirror_mode": {
    "name": "ipython",
    "version": 3
   },
   "file_extension": ".py",
   "mimetype": "text/x-python",
   "name": "python",
   "nbconvert_exporter": "python",
   "pygments_lexer": "ipython3",
   "version": "3.8.10"
  },
  "orig_nbformat": 4,
  "vscode": {
   "interpreter": {
    "hash": "c68f6f75b9b5074b455bff57bf843aee0a1a4f29736bbb117f262860b9efa145"
   }
  }
 },
 "nbformat": 4,
 "nbformat_minor": 2
}
